{
 "cells": [
  {
   "cell_type": "code",
   "id": "initial_id",
   "metadata": {
    "collapsed": true,
    "ExecuteTime": {
     "end_time": "2025-04-29T20:12:11.817824Z",
     "start_time": "2025-04-29T20:12:11.613765Z"
    }
   },
   "source": [
    "import numpy as np\n",
    "import pandas as pd\n",
    "import matplotlib.pyplot as plt\n",
    "import seaborn as sns\n",
    "import pickle\n",
    "import sklearn\n",
    "import warnings\n",
    "from sklearn.ensemble import StackingClassifier"
   ],
   "outputs": [],
   "execution_count": 1
  },
  {
   "metadata": {
    "ExecuteTime": {
     "end_time": "2025-04-29T20:12:12.166924Z",
     "start_time": "2025-04-29T20:12:11.821144Z"
    }
   },
   "cell_type": "code",
   "source": [
    "files = [\"cleaned.csv\"]\n",
    "dfs = []\n",
    "for file in files:\n",
    "    df = pd.read_csv(file)\n",
    "    dfs.append(df)\n",
    "df = pd.concat(dfs, axis=0)"
   ],
   "id": "d02b8d5b9b007c27",
   "outputs": [],
   "execution_count": 2
  },
  {
   "metadata": {
    "ExecuteTime": {
     "end_time": "2025-04-29T20:12:12.224396Z",
     "start_time": "2025-04-29T20:12:12.218231Z"
    }
   },
   "cell_type": "code",
   "source": "df['gender'].value_counts()",
   "id": "711a0facbe2ef74c",
   "outputs": [
    {
     "data": {
      "text/plain": [
       "gender\n",
       "male      21762\n",
       "female    20356\n",
       "Name: count, dtype: int64"
      ]
     },
     "execution_count": 3,
     "metadata": {},
     "output_type": "execute_result"
    }
   ],
   "execution_count": 3
  },
  {
   "metadata": {
    "ExecuteTime": {
     "end_time": "2025-04-29T20:12:12.254139Z",
     "start_time": "2025-04-29T20:12:12.249095Z"
    }
   },
   "cell_type": "code",
   "source": "df['age'].value_counts()",
   "id": "721bcc949ae5c0bd",
   "outputs": [
    {
     "data": {
      "text/plain": [
       "age\n",
       "fifties     21691\n",
       "twenties    20427\n",
       "Name: count, dtype: int64"
      ]
     },
     "execution_count": 4,
     "metadata": {},
     "output_type": "execute_result"
    }
   ],
   "execution_count": 4
  },
  {
   "metadata": {
    "ExecuteTime": {
     "end_time": "2025-04-29T20:12:12.456754Z",
     "start_time": "2025-04-29T20:12:12.326009Z"
    }
   },
   "cell_type": "code",
   "source": [
    "## check for duplicates in the dataset\n",
    "duplicates = df.duplicated()\n",
    "duplicates_count = duplicates.sum()\n",
    "print(duplicates_count)"
   ],
   "id": "58c54c7d9a039b0a",
   "outputs": [
    {
     "name": "stdout",
     "output_type": "stream",
     "text": [
      "0\n"
     ]
    }
   ],
   "execution_count": 5
  },
  {
   "metadata": {
    "ExecuteTime": {
     "end_time": "2025-04-29T20:12:12.708478Z",
     "start_time": "2025-04-29T20:12:12.481743Z"
    }
   },
   "cell_type": "code",
   "source": [
    "plt.figure(figsize=(12, 10))\n",
    "df['gender'] = df['gender'].map({'male': 0, 'female': 1, 0:0, 1:1})\n",
    "df['age'] = df['age'].map({'twenties': 0, 'fifties': 1, 0:0, 1:1})\n",
    "classes = df['gender'].copy() + 2 * df['age'].copy()\n",
    "print(classes.value_counts())\n",
    "sns.countplot(x=classes, data=df, palette='Set2')\n",
    "print(df.shape)"
   ],
   "id": "2810f87c8de34969",
   "outputs": [
    {
     "name": "stdout",
     "output_type": "stream",
     "text": [
      "0    11044\n",
      "3    10973\n",
      "2    10718\n",
      "1     9383\n",
      "Name: count, dtype: int64\n",
      "(42118, 107)\n"
     ]
    },
    {
     "name": "stderr",
     "output_type": "stream",
     "text": [
      "/var/folders/2q/6vjsrj112rb774fzn79lb71h0000gn/T/ipykernel_27514/981349969.py:6: FutureWarning: \n",
      "\n",
      "Passing `palette` without assigning `hue` is deprecated and will be removed in v0.14.0. Assign the `x` variable to `hue` and set `legend=False` for the same effect.\n",
      "\n",
      "  sns.countplot(x=classes, data=df, palette='Set2')\n"
     ]
    },
    {
     "data": {
      "text/plain": [
       "<Figure size 1200x1000 with 1 Axes>"
      ],
      "image/png": "[encoded data removed]"
     },
     "metadata": {},
     "output_type": "display_data"
    }
   ],
   "execution_count": 6
  },
  {
   "metadata": {
    "ExecuteTime": {
     "end_time": "2025-04-29T20:12:12.748768Z",
     "start_time": "2025-04-29T20:12:12.741058Z"
    }
   },
   "cell_type": "code",
   "source": [
    "from sklearn.metrics import accuracy_score\n",
    "from sklearn.model_selection import cross_val_predict\n",
    "from sklearn.model_selection import train_test_split\n",
    "from sklearn.model_selection import GridSearchCV, RandomizedSearchCV\n",
    "def grid_search_sequential(model_gender, model_age,params_gender, params_age, X_reduced,df, proba = False, verbose_level = 2, mode = 'both'):\n",
    "    X_reduced = np.array(X_reduced)\n",
    "    y = np.array(df['gender'] + 2 * df['age'])\n",
    "    X_train, X_test, y_train, y_test = train_test_split(X_reduced, y, test_size=0.2, random_state=42)\n",
    "    y_train_gender = y_train % 2\n",
    "    y_train_age = y_train // 2\n",
    "    y_test_gender = y_test % 2\n",
    "    y_test_age = y_test // 2\n",
    "    if params_gender is not None:\n",
    "        gender_grid = RandomizedSearchCV(model_gender, param_distributions=params_gender, cv=5, n_jobs=-1, verbose=verbose_level)\n",
    "        gender_grid.fit(X_train, y_train_gender)\n",
    "        gender_classifier = gender_grid.best_estimator_\n",
    "        gender_best_params = gender_grid.best_params_\n",
    "        gender_best_score = gender_grid.best_score_\n",
    "    else:\n",
    "        gender_classifier = model_gender\n",
    "        model_gender.fit(X_train,y_train_gender)\n",
    "        gender_best_score = None\n",
    "        gender_best_params = None\n",
    "    if(mode == 'gender'):\n",
    "        gender_pred_test = gender_classifier.predict(X_test).reshape(-1, 1)\n",
    "        gender_acc = accuracy_score(y_test_gender, gender_pred_test)\n",
    "        print(\"Test set accuracy\", gender_acc)\n",
    "        print(\"Grid Accuracy\", gender_best_score)\n",
    "        return gender_classifier, gender_best_params\n",
    "    ## cross prediction\n",
    "    cv_gender_pred = cross_val_predict(\n",
    "        gender_classifier,\n",
    "        X_train,\n",
    "        y_train_gender,\n",
    "        cv=5,\n",
    "        method='predict_proba' if proba else 'predict'\n",
    "    )\n",
    "\n",
    "    # Format prediction as new feature\n",
    "    if proba:\n",
    "        predicted_gender = cv_gender_pred[:, 1].reshape(-1, 1)\n",
    "    else:\n",
    "        predicted_gender = cv_gender_pred.reshape(-1, 1)\n",
    "    ## concatenate gender\n",
    "    X_train = np.concatenate([X_train, predicted_gender], axis=1)\n",
    "    if params_age is not None:\n",
    "        age_grid = RandomizedSearchCV(model_age, param_distributions=params_age, cv=5, n_jobs=-1, verbose=verbose_level)\n",
    "        age_grid.fit(X_train, y_train_age)\n",
    "        age_classifier = age_grid.best_estimator_\n",
    "        age_best_params = age_grid.best_params_\n",
    "    else:\n",
    "        age_classifier = model_age\n",
    "        model_age.fit(X_train,y_train_age)\n",
    "        age_best_params = None\n",
    "\n",
    "    ### accuracy\n",
    "    gender_pred_test = gender_classifier.predict(X_test).reshape(-1, 1)\n",
    "    gender_acc = accuracy_score(y_test_gender, gender_pred_test)\n",
    "    print(\"Gender Accuracy:\", gender_acc)\n",
    "    if(proba):\n",
    "        gender_proba_test = gender_classifier.predict_proba(X_test)[:,1].reshape(-1, 1)\n",
    "        X_test = np.concatenate([X_test, gender_proba_test], axis=1)\n",
    "    else:\n",
    "        X_test = np.concatenate([X_test, gender_pred_test], axis=1)\n",
    "    age_pred_test = age_classifier.predict(X_test).reshape(-1, 1)\n",
    "    age_acc = accuracy_score(y_test_age, age_pred_test)\n",
    "    print(\"Age Accuracy:\", age_acc)\n",
    "\n",
    "    gender_age = gender_pred_test + 2 * age_pred_test\n",
    "    total_acc = accuracy_score(gender_age, y_test)\n",
    "\n",
    "    print(\"Total Accuracy:\", total_acc)\n",
    "\n",
    "    return gender_classifier, age_classifier, gender_best_params, age_best_params, total_acc"
   ],
   "id": "2c4db2d594cc0992",
   "outputs": [],
   "execution_count": 7
  },
  {
   "metadata": {
    "ExecuteTime": {
     "end_time": "2025-04-29T20:12:12.778710Z",
     "start_time": "2025-04-29T20:12:12.775475Z"
    }
   },
   "cell_type": "code",
   "source": [
    "def grid_search_both(model_both, params_both, X_reduced,verbose_level = 2):\n",
    "    X_reduced = np.array(X_reduced)\n",
    "    y = np.array(df['gender'] + 2 * df['age'])\n",
    "    X_train, X_test, y_train, y_test = train_test_split(X_reduced, y, test_size=0.2, random_state=42)\n",
    "    grid = RandomizedSearchCV(model_both, param_distributions=params_both, cv=5, n_jobs=-1, verbose=verbose_level)\n",
    "    grid.fit(X_train, y_train)\n",
    "    classifier = grid.best_estimator_\n",
    "    classifier_best_params = grid.best_params_\n",
    "    classifier_best_score = grid.best_score_\n",
    "    print(\"Best parameters:\", classifier_best_params)\n",
    "    print(\"Best score:\", classifier_best_score)\n",
    "    print(\"Test set accuracy:\", classifier.score(X_test, y_test))\n",
    "    return classifier, classifier_best_params, classifier_best_score"
   ],
   "id": "2a17680bb240515b",
   "outputs": [],
   "execution_count": 8
  },
  {
   "metadata": {
    "ExecuteTime": {
     "end_time": "2025-04-29T20:12:12.816198Z",
     "start_time": "2025-04-29T20:12:12.812941Z"
    }
   },
   "cell_type": "code",
   "source": [
    "def predict_gender_age(model_gender, model_age, X, proba):\n",
    "    gender = model_gender.predict(X).reshape(-1, 1)\n",
    "    if(proba):\n",
    "        gender_proba = model_gender.predict_proba(X)[:,1].reshape(-1, 1)\n",
    "        X = np.concatenate([X, gender_proba], axis=1)\n",
    "    else:\n",
    "        X = np.concatenate([X, gender], axis = 1)\n",
    "    age = model_age.predict(X).reshape(-1, 1)\n",
    "    return (gender + 2 * age).flatten()"
   ],
   "id": "c580261604b89599",
   "outputs": [],
   "execution_count": 9
  },
  {
   "metadata": {},
   "cell_type": "markdown",
   "source": [
    "Sequential Accuracy with the result gender (not proba)\n",
    "Gender 0.88, age = 0.81, both 0.74"
   ],
   "id": "ddd686aac8b297ae"
  },
  {
   "metadata": {},
   "cell_type": "markdown",
   "source": "Sequential Accuracy with the result gender proba both 73, age worse than above 0.73\n",
   "id": "944414f42b4f3d0e"
  },
  {
   "metadata": {
    "ExecuteTime": {
     "end_time": "2025-04-29T22:24:45.316874Z",
     "start_time": "2025-04-29T22:24:45.308197Z"
    }
   },
   "cell_type": "code",
   "source": [
    "from sklearn.preprocessing import StandardScaler\n",
    "from sklearn.preprocessing import PowerTransformer\n",
    "from scipy.stats import skew\n",
    "def smart_normalize(df, skew_threshold=0.5):\n",
    "\n",
    "    numeric_cols = df.select_dtypes(include=['number']).columns\n",
    "    df_normalized = df.copy()\n",
    "    transformations = {}\n",
    "\n",
    "    # Step 1: Skewness correction\n",
    "    for col in numeric_cols:\n",
    "        col_skew = skew(df[col].dropna())\n",
    "        if abs(col_skew) > skew_threshold:\n",
    "            # Apply Yeo-Johnson power transform (handles positive/negative values)\n",
    "            pt = PowerTransformer(method='yeo-johnson')\n",
    "            df_normalized[col] = pt.fit_transform(df[[col]]).flatten()\n",
    "            transformations[col] = {\n",
    "                'step1': 'power_transform',\n",
    "                'skewness': col_skew,\n",
    "                'transformer': pt\n",
    "            }\n",
    "        else:\n",
    "            transformations[col] = {\n",
    "                'step1': 'none',\n",
    "                'skewness': col_skew\n",
    "            }\n",
    "\n",
    "    # Step 2: Standard scaling (applied to all numeric columns)\n",
    "    scaler = StandardScaler()\n",
    "    df_normalized[numeric_cols] = scaler.fit_transform(df_normalized[numeric_cols])\n",
    "    transformations['_standard_scaler'] = scaler\n",
    "\n",
    "    return df_normalized, transformations\n",
    "def normalize_test(X_test, transformations):\n",
    "    X_test_normalized = X_test.copy()\n",
    "    for col, info in transformations.items():\n",
    "        if col == '_standard_scaler':\n",
    "            continue\n",
    "        if info['step1'] == 'power_transform':\n",
    "            pt = info['transformer']\n",
    "            X_test_normalized[col] = pt.transform(X_test[[col]]).flatten()\n",
    "\n",
    "    # Apply standard scaling using the saved scaler\n",
    "    scaler = transformations['_standard_scaler']\n",
    "    numeric_cols = X_test.select_dtypes(include=['number']).columns\n",
    "    X_test_normalized[numeric_cols] = scaler.transform(X_test_normalized[numeric_cols])\n",
    "    return X_test_normalized\n"
   ],
   "id": "f57e94cf2d9df8fe",
   "outputs": [],
   "execution_count": 14
  },
  {
   "metadata": {},
   "cell_type": "markdown",
   "source": "After CHANGING the grid search for more features =>",
   "id": "d7845b8773d92147"
  },
  {
   "metadata": {
    "ExecuteTime": {
     "end_time": "2025-04-29T22:27:33.441594Z",
     "start_time": "2025-04-29T22:27:32.360192Z"
    }
   },
   "cell_type": "code",
   "source": [
    "from sklearn import neighbors\n",
    "from sklearn.ensemble import RandomForestClassifier\n",
    "from sklearn.ensemble import ExtraTreesClassifier\n",
    "from sklearn.linear_model import LogisticRegression\n",
    "from sklearn.svm import SVC\n",
    "from sklearn.tree import DecisionTreeClassifier\n",
    "from sklearn.neighbors import KNeighborsClassifier\n",
    "from Linear_Model_Tree import LinearModelTree\n",
    "from sklearn.naive_bayes import GaussianNB\n",
    "import pickle\n",
    "X = df.drop('gender', axis=1).drop('age',axis=1)\n",
    "y = np.array(df['gender'] + 2 * df['age'])\n",
    "X_train, X_test, y_train, y_test = train_test_split(X, y, test_size=0.2, random_state=42)\n",
    "X_train, transformations = smart_normalize(X_train)\n",
    "X_test = normalize_test(X_test, transformations)\n",
    "y_train_gender = y_train % 2\n",
    "y_train_age = y_train // 2\n",
    "y_test_gender = y_test % 2\n",
    "y_test_age = y_test // 2"
   ],
   "id": "24fd2925e42fa0a",
   "outputs": [],
   "execution_count": 20
  },
  {
   "metadata": {
    "ExecuteTime": {
     "end_time": "2025-04-29T22:27:36.792527Z",
     "start_time": "2025-04-29T22:27:36.787369Z"
    }
   },
   "cell_type": "code",
   "source": [
    "def train_stack(X_train, y_train, X_test, y_test, base_models, base_parameters, meta_model, n_folds=5):\n",
    "    # Create base models\n",
    "    base_models_list = []\n",
    "    for model_name, model in base_models.items():\n",
    "        print(f\"Training base model: {model_name}\")\n",
    "        # Perform RandomizedSearchCV for each base model\n",
    "        grid = RandomizedSearchCV(model, param_distributions=base_parameters[model_name], cv=n_folds, n_jobs=-1)\n",
    "        grid.fit(X_train, y_train)\n",
    "        best_model = grid.best_estimator_\n",
    "        print(f\"Best parameters for {model_name}: {grid.best_params_}\")\n",
    "        print(f\"Best score for {model_name}: {grid.best_score_}\")\n",
    "        base_models_list.append((model_name, best_model))\n",
    "    # Create meta Model\n",
    "    print(\"Training meta model\")\n",
    "    stacking_clf = StackingClassifier(\n",
    "    estimators=base_models_list,\n",
    "    final_estimator=meta_model,\n",
    "    cv=5,\n",
    "    stack_method='auto',\n",
    "    n_jobs=-1\n",
    ")\n",
    "    stacking_clf.fit(X_train, y_train)\n",
    "    print(\"Meta model training complete\")\n",
    "    print(\"Training score:\", stacking_clf.score(X_train, y_train))\n",
    "    print(\"Meta model test score:\", stacking_clf.score(X_test, y_test))\n",
    "    return stacking_clf, base_models_list"
   ],
   "id": "93f1d071cf3fb37e",
   "outputs": [],
   "execution_count": 21
  },
  {
   "metadata": {
    "jupyter": {
     "is_executing": true
    },
    "ExecuteTime": {
     "start_time": "2025-04-29T22:27:55.840598Z"
    }
   },
   "cell_type": "code",
   "source": [
    "base_models = {\n",
    "    'rf': RandomForestClassifier(),\n",
    "    'et': ExtraTreesClassifier(),\n",
    "    'knn': KNeighborsClassifier(),\n",
    "}\n",
    "params_dict = {\n",
    "    'et': {\n",
    "        'n_estimators': [500,1000,1500,2000,2500],\n",
    "        'max_depth': [None, 5, 10, 20,30,50],\n",
    "        'min_samples_split': [2, 5, 10],\n",
    "        'min_samples_leaf': [1, 2, 4],\n",
    "        'max_features': ['sqrt', 'log2',15,20,25,30,35,40],\n",
    "    },\n",
    "    'rf': {\n",
    "    'n_estimators': [10, 20, 50, 100,300,500,700,1000, 1500],\n",
    "    'max_depth': [None, 5, 10, 20,30,50],\n",
    "    'min_samples_split': [2, 5, 10],\n",
    "    'min_samples_leaf': [1, 2, 4],\n",
    "    'max_features': ['sqrt', 'log2',15,20,25,30,35,40],\n",
    "},\n",
    "    'knn': {\n",
    "        'n_neighbors': [1, 3, 5, 7, 9, 11,13,15,17,19,21],\n",
    "        'weights': ['uniform', 'distance'],\n",
    "    }\n",
    "}\n",
    "meta_model = LogisticRegression(penalty='l2', C=1, solver='lbfgs')\n",
    "stacking_clf, base_models_list = train_stack(X_train,y_train_gender, X_test, y_test_gender, base_models, params_dict, meta_model)"
   ],
   "id": "7b67d03e65c04361",
   "outputs": [
    {
     "name": "stdout",
     "output_type": "stream",
     "text": [
      "Training base model: rf\n"
     ]
    }
   ],
   "execution_count": null
  },
  {
   "metadata": {
    "ExecuteTime": {
     "end_time": "2025-04-29T22:22:38.265566Z",
     "start_time": "2025-04-29T18:32:08.523913Z"
    }
   },
   "cell_type": "code",
   "source": [
    "svc = SVC(probability=True, C = 10000, kernel = 'poly', degree=6) #0.7 => 7 degree rbf 10000\n",
    "params = {\n",
    "    'C': [0.1, 1, 10, 100,1000, 10000],\n",
    "    'kernel': ['linear', 'poly', 'rbf'],\n",
    "}\n",
    "grid = RandomizedSearchCV(svc, param_distributions=params, cv=5, n_jobs=-1, n_iter=5)\n",
    "svc.fit(X_train, y_train)\n",
    "print(\"Accuracy on training: \", svc.score(X_train, y_train))\n",
    "print(\"Accuracy on test: \", svc.score(X_test, y_test))"
   ],
   "id": "2d66d146a16712ac",
   "outputs": [],
   "execution_count": null
  },
  {
   "metadata": {
    "ExecuteTime": {
     "end_time": "2025-04-29T22:22:38.266402Z",
     "start_time": "2025-04-28T22:21:57.046422Z"
    }
   },
   "cell_type": "code",
   "source": "stacking_clf_both, base_models_list_both = train_stack(X_train,y_train, X_test, y_test, base_models, params_dict, meta_model)",
   "id": "97be25d329b5d003",
   "outputs": [
    {
     "name": "stdout",
     "output_type": "stream",
     "text": [
      "Training base model: rf\n"
     ]
    },
    {
     "name": "stderr",
     "output_type": "stream",
     "text": [
      "/opt/anaconda3/lib/python3.12/site-packages/joblib/externals/loky/process_executor.py:752: UserWarning: A worker stopped while some jobs were given to the executor. This can be caused by a too short worker timeout or by a memory leak.\n",
      "  warnings.warn(\n"
     ]
    },
    {
     "name": "stdout",
     "output_type": "stream",
     "text": [
      "Best parameters for rf: {'n_estimators': 300, 'min_samples_split': 10, 'min_samples_leaf': 2, 'max_features': 20, 'max_depth': 30}\n",
      "Best score for rf: 0.8303259236570829\n",
      "Training base model: et\n"
     ]
    },
    {
     "name": "stderr",
     "output_type": "stream",
     "text": [
      "/opt/anaconda3/lib/python3.12/site-packages/joblib/externals/loky/process_executor.py:752: UserWarning: A worker stopped while some jobs were given to the executor. This can be caused by a too short worker timeout or by a memory leak.\n",
      "  warnings.warn(\n"
     ]
    },
    {
     "name": "stdout",
     "output_type": "stream",
     "text": [
      "Best parameters for et: {'n_estimators': 1500, 'min_samples_split': 5, 'min_samples_leaf': 1, 'max_features': 'sqrt', 'max_depth': 30}\n",
      "Best score for et: 0.8665637010299339\n",
      "Training base model: knn\n",
      "Best parameters for knn: {'weights': 'uniform', 'n_neighbors': 1}\n",
      "Best score for knn: 0.7748560311184644\n",
      "Training meta model\n",
      "Meta model training complete\n",
      "Training score: 1.0\n",
      "Meta model test score: 0.9055080721747388\n"
     ]
    }
   ],
   "execution_count": 24
  },
  {
   "metadata": {
    "ExecuteTime": {
     "end_time": "2025-04-29T22:22:38.275096Z",
     "start_time": "2025-04-29T05:24:37.041907Z"
    }
   },
   "cell_type": "code",
   "source": [
    "gender_pred = stacking_clf.predict(X_train).reshape(-1, 1)\n",
    "X_train_hard_gender = np.concatenate([X_train, gender_pred], axis=1)\n",
    "gender_pred_test = stacking_clf.predict(X_test).reshape(-1, 1)\n",
    "X_test_hard_gender = np.concatenate([X_test, gender_pred_test], axis=1)\n",
    "stacking_clf_cascaded_hard, base_models_cascaded_hard = train_stack(X_train_hard_gender, y_train, X_test_hard_gender, y_test, base_models, params_dict, meta_model)"
   ],
   "id": "a65e54177fc03a6a",
   "outputs": [
    {
     "name": "stdout",
     "output_type": "stream",
     "text": [
      "Training base model: rf\n",
      "Best parameters for rf: {'n_estimators': 700, 'min_samples_split': 2, 'min_samples_leaf': 1, 'max_features': 20, 'max_depth': 30}\n",
      "Best score for rf: 0.8767732083739158\n",
      "Training base model: et\n"
     ]
    },
    {
     "name": "stderr",
     "output_type": "stream",
     "text": [
      "/opt/anaconda3/lib/python3.12/site-packages/joblib/externals/loky/process_executor.py:752: UserWarning: A worker stopped while some jobs were given to the executor. This can be caused by a too short worker timeout or by a memory leak.\n",
      "  warnings.warn(\n"
     ]
    },
    {
     "name": "stdout",
     "output_type": "stream",
     "text": [
      "Best parameters for et: {'n_estimators': 1500, 'min_samples_split': 2, 'min_samples_leaf': 2, 'max_features': 40, 'max_depth': 30}\n",
      "Best score for et: 0.894372862104228\n",
      "Training base model: knn\n",
      "Best parameters for knn: {'weights': 'distance', 'n_neighbors': 3}\n",
      "Best score for knn: 0.7542292792832672\n",
      "Training meta model\n",
      "Meta model training complete\n",
      "Training score: 1.0\n",
      "Meta model test score: 0.9024216524216524\n"
     ]
    }
   ],
   "execution_count": 30
  },
  {
   "metadata": {
    "ExecuteTime": {
     "end_time": "2025-04-29T22:22:38.278622Z",
     "start_time": "2025-04-29T12:47:43.014131Z"
    }
   },
   "cell_type": "code",
   "source": [
    "gender_pred_proba = stacking_clf.predict_proba(X_reduced)[:, 1].reshape(-1,1)\n",
    "X_reduced_concatenated_soft = np.concatenate([X_reduced, gender_pred_proba], axis=1)\n",
    "stacking_clf_cascaded_soft, base_models_cascaded_soft = train_stack(X_reduced_concatenated_soft, y, base_models, params_dict, meta_model)"
   ],
   "id": "1c027871cf80598c",
   "outputs": [
    {
     "name": "stdout",
     "output_type": "stream",
     "text": [
      "Training base model: rf\n",
      "Best parameters for rf: {'n_estimators': 300, 'min_samples_split': 5, 'min_samples_leaf': 2, 'max_features': 20, 'max_depth': 50}\n",
      "Best score for rf: 0.8711342177798315\n",
      "Training base model: et\n"
     ]
    },
    {
     "name": "stderr",
     "output_type": "stream",
     "text": [
      "/opt/anaconda3/lib/python3.12/site-packages/joblib/externals/loky/process_executor.py:752: UserWarning: A worker stopped while some jobs were given to the executor. This can be caused by a too short worker timeout or by a memory leak.\n",
      "  warnings.warn(\n"
     ]
    },
    {
     "name": "stdout",
     "output_type": "stream",
     "text": [
      "Best parameters for et: {'n_estimators': 500, 'min_samples_split': 10, 'min_samples_leaf': 2, 'max_features': 40, 'max_depth': 30}\n",
      "Best score for et: 0.8877248021037636\n",
      "Training base model: knn\n",
      "Best parameters for knn: {'weights': 'distance', 'n_neighbors': 1}\n",
      "Best score for knn: 0.777734862582476\n",
      "Training meta model\n",
      "Meta model training complete\n",
      "Training score: 1.0\n",
      "Meta model test score: 0.8982668566001899\n"
     ]
    }
   ],
   "execution_count": 37
  },
  {
   "metadata": {
    "ExecuteTime": {
     "end_time": "2025-04-26T01:34:40.307603Z",
     "start_time": "2025-04-26T01:34:29.823718Z"
    }
   },
   "cell_type": "code",
   "source": [
    "stacking_pred = stacking_clf.predict(X_test)\n",
    "stacking_acc = accuracy_score(y_test // 2, stacking_pred)\n",
    "print(\"Stacking Classifier Age Accuracy:\", stacking_acc)\n",
    "y_pred_test = stacking_clf.predict(X_test) * 2 + model_g.predict(X_test)\n",
    "print(\"Stacking Classifier Total Accuracy:\", accuracy_score(y_test, y_pred_test))"
   ],
   "id": "ddc2864c56535632",
   "outputs": [
    {
     "name": "stdout",
     "output_type": "stream",
     "text": [
      "Stacking Classifier Age Accuracy: 0.9052706552706553\n",
      "Stacking Classifier Total Accuracy: 0.8703703703703703\n"
     ]
    }
   ],
   "execution_count": 116
  },
  {
   "metadata": {
    "ExecuteTime": {
     "end_time": "2025-04-26T01:34:40.535537Z",
     "start_time": "2025-04-26T01:34:40.338484Z"
    }
   },
   "cell_type": "code",
   "source": [
    "from collections import defaultdict, Counter\n",
    "def classification_counts(y_pred_test, y_test):\n",
    "    confusion = Counter()\n",
    "    for true, pred in zip(y_test, y_pred_test):\n",
    "        confusion[(true, pred)] += 1\n",
    "    return confusion\n",
    "\n",
    "confusion_counts = classification_counts(y_pred_test, y_test)\n",
    "all_labels = sorted(set(y_test) | set(y_pred_test))\n",
    "\n",
    "df_2 = pd.DataFrame(0, index=all_labels, columns=all_labels)\n",
    "\n",
    "for (true_label, pred_label), count in confusion_counts.items():\n",
    "    df.loc[true_label, pred_label] = count\n",
    "\n",
    "label_map = {\n",
    "    0: 'Male Twenties',\n",
    "    1: 'Female Twenties',\n",
    "    2: 'Male Fifties',\n",
    "    3: 'Female Fifties'\n",
    "}\n",
    "\n",
    "df_2.index = df_2.index.map(label_map)\n",
    "df_2.columns = df_2.columns.map(label_map)\n",
    "\n",
    "plt.figure(figsize=(10, 7))\n",
    "sns.heatmap(df_2, annot=True, fmt='d', cmap='Blues')\n",
    "plt.xlabel('Predicted Label')\n",
    "plt.ylabel('True Label')\n",
    "plt.title('Full Confusion Matrix')\n",
    "plt.show()"
   ],
   "id": "a2786dd1d39af084",
   "outputs": [
    {
     "data": {
      "text/plain": [
       "<Figure size 1000x700 with 2 Axes>"
      ],
      "image/png": "[encoded data removed]"
     },
     "metadata": {},
     "output_type": "display_data"
    }
   ],
   "execution_count": 117
  },
  {
   "metadata": {},
   "cell_type": "markdown",
   "source": "0",
   "id": "70983bdb528b31ff"
  },
  {
   "metadata": {},
   "cell_type": "markdown",
   "source": "90.7 Accuracy Age , 86.4 total accuracy => svc in base + meta = Logistic",
   "id": "27be84832f759c4a"
  },
  {
   "metadata": {},
   "cell_type": "markdown",
   "source": "Same for meta = RandomForestClassifier",
   "id": "d384844747ba2217"
  },
  {
   "metadata": {
    "ExecuteTime": {
     "end_time": "2025-04-26T08:22:11.975145Z",
     "start_time": "2025-04-26T07:34:18.032202Z"
    }
   },
   "cell_type": "code",
   "source": [
    "KNN = KNeighborsClassifier()\n",
    "params = {\n",
    "    'n_neighbors': [1, 3, 5, 7, 9, 11,13,15,17,19,21],\n",
    "    'weights': ['uniform', 'distance'],\n",
    "}\n",
    "model_both_knn, params_model_both_knn, acc_both_knn = grid_search_both(KNN, params, X_reduced, verbose_level = 2)\n",
    "ET = ExtraTreesClassifier()\n",
    "params = {\n",
    "    'n_estimators': [10, 20, 50, 100,300,500,700,1000, 1500],\n",
    "    'max_depth': [None, 5, 10, 20,30,50],\n",
    "    'min_samples_split': [2, 5, 10],\n",
    "    'min_samples_leaf': [1, 2, 4],\n",
    "    'max_features': ['sqrt', 'log2',15,20,25,30,35,40],\n",
    "}\n",
    "model_both_et, params_model_both_et, acc_both_et = grid_search_both(ET, params, X_reduced, verbose_level = 2)\n",
    "RF = RandomForestClassifier()\n",
    "params = {\n",
    "    'n_estimators': [10, 20, 50, 100,300,500,700,1000, 1500],\n",
    "    'max_depth': [None, 5, 10, 20,30,50],\n",
    "    'min_samples_split': [2, 5, 10],\n",
    "    'min_samples_leaf': [1, 2, 4],\n",
    "    'max_features': ['sqrt', 'log2',15,20,25,30,35,40],\n",
    "}\n",
    "model_both_rf, params_model_both_rf, acc_both_rf = grid_search_both(RF, params, X_reduced, verbose_level = 2)\n"
   ],
   "id": "91cb573c5f164b21",
   "outputs": [
    {
     "name": "stdout",
     "output_type": "stream",
     "text": [
      "Fitting 5 folds for each of 10 candidates, totalling 50 fits\n",
      "Best parameters: {'weights': 'uniform', 'n_neighbors': 1}\n",
      "Best score: 0.7748560311184644\n",
      "Test set accuracy: 0.7877492877492878\n",
      "Fitting 5 folds for each of 10 candidates, totalling 50 fits\n",
      "[CV] END ....................n_neighbors=21, weights=uniform; total time=   1.7s\n",
      "[CV] END .....................n_neighbors=3, weights=uniform; total time=   1.5s\n",
      "[CV] END ...................n_neighbors=15, weights=distance; total time=   1.5s\n",
      "[CV] END ...................n_neighbors=11, weights=distance; total time=   1.5s\n",
      "[CV] END ....................n_neighbors=5, weights=distance; total time=   1.5s\n",
      "[CV] END .....................n_neighbors=1, weights=uniform; total time=   1.6s\n",
      "[CV] END max_depth=30, max_features=sqrt, min_samples_leaf=4, min_samples_split=2, n_estimators=1000; total time=  43.4s\n"
     ]
    },
    {
     "name": "stderr",
     "output_type": "stream",
     "text": [
      "/opt/anaconda3/lib/python3.12/site-packages/joblib/externals/loky/process_executor.py:752: UserWarning: A worker stopped while some jobs were given to the executor. This can be caused by a too short worker timeout or by a memory leak.\n",
      "  warnings.warn(\n"
     ]
    },
    {
     "name": "stdout",
     "output_type": "stream",
     "text": [
      "[CV] END ....................n_neighbors=21, weights=uniform; total time=   1.5s\n",
      "[CV] END ....................n_neighbors=3, weights=distance; total time=   1.4s\n",
      "[CV] END ...................n_neighbors=15, weights=distance; total time=   1.4s\n",
      "[CV] END ....................n_neighbors=15, weights=uniform; total time=   1.5s\n",
      "[CV] END ....................n_neighbors=5, weights=distance; total time=   1.5s\n",
      "[CV] END .....................n_neighbors=1, weights=uniform; total time=   1.5s\n",
      "[CV] END max_depth=30, max_features=sqrt, min_samples_leaf=4, min_samples_split=2, n_estimators=1000; total time=  43.4s\n",
      "[CV] END ....................n_neighbors=19, weights=uniform; total time=   1.4s\n",
      "[CV] END ....................n_neighbors=19, weights=uniform; total time=   1.6s\n",
      "[CV] END ...................n_neighbors=15, weights=distance; total time=   1.4s\n",
      "[CV] END ...................n_neighbors=11, weights=distance; total time=   1.5s\n",
      "[CV] END ....................n_neighbors=5, weights=distance; total time=   1.6s\n",
      "[CV] END .....................n_neighbors=1, weights=uniform; total time=   1.4s\n",
      "[CV] END max_depth=30, max_features=sqrt, min_samples_leaf=4, min_samples_split=2, n_estimators=1000; total time=  43.5s\n",
      "[CV] END ....................n_neighbors=21, weights=uniform; total time=   1.5s\n",
      "[CV] END ....................n_neighbors=3, weights=distance; total time=   1.4s\n",
      "[CV] END .....................n_neighbors=3, weights=uniform; total time=   1.4s\n",
      "[CV] END ....................n_neighbors=15, weights=uniform; total time=   1.5s\n",
      "[CV] END ...................n_neighbors=11, weights=distance; total time=   1.5s\n",
      "[CV] END ....................n_neighbors=9, weights=distance; total time=   1.5s\n",
      "[CV] END .....................n_neighbors=1, weights=uniform; total time=   1.1s\n",
      "[CV] END max_depth=None, max_features=25, min_samples_leaf=2, min_samples_split=10, n_estimators=300; total time=  23.6s\n",
      "[CV] END max_depth=30, max_features=sqrt, min_samples_leaf=4, min_samples_split=2, n_estimators=1000; total time=  42.2s\n",
      "[CV] END ....................n_neighbors=19, weights=uniform; total time=   1.5s\n",
      "[CV] END ....................n_neighbors=19, weights=uniform; total time=   1.5s\n",
      "[CV] END ...................n_neighbors=15, weights=distance; total time=   1.4s\n",
      "[CV] END ....................n_neighbors=15, weights=uniform; total time=   1.5s\n",
      "[CV] END ...................n_neighbors=11, weights=distance; total time=   1.5s\n",
      "[CV] END ....................n_neighbors=9, weights=distance; total time=   1.5s\n",
      "[CV] END max_depth=None, max_features=25, min_samples_leaf=2, min_samples_split=10, n_estimators=300; total time=  24.4s\n",
      "[CV] END max_depth=30, max_features=sqrt, min_samples_leaf=4, min_samples_split=2, n_estimators=1000; total time=  42.8s\n",
      "[CV] END ....................n_neighbors=21, weights=uniform; total time=   1.5s\n",
      "[CV] END ....................n_neighbors=3, weights=distance; total time=   1.4s\n",
      "[CV] END .....................n_neighbors=3, weights=uniform; total time=   1.6s\n",
      "[CV] END ....................n_neighbors=15, weights=uniform; total time=   1.5s\n",
      "[CV] END ....................n_neighbors=5, weights=distance; total time=   1.5s\n",
      "[CV] END ....................n_neighbors=9, weights=distance; total time=   1.5s\n",
      "[CV] END max_depth=None, max_features=25, min_samples_leaf=2, min_samples_split=10, n_estimators=300; total time=  25.1s\n",
      "[CV] END max_depth=10, max_features=20, min_samples_leaf=1, min_samples_split=10, n_estimators=700; total time=  24.8s\n",
      "[CV] END max_depth=10, max_features=sqrt, min_samples_leaf=4, min_samples_split=5, n_estimators=1000; total time=  20.8s\n",
      "[CV] END max_depth=30, max_features=30, min_samples_leaf=1, min_samples_split=5, n_estimators=20; total time=   1.9s\n",
      "[CV] END max_depth=30, max_features=30, min_samples_leaf=1, min_samples_split=5, n_estimators=20; total time=   2.1s\n",
      "[CV] END max_depth=30, max_features=30, min_samples_leaf=1, min_samples_split=5, n_estimators=20; total time=   1.8s\n",
      "[CV] END max_depth=20, max_features=25, min_samples_leaf=2, min_samples_split=10, n_estimators=1500; total time= 1.8min\n",
      "[CV] END ....................n_neighbors=21, weights=uniform; total time=   1.5s\n",
      "[CV] END ....................n_neighbors=3, weights=distance; total time=   1.5s\n",
      "[CV] END .....................n_neighbors=3, weights=uniform; total time=   1.4s\n",
      "[CV] END ...................n_neighbors=15, weights=distance; total time=   1.5s\n",
      "[CV] END ....................n_neighbors=5, weights=distance; total time=   1.5s\n",
      "[CV] END ....................n_neighbors=9, weights=distance; total time=   1.5s\n",
      "[CV] END max_depth=None, max_features=25, min_samples_leaf=2, min_samples_split=10, n_estimators=300; total time=  25.7s\n",
      "[CV] END max_depth=10, max_features=20, min_samples_leaf=1, min_samples_split=10, n_estimators=700; total time=  24.9s\n",
      "[CV] END max_depth=10, max_features=sqrt, min_samples_leaf=4, min_samples_split=5, n_estimators=1000; total time=  20.7s\n",
      "[CV] END max_depth=30, max_features=30, min_samples_leaf=1, min_samples_split=5, n_estimators=20; total time=   2.1s\n",
      "[CV] END max_depth=30, max_features=30, min_samples_leaf=1, min_samples_split=5, n_estimators=20; total time=   2.0s\n",
      "[CV] END max_depth=20, max_features=25, min_samples_leaf=2, min_samples_split=10, n_estimators=1500; total time= 1.8min\n",
      "[CV] END max_depth=10, max_features=20, min_samples_leaf=1, min_samples_split=10, n_estimators=700; total time=  24.0s\n",
      "[CV] END max_depth=None, max_features=40, min_samples_leaf=2, min_samples_split=5, n_estimators=1000; total time= 2.0min\n",
      "[CV] END max_depth=10, max_features=20, min_samples_leaf=1, min_samples_split=10, n_estimators=700; total time=  23.7s\n",
      "[CV] END max_depth=None, max_features=40, min_samples_leaf=2, min_samples_split=5, n_estimators=1000; total time= 2.0min\n",
      "[CV] END ....................n_neighbors=19, weights=uniform; total time=   1.5s\n",
      "[CV] END ....................n_neighbors=3, weights=distance; total time=   1.5s\n",
      "[CV] END .....................n_neighbors=3, weights=uniform; total time=   1.4s\n",
      "[CV] END ....................n_neighbors=15, weights=uniform; total time=   1.4s\n",
      "[CV] END ...................n_neighbors=11, weights=distance; total time=   1.5s\n",
      "[CV] END ....................n_neighbors=9, weights=distance; total time=   1.5s\n",
      "[CV] END .....................n_neighbors=1, weights=uniform; total time=   1.1s\n",
      "[CV] END max_depth=None, max_features=25, min_samples_leaf=2, min_samples_split=10, n_estimators=300; total time=  24.8s\n",
      "[CV] END max_depth=10, max_features=20, min_samples_leaf=1, min_samples_split=10, n_estimators=700; total time=  25.3s\n",
      "[CV] END max_depth=10, max_features=sqrt, min_samples_leaf=4, min_samples_split=5, n_estimators=1000; total time=  20.4s\n",
      "[CV] END max_depth=None, max_features=40, min_samples_leaf=2, min_samples_split=5, n_estimators=1000; total time= 1.9min\n",
      "[CV] END max_depth=10, max_features=sqrt, min_samples_leaf=4, min_samples_split=5, n_estimators=1000; total time=  20.1s\n",
      "[CV] END max_depth=10, max_features=sqrt, min_samples_leaf=4, min_samples_split=5, n_estimators=1000; total time=  18.1s\n",
      "[CV] END max_depth=20, max_features=25, min_samples_leaf=2, min_samples_split=10, n_estimators=1500; total time= 1.8min\n",
      "[CV] END max_depth=10, max_features=log2, min_samples_leaf=4, min_samples_split=2, n_estimators=1000; total time=  13.9s\n",
      "[CV] END max_depth=20, max_features=15, min_samples_leaf=2, min_samples_split=10, n_estimators=500; total time=  22.6s\n",
      "[CV] END max_depth=10, max_features=log2, min_samples_leaf=4, min_samples_split=2, n_estimators=1000; total time=  13.7s\n",
      "[CV] END max_depth=20, max_features=15, min_samples_leaf=2, min_samples_split=10, n_estimators=500; total time=  22.3s\n",
      "[CV] END max_depth=10, max_features=log2, min_samples_leaf=4, min_samples_split=2, n_estimators=1000; total time=  13.8s\n",
      "[CV] END max_depth=20, max_features=15, min_samples_leaf=2, min_samples_split=10, n_estimators=500; total time=  22.6s\n",
      "[CV] END max_depth=None, max_features=40, min_samples_leaf=2, min_samples_split=5, n_estimators=1000; total time= 2.0min\n",
      "[CV] END max_depth=20, max_features=25, min_samples_leaf=2, min_samples_split=10, n_estimators=1500; total time= 1.5min\n",
      "Best parameters: {'n_estimators': 1000, 'min_samples_split': 5, 'min_samples_leaf': 2, 'max_features': 40, 'max_depth': None}\n",
      "Best score: 0.8576601179077006\n",
      "Test set accuracy: 0.855650522317189\n",
      "Fitting 5 folds for each of 10 candidates, totalling 50 fits\n",
      "[CV] END max_depth=None, max_features=30, min_samples_leaf=1, min_samples_split=2, n_estimators=300; total time= 4.0min\n",
      "[CV] END max_depth=30, max_features=20, min_samples_leaf=2, min_samples_split=5, n_estimators=1000; total time= 8.3min\n"
     ]
    },
    {
     "name": "stderr",
     "output_type": "stream",
     "text": [
      "/opt/anaconda3/lib/python3.12/site-packages/joblib/externals/loky/process_executor.py:752: UserWarning: A worker stopped while some jobs were given to the executor. This can be caused by a too short worker timeout or by a memory leak.\n",
      "  warnings.warn(\n"
     ]
    },
    {
     "name": "stdout",
     "output_type": "stream",
     "text": [
      "[CV] END max_depth=30, max_features=20, min_samples_leaf=2, min_samples_split=10, n_estimators=500; total time= 4.1min\n",
      "[CV] END max_depth=30, max_features=20, min_samples_leaf=2, min_samples_split=5, n_estimators=1000; total time= 8.3min\n",
      "[CV] END max_depth=30, max_features=20, min_samples_leaf=2, min_samples_split=10, n_estimators=500; total time= 4.2min\n",
      "[CV] END max_depth=30, max_features=20, min_samples_leaf=2, min_samples_split=5, n_estimators=1000; total time= 8.3min\n",
      "[CV] END max_depth=20, max_features=sqrt, min_samples_leaf=4, min_samples_split=10, n_estimators=10; total time=   2.4s\n",
      "[CV] END max_depth=20, max_features=30, min_samples_leaf=4, min_samples_split=2, n_estimators=20; total time=  13.9s\n",
      "[CV] END max_depth=20, max_features=30, min_samples_leaf=4, min_samples_split=2, n_estimators=20; total time=  14.0s\n",
      "[CV] END max_depth=None, max_features=sqrt, min_samples_leaf=2, min_samples_split=2, n_estimators=1500; total time= 6.3min\n",
      "[CV] END max_depth=20, max_features=sqrt, min_samples_leaf=4, min_samples_split=10, n_estimators=10; total time=   2.3s\n",
      "[CV] END max_depth=20, max_features=sqrt, min_samples_leaf=4, min_samples_split=10, n_estimators=10; total time=   2.2s\n",
      "[CV] END max_depth=20, max_features=30, min_samples_leaf=4, min_samples_split=2, n_estimators=20; total time=  13.9s\n",
      "[CV] END max_depth=20, max_features=30, min_samples_leaf=4, min_samples_split=2, n_estimators=20; total time=  13.9s\n",
      "[CV] END max_depth=None, max_features=sqrt, min_samples_leaf=2, min_samples_split=2, n_estimators=1500; total time= 6.3min\n",
      "[CV] END max_depth=50, max_features=35, min_samples_leaf=1, min_samples_split=5, n_estimators=10; total time=   9.5s\n",
      "[CV] END max_depth=50, max_features=35, min_samples_leaf=1, min_samples_split=5, n_estimators=10; total time=   9.3s\n",
      "[CV] END max_depth=50, max_features=35, min_samples_leaf=1, min_samples_split=5, n_estimators=10; total time=   9.1s\n",
      "[CV] END max_depth=50, max_features=35, min_samples_leaf=1, min_samples_split=5, n_estimators=10; total time=   9.4s\n",
      "[CV] END max_depth=50, max_features=35, min_samples_leaf=1, min_samples_split=5, n_estimators=10; total time=   9.4s\n",
      "[CV] END max_depth=10, max_features=15, min_samples_leaf=1, min_samples_split=10, n_estimators=500; total time= 2.3min\n",
      "[CV] END max_depth=10, max_features=15, min_samples_leaf=1, min_samples_split=10, n_estimators=500; total time= 2.3min\n",
      "[CV] END max_depth=10, max_features=15, min_samples_leaf=1, min_samples_split=10, n_estimators=500; total time= 2.3min\n",
      "[CV] END max_depth=50, max_features=sqrt, min_samples_leaf=1, min_samples_split=2, n_estimators=700; total time= 3.0min\n",
      "[CV] END max_depth=30, max_features=20, min_samples_leaf=2, min_samples_split=10, n_estimators=500; total time= 4.2min\n",
      "[CV] END max_depth=None, max_features=40, min_samples_leaf=1, min_samples_split=2, n_estimators=1500; total time=27.0min\n",
      "[CV] END max_depth=10, max_features=log2, min_samples_leaf=4, min_samples_split=2, n_estimators=1000; total time=  13.9s\n",
      "[CV] END max_depth=None, max_features=25, min_samples_leaf=1, min_samples_split=2, n_estimators=50; total time=   4.3s\n",
      "[CV] END max_depth=None, max_features=25, min_samples_leaf=1, min_samples_split=2, n_estimators=50; total time=   4.8s\n",
      "[CV] END max_depth=None, max_features=25, min_samples_leaf=1, min_samples_split=2, n_estimators=50; total time=   4.4s\n",
      "[CV] END max_depth=None, max_features=25, min_samples_leaf=1, min_samples_split=2, n_estimators=50; total time=   4.3s\n",
      "[CV] END max_depth=None, max_features=30, min_samples_leaf=1, min_samples_split=2, n_estimators=300; total time= 4.0min\n",
      "[CV] END max_depth=30, max_features=20, min_samples_leaf=2, min_samples_split=10, n_estimators=500; total time= 4.1min\n",
      "[CV] END max_depth=None, max_features=40, min_samples_leaf=1, min_samples_split=2, n_estimators=1500; total time=26.3min\n",
      "[CV] END max_depth=20, max_features=15, min_samples_leaf=2, min_samples_split=10, n_estimators=500; total time=  23.4s\n",
      "[CV] END max_depth=None, max_features=25, min_samples_leaf=1, min_samples_split=2, n_estimators=50; total time=   4.7s\n",
      "[CV] END max_depth=None, max_features=30, min_samples_leaf=1, min_samples_split=2, n_estimators=300; total time= 4.0min\n",
      "[CV] END max_depth=30, max_features=20, min_samples_leaf=2, min_samples_split=10, n_estimators=500; total time= 4.1min\n",
      "[CV] END max_depth=None, max_features=40, min_samples_leaf=1, min_samples_split=2, n_estimators=1500; total time=26.4min\n",
      "[CV] END max_depth=20, max_features=25, min_samples_leaf=2, min_samples_split=10, n_estimators=1500; total time= 1.5min\n",
      "[CV] END max_depth=None, max_features=30, min_samples_leaf=1, min_samples_split=2, n_estimators=300; total time= 4.1min\n",
      "[CV] END max_depth=30, max_features=20, min_samples_leaf=2, min_samples_split=5, n_estimators=1000; total time= 8.4min\n",
      "[CV] END max_depth=20, max_features=sqrt, min_samples_leaf=4, min_samples_split=10, n_estimators=10; total time=   2.4s\n",
      "[CV] END max_depth=20, max_features=sqrt, min_samples_leaf=4, min_samples_split=10, n_estimators=10; total time=   2.4s\n",
      "[CV] END max_depth=20, max_features=30, min_samples_leaf=4, min_samples_split=2, n_estimators=20; total time=  14.2s\n",
      "[CV] END max_depth=None, max_features=sqrt, min_samples_leaf=2, min_samples_split=2, n_estimators=1500; total time= 6.4min\n",
      "[CV] END max_depth=None, max_features=sqrt, min_samples_leaf=2, min_samples_split=2, n_estimators=1500; total time= 6.4min\n",
      "[CV] END max_depth=10, max_features=15, min_samples_leaf=1, min_samples_split=10, n_estimators=500; total time= 2.3min\n",
      "[CV] END max_depth=50, max_features=sqrt, min_samples_leaf=1, min_samples_split=2, n_estimators=700; total time= 3.0min\n",
      "[CV] END max_depth=50, max_features=sqrt, min_samples_leaf=1, min_samples_split=2, n_estimators=700; total time= 2.7min\n",
      "[CV] END max_depth=None, max_features=sqrt, min_samples_leaf=2, min_samples_split=2, n_estimators=1500; total time= 6.2min\n",
      "[CV] END max_depth=10, max_features=15, min_samples_leaf=1, min_samples_split=10, n_estimators=500; total time= 2.3min\n",
      "[CV] END max_depth=50, max_features=sqrt, min_samples_leaf=1, min_samples_split=2, n_estimators=700; total time= 3.0min\n",
      "[CV] END max_depth=50, max_features=sqrt, min_samples_leaf=1, min_samples_split=2, n_estimators=700; total time= 2.6min\n",
      "Best parameters: {'n_estimators': 700, 'min_samples_split': 2, 'min_samples_leaf': 1, 'max_features': 'sqrt', 'max_depth': 50}\n",
      "Best score: 0.8467383034767343\n",
      "Test set accuracy: 0.8434235517568851\n"
     ]
    }
   ],
   "execution_count": 129
  },
  {
   "metadata": {
    "ExecuteTime": {
     "end_time": "2025-04-26T08:36:57.670335Z",
     "start_time": "2025-04-26T08:36:55.600016Z"
    }
   },
   "cell_type": "code",
   "source": [
    "pickle.dump(model_both_knn[0], open('model_both_knn.pkl', 'wb'))\n",
    "pickle.dump(model_both_et[0], open('model_both_et.pkl', 'wb'))\n",
    "pickle.dump(model_both_rf[0], open('model_both_rf.pkl', 'wb'))"
   ],
   "id": "e62a2a30b8a8a36b",
   "outputs": [],
   "execution_count": 138
  },
  {
   "metadata": {
    "ExecuteTime": {
     "start_time": "2025-04-26T08:52:25.826414Z"
    }
   },
   "cell_type": "code",
   "source": [
    "svm = SVC(probability=True, C = 10000, kernel = 'rbf')\n",
    "params = {\n",
    "    'C': [0.1, 1, 10, 100,1000, 10000],\n",
    "    'kernel': ['linear', 'poly', 'rbf', 'sigmoid'],\n",
    "    'degree': [2, 3, 4],\n",
    "    'gamma': ['scale', 'auto'],\n",
    "}\n",
    "model_both_svm, params_model_both_svm, acc_both_svm = grid_search_both(svm, params, X_reduced, verbose_level = 2)\n",
    "pickle.dump(model_both_svm, open('model_both_svm.pkl', 'wb'))"
   ],
   "id": "c4073891bb20b6e5",
   "outputs": [
    {
     "name": "stdout",
     "output_type": "stream",
     "text": [
      "Fitting 5 folds for each of 10 candidates, totalling 50 fits\n"
     ]
    }
   ],
   "execution_count": null
  },
  {
   "metadata": {
    "ExecuteTime": {
     "end_time": "2025-04-26T08:44:08.989091Z",
     "start_time": "2025-04-26T08:36:58.380059Z"
    }
   },
   "cell_type": "code",
   "source": [
    "base_estimators = [\n",
    "    ('knn', model_both_knn[0]),\n",
    "    ('rf', model_both_rf[0]),\n",
    "    ('et', model_both_et[0]),\n",
    "    # ('svc', model_both_svm),\n",
    "]\n",
    "meta_classifier = LogisticRegression(penalty='l2', C=1, solver='lbfgs')\n",
    "stacking_clf = StackingClassifier(\n",
    "    estimators=base_estimators,\n",
    "    final_estimator=meta_classifier,\n",
    "    cv=5,\n",
    "    stack_method='auto',\n",
    "    n_jobs=-1\n",
    ")\n",
    "stacking_clf.fit(X_train, y_train)\n"
   ],
   "id": "f2a114e9d17a1ed5",
   "outputs": [
    {
     "data": {
      "text/plain": [
       "StackingClassifier(cv=5,\n",
       "                   estimators=[('knn', KNeighborsClassifier(n_neighbors=1)),\n",
       "                               ('rf',\n",
       "                                RandomForestClassifier(max_depth=50,\n",
       "                                                       n_estimators=700)),\n",
       "                               ('et',\n",
       "                                ExtraTreesClassifier(max_features=40,\n",
       "                                                     min_samples_leaf=2,\n",
       "                                                     min_samples_split=5,\n",
       "                                                     n_estimators=1000))],\n",
       "                   final_estimator=LogisticRegression(C=1), n_jobs=-1)"
      ],
      "text/html": [
       "<style>#sk-container-id-8 {\n",
       "  /* Definition of color scheme common for light and dark mode */\n",
       "  --sklearn-color-text: black;\n",
       "  --sklearn-color-line: gray;\n",
       "  /* Definition of color scheme for unfitted estimators */\n",
       "  --sklearn-color-unfitted-level-0: #fff5e6;\n",
       "  --sklearn-color-unfitted-level-1: #f6e4d2;\n",
       "  --sklearn-color-unfitted-level-2: #ffe0b3;\n",
       "  --sklearn-color-unfitted-level-3: chocolate;\n",
       "  /* Definition of color scheme for fitted estimators */\n",
       "  --sklearn-color-fitted-level-0: #f0f8ff;\n",
       "  --sklearn-color-fitted-level-1: #d4ebff;\n",
       "  --sklearn-color-fitted-level-2: #b3dbfd;\n",
       "  --sklearn-color-fitted-level-3: cornflowerblue;\n",
       "\n",
       "  /* Specific color for light theme */\n",
       "  --sklearn-color-text-on-default-background: var(--sg-text-color, var(--theme-code-foreground, var(--jp-content-font-color1, black)));\n",
       "  --sklearn-color-background: var(--sg-background-color, var(--theme-background, var(--jp-layout-color0, white)));\n",
       "  --sklearn-color-border-box: var(--sg-text-color, var(--theme-code-foreground, var(--jp-content-font-color1, black)));\n",
       "  --sklearn-color-icon: #696969;\n",
       "\n",
       "  @media (prefers-color-scheme: dark) {\n",
       "    /* Redefinition of color scheme for dark theme */\n",
       "    --sklearn-color-text-on-default-background: var(--sg-text-color, var(--theme-code-foreground, var(--jp-content-font-color1, white)));\n",
       "    --sklearn-color-background: var(--sg-background-color, var(--theme-background, var(--jp-layout-color0, #111)));\n",
       "    --sklearn-color-border-box: var(--sg-text-color, var(--theme-code-foreground, var(--jp-content-font-color1, white)));\n",
       "    --sklearn-color-icon: #878787;\n",
       "  }\n",
       "}\n",
       "\n",
       "#sk-container-id-8 {\n",
       "  color: var(--sklearn-color-text);\n",
       "}\n",
       "\n",
       "#sk-container-id-8 pre {\n",
       "  padding: 0;\n",
       "}\n",
       "\n",
       "#sk-container-id-8 input.sk-hidden--visually {\n",
       "  border: 0;\n",
       "  clip: rect(1px 1px 1px 1px);\n",
       "  clip: rect(1px, 1px, 1px, 1px);\n",
       "  height: 1px;\n",
       "  margin: -1px;\n",
       "  overflow: hidden;\n",
       "  padding: 0;\n",
       "  position: absolute;\n",
       "  width: 1px;\n",
       "}\n",
       "\n",
       "#sk-container-id-8 div.sk-dashed-wrapped {\n",
       "  border: 1px dashed var(--sklearn-color-line);\n",
       "  margin: 0 0.4em 0.5em 0.4em;\n",
       "  box-sizing: border-box;\n",
       "  padding-bottom: 0.4em;\n",
       "  background-color: var(--sklearn-color-background);\n",
       "}\n",
       "\n",
       "#sk-container-id-8 div.sk-container {\n",
       "  /* jupyter's `normalize.less` sets `[hidden] { display: none; }`\n",
       "     but bootstrap.min.css set `[hidden] { display: none !important; }`\n",
       "     so we also need the `!important` here to be able to override the\n",
       "     default hidden behavior on the sphinx rendered scikit-learn.org.\n",
       "     See: https://github.com/scikit-learn/scikit-learn/issues/21755 */\n",
       "  display: inline-block !important;\n",
       "  position: relative;\n",
       "}\n",
       "\n",
       "#sk-container-id-8 div.sk-text-repr-fallback {\n",
       "  display: none;\n",
       "}\n",
       "\n",
       "div.sk-parallel-item,\n",
       "div.sk-serial,\n",
       "div.sk-item {\n",
       "  /* draw centered vertical line to link estimators */\n",
       "  background-image: linear-gradient(var(--sklearn-color-text-on-default-background), var(--sklearn-color-text-on-default-background));\n",
       "  background-size: 2px 100%;\n",
       "  background-repeat: no-repeat;\n",
       "  background-position: center center;\n",
       "}\n",
       "\n",
       "/* Parallel-specific style estimator block */\n",
       "\n",
       "#sk-container-id-8 div.sk-parallel-item::after {\n",
       "  content: \"\";\n",
       "  width: 100%;\n",
       "  border-bottom: 2px solid var(--sklearn-color-text-on-default-background);\n",
       "  flex-grow: 1;\n",
       "}\n",
       "\n",
       "#sk-container-id-8 div.sk-parallel {\n",
       "  display: flex;\n",
       "  align-items: stretch;\n",
       "  justify-content: center;\n",
       "  background-color: var(--sklearn-color-background);\n",
       "  position: relative;\n",
       "}\n",
       "\n",
       "#sk-container-id-8 div.sk-parallel-item {\n",
       "  display: flex;\n",
       "  flex-direction: column;\n",
       "}\n",
       "\n",
       "#sk-container-id-8 div.sk-parallel-item:first-child::after {\n",
       "  align-self: flex-end;\n",
       "  width: 50%;\n",
       "}\n",
       "\n",
       "#sk-container-id-8 div.sk-parallel-item:last-child::after {\n",
       "  align-self: flex-start;\n",
       "  width: 50%;\n",
       "}\n",
       "\n",
       "#sk-container-id-8 div.sk-parallel-item:only-child::after {\n",
       "  width: 0;\n",
       "}\n",
       "\n",
       "/* Serial-specific style estimator block */\n",
       "\n",
       "#sk-container-id-8 div.sk-serial {\n",
       "  display: flex;\n",
       "  flex-direction: column;\n",
       "  align-items: center;\n",
       "  background-color: var(--sklearn-color-background);\n",
       "  padding-right: 1em;\n",
       "  padding-left: 1em;\n",
       "}\n",
       "\n",
       "\n",
       "/* Toggleable style: style used for estimator/Pipeline/ColumnTransformer box that is\n",
       "clickable and can be expanded/collapsed.\n",
       "- Pipeline and ColumnTransformer use this feature and define the default style\n",
       "- Estimators will overwrite some part of the style using the `sk-estimator` class\n",
       "*/\n",
       "\n",
       "/* Pipeline and ColumnTransformer style (default) */\n",
       "\n",
       "#sk-container-id-8 div.sk-toggleable {\n",
       "  /* Default theme specific background. It is overwritten whether we have a\n",
       "  specific estimator or a Pipeline/ColumnTransformer */\n",
       "  background-color: var(--sklearn-color-background);\n",
       "}\n",
       "\n",
       "/* Toggleable label */\n",
       "#sk-container-id-8 label.sk-toggleable__label {\n",
       "  cursor: pointer;\n",
       "  display: block;\n",
       "  width: 100%;\n",
       "  margin-bottom: 0;\n",
       "  padding: 0.5em;\n",
       "  box-sizing: border-box;\n",
       "  text-align: center;\n",
       "}\n",
       "\n",
       "#sk-container-id-8 label.sk-toggleable__label-arrow:before {\n",
       "  /* Arrow on the left of the label */\n",
       "  content: \"▸\";\n",
       "  float: left;\n",
       "  margin-right: 0.25em;\n",
       "  color: var(--sklearn-color-icon);\n",
       "}\n",
       "\n",
       "#sk-container-id-8 label.sk-toggleable__label-arrow:hover:before {\n",
       "  color: var(--sklearn-color-text);\n",
       "}\n",
       "\n",
       "/* Toggleable content - dropdown */\n",
       "\n",
       "#sk-container-id-8 div.sk-toggleable__content {\n",
       "  max-height: 0;\n",
       "  max-width: 0;\n",
       "  overflow: hidden;\n",
       "  text-align: left;\n",
       "  /* unfitted */\n",
       "  background-color: var(--sklearn-color-unfitted-level-0);\n",
       "}\n",
       "\n",
       "#sk-container-id-8 div.sk-toggleable__content.fitted {\n",
       "  /* fitted */\n",
       "  background-color: var(--sklearn-color-fitted-level-0);\n",
       "}\n",
       "\n",
       "#sk-container-id-8 div.sk-toggleable__content pre {\n",
       "  margin: 0.2em;\n",
       "  border-radius: 0.25em;\n",
       "  color: var(--sklearn-color-text);\n",
       "  /* unfitted */\n",
       "  background-color: var(--sklearn-color-unfitted-level-0);\n",
       "}\n",
       "\n",
       "#sk-container-id-8 div.sk-toggleable__content.fitted pre {\n",
       "  /* unfitted */\n",
       "  background-color: var(--sklearn-color-fitted-level-0);\n",
       "}\n",
       "\n",
       "#sk-container-id-8 input.sk-toggleable__control:checked~div.sk-toggleable__content {\n",
       "  /* Expand drop-down */\n",
       "  max-height: 200px;\n",
       "  max-width: 100%;\n",
       "  overflow: auto;\n",
       "}\n",
       "\n",
       "#sk-container-id-8 input.sk-toggleable__control:checked~label.sk-toggleable__label-arrow:before {\n",
       "  content: \"▾\";\n",
       "}\n",
       "\n",
       "/* Pipeline/ColumnTransformer-specific style */\n",
       "\n",
       "#sk-container-id-8 div.sk-label input.sk-toggleable__control:checked~label.sk-toggleable__label {\n",
       "  color: var(--sklearn-color-text);\n",
       "  background-color: var(--sklearn-color-unfitted-level-2);\n",
       "}\n",
       "\n",
       "#sk-container-id-8 div.sk-label.fitted input.sk-toggleable__control:checked~label.sk-toggleable__label {\n",
       "  background-color: var(--sklearn-color-fitted-level-2);\n",
       "}\n",
       "\n",
       "/* Estimator-specific style */\n",
       "\n",
       "/* Colorize estimator box */\n",
       "#sk-container-id-8 div.sk-estimator input.sk-toggleable__control:checked~label.sk-toggleable__label {\n",
       "  /* unfitted */\n",
       "  background-color: var(--sklearn-color-unfitted-level-2);\n",
       "}\n",
       "\n",
       "#sk-container-id-8 div.sk-estimator.fitted input.sk-toggleable__control:checked~label.sk-toggleable__label {\n",
       "  /* fitted */\n",
       "  background-color: var(--sklearn-color-fitted-level-2);\n",
       "}\n",
       "\n",
       "#sk-container-id-8 div.sk-label label.sk-toggleable__label,\n",
       "#sk-container-id-8 div.sk-label label {\n",
       "  /* The background is the default theme color */\n",
       "  color: var(--sklearn-color-text-on-default-background);\n",
       "}\n",
       "\n",
       "/* On hover, darken the color of the background */\n",
       "#sk-container-id-8 div.sk-label:hover label.sk-toggleable__label {\n",
       "  color: var(--sklearn-color-text);\n",
       "  background-color: var(--sklearn-color-unfitted-level-2);\n",
       "}\n",
       "\n",
       "/* Label box, darken color on hover, fitted */\n",
       "#sk-container-id-8 div.sk-label.fitted:hover label.sk-toggleable__label.fitted {\n",
       "  color: var(--sklearn-color-text);\n",
       "  background-color: var(--sklearn-color-fitted-level-2);\n",
       "}\n",
       "\n",
       "/* Estimator label */\n",
       "\n",
       "#sk-container-id-8 div.sk-label label {\n",
       "  font-family: monospace;\n",
       "  font-weight: bold;\n",
       "  display: inline-block;\n",
       "  line-height: 1.2em;\n",
       "}\n",
       "\n",
       "#sk-container-id-8 div.sk-label-container {\n",
       "  text-align: center;\n",
       "}\n",
       "\n",
       "/* Estimator-specific */\n",
       "#sk-container-id-8 div.sk-estimator {\n",
       "  font-family: monospace;\n",
       "  border: 1px dotted var(--sklearn-color-border-box);\n",
       "  border-radius: 0.25em;\n",
       "  box-sizing: border-box;\n",
       "  margin-bottom: 0.5em;\n",
       "  /* unfitted */\n",
       "  background-color: var(--sklearn-color-unfitted-level-0);\n",
       "}\n",
       "\n",
       "#sk-container-id-8 div.sk-estimator.fitted {\n",
       "  /* fitted */\n",
       "  background-color: var(--sklearn-color-fitted-level-0);\n",
       "}\n",
       "\n",
       "/* on hover */\n",
       "#sk-container-id-8 div.sk-estimator:hover {\n",
       "  /* unfitted */\n",
       "  background-color: var(--sklearn-color-unfitted-level-2);\n",
       "}\n",
       "\n",
       "#sk-container-id-8 div.sk-estimator.fitted:hover {\n",
       "  /* fitted */\n",
       "  background-color: var(--sklearn-color-fitted-level-2);\n",
       "}\n",
       "\n",
       "/* Specification for estimator info (e.g. \"i\" and \"?\") */\n",
       "\n",
       "/* Common style for \"i\" and \"?\" */\n",
       "\n",
       ".sk-estimator-doc-link,\n",
       "a:link.sk-estimator-doc-link,\n",
       "a:visited.sk-estimator-doc-link {\n",
       "  float: right;\n",
       "  font-size: smaller;\n",
       "  line-height: 1em;\n",
       "  font-family: monospace;\n",
       "  background-color: var(--sklearn-color-background);\n",
       "  border-radius: 1em;\n",
       "  height: 1em;\n",
       "  width: 1em;\n",
       "  text-decoration: none !important;\n",
       "  margin-left: 1ex;\n",
       "  /* unfitted */\n",
       "  border: var(--sklearn-color-unfitted-level-1) 1pt solid;\n",
       "  color: var(--sklearn-color-unfitted-level-1);\n",
       "}\n",
       "\n",
       ".sk-estimator-doc-link.fitted,\n",
       "a:link.sk-estimator-doc-link.fitted,\n",
       "a:visited.sk-estimator-doc-link.fitted {\n",
       "  /* fitted */\n",
       "  border: var(--sklearn-color-fitted-level-1) 1pt solid;\n",
       "  color: var(--sklearn-color-fitted-level-1);\n",
       "}\n",
       "\n",
       "/* On hover */\n",
       "div.sk-estimator:hover .sk-estimator-doc-link:hover,\n",
       ".sk-estimator-doc-link:hover,\n",
       "div.sk-label-container:hover .sk-estimator-doc-link:hover,\n",
       ".sk-estimator-doc-link:hover {\n",
       "  /* unfitted */\n",
       "  background-color: var(--sklearn-color-unfitted-level-3);\n",
       "  color: var(--sklearn-color-background);\n",
       "  text-decoration: none;\n",
       "}\n",
       "\n",
       "div.sk-estimator.fitted:hover .sk-estimator-doc-link.fitted:hover,\n",
       ".sk-estimator-doc-link.fitted:hover,\n",
       "div.sk-label-container:hover .sk-estimator-doc-link.fitted:hover,\n",
       ".sk-estimator-doc-link.fitted:hover {\n",
       "  /* fitted */\n",
       "  background-color: var(--sklearn-color-fitted-level-3);\n",
       "  color: var(--sklearn-color-background);\n",
       "  text-decoration: none;\n",
       "}\n",
       "\n",
       "/* Span, style for the box shown on hovering the info icon */\n",
       ".sk-estimator-doc-link span {\n",
       "  display: none;\n",
       "  z-index: 9999;\n",
       "  position: relative;\n",
       "  font-weight: normal;\n",
       "  right: .2ex;\n",
       "  padding: .5ex;\n",
       "  margin: .5ex;\n",
       "  width: min-content;\n",
       "  min-width: 20ex;\n",
       "  max-width: 50ex;\n",
       "  color: var(--sklearn-color-text);\n",
       "  box-shadow: 2pt 2pt 4pt #999;\n",
       "  /* unfitted */\n",
       "  background: var(--sklearn-color-unfitted-level-0);\n",
       "  border: .5pt solid var(--sklearn-color-unfitted-level-3);\n",
       "}\n",
       "\n",
       ".sk-estimator-doc-link.fitted span {\n",
       "  /* fitted */\n",
       "  background: var(--sklearn-color-fitted-level-0);\n",
       "  border: var(--sklearn-color-fitted-level-3);\n",
       "}\n",
       "\n",
       ".sk-estimator-doc-link:hover span {\n",
       "  display: block;\n",
       "}\n",
       "\n",
       "/* \"?\"-specific style due to the `<a>` HTML tag */\n",
       "\n",
       "#sk-container-id-8 a.estimator_doc_link {\n",
       "  float: right;\n",
       "  font-size: 1rem;\n",
       "  line-height: 1em;\n",
       "  font-family: monospace;\n",
       "  background-color: var(--sklearn-color-background);\n",
       "  border-radius: 1rem;\n",
       "  height: 1rem;\n",
       "  width: 1rem;\n",
       "  text-decoration: none;\n",
       "  /* unfitted */\n",
       "  color: var(--sklearn-color-unfitted-level-1);\n",
       "  border: var(--sklearn-color-unfitted-level-1) 1pt solid;\n",
       "}\n",
       "\n",
       "#sk-container-id-8 a.estimator_doc_link.fitted {\n",
       "  /* fitted */\n",
       "  border: var(--sklearn-color-fitted-level-1) 1pt solid;\n",
       "  color: var(--sklearn-color-fitted-level-1);\n",
       "}\n",
       "\n",
       "/* On hover */\n",
       "#sk-container-id-8 a.estimator_doc_link:hover {\n",
       "  /* unfitted */\n",
       "  background-color: var(--sklearn-color-unfitted-level-3);\n",
       "  color: var(--sklearn-color-background);\n",
       "  text-decoration: none;\n",
       "}\n",
       "\n",
       "#sk-container-id-8 a.estimator_doc_link.fitted:hover {\n",
       "  /* fitted */\n",
       "  background-color: var(--sklearn-color-fitted-level-3);\n",
       "}\n",
       "</style><div id=\"sk-container-id-8\" class=\"sk-top-container\"><div class=\"sk-text-repr-fallback\"><pre>StackingClassifier(cv=5,\n",
       "                   estimators=[(&#x27;knn&#x27;, KNeighborsClassifier(n_neighbors=1)),\n",
       "                               (&#x27;rf&#x27;,\n",
       "                                RandomForestClassifier(max_depth=50,\n",
       "                                                       n_estimators=700)),\n",
       "                               (&#x27;et&#x27;,\n",
       "                                ExtraTreesClassifier(max_features=40,\n",
       "                                                     min_samples_leaf=2,\n",
       "                                                     min_samples_split=5,\n",
       "                                                     n_estimators=1000))],\n",
       "                   final_estimator=LogisticRegression(C=1), n_jobs=-1)</pre><b>In a Jupyter environment, please rerun this cell to show the HTML representation or trust the notebook. <br />On GitHub, the HTML representation is unable to render, please try loading this page with nbviewer.org.</b></div><div class=\"sk-container\" hidden><div class=\"sk-item sk-dashed-wrapped\"><div class=\"sk-label-container\"><div class=\"sk-label fitted sk-toggleable\"><input class=\"sk-toggleable__control sk-hidden--visually\" id=\"sk-estimator-id-40\" type=\"checkbox\" ><label for=\"sk-estimator-id-40\" class=\"sk-toggleable__label fitted sk-toggleable__label-arrow fitted\">&nbsp;&nbsp;StackingClassifier<a class=\"sk-estimator-doc-link fitted\" rel=\"noreferrer\" target=\"_blank\" href=\"https://scikit-learn.org/1.5/modules/generated/sklearn.ensemble.StackingClassifier.html\">?<span>Documentation for StackingClassifier</span></a><span class=\"sk-estimator-doc-link fitted\">i<span>Fitted</span></span></label><div class=\"sk-toggleable__content fitted\"><pre>StackingClassifier(cv=5,\n",
       "                   estimators=[(&#x27;knn&#x27;, KNeighborsClassifier(n_neighbors=1)),\n",
       "                               (&#x27;rf&#x27;,\n",
       "                                RandomForestClassifier(max_depth=50,\n",
       "                                                       n_estimators=700)),\n",
       "                               (&#x27;et&#x27;,\n",
       "                                ExtraTreesClassifier(max_features=40,\n",
       "                                                     min_samples_leaf=2,\n",
       "                                                     min_samples_split=5,\n",
       "                                                     n_estimators=1000))],\n",
       "                   final_estimator=LogisticRegression(C=1), n_jobs=-1)</pre></div> </div></div><div class=\"sk-serial\"><div class=\"sk-item\"><div class=\"sk-parallel\"><div class=\"sk-parallel-item\"><div class=\"sk-item\"><div class=\"sk-label-container\"><div class=\"sk-label fitted sk-toggleable\"><label>knn</label></div></div><div class=\"sk-serial\"><div class=\"sk-item\"><div class=\"sk-estimator fitted sk-toggleable\"><input class=\"sk-toggleable__control sk-hidden--visually\" id=\"sk-estimator-id-41\" type=\"checkbox\" ><label for=\"sk-estimator-id-41\" class=\"sk-toggleable__label fitted sk-toggleable__label-arrow fitted\">&nbsp;KNeighborsClassifier<a class=\"sk-estimator-doc-link fitted\" rel=\"noreferrer\" target=\"_blank\" href=\"https://scikit-learn.org/1.5/modules/generated/sklearn.neighbors.KNeighborsClassifier.html\">?<span>Documentation for KNeighborsClassifier</span></a></label><div class=\"sk-toggleable__content fitted\"><pre>KNeighborsClassifier(n_neighbors=1)</pre></div> </div></div></div></div></div><div class=\"sk-parallel-item\"><div class=\"sk-item\"><div class=\"sk-label-container\"><div class=\"sk-label fitted sk-toggleable\"><label>rf</label></div></div><div class=\"sk-serial\"><div class=\"sk-item\"><div class=\"sk-estimator fitted sk-toggleable\"><input class=\"sk-toggleable__control sk-hidden--visually\" id=\"sk-estimator-id-42\" type=\"checkbox\" ><label for=\"sk-estimator-id-42\" class=\"sk-toggleable__label fitted sk-toggleable__label-arrow fitted\">&nbsp;RandomForestClassifier<a class=\"sk-estimator-doc-link fitted\" rel=\"noreferrer\" target=\"_blank\" href=\"https://scikit-learn.org/1.5/modules/generated/sklearn.ensemble.RandomForestClassifier.html\">?<span>Documentation for RandomForestClassifier</span></a></label><div class=\"sk-toggleable__content fitted\"><pre>RandomForestClassifier(max_depth=50, n_estimators=700)</pre></div> </div></div></div></div></div><div class=\"sk-parallel-item\"><div class=\"sk-item\"><div class=\"sk-label-container\"><div class=\"sk-label fitted sk-toggleable\"><label>et</label></div></div><div class=\"sk-serial\"><div class=\"sk-item\"><div class=\"sk-estimator fitted sk-toggleable\"><input class=\"sk-toggleable__control sk-hidden--visually\" id=\"sk-estimator-id-43\" type=\"checkbox\" ><label for=\"sk-estimator-id-43\" class=\"sk-toggleable__label fitted sk-toggleable__label-arrow fitted\">&nbsp;ExtraTreesClassifier<a class=\"sk-estimator-doc-link fitted\" rel=\"noreferrer\" target=\"_blank\" href=\"https://scikit-learn.org/1.5/modules/generated/sklearn.ensemble.ExtraTreesClassifier.html\">?<span>Documentation for ExtraTreesClassifier</span></a></label><div class=\"sk-toggleable__content fitted\"><pre>ExtraTreesClassifier(max_features=40, min_samples_leaf=2, min_samples_split=5,\n",
       "                     n_estimators=1000)</pre></div> </div></div></div></div></div></div></div><div class=\"sk-item\"><div class=\"sk-parallel\"><div class=\"sk-parallel-item\"><div class=\"sk-item\"><div class=\"sk-label-container\"><div class=\"sk-label fitted sk-toggleable\"><label>final_estimator</label></div></div><div class=\"sk-serial\"><div class=\"sk-item\"><div class=\"sk-estimator fitted sk-toggleable\"><input class=\"sk-toggleable__control sk-hidden--visually\" id=\"sk-estimator-id-44\" type=\"checkbox\" ><label for=\"sk-estimator-id-44\" class=\"sk-toggleable__label fitted sk-toggleable__label-arrow fitted\">&nbsp;LogisticRegression<a class=\"sk-estimator-doc-link fitted\" rel=\"noreferrer\" target=\"_blank\" href=\"https://scikit-learn.org/1.5/modules/generated/sklearn.linear_model.LogisticRegression.html\">?<span>Documentation for LogisticRegression</span></a></label><div class=\"sk-toggleable__content fitted\"><pre>LogisticRegression(C=1)</pre></div> </div></div></div></div></div></div></div></div></div></div></div>"
      ]
     },
     "execution_count": 139,
     "metadata": {},
     "output_type": "execute_result"
    }
   ],
   "execution_count": 139
  },
  {
   "metadata": {
    "ExecuteTime": {
     "end_time": "2025-04-26T08:44:13.260153Z",
     "start_time": "2025-04-26T08:44:10.008785Z"
    }
   },
   "cell_type": "code",
   "source": [
    "stacking_pred = stacking_clf.predict(X_test)\n",
    "stacking_acc = accuracy_score(y_test, stacking_pred)\n",
    "print(\"Stacking Classifier Both Accuracy:\", stacking_acc)"
   ],
   "id": "546cf306eaab8026",
   "outputs": [
    {
     "name": "stdout",
     "output_type": "stream",
     "text": [
      "Stacking Classifier Both Accuracy: 0.8988603988603988\n"
     ]
    }
   ],
   "execution_count": 140
  },
  {
   "metadata": {
    "ExecuteTime": {
     "end_time": "2025-04-26T08:44:13.675163Z",
     "start_time": "2025-04-26T08:44:13.499330Z"
    }
   },
   "cell_type": "code",
   "source": [
    "\n",
    "confusion_counts = classification_counts(y_test, stacking_pred)\n",
    "all_labels = sorted(set(y_test) | set(stacking_pred))\n",
    "\n",
    "df_3 = pd.DataFrame(0, index=all_labels, columns=all_labels)\n",
    "\n",
    "for (true_label, pred_label), count in confusion_counts.items():\n",
    "    df.loc[true_label, pred_label] = count\n",
    "\n",
    "df_3.index = df_3.index.map(label_map)\n",
    "df_3.columns = df_3.columns.map(label_map)\n",
    "\n",
    "plt.figure(figsize=(10, 7))\n",
    "sns.heatmap(df_3, annot=True, fmt='d', cmap='Blues')\n",
    "plt.xlabel('Predicted Label')\n",
    "plt.ylabel('True Label')\n",
    "plt.title('Full Confusion Matrix')\n",
    "plt.show()"
   ],
   "id": "c28a6d73d64a0208",
   "outputs": [
    {
     "data": {
      "text/plain": [
       "<Figure size 1000x700 with 2 Axes>"
      ],
      "image/png": "[encoded data removed]"
     },
     "metadata": {},
     "output_type": "display_data"
    }
   ],
   "execution_count": 141
  },
  {
   "metadata": {},
   "cell_type": "code",
   "outputs": [],
   "execution_count": null,
   "source": "",
   "id": "8e2cf977322280c1"
  }
 ],
 "metadata": {
  "kernelspec": {
   "display_name": "Python 3",
   "language": "python",
   "name": "python3"
  },
  "language_info": {
   "codemirror_mode": {
    "name": "ipython",
    "version": 2
   },
   "file_extension": ".py",
   "mimetype": "text/x-python",
   "name": "python",
   "nbconvert_exporter": "python",
   "pygments_lexer": "ipython2",
   "version": "2.7.6"
  }
 },
 "nbformat": 4,
 "nbformat_minor": 5
}
