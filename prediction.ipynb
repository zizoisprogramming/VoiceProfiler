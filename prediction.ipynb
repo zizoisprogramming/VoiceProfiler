{
 "cells": [
  {
   "cell_type": "code",
   "id": "initial_id",
   "metadata": {
    "collapsed": true,
    "ExecuteTime": {
     "end_time": "2025-05-03T19:26:07.614961Z",
     "start_time": "2025-05-03T19:26:07.612703Z"
    }
   },
   "source": [
    "import numpy as np\n",
    "import pandas as pd\n",
    "import matplotlib.pyplot as plt\n",
    "import seaborn as sns\n",
    "import pickle\n",
    "import sklearn\n",
    "import warnings\n",
    "from sklearn.ensemble import StackingClassifier\n",
    "from sklearn.feature_selection import SelectKBest, f_classif"
   ],
   "outputs": [],
   "execution_count": 67
  },
  {
   "metadata": {
    "ExecuteTime": {
     "end_time": "2025-05-03T19:26:08.300431Z",
     "start_time": "2025-05-03T19:26:07.974457Z"
    }
   },
   "cell_type": "code",
   "source": [
    "files = [\"cleaned_without.csv\"]\n",
    "df = pd.read_csv(files[0])"
   ],
   "id": "d02b8d5b9b007c27",
   "outputs": [],
   "execution_count": 68
  },
  {
   "metadata": {
    "ExecuteTime": {
     "end_time": "2025-05-03T19:26:08.703043Z",
     "start_time": "2025-05-03T19:26:08.697337Z"
    }
   },
   "cell_type": "code",
   "source": "df['gender'].value_counts()",
   "id": "711a0facbe2ef74c",
   "outputs": [
    {
     "data": {
      "text/plain": [
       "gender\n",
       "male      20597\n",
       "female    18836\n",
       "Name: count, dtype: int64"
      ]
     },
     "execution_count": 69,
     "metadata": {},
     "output_type": "execute_result"
    }
   ],
   "execution_count": 69
  },
  {
   "metadata": {
    "ExecuteTime": {
     "end_time": "2025-05-03T19:26:09.461002Z",
     "start_time": "2025-05-03T19:26:09.454018Z"
    }
   },
   "cell_type": "code",
   "source": "df['age'].value_counts()",
   "id": "721bcc949ae5c0bd",
   "outputs": [
    {
     "data": {
      "text/plain": [
       "age\n",
       "twenties    20427\n",
       "fifties     19006\n",
       "Name: count, dtype: int64"
      ]
     },
     "execution_count": 70,
     "metadata": {},
     "output_type": "execute_result"
    }
   ],
   "execution_count": 70
  },
  {
   "metadata": {
    "ExecuteTime": {
     "end_time": "2025-05-03T19:26:10.431669Z",
     "start_time": "2025-05-03T19:26:10.107940Z"
    }
   },
   "cell_type": "code",
   "source": [
    "## check for duplicates in the dataset\n",
    "duplicates = df.duplicated()\n",
    "duplicates_count = duplicates.sum()\n",
    "print(duplicates_count)\n",
    "print(df.shape)\n",
    "df = df.drop_duplicates()\n",
    "duplicates = df.duplicated()\n",
    "duplicates_count = duplicates.sum()\n",
    "print(duplicates_count)\n",
    "print(df.shape)"
   ],
   "id": "58c54c7d9a039b0a",
   "outputs": [
    {
     "name": "stdout",
     "output_type": "stream",
     "text": [
      "17\n",
      "(39433, 105)\n",
      "0\n",
      "(39416, 105)\n"
     ]
    }
   ],
   "execution_count": 71
  },
  {
   "metadata": {
    "ExecuteTime": {
     "end_time": "2025-05-03T19:26:12.065711Z",
     "start_time": "2025-05-03T19:26:11.908857Z"
    }
   },
   "cell_type": "code",
   "source": [
    "plt.figure(figsize=(12, 10))\n",
    "df['gender'] = df['gender'].map({'male': 0, 'female': 1, 0:0, 1:1})\n",
    "df['age'] = df['age'].map({'twenties': 0, 'fifties': 1, 0:0, 1:1})\n",
    "classes = df['gender'].copy() + 2 * df['age'].copy()\n",
    "print(classes.value_counts())\n",
    "sns.countplot(x=classes, data=df, palette='Set2')\n",
    "print(df.shape)"
   ],
   "id": "2810f87c8de34969",
   "outputs": [
    {
     "name": "stdout",
     "output_type": "stream",
     "text": [
      "0    11044\n",
      "2     9536\n",
      "3     9453\n",
      "1     9383\n",
      "Name: count, dtype: int64\n",
      "(39416, 105)\n"
     ]
    },
    {
     "name": "stderr",
     "output_type": "stream",
     "text": [
      "/var/folders/2q/6vjsrj112rb774fzn79lb71h0000gn/T/ipykernel_52072/981349969.py:6: FutureWarning: \n",
      "\n",
      "Passing `palette` without assigning `hue` is deprecated and will be removed in v0.14.0. Assign the `x` variable to `hue` and set `legend=False` for the same effect.\n",
      "\n",
      "  sns.countplot(x=classes, data=df, palette='Set2')\n"
     ]
    },
    {
     "data": {
      "text/plain": [
       "<Figure size 1200x1000 with 1 Axes>"
      ],
      "image/png": "[encoded data removed]"
     },
     "metadata": {},
     "output_type": "display_data"
    }
   ],
   "execution_count": 72
  },
  {
   "metadata": {
    "ExecuteTime": {
     "end_time": "2025-05-03T19:26:17.994891Z",
     "start_time": "2025-05-03T19:26:17.986553Z"
    }
   },
   "cell_type": "code",
   "source": [
    "from sklearn.metrics import accuracy_score\n",
    "from sklearn.model_selection import cross_val_predict\n",
    "from sklearn.model_selection import train_test_split\n",
    "from sklearn.model_selection import GridSearchCV, RandomizedSearchCV\n",
    "def grid_search_sequential(model_gender, model_age,params_gender, params_age, X_reduced,df, proba = False, verbose_level = 2, mode = 'both'):\n",
    "    X_reduced = np.array(X_reduced)\n",
    "    y = np.array(df['gender'] + 2 * df['age'])\n",
    "    X_train, X_test, y_train, y_test = train_test_split(X_reduced, y, test_size=0.2, random_state=42)\n",
    "    y_train_gender = y_train % 2\n",
    "    y_train_age = y_train // 2\n",
    "    y_test_gender = y_test % 2\n",
    "    y_test_age = y_test // 2\n",
    "    if params_gender is not None:\n",
    "        gender_grid = RandomizedSearchCV(model_gender, param_distributions=params_gender, cv=5, n_jobs=-1, verbose=verbose_level)\n",
    "        gender_grid.fit(X_train, y_train_gender)\n",
    "        gender_classifier = gender_grid.best_estimator_\n",
    "        gender_best_params = gender_grid.best_params_\n",
    "        gender_best_score = gender_grid.best_score_\n",
    "    else:\n",
    "        gender_classifier = model_gender\n",
    "        model_gender.fit(X_train,y_train_gender)\n",
    "        gender_best_score = None\n",
    "        gender_best_params = None\n",
    "    if(mode == 'gender'):\n",
    "        gender_pred_test = gender_classifier.predict(X_test).reshape(-1, 1)\n",
    "        gender_acc = accuracy_score(y_test_gender, gender_pred_test)\n",
    "        print(\"Test set accuracy\", gender_acc)\n",
    "        print(\"Grid Accuracy\", gender_best_score)\n",
    "        return gender_classifier, gender_best_params\n",
    "    ## cross prediction\n",
    "    cv_gender_pred = cross_val_predict(\n",
    "        gender_classifier,\n",
    "        X_train,\n",
    "        y_train_gender,\n",
    "        cv=5,\n",
    "        method='predict_proba' if proba else 'predict'\n",
    "    )\n",
    "\n",
    "    # Format prediction as new feature\n",
    "    if proba:\n",
    "        predicted_gender = cv_gender_pred[:, 1].reshape(-1, 1)\n",
    "    else:\n",
    "        predicted_gender = cv_gender_pred.reshape(-1, 1)\n",
    "    ## concatenate gender\n",
    "    X_train = np.concatenate([X_train, predicted_gender], axis=1)\n",
    "    if params_age is not None:\n",
    "        age_grid = RandomizedSearchCV(model_age, param_distributions=params_age, cv=5, n_jobs=-1, verbose=verbose_level)\n",
    "        age_grid.fit(X_train, y_train_age)\n",
    "        age_classifier = age_grid.best_estimator_\n",
    "        age_best_params = age_grid.best_params_\n",
    "    else:\n",
    "        age_classifier = model_age\n",
    "        model_age.fit(X_train,y_train_age)\n",
    "        age_best_params = None\n",
    "\n",
    "    ### accuracy\n",
    "    gender_pred_test = gender_classifier.predict(X_test).reshape(-1, 1)\n",
    "    gender_acc = accuracy_score(y_test_gender, gender_pred_test)\n",
    "    print(\"Gender Accuracy:\", gender_acc)\n",
    "    if(proba):\n",
    "        gender_proba_test = gender_classifier.predict_proba(X_test)[:,1].reshape(-1, 1)\n",
    "        X_test = np.concatenate([X_test, gender_proba_test], axis=1)\n",
    "    else:\n",
    "        X_test = np.concatenate([X_test, gender_pred_test], axis=1)\n",
    "    age_pred_test = age_classifier.predict(X_test).reshape(-1, 1)\n",
    "    age_acc = accuracy_score(y_test_age, age_pred_test)\n",
    "    print(\"Age Accuracy:\", age_acc)\n",
    "\n",
    "    gender_age = gender_pred_test + 2 * age_pred_test\n",
    "    total_acc = accuracy_score(gender_age, y_test)\n",
    "\n",
    "    print(\"Total Accuracy:\", total_acc)\n",
    "\n",
    "    return gender_classifier, age_classifier, gender_best_params, age_best_params, total_acc"
   ],
   "id": "2c4db2d594cc0992",
   "outputs": [],
   "execution_count": 73
  },
  {
   "metadata": {
    "ExecuteTime": {
     "end_time": "2025-05-03T19:26:18.591407Z",
     "start_time": "2025-05-03T19:26:18.588418Z"
    }
   },
   "cell_type": "code",
   "source": [
    "def grid_search_both(model_both, params_both, X_reduced,verbose_level = 2):\n",
    "    X_reduced = np.array(X_reduced)\n",
    "    y = np.array(df['gender'] + 2 * df['age'])\n",
    "    X_train, X_test, y_train, y_test = train_test_split(X_reduced, y, test_size=0.2, random_state=42)\n",
    "    grid = RandomizedSearchCV(model_both, param_distributions=params_both, cv=5, n_jobs=-1, verbose=verbose_level)\n",
    "    grid.fit(X_train, y_train)\n",
    "    classifier = grid.best_estimator_\n",
    "    classifier_best_params = grid.best_params_\n",
    "    classifier_best_score = grid.best_score_\n",
    "    print(\"Best parameters:\", classifier_best_params)\n",
    "    print(\"Best score:\", classifier_best_score)\n",
    "    print(\"Test set accuracy:\", classifier.score(X_test, y_test))\n",
    "    return classifier, classifier_best_params, classifier_best_score"
   ],
   "id": "2a17680bb240515b",
   "outputs": [],
   "execution_count": 74
  },
  {
   "metadata": {
    "ExecuteTime": {
     "end_time": "2025-05-03T19:26:19.213996Z",
     "start_time": "2025-05-03T19:26:19.210715Z"
    }
   },
   "cell_type": "code",
   "source": [
    "def predict_gender_age(model_gender, model_age, X, proba):\n",
    "    gender = model_gender.predict(X).reshape(-1, 1)\n",
    "    if(proba):\n",
    "        gender_proba = model_gender.predict_proba(X)[:,1].reshape(-1, 1)\n",
    "        X = np.concatenate([X, gender_proba], axis=1)\n",
    "    else:\n",
    "        X = np.concatenate([X, gender], axis = 1)\n",
    "    age = model_age.predict(X).reshape(-1, 1)\n",
    "    return (gender + 2 * age).flatten()"
   ],
   "id": "c580261604b89599",
   "outputs": [],
   "execution_count": 75
  },
  {
   "metadata": {},
   "cell_type": "markdown",
   "source": [
    "Sequential Accuracy with the result gender (not proba)\n",
    "Gender 0.88, age = 0.81, both 0.74"
   ],
   "id": "ddd686aac8b297ae"
  },
  {
   "metadata": {},
   "cell_type": "markdown",
   "source": "Sequential Accuracy with the result gender proba both 73, age worse than above 0.73\n",
   "id": "944414f42b4f3d0e"
  },
  {
   "metadata": {
    "ExecuteTime": {
     "end_time": "2025-05-03T19:26:21.878705Z",
     "start_time": "2025-05-03T19:26:21.874218Z"
    }
   },
   "cell_type": "code",
   "source": [
    "from sklearn.preprocessing import StandardScaler\n",
    "from sklearn.preprocessing import PowerTransformer\n",
    "from scipy.stats import skew\n",
    "def smart_normalize(df, skew_threshold=0.5):\n",
    "\n",
    "    numeric_cols = df.select_dtypes(include=['number']).columns\n",
    "    df_normalized = df.copy()\n",
    "    transformations = {}\n",
    "\n",
    "    # Step 1: Skewness correction\n",
    "    for col in numeric_cols:\n",
    "        col_skew = skew(df[col].dropna())\n",
    "        if abs(col_skew) > skew_threshold:\n",
    "            # Apply Yeo-Johnson power transform (handles positive/negative values)\n",
    "            pt = PowerTransformer(method='yeo-johnson')\n",
    "            df_normalized[col] = pt.fit_transform(df[[col]]).flatten()\n",
    "            transformations[col] = {\n",
    "                'step1': 'power_transform',\n",
    "                'skewness': col_skew,\n",
    "                'transformer': pt\n",
    "            }\n",
    "        else:\n",
    "            transformations[col] = {\n",
    "                'step1': 'none',\n",
    "                'skewness': col_skew\n",
    "            }\n",
    "\n",
    "    # Step 2: Standard scaling (applied to all numeric columns)\n",
    "    scaler = StandardScaler()\n",
    "    df_normalized[numeric_cols] = scaler.fit_transform(df_normalized[numeric_cols])\n",
    "    transformations['_standard_scaler'] = scaler\n",
    "\n",
    "    return df_normalized, transformations\n",
    "def normalize_test(X_test, transformations):\n",
    "    X_test_normalized = X_test.copy()\n",
    "    for col, info in transformations.items():\n",
    "        if col == '_standard_scaler':\n",
    "            continue\n",
    "        if info['step1'] == 'power_transform':\n",
    "            pt = info['transformer']\n",
    "            X_test_normalized[col] = pt.transform(X_test[[col]]).flatten()\n",
    "\n",
    "    # Apply standard scaling using the saved scaler\n",
    "    scaler = transformations['_standard_scaler']\n",
    "    numeric_cols = X_test.select_dtypes(include=['number']).columns\n",
    "    X_test_normalized[numeric_cols] = scaler.transform(X_test_normalized[numeric_cols])\n",
    "    return X_test_normalized\n"
   ],
   "id": "f57e94cf2d9df8fe",
   "outputs": [],
   "execution_count": 76
  },
  {
   "metadata": {},
   "cell_type": "markdown",
   "source": "After CHANGING the grid search for more features =>",
   "id": "d7845b8773d92147"
  },
  {
   "metadata": {
    "ExecuteTime": {
     "end_time": "2025-05-03T19:26:23.592472Z",
     "start_time": "2025-05-03T19:26:23.586882Z"
    }
   },
   "cell_type": "code",
   "source": [
    "def baseline_with_selection(X_train, y_train, X_test, y_test):\n",
    "    total_features = X_train.shape[1]\n",
    "    feature_names = X_train.columns if hasattr(X_train, 'columns') else [f\"Feature {i}\" for i in range(total_features)]\n",
    "\n",
    "    accuracy_results = []\n",
    "    best_k = -1\n",
    "    max_acc = -1\n",
    "    it_acc = -1\n",
    "\n",
    "    for k in range(total_features, 9, -5):  # Reverse loop from total_features to 60, step -5\n",
    "        print(f\"\\n===== Evaluating with top {k} features =====\")\n",
    "        selector = SelectKBest(score_func=f_classif, k=k)\n",
    "        selector.fit(X_train, y_train)\n",
    "\n",
    "        X_train_selected = selector.transform(X_train)\n",
    "        X_test_selected = selector.transform(X_test)\n",
    "\n",
    "        clf = XGBClassifier(use_label_encoder=False, eval_metric='logloss')\n",
    "        clf.fit(X_train_selected, y_train)\n",
    "\n",
    "        y_pred = clf.predict(X_test_selected)\n",
    "        acc = accuracy_score(y_test, y_pred)\n",
    "        accuracy_results.append((k, acc))\n",
    "\n",
    "        if acc > max_acc:\n",
    "            max_acc = acc\n",
    "            it_acc = acc\n",
    "            best_k = k\n",
    "        elif max_acc - acc <= 0.001:\n",
    "            best_k = k\n",
    "            it_acc = acc\n",
    "\n",
    "    # Plotting accuracy vs k\n",
    "    ks, accs = zip(*accuracy_results)\n",
    "    plt.figure(figsize=(8, 6))\n",
    "    plt.plot(ks, accs, marker='o')\n",
    "    plt.title(\"Accuracy vs Number of Selected Features\")\n",
    "    plt.xlabel(\"Number of Features (k)\")\n",
    "    plt.ylabel(\"Accuracy\")\n",
    "    plt.gca().invert_xaxis()  # reverse x-axis to match loop\n",
    "    plt.grid(True)\n",
    "    plt.tight_layout()\n",
    "    plt.show()\n",
    "\n",
    "    print(f\"\\nBest k: {best_k} with accuracy: {it_acc:.4f}\")\n",
    "    return best_k"
   ],
   "id": "3b6ab9e03dd4138a",
   "outputs": [],
   "execution_count": 77
  },
  {
   "metadata": {
    "ExecuteTime": {
     "end_time": "2025-05-03T19:26:24.623921Z",
     "start_time": "2025-05-03T19:26:24.617431Z"
    }
   },
   "cell_type": "code",
   "source": [
    "def train_stack(X_train, y_train, X_test, y_test, base_models, base_parameters, meta_model,svc_model = None, n_folds=5, search = True,passthrough = False, train_again = dict(), last_base_models = list()):\n",
    "    # Create base models\n",
    "    base_models_list = []\n",
    "    for model_name, model in base_models.items():\n",
    "        print(f\"Training base model: {model_name}\")\n",
    "        # Perform RandomizedSearchCV for each base model\n",
    "        if (search and model_name != 'svc' and model_name != 'gb'):\n",
    "            grid = RandomizedSearchCV(model, param_distributions=base_parameters[model_name], cv=n_folds, n_jobs=-1, scoring='f1_macro')\n",
    "            grid.fit(X_train, y_train)\n",
    "            best_model = grid.best_estimator_\n",
    "            print(f\"Best parameters for {model_name}: {grid.best_params_}\")\n",
    "            print(f\"Best score for {model_name}: {grid.best_score_}\")\n",
    "        else:\n",
    "            if(model_name in train_again and train_again[model_name]):\n",
    "                best_model = model\n",
    "                best_model.fit(X_train, y_train)\n",
    "            else:\n",
    "                models_dict = dict(last_base_models)\n",
    "                best_model = models_dict[model_name]\n",
    "                print(\"Skipped Training for\", model_name)\n",
    "            print(f\"Training score for {model_name}: {best_model.score(X_train, y_train)}\")\n",
    "        base_models_list.append((model_name, best_model))\n",
    "    # Create meta Model\n",
    "    ## append SVC\n",
    "    if svc_model is not None:\n",
    "        base_models_list.append(('svc', svc_model))\n",
    "    print(\"Training meta model\")\n",
    "    stacking_clf = StackingClassifier(\n",
    "    estimators=base_models_list,\n",
    "    final_estimator=meta_model,\n",
    "    cv=5,\n",
    "    passthrough=passthrough,\n",
    "    stack_method='auto',\n",
    "    n_jobs=-1\n",
    ")\n",
    "    stacking_clf.fit(X_train, y_train)\n",
    "    print(\"Meta model training complete\")\n",
    "    print(\"Training Accuracy score:\", stacking_clf.score(X_train, y_train))\n",
    "    print(\"Meta model test score:\", stacking_clf.score(X_test, y_test))\n",
    "    return stacking_clf, base_models_list"
   ],
   "id": "93f1d071cf3fb37e",
   "outputs": [],
   "execution_count": 78
  },
  {
   "metadata": {
    "ExecuteTime": {
     "end_time": "2025-05-03T19:26:25.706658Z",
     "start_time": "2025-05-03T19:26:25.703025Z"
    }
   },
   "cell_type": "code",
   "source": [
    "def select_features(X_train, y_train, X_test, y_test):\n",
    "    feature_k = baseline_with_selection(X_train, y_train, X_test, y_test)\n",
    "    feature_selector = SelectKBest(score_func=f_classif, k=feature_k)\n",
    "    feature_selector.fit(X_train, y_train)\n",
    "    selected_indices = feature_selector.get_support(indices=True)\n",
    "    selected_columns = X_train.columns[selected_indices]\n",
    "    X_train_selected = pd.DataFrame(feature_selector.transform(X_train), columns=selected_columns, index=X_train.index)\n",
    "    X_test_selected = pd.DataFrame(feature_selector.transform(X_test), columns=selected_columns, index=X_test.index)\n",
    "    return X_train_selected, X_test_selected, selected_columns\n"
   ],
   "id": "d7fd902724a466ca",
   "outputs": [],
   "execution_count": 79
  },
  {
   "metadata": {
    "ExecuteTime": {
     "end_time": "2025-05-03T19:26:26.156636Z",
     "start_time": "2025-05-03T19:26:26.151142Z"
    }
   },
   "cell_type": "code",
   "source": [
    "def final_features(X_train_selected_df, X_test_selected_df, selected_columns):\n",
    "    mfcc_mean_cols = [col for col in selected_columns if 'mfcc_' in col and '_mean' in col]\n",
    "    X_train_selected_df['mfcc_mean_avg'] = X_train_selected_df[mfcc_mean_cols].mean(axis=1)\n",
    "    X_test_selected_df['mfcc_mean_avg'] = X_test_selected_df[mfcc_mean_cols].mean(axis=1)\n",
    "    mfcc_std_cols = [col for col in selected_columns if 'mfcc_' in col and '_std' in col]\n",
    "    X_train_selected_df['mfcc_std_avg'] = X_train_selected_df[mfcc_std_cols].mean(axis=1)\n",
    "    X_test_selected_df['mfcc_std_avg'] = X_test_selected_df[mfcc_std_cols].mean(axis=1)\n",
    "    \n",
    "    for i in range(13):\n",
    "        mean_col = f'mfcc_{i}_mean'\n",
    "        std_col = f'mfcc_{i}_std'\n",
    "        if mean_col in selected_columns and std_col in selected_columns:\n",
    "            X_train_selected_df[f'mfcc_{i}_ratio'] = X_train_selected_df[std_col] / (X_train_selected_df[mean_col] + 1e-6)\n",
    "            X_test_selected_df[f'mfcc_{i}_ratio'] = X_test_selected_df[std_col] / (X_test_selected_df[mean_col] + 1e-6)\n",
    "    X_train_selected_df['mfcc_skewness_mean'] = X_train_selected_df[[c for c in selected_columns if 'skewness' in c]].mean(axis=1)\n",
    "    X_test_selected_df['mfcc_skewness_mean'] = X_test_selected_df[[c for c in selected_columns if 'skewness' in c]].mean(axis=1)\n",
    "    \n",
    "    X_train_selected_df['delta_std_total'] = X_train_selected_df[[c for c in selected_columns if 'delta_mfcc' in c]].sum(axis=1)\n",
    "    X_test_selected_df['delta_std_total'] = X_test_selected_df[[c for c in selected_columns if 'delta_mfcc' in c]].sum(axis=1)\n",
    "    X_train_selected_df['f0_mean_x_ste_min'] = X_train_selected_df['f0_mean'] * X_train_selected_df['ste_min']\n",
    "    X_test_selected_df['f0_mean_x_ste_min'] = X_test_selected_df['f0_mean'] * X_test_selected_df['ste_min']\n",
    "    # Delta features with mean/std of MFCCs\n",
    "    X_train_selected_df['delta_x_mean'] = X_train_selected_df['delta_std_total'] * X_train_selected_df['mfcc_mean_avg']\n",
    "    X_test_selected_df['delta_x_mean'] = X_test_selected_df['delta_std_total'] * X_test_selected_df['mfcc_mean_avg']\n",
    "\n",
    "    # Delta features with skewness\n",
    "    X_train_selected_df['delta_x_skew'] = X_train_selected_df['delta_std_total'] * X_train_selected_df['mfcc_skewness_mean']\n",
    "    X_test_selected_df['delta_x_skew'] = X_test_selected_df['delta_std_total'] * X_test_selected_df['mfcc_skewness_mean']\n",
    "\n",
    "    X_train_final = X_train_selected_df.copy()\n",
    "    X_test_final = X_test_selected_df.copy()\n",
    "    return X_train_final, X_test_final"
   ],
   "id": "ab54ec31da75757b",
   "outputs": [],
   "execution_count": 80
  },
  {
   "metadata": {
    "ExecuteTime": {
     "end_time": "2025-05-03T19:26:28.257630Z",
     "start_time": "2025-05-03T19:26:28.235493Z"
    }
   },
   "cell_type": "code",
   "source": [
    "from sklearn import neighbors\n",
    "from sklearn.ensemble import RandomForestClassifier\n",
    "from sklearn.ensemble import ExtraTreesClassifier\n",
    "from sklearn.linear_model import LogisticRegression\n",
    "from sklearn.svm import SVC, LinearSVC\n",
    "from sklearn.tree import DecisionTreeClassifier\n",
    "from sklearn.neighbors import KNeighborsClassifier\n",
    "from Linear_Model_Tree import LinearModelTree\n",
    "from sklearn.naive_bayes import GaussianNB\n",
    "import pickle\n",
    "X = df.drop('gender', axis=1).drop('age',axis=1)\n",
    "y = np.array(df['gender'] + 2 * df['age'])\n",
    "X_train, X_test, y_train, y_test = train_test_split(X, y, test_size=0.2, random_state=42)\n",
    "y_train_gender = y_train % 2\n",
    "y_train_age = y_train // 2\n",
    "y_test_gender = y_test % 2\n",
    "y_test_age = y_test // 2"
   ],
   "id": "24fd2925e42fa0a",
   "outputs": [],
   "execution_count": 81
  },
  {
   "metadata": {
    "ExecuteTime": {
     "end_time": "2025-05-03T19:26:30.657293Z",
     "start_time": "2025-05-03T19:26:30.654417Z"
    }
   },
   "cell_type": "code",
   "source": [
    "if (False):\n",
    "    selected_columns = X_train.columns\n",
    "    X_train_final, X_test_final = final_features(X_train, X_test, selected_columns)\n",
    "    X_train_selected_df, X_test_selected_df, selected_columns = select_features(X_train_final, y_train, X_test_final, y_test)\n",
    "    with open('Inference/selected_columns.pkl', 'wb') as f:\n",
    "        pickle.dump(selected_columns, f)\n"
   ],
   "id": "58dec33443c8bce9",
   "outputs": [],
   "execution_count": 82
  },
  {
   "metadata": {
    "ExecuteTime": {
     "end_time": "2025-05-03T19:26:32.838846Z",
     "start_time": "2025-05-03T19:26:31.844544Z"
    }
   },
   "cell_type": "code",
   "source": [
    "X_train, transformations = smart_normalize(X_train)\n",
    "X_test = normalize_test(X_test, transformations)\n",
    "with open('Inference/normalization_transformations.pkl', 'wb') as f:\n",
    "    pickle.dump(transformations, f)"
   ],
   "id": "b26c62b665cc7780",
   "outputs": [],
   "execution_count": 83
  },
  {
   "metadata": {
    "ExecuteTime": {
     "end_time": "2025-05-03T19:26:41.843302Z",
     "start_time": "2025-05-03T19:26:41.837618Z"
    }
   },
   "cell_type": "code",
   "source": [
    "import xgboost\n",
    "from sklearn.ensemble import GradientBoostingClassifier\n",
    "from xgboost import XGBClassifier\n",
    "\n",
    "base_models = {\n",
    "    'rf': RandomForestClassifier(n_estimators = 2200, min_samples_split = 5, min_samples_leaf = 2, max_features = 30, max_depth = 8),\n",
    "    'et': ExtraTreesClassifier(n_estimators = 1500, min_samples_split = 5, min_samples_leaf = 1, max_features = 20, max_depth = 8),\n",
    "    'svc': SVC(probability=True, C = 0.1, kernel = 'rbf'),  ## was 0.1\n",
    "    'knn': KNeighborsClassifier(),\n",
    "    'xgb': XGBClassifier(n_estimators=2000,\n",
    "    learning_rate=0.03,\n",
    "    max_depth=2,\n",
    "    subsample=0.8,\n",
    "    colsample_bytree=1,\n",
    "    reg_alpha=1,\n",
    "    reg_lambda=10,\n",
    "    min_child_weight=5),\n",
    "    'gb': GradientBoostingClassifier(n_estimators=200, max_depth=3),\n",
    "\n",
    "}\n",
    "train_again = {\n",
    "    'rf': True,\n",
    "    'et': True,\n",
    "    'svc': True,\n",
    "    'knn': True,\n",
    "    'xgb': True,\n",
    "    'gb': True\n",
    "}\n",
    "## max depth optimal none RF and 30 ET\n",
    "params_dict = {\n",
    "    'et': {\n",
    "        'n_estimators': [500,1000,1500,2000,2500],\n",
    "        'max_depth': [None, 5, 10, 20,30,50],\n",
    "        'min_samples_split': [2, 5, 10],\n",
    "        'min_samples_leaf': [1, 2, 4],\n",
    "        'max_features': ['sqrt', 'log2',15,20,25,30,35,40],\n",
    "    },\n",
    "    'rf': {\n",
    "    'n_estimators': [10, 20, 50, 100,300,500,700,1000, 1500],\n",
    "    'max_depth': [None, 5, 10, 20,30,50],\n",
    "    'min_samples_split': [2, 5, 10],\n",
    "    'min_samples_leaf': [1, 2, 4],\n",
    "    'max_features': ['sqrt', 'log2',15,20,25,30,35,40],\n",
    "},\n",
    "    'knn': {\n",
    "        'n_neighbors': [3, 5, 7, 9, 11,13,15,17,19,21],\n",
    "        'weights': ['uniform', 'distance'],\n",
    "    },\n",
    "    'gb': {\n",
    "        'n_estimators': [100, 200, 300, 400],\n",
    "        'learning_rate': [0.01, 0.1, 0.2],\n",
    "        'max_depth': [3, 5, 7, 9],\n",
    "        'subsample': [0.8, 1.0],\n",
    "        'min_samples_split': [2, 5],\n",
    "    },\n",
    "    'xgb': {\n",
    "        'n_estimators': [100, 200, 300, 400,1000],\n",
    "        'learning_rate': [0.01, 0.1, 0.2],\n",
    "        'max_depth': [3, 5, 7, 9],\n",
    "        'subsample': [0.8, 1.0],\n",
    "        'min_child_weight': [1, 5, 10],\n",
    "    }\n",
    "}\n",
    "meta_model = LogisticRegression(C=0.01, penalty='l2', solver='liblinear', max_iter=1000)"
   ],
   "id": "7b67d03e65c04361",
   "outputs": [],
   "execution_count": 84
  },
  {
   "metadata": {
    "ExecuteTime": {
     "end_time": "2025-05-03T18:39:12.341926Z",
     "start_time": "2025-05-03T17:04:46.481306Z"
    }
   },
   "cell_type": "code",
   "source": "stacking_clf_both, base_models_list_both = train_stack(X_train,y_train, X_test, y_test, base_models, params_dict, meta_model, search = True, passthrough = False, train_again = train_again)",
   "id": "97be25d329b5d003",
   "outputs": [
    {
     "name": "stdout",
     "output_type": "stream",
     "text": [
      "Training base model: rf\n"
     ]
    },
    {
     "name": "stderr",
     "output_type": "stream",
     "text": [
      "/opt/anaconda3/lib/python3.11/site-packages/joblib/externals/loky/process_executor.py:752: UserWarning: A worker stopped while some jobs were given to the executor. This can be caused by a too short worker timeout or by a memory leak.\n",
      "  warnings.warn(\n"
     ]
    },
    {
     "name": "stdout",
     "output_type": "stream",
     "text": [
      "Best parameters for rf: {'n_estimators': 700, 'min_samples_split': 5, 'min_samples_leaf': 1, 'max_features': 'log2', 'max_depth': 20}\n",
      "Best score for rf: 0.8262775615772281\n",
      "Training base model: et\n"
     ]
    },
    {
     "name": "stderr",
     "output_type": "stream",
     "text": [
      "/opt/anaconda3/lib/python3.11/site-packages/joblib/externals/loky/process_executor.py:752: UserWarning: A worker stopped while some jobs were given to the executor. This can be caused by a too short worker timeout or by a memory leak.\n",
      "  warnings.warn(\n"
     ]
    },
    {
     "name": "stdout",
     "output_type": "stream",
     "text": [
      "Best parameters for et: {'n_estimators': 500, 'min_samples_split': 2, 'min_samples_leaf': 1, 'max_features': 15, 'max_depth': 30}\n",
      "Best score for et: 0.8567963684322695\n",
      "Training base model: svc\n",
      "Training score for svc: 0.7838703539261702\n",
      "Training base model: knn\n",
      "Best parameters for knn: {'weights': 'uniform', 'n_neighbors': 3}\n",
      "Best score for knn: 0.8574927923481914\n",
      "Training base model: xgb\n"
     ]
    },
    {
     "name": "stderr",
     "output_type": "stream",
     "text": [
      "/opt/anaconda3/lib/python3.11/site-packages/joblib/externals/loky/process_executor.py:752: UserWarning: A worker stopped while some jobs were given to the executor. This can be caused by a too short worker timeout or by a memory leak.\n",
      "  warnings.warn(\n"
     ]
    },
    {
     "name": "stdout",
     "output_type": "stream",
     "text": [
      "Best parameters for xgb: {'subsample': 1.0, 'n_estimators': 1000, 'min_child_weight': 10, 'max_depth': 9, 'learning_rate': 0.1}\n",
      "Best score for xgb: 0.8793886988368754\n",
      "Training base model: gb\n",
      "Training score for gb: 0.8436826081441076\n",
      "Training meta model\n",
      "Meta model training complete\n",
      "Training Accuracy score: 1.0\n",
      "Meta model test score: 0.9105783866057838\n"
     ]
    }
   ],
   "execution_count": 38
  },
  {
   "metadata": {
    "ExecuteTime": {
     "end_time": "2025-05-03T18:49:27.812362Z",
     "start_time": "2025-05-03T18:49:17.698671Z"
    }
   },
   "cell_type": "code",
   "source": "pickle.dump(stacking_clf_both, open('stacking_clf_both_91.pkl', 'wb'))",
   "id": "546f9193aeca099d",
   "outputs": [],
   "execution_count": 43
  },
  {
   "metadata": {
    "ExecuteTime": {
     "end_time": "2025-05-03T19:28:26.169280Z",
     "start_time": "2025-05-03T19:26:46.812029Z"
    }
   },
   "cell_type": "code",
   "source": [
    "for model_name, model in base_models_list_both:\n",
    "    print(f\"Model: {model_name}\")\n",
    "    print(\"Training Accuracy:\", model.score(X_train, y_train))\n",
    "    print(\"Test Accuracy:\", model.score(X_test, y_test))\n",
    "print(\"Total Training Accuracy:\", stacking_clf_both.score(X_train, y_train))\n",
    "print(\"Total Test Accuracy:\", stacking_clf_both.score(X_test, y_test))\n"
   ],
   "id": "6e3d090fccb744f1",
   "outputs": [
    {
     "name": "stdout",
     "output_type": "stream",
     "text": [
      "Model: rf\n",
      "Training Accuracy: 0.9998414309273119\n",
      "Test Accuracy: 0.8258498224251649\n",
      "Model: et\n",
      "Training Accuracy: 1.0\n",
      "Test Accuracy: 0.8617453069507864\n",
      "Model: svc\n"
     ]
    },
    {
     "ename": "KeyboardInterrupt",
     "evalue": "",
     "output_type": "error",
     "traceback": [
      "\u001B[0;31m---------------------------------------------------------------------------\u001B[0m",
      "\u001B[0;31mKeyboardInterrupt\u001B[0m                         Traceback (most recent call last)",
      "Cell \u001B[0;32mIn[85], line 3\u001B[0m\n\u001B[1;32m      1\u001B[0m \u001B[38;5;28;01mfor\u001B[39;00m model_name, model \u001B[38;5;129;01min\u001B[39;00m base_models_list_both:\n\u001B[1;32m      2\u001B[0m     \u001B[38;5;28mprint\u001B[39m(\u001B[38;5;124mf\u001B[39m\u001B[38;5;124m\"\u001B[39m\u001B[38;5;124mModel: \u001B[39m\u001B[38;5;132;01m{\u001B[39;00mmodel_name\u001B[38;5;132;01m}\u001B[39;00m\u001B[38;5;124m\"\u001B[39m)\n\u001B[0;32m----> 3\u001B[0m     \u001B[38;5;28mprint\u001B[39m(\u001B[38;5;124m\"\u001B[39m\u001B[38;5;124mTraining Accuracy:\u001B[39m\u001B[38;5;124m\"\u001B[39m, model\u001B[38;5;241m.\u001B[39mscore(X_train, y_train))\n\u001B[1;32m      4\u001B[0m     \u001B[38;5;28mprint\u001B[39m(\u001B[38;5;124m\"\u001B[39m\u001B[38;5;124mTest Accuracy:\u001B[39m\u001B[38;5;124m\"\u001B[39m, model\u001B[38;5;241m.\u001B[39mscore(X_test, y_test))\n\u001B[1;32m      5\u001B[0m \u001B[38;5;28mprint\u001B[39m(\u001B[38;5;124m\"\u001B[39m\u001B[38;5;124mTotal Training Accuracy:\u001B[39m\u001B[38;5;124m\"\u001B[39m, stacking_clf_both\u001B[38;5;241m.\u001B[39mscore(X_train, y_train))\n",
      "File \u001B[0;32m/opt/anaconda3/lib/python3.11/site-packages/sklearn/base.py:572\u001B[0m, in \u001B[0;36mClassifierMixin.score\u001B[0;34m(self, X, y, sample_weight)\u001B[0m\n\u001B[1;32m    547\u001B[0m \u001B[38;5;250m\u001B[39m\u001B[38;5;124;03m\"\"\"\u001B[39;00m\n\u001B[1;32m    548\u001B[0m \u001B[38;5;124;03mReturn the mean accuracy on the given test data and labels.\u001B[39;00m\n\u001B[1;32m    549\u001B[0m \n\u001B[0;32m   (...)\u001B[0m\n\u001B[1;32m    568\u001B[0m \u001B[38;5;124;03m    Mean accuracy of ``self.predict(X)`` w.r.t. `y`.\u001B[39;00m\n\u001B[1;32m    569\u001B[0m \u001B[38;5;124;03m\"\"\"\u001B[39;00m\n\u001B[1;32m    570\u001B[0m \u001B[38;5;28;01mfrom\u001B[39;00m\u001B[38;5;250m \u001B[39m\u001B[38;5;21;01m.\u001B[39;00m\u001B[38;5;21;01mmetrics\u001B[39;00m\u001B[38;5;250m \u001B[39m\u001B[38;5;28;01mimport\u001B[39;00m accuracy_score\n\u001B[0;32m--> 572\u001B[0m \u001B[38;5;28;01mreturn\u001B[39;00m accuracy_score(y, \u001B[38;5;28mself\u001B[39m\u001B[38;5;241m.\u001B[39mpredict(X), sample_weight\u001B[38;5;241m=\u001B[39msample_weight)\n",
      "File \u001B[0;32m/opt/anaconda3/lib/python3.11/site-packages/sklearn/svm/_base.py:822\u001B[0m, in \u001B[0;36mBaseSVC.predict\u001B[0;34m(self, X)\u001B[0m\n\u001B[1;32m    820\u001B[0m     y \u001B[38;5;241m=\u001B[39m np\u001B[38;5;241m.\u001B[39margmax(\u001B[38;5;28mself\u001B[39m\u001B[38;5;241m.\u001B[39mdecision_function(X), axis\u001B[38;5;241m=\u001B[39m\u001B[38;5;241m1\u001B[39m)\n\u001B[1;32m    821\u001B[0m \u001B[38;5;28;01melse\u001B[39;00m:\n\u001B[0;32m--> 822\u001B[0m     y \u001B[38;5;241m=\u001B[39m \u001B[38;5;28msuper\u001B[39m()\u001B[38;5;241m.\u001B[39mpredict(X)\n\u001B[1;32m    823\u001B[0m \u001B[38;5;28;01mreturn\u001B[39;00m \u001B[38;5;28mself\u001B[39m\u001B[38;5;241m.\u001B[39mclasses_\u001B[38;5;241m.\u001B[39mtake(np\u001B[38;5;241m.\u001B[39masarray(y, dtype\u001B[38;5;241m=\u001B[39mnp\u001B[38;5;241m.\u001B[39mintp))\n",
      "File \u001B[0;32m/opt/anaconda3/lib/python3.11/site-packages/sklearn/svm/_base.py:438\u001B[0m, in \u001B[0;36mBaseLibSVM.predict\u001B[0;34m(self, X)\u001B[0m\n\u001B[1;32m    436\u001B[0m X \u001B[38;5;241m=\u001B[39m \u001B[38;5;28mself\u001B[39m\u001B[38;5;241m.\u001B[39m_validate_for_predict(X)\n\u001B[1;32m    437\u001B[0m predict \u001B[38;5;241m=\u001B[39m \u001B[38;5;28mself\u001B[39m\u001B[38;5;241m.\u001B[39m_sparse_predict \u001B[38;5;28;01mif\u001B[39;00m \u001B[38;5;28mself\u001B[39m\u001B[38;5;241m.\u001B[39m_sparse \u001B[38;5;28;01melse\u001B[39;00m \u001B[38;5;28mself\u001B[39m\u001B[38;5;241m.\u001B[39m_dense_predict\n\u001B[0;32m--> 438\u001B[0m \u001B[38;5;28;01mreturn\u001B[39;00m predict(X)\n",
      "File \u001B[0;32m/opt/anaconda3/lib/python3.11/site-packages/sklearn/svm/_base.py:457\u001B[0m, in \u001B[0;36mBaseLibSVM._dense_predict\u001B[0;34m(self, X)\u001B[0m\n\u001B[1;32m    449\u001B[0m         \u001B[38;5;28;01mraise\u001B[39;00m \u001B[38;5;167;01mValueError\u001B[39;00m(\n\u001B[1;32m    450\u001B[0m             \u001B[38;5;124m\"\u001B[39m\u001B[38;5;124mX.shape[1] = \u001B[39m\u001B[38;5;132;01m%d\u001B[39;00m\u001B[38;5;124m should be equal to \u001B[39m\u001B[38;5;132;01m%d\u001B[39;00m\u001B[38;5;124m, \u001B[39m\u001B[38;5;124m\"\u001B[39m\n\u001B[1;32m    451\u001B[0m             \u001B[38;5;124m\"\u001B[39m\u001B[38;5;124mthe number of samples at training time\u001B[39m\u001B[38;5;124m\"\u001B[39m\n\u001B[1;32m    452\u001B[0m             \u001B[38;5;241m%\u001B[39m (X\u001B[38;5;241m.\u001B[39mshape[\u001B[38;5;241m1\u001B[39m], \u001B[38;5;28mself\u001B[39m\u001B[38;5;241m.\u001B[39mshape_fit_[\u001B[38;5;241m0\u001B[39m])\n\u001B[1;32m    453\u001B[0m         )\n\u001B[1;32m    455\u001B[0m svm_type \u001B[38;5;241m=\u001B[39m LIBSVM_IMPL\u001B[38;5;241m.\u001B[39mindex(\u001B[38;5;28mself\u001B[39m\u001B[38;5;241m.\u001B[39m_impl)\n\u001B[0;32m--> 457\u001B[0m \u001B[38;5;28;01mreturn\u001B[39;00m libsvm\u001B[38;5;241m.\u001B[39mpredict(\n\u001B[1;32m    458\u001B[0m     X,\n\u001B[1;32m    459\u001B[0m     \u001B[38;5;28mself\u001B[39m\u001B[38;5;241m.\u001B[39msupport_,\n\u001B[1;32m    460\u001B[0m     \u001B[38;5;28mself\u001B[39m\u001B[38;5;241m.\u001B[39msupport_vectors_,\n\u001B[1;32m    461\u001B[0m     \u001B[38;5;28mself\u001B[39m\u001B[38;5;241m.\u001B[39m_n_support,\n\u001B[1;32m    462\u001B[0m     \u001B[38;5;28mself\u001B[39m\u001B[38;5;241m.\u001B[39m_dual_coef_,\n\u001B[1;32m    463\u001B[0m     \u001B[38;5;28mself\u001B[39m\u001B[38;5;241m.\u001B[39m_intercept_,\n\u001B[1;32m    464\u001B[0m     \u001B[38;5;28mself\u001B[39m\u001B[38;5;241m.\u001B[39m_probA,\n\u001B[1;32m    465\u001B[0m     \u001B[38;5;28mself\u001B[39m\u001B[38;5;241m.\u001B[39m_probB,\n\u001B[1;32m    466\u001B[0m     svm_type\u001B[38;5;241m=\u001B[39msvm_type,\n\u001B[1;32m    467\u001B[0m     kernel\u001B[38;5;241m=\u001B[39mkernel,\n\u001B[1;32m    468\u001B[0m     degree\u001B[38;5;241m=\u001B[39m\u001B[38;5;28mself\u001B[39m\u001B[38;5;241m.\u001B[39mdegree,\n\u001B[1;32m    469\u001B[0m     coef0\u001B[38;5;241m=\u001B[39m\u001B[38;5;28mself\u001B[39m\u001B[38;5;241m.\u001B[39mcoef0,\n\u001B[1;32m    470\u001B[0m     gamma\u001B[38;5;241m=\u001B[39m\u001B[38;5;28mself\u001B[39m\u001B[38;5;241m.\u001B[39m_gamma,\n\u001B[1;32m    471\u001B[0m     cache_size\u001B[38;5;241m=\u001B[39m\u001B[38;5;28mself\u001B[39m\u001B[38;5;241m.\u001B[39mcache_size,\n\u001B[1;32m    472\u001B[0m )\n",
      "\u001B[0;31mKeyboardInterrupt\u001B[0m: "
     ]
    }
   ],
   "execution_count": 85
  },
  {
   "metadata": {},
   "cell_type": "code",
   "outputs": [],
   "execution_count": null,
   "source": [
    "svc_params = {\n",
    "    'C': [0.1, 1, 10, 100],\n",
    "    'kernel': ['linear', 'poly', 'rbf'],\n",
    "    'degree': [2, 3, 4],\n",
    "    'gamma': ['scale', 'auto'],\n",
    "}\n",
    "svc_model = SVC(probability=True, C = 0.1, kernel = 'rbf')\n",
    "grid = RandomizedSearchCV(svc_model, param_distributions=svc_params, cv=5, n_jobs=-1, verbose=2, scoring='f1_macro')\n",
    "grid.fit(X_train, y_train)\n",
    "svc_best_model = grid.best_estimator_\n",
    "svc_best_params = grid.best_params_\n",
    "svc_best_score = grid.best_score_\n",
    "print(\"Best parameters for SVC:\", svc_best_params)\n",
    "print(\"Best score for SVC:\", svc_best_score)\n",
    "print(\"Test set accuracy for SVC:\", svc_best_model.score(X_test, y_test))"
   ],
   "id": "5d13fae725a3f4a5"
  },
  {
   "metadata": {
    "jupyter": {
     "is_executing": true
    },
    "ExecuteTime": {
     "start_time": "2025-05-03T20:13:56.254628Z"
    }
   },
   "cell_type": "code",
   "source": [
    "meta_models = {\n",
    "    #'xgb': XGBClassifier(n_estimators=100, learning_rate=0.05, max_depth=3),\n",
    "    'rf': RandomForestClassifier(),\n",
    "    'et': ExtraTreesClassifier(),\n",
    "    'svc': SVC(probability=True, C = 0.1, kernel = 'rbf'),\n",
    "    'knn': KNeighborsClassifier(),\n",
    "    'linear': LinearSVC(),\n",
    "    'dt': DecisionTreeClassifier(),\n",
    "}\n",
    "for model_name, model in meta_models.items():\n",
    "    print(f\"Model: {model_name}\")\n",
    "    stacking_clf_trial = StackingClassifier(\n",
    "    estimators=base_models_list_both,\n",
    "    final_estimator=meta_model,\n",
    "    cv=5,\n",
    "    passthrough=False,\n",
    "    stack_method='auto',\n",
    "    n_jobs=-1\n",
    "    )\n",
    "    stacking_clf_trial.fit(X_train, y_train)\n",
    "    print(\"Training Accuracy:\", stacking_clf_trial.score(X_train, y_train))\n",
    "    print(\"Test Accuracy:\", stacking_clf_trial.score(X_test, y_test))"
   ],
   "id": "bd0ad155ebd6b7bb",
   "outputs": [
    {
     "name": "stdout",
     "output_type": "stream",
     "text": [
      "Model: rf\n",
      "Training Accuracy: 1.0\n",
      "Test Accuracy: 0.910832064941654\n",
      "Model: et\n"
     ]
    }
   ],
   "execution_count": null
  },
  {
   "metadata": {
    "ExecuteTime": {
     "end_time": "2025-05-03T20:09:00.053877Z",
     "start_time": "2025-05-03T20:06:52.026764Z"
    }
   },
   "cell_type": "code",
   "source": [
    "print(\"Training Accuracy:\", stacking_clf_trial.score(X_train, y_train))\n",
    "print(\"Test Accuracy:\", stacking_clf_trial.score(X_test, y_test))"
   ],
   "id": "49a34ca52d9def92",
   "outputs": [
    {
     "name": "stdout",
     "output_type": "stream",
     "text": [
      "Training Accuracy: 1.0\n",
      "Test Accuracy: 0.9104515474378488\n"
     ]
    }
   ],
   "execution_count": 87
  },
  {
   "metadata": {},
   "cell_type": "code",
   "outputs": [],
   "execution_count": null,
   "source": "",
   "id": "7fd30584aac3f61d"
  },
  {
   "metadata": {
    "ExecuteTime": {
     "end_time": "2025-05-03T00:59:42.033862Z",
     "start_time": "2025-05-02T10:03:35.064130Z"
    }
   },
   "cell_type": "code",
   "outputs": [
    {
     "name": "stdout",
     "output_type": "stream",
     "text": [
      "Training base model: rf\n",
      "Training score for rf: 0.9865257909420074\n",
      "Training base model: et\n",
      "Training score for et: 0.9894046417759839\n",
      "Training base model: knn\n",
      "Best parameters for knn: {'weights': 'distance', 'n_neighbors': 5}\n",
      "Best score for knn: 0.9508222121240111\n",
      "Training base model: svc\n",
      "Training score for svc: 0.9550068261411527\n",
      "Training meta model\n",
      "Meta model training complete\n",
      "Training Accuracy score: 0.9999406422508459\n",
      "Meta model test score: 0.9681861348528015\n"
     ]
    }
   ],
   "execution_count": 37,
   "source": "stacking_clf_gender, base_models_list_gender = train_stack(X_train_gender_final ,y_train_gender, X_test_gender_final, y_test_gender, base_models, params_dict, meta_model, search = False)",
   "id": "33a4c094210f0863"
  },
  {
   "metadata": {},
   "cell_type": "code",
   "outputs": [],
   "execution_count": null,
   "source": "stacking_clf_age, base_models_list_age = train_stack(X_train_age_final ,y_train_age, X_test_age_final, y_test_age, base_models, params_dict, meta_model, search = False)",
   "id": "2ee41536d6f43e9c"
  },
  {
   "metadata": {
    "ExecuteTime": {
     "end_time": "2025-05-02T14:22:28.659890Z",
     "start_time": "2025-05-02T00:54:58.156923Z"
    }
   },
   "cell_type": "code",
   "source": "stacking_clf, base_models_list = train_stack(X_train,y_train_gender, X_test, y_test_gender, base_models, params_dict, meta_model)",
   "id": "ab5fd0e0de68cd29",
   "outputs": [
    {
     "name": "stdout",
     "output_type": "stream",
     "text": [
      "Training base model: rf\n",
      "Best parameters for rf: {'n_estimators': 1500, 'min_samples_split': 5, 'min_samples_leaf': 2, 'max_features': 30, 'max_depth': None}\n",
      "Best score for rf: 0.9572031569668562\n",
      "Training base model: et\n",
      "Best parameters for et: {'n_estimators': 500, 'min_samples_split': 5, 'min_samples_leaf': 1, 'max_features': 20, 'max_depth': 30}\n",
      "Best score for et: 0.9601710576487321\n",
      "Training base model: knn\n",
      "Best parameters for knn: {'weights': 'distance', 'n_neighbors': 5}\n",
      "Best score for knn: 0.9452721586106858\n",
      "Training base model: svc\n"
     ]
    },
    {
     "ename": "KeyError",
     "evalue": "'svc'",
     "output_type": "error",
     "traceback": [
      "\u001B[0;31m---------------------------------------------------------------------------\u001B[0m",
      "\u001B[0;31mKeyError\u001B[0m                                  Traceback (most recent call last)",
      "Cell \u001B[0;32mIn[24], line 1\u001B[0m\n\u001B[0;32m----> 1\u001B[0m stacking_clf, base_models_list \u001B[38;5;241m=\u001B[39m train_stack(X_train,y_train_gender, X_test, y_test_gender, base_models, params_dict, meta_model)\n",
      "Cell \u001B[0;32mIn[16], line 8\u001B[0m, in \u001B[0;36mtrain_stack\u001B[0;34m(X_train, y_train, X_test, y_test, base_models, base_parameters, meta_model, svc_model, n_folds, search)\u001B[0m\n\u001B[1;32m      6\u001B[0m \u001B[38;5;66;03m# Perform RandomizedSearchCV for each base model\u001B[39;00m\n\u001B[1;32m      7\u001B[0m \u001B[38;5;28;01mif\u001B[39;00m (search):\n\u001B[0;32m----> 8\u001B[0m     grid \u001B[38;5;241m=\u001B[39m RandomizedSearchCV(model, param_distributions\u001B[38;5;241m=\u001B[39mbase_parameters[model_name], cv\u001B[38;5;241m=\u001B[39mn_folds, n_jobs\u001B[38;5;241m=\u001B[39m\u001B[38;5;241m-\u001B[39m\u001B[38;5;241m1\u001B[39m)\n\u001B[1;32m      9\u001B[0m     grid\u001B[38;5;241m.\u001B[39mfit(X_train, y_train)\n\u001B[1;32m     10\u001B[0m     best_model \u001B[38;5;241m=\u001B[39m grid\u001B[38;5;241m.\u001B[39mbest_estimator_\n",
      "\u001B[0;31mKeyError\u001B[0m: 'svc'"
     ]
    }
   ],
   "execution_count": 24
  },
  {
   "metadata": {
    "ExecuteTime": {
     "end_time": "2025-05-02T14:22:28.660461Z",
     "start_time": "2025-04-30T23:19:22.247829Z"
    }
   },
   "cell_type": "code",
   "source": [
    "gender_pred = stacking_clf.predict(X_train).reshape(-1, 1)\n",
    "X_train_hard_gender = np.concatenate([X_train, gender_pred], axis=1)\n",
    "gender_pred_test = stacking_clf.predict(X_test).reshape(-1, 1)\n",
    "X_test_hard_gender = np.concatenate([X_test, gender_pred_test], axis=1)\n",
    "stacking_clf_cascaded_hard, base_models_cascaded_hard = train_stack(X_train_hard_gender, y_train, X_test_hard_gender, y_test, base_models, params_dict, meta_model)"
   ],
   "id": "a65e54177fc03a6a",
   "outputs": [
    {
     "name": "stdout",
     "output_type": "stream",
     "text": [
      "Training base model: rf\n",
      "Best parameters for rf: {'n_estimators': 500, 'min_samples_split': 10, 'min_samples_leaf': 4, 'max_features': 15, 'max_depth': None}\n",
      "Best score for rf: 0.8714310153357884\n",
      "Training base model: et\n"
     ]
    },
    {
     "name": "stderr",
     "output_type": "stream",
     "text": [
      "/opt/anaconda3/lib/python3.11/site-packages/joblib/externals/loky/process_executor.py:752: UserWarning: A worker stopped while some jobs were given to the executor. This can be caused by a too short worker timeout or by a memory leak.\n",
      "  warnings.warn(\n"
     ]
    },
    {
     "name": "stdout",
     "output_type": "stream",
     "text": [
      "Best parameters for et: {'n_estimators': 1500, 'min_samples_split': 2, 'min_samples_leaf': 1, 'max_features': 30, 'max_depth': 20}\n",
      "Best score for et: 0.8953521918528577\n",
      "Training base model: knn\n",
      "Best parameters for knn: {'weights': 'uniform', 'n_neighbors': 1}\n",
      "Best score for knn: 0.8606277719336471\n",
      "Training meta model\n",
      "Meta model training complete\n",
      "Training score: 1.0\n",
      "Meta model test score: 0.907051282051282\n"
     ]
    }
   ],
   "execution_count": 30
  },
  {
   "metadata": {
    "ExecuteTime": {
     "end_time": "2025-05-02T14:22:28.661028Z",
     "start_time": "2025-05-01T06:08:54.865997Z"
    }
   },
   "cell_type": "code",
   "source": "",
   "id": "f5b3898d78aeca4",
   "outputs": [
    {
     "name": "stdout",
     "output_type": "stream",
     "text": [
      "LogisticRegression(C=1)\n"
     ]
    }
   ],
   "execution_count": 32
  },
  {
   "metadata": {
    "ExecuteTime": {
     "end_time": "2025-05-02T14:22:28.661136Z",
     "start_time": "2025-04-30T23:53:42.478355Z"
    }
   },
   "cell_type": "code",
   "source": [
    "gender_pred_proba_train = stacking_clf.predict_proba(X_train)[:, 1].reshape(-1,1)\n",
    "X_train_soft_gender = np.concatenate([X_train, gender_pred_proba_train], axis=1)\n",
    "gender_pred_proba_test = stacking_clf.predict_proba(X_test)[:, 1].reshape(-1,1)\n",
    "X_test_soft_gender = np.concatenate([X_test, gender_pred_proba_test], axis=1)\n",
    "stacking_clf_cascaded_soft, base_models_cascaded_soft = train_stack(X_train_soft_gender, y_train, X_test_soft_gender, y_test, base_models, params_dict, meta_model)"
   ],
   "id": "1c027871cf80598c",
   "outputs": [
    {
     "name": "stdout",
     "output_type": "stream",
     "text": [
      "Training base model: rf\n",
      "Best parameters for rf: {'n_estimators': 300, 'min_samples_split': 5, 'min_samples_leaf': 1, 'max_features': 15, 'max_depth': None}\n",
      "Best score for rf: 0.8797707297901474\n",
      "Training base model: et\n"
     ]
    },
    {
     "name": "stderr",
     "output_type": "stream",
     "text": [
      "/opt/anaconda3/lib/python3.11/site-packages/joblib/externals/loky/process_executor.py:752: UserWarning: A worker stopped while some jobs were given to the executor. This can be caused by a too short worker timeout or by a memory leak.\n",
      "  warnings.warn(\n"
     ]
    },
    {
     "name": "stdout",
     "output_type": "stream",
     "text": [
      "Best parameters for et: {'n_estimators': 500, 'min_samples_split': 2, 'min_samples_leaf': 1, 'max_features': 25, 'max_depth': None}\n",
      "Best score for et: 0.9017034631065055\n",
      "Training base model: knn\n",
      "Best parameters for knn: {'weights': 'uniform', 'n_neighbors': 3}\n",
      "Best score for knn: 0.8626757781366916\n",
      "Training meta model\n",
      "Meta model training complete\n",
      "Training score: 1.0\n",
      "Meta model test score: 0.9094254510921178\n"
     ]
    }
   ],
   "execution_count": 31
  },
  {
   "metadata": {
    "ExecuteTime": {
     "end_time": "2025-05-02T14:22:28.661710Z",
     "start_time": "2025-05-01T06:10:33.502719Z"
    }
   },
   "cell_type": "code",
   "source": [
    "\n",
    "y_pred_test = stacking_clf_both.predict(X_test)\n"
   ],
   "id": "ddc2864c56535632",
   "outputs": [],
   "execution_count": 33
  },
  {
   "metadata": {
    "ExecuteTime": {
     "end_time": "2025-05-02T14:22:28.662236Z",
     "start_time": "2025-05-01T06:11:16.647392Z"
    }
   },
   "cell_type": "code",
   "source": [
    "print(y_test)\n",
    "print(y_pred_test)"
   ],
   "id": "b8b0d955fe278af5",
   "outputs": [
    {
     "name": "stdout",
     "output_type": "stream",
     "text": [
      "[3 3 1 ... 0 3 3]\n",
      "[1 3 1 ... 2 3 3]\n"
     ]
    }
   ],
   "execution_count": 36
  },
  {
   "metadata": {
    "ExecuteTime": {
     "end_time": "2025-05-02T14:22:28.662776Z",
     "start_time": "2025-05-01T06:11:47.036628Z"
    }
   },
   "cell_type": "code",
   "source": [
    "from collections import defaultdict, Counter\n",
    "def classification_counts(y_pred_test, y_test):\n",
    "    confusion = Counter()\n",
    "    for true, pred in zip(y_test, y_pred_test):\n",
    "        confusion[(true, pred)] += 1\n",
    "    return confusion\n",
    "\n",
    "confusion_counts = classification_counts(y_pred_test, y_test)\n",
    "all_labels = sorted(set(y_test) | set(y_pred_test))\n",
    "\n",
    "df_2 = pd.DataFrame(0, index=all_labels, columns=all_labels)\n",
    "\n",
    "for (true_label, pred_label), count in confusion_counts.items():\n",
    "    df_2.loc[true_label, pred_label] = count\n",
    "\n",
    "label_map = {\n",
    "    0: 'Male Twenties',\n",
    "    1: 'Female Twenties',\n",
    "    2: 'Male Fifties',\n",
    "    3: 'Female Fifties'\n",
    "}\n",
    "\n",
    "df_2.index = df_2.index.map(label_map)\n",
    "df_2.columns = df_2.columns.map(label_map)\n",
    "\n",
    "plt.figure(figsize=(10, 7))\n",
    "sns.heatmap(df_2, annot=True, fmt='d', cmap='Blues')\n",
    "plt.xlabel('Predicted Label')\n",
    "plt.ylabel('True Label')\n",
    "plt.title('Full Confusion Matrix')\n",
    "plt.show()"
   ],
   "id": "a2786dd1d39af084",
   "outputs": [
    {
     "data": {
      "text/plain": [
       "<Figure size 1000x700 with 2 Axes>"
      ],
      "image/png": "[encoded data removed]"
     },
     "metadata": {},
     "output_type": "display_data"
    }
   ],
   "execution_count": 37
  },
  {
   "metadata": {},
   "cell_type": "markdown",
   "source": "    0",
   "id": "70983bdb528b31ff"
  },
  {
   "metadata": {},
   "cell_type": "markdown",
   "source": "90.7 Accuracy Age , 86.4 total accuracy => svc in base + meta = Logistic",
   "id": "27be84832f759c4a"
  },
  {
   "metadata": {},
   "cell_type": "markdown",
   "source": "Same for meta = RandomForestClassifier",
   "id": "d384844747ba2217"
  },
  {
   "metadata": {
    "ExecuteTime": {
     "end_time": "2025-05-02T14:22:28.663376Z",
     "start_time": "2025-04-26T07:34:18.032202Z"
    }
   },
   "cell_type": "code",
   "source": [
    "KNN = KNeighborsClassifier()\n",
    "params = {\n",
    "    'n_neighbors': [1, 3, 5, 7, 9, 11,13,15,17,19,21],\n",
    "    'weights': ['uniform', 'distance'],\n",
    "}\n",
    "model_both_knn, params_model_both_knn, acc_both_knn = grid_search_both(KNN, params, X_reduced, verbose_level = 2)\n",
    "ET = ExtraTreesClassifier()\n",
    "params = {\n",
    "    'n_estimators': [10, 20, 50, 100,300,500,700,1000, 1500],\n",
    "    'max_depth': [None, 5, 10, 20,30,50],\n",
    "    'min_samples_split': [2, 5, 10],\n",
    "    'min_samples_leaf': [1, 2, 4],\n",
    "    'max_features': ['sqrt', 'log2',15,20,25,30,35,40],\n",
    "}\n",
    "model_both_et, params_model_both_et, acc_both_et = grid_search_both(ET, params, X_reduced, verbose_level = 2)\n",
    "RF = RandomForestClassifier()\n",
    "params = {\n",
    "    'n_estimators': [10, 20, 50, 100,300,500,700,1000, 1500],\n",
    "    'max_depth': [None, 5, 10, 20,30,50],\n",
    "    'min_samples_split': [2, 5, 10],\n",
    "    'min_samples_leaf': [1, 2, 4],\n",
    "    'max_features': ['sqrt', 'log2',15,20,25,30,35,40],\n",
    "}\n",
    "model_both_rf, params_model_both_rf, acc_both_rf = grid_search_both(RF, params, X_reduced, verbose_level = 2)\n"
   ],
   "id": "91cb573c5f164b21",
   "outputs": [
    {
     "name": "stdout",
     "output_type": "stream",
     "text": [
      "Fitting 5 folds for each of 10 candidates, totalling 50 fits\n",
      "Best parameters: {'weights': 'uniform', 'n_neighbors': 1}\n",
      "Best score: 0.7748560311184644\n",
      "Test set accuracy: 0.7877492877492878\n",
      "Fitting 5 folds for each of 10 candidates, totalling 50 fits\n",
      "[CV] END ....................n_neighbors=21, weights=uniform; total time=   1.7s\n",
      "[CV] END .....................n_neighbors=3, weights=uniform; total time=   1.5s\n",
      "[CV] END ...................n_neighbors=15, weights=distance; total time=   1.5s\n",
      "[CV] END ...................n_neighbors=11, weights=distance; total time=   1.5s\n",
      "[CV] END ....................n_neighbors=5, weights=distance; total time=   1.5s\n",
      "[CV] END .....................n_neighbors=1, weights=uniform; total time=   1.6s\n",
      "[CV] END max_depth=30, max_features=sqrt, min_samples_leaf=4, min_samples_split=2, n_estimators=1000; total time=  43.4s\n"
     ]
    },
    {
     "name": "stderr",
     "output_type": "stream",
     "text": [
      "/opt/anaconda3/lib/python3.12/site-packages/joblib/externals/loky/process_executor.py:752: UserWarning: A worker stopped while some jobs were given to the executor. This can be caused by a too short worker timeout or by a memory leak.\n",
      "  warnings.warn(\n"
     ]
    },
    {
     "name": "stdout",
     "output_type": "stream",
     "text": [
      "[CV] END ....................n_neighbors=21, weights=uniform; total time=   1.5s\n",
      "[CV] END ....................n_neighbors=3, weights=distance; total time=   1.4s\n",
      "[CV] END ...................n_neighbors=15, weights=distance; total time=   1.4s\n",
      "[CV] END ....................n_neighbors=15, weights=uniform; total time=   1.5s\n",
      "[CV] END ....................n_neighbors=5, weights=distance; total time=   1.5s\n",
      "[CV] END .....................n_neighbors=1, weights=uniform; total time=   1.5s\n",
      "[CV] END max_depth=30, max_features=sqrt, min_samples_leaf=4, min_samples_split=2, n_estimators=1000; total time=  43.4s\n",
      "[CV] END ....................n_neighbors=19, weights=uniform; total time=   1.4s\n",
      "[CV] END ....................n_neighbors=19, weights=uniform; total time=   1.6s\n",
      "[CV] END ...................n_neighbors=15, weights=distance; total time=   1.4s\n",
      "[CV] END ...................n_neighbors=11, weights=distance; total time=   1.5s\n",
      "[CV] END ....................n_neighbors=5, weights=distance; total time=   1.6s\n",
      "[CV] END .....................n_neighbors=1, weights=uniform; total time=   1.4s\n",
      "[CV] END max_depth=30, max_features=sqrt, min_samples_leaf=4, min_samples_split=2, n_estimators=1000; total time=  43.5s\n",
      "[CV] END ....................n_neighbors=21, weights=uniform; total time=   1.5s\n",
      "[CV] END ....................n_neighbors=3, weights=distance; total time=   1.4s\n",
      "[CV] END .....................n_neighbors=3, weights=uniform; total time=   1.4s\n",
      "[CV] END ....................n_neighbors=15, weights=uniform; total time=   1.5s\n",
      "[CV] END ...................n_neighbors=11, weights=distance; total time=   1.5s\n",
      "[CV] END ....................n_neighbors=9, weights=distance; total time=   1.5s\n",
      "[CV] END .....................n_neighbors=1, weights=uniform; total time=   1.1s\n",
      "[CV] END max_depth=None, max_features=25, min_samples_leaf=2, min_samples_split=10, n_estimators=300; total time=  23.6s\n",
      "[CV] END max_depth=30, max_features=sqrt, min_samples_leaf=4, min_samples_split=2, n_estimators=1000; total time=  42.2s\n",
      "[CV] END ....................n_neighbors=19, weights=uniform; total time=   1.5s\n",
      "[CV] END ....................n_neighbors=19, weights=uniform; total time=   1.5s\n",
      "[CV] END ...................n_neighbors=15, weights=distance; total time=   1.4s\n",
      "[CV] END ....................n_neighbors=15, weights=uniform; total time=   1.5s\n",
      "[CV] END ...................n_neighbors=11, weights=distance; total time=   1.5s\n",
      "[CV] END ....................n_neighbors=9, weights=distance; total time=   1.5s\n",
      "[CV] END max_depth=None, max_features=25, min_samples_leaf=2, min_samples_split=10, n_estimators=300; total time=  24.4s\n",
      "[CV] END max_depth=30, max_features=sqrt, min_samples_leaf=4, min_samples_split=2, n_estimators=1000; total time=  42.8s\n",
      "[CV] END ....................n_neighbors=21, weights=uniform; total time=   1.5s\n",
      "[CV] END ....................n_neighbors=3, weights=distance; total time=   1.4s\n",
      "[CV] END .....................n_neighbors=3, weights=uniform; total time=   1.6s\n",
      "[CV] END ....................n_neighbors=15, weights=uniform; total time=   1.5s\n",
      "[CV] END ....................n_neighbors=5, weights=distance; total time=   1.5s\n",
      "[CV] END ....................n_neighbors=9, weights=distance; total time=   1.5s\n",
      "[CV] END max_depth=None, max_features=25, min_samples_leaf=2, min_samples_split=10, n_estimators=300; total time=  25.1s\n",
      "[CV] END max_depth=10, max_features=20, min_samples_leaf=1, min_samples_split=10, n_estimators=700; total time=  24.8s\n",
      "[CV] END max_depth=10, max_features=sqrt, min_samples_leaf=4, min_samples_split=5, n_estimators=1000; total time=  20.8s\n",
      "[CV] END max_depth=30, max_features=30, min_samples_leaf=1, min_samples_split=5, n_estimators=20; total time=   1.9s\n",
      "[CV] END max_depth=30, max_features=30, min_samples_leaf=1, min_samples_split=5, n_estimators=20; total time=   2.1s\n",
      "[CV] END max_depth=30, max_features=30, min_samples_leaf=1, min_samples_split=5, n_estimators=20; total time=   1.8s\n",
      "[CV] END max_depth=20, max_features=25, min_samples_leaf=2, min_samples_split=10, n_estimators=1500; total time= 1.8min\n",
      "[CV] END ....................n_neighbors=21, weights=uniform; total time=   1.5s\n",
      "[CV] END ....................n_neighbors=3, weights=distance; total time=   1.5s\n",
      "[CV] END .....................n_neighbors=3, weights=uniform; total time=   1.4s\n",
      "[CV] END ...................n_neighbors=15, weights=distance; total time=   1.5s\n",
      "[CV] END ....................n_neighbors=5, weights=distance; total time=   1.5s\n",
      "[CV] END ....................n_neighbors=9, weights=distance; total time=   1.5s\n",
      "[CV] END max_depth=None, max_features=25, min_samples_leaf=2, min_samples_split=10, n_estimators=300; total time=  25.7s\n",
      "[CV] END max_depth=10, max_features=20, min_samples_leaf=1, min_samples_split=10, n_estimators=700; total time=  24.9s\n",
      "[CV] END max_depth=10, max_features=sqrt, min_samples_leaf=4, min_samples_split=5, n_estimators=1000; total time=  20.7s\n",
      "[CV] END max_depth=30, max_features=30, min_samples_leaf=1, min_samples_split=5, n_estimators=20; total time=   2.1s\n",
      "[CV] END max_depth=30, max_features=30, min_samples_leaf=1, min_samples_split=5, n_estimators=20; total time=   2.0s\n",
      "[CV] END max_depth=20, max_features=25, min_samples_leaf=2, min_samples_split=10, n_estimators=1500; total time= 1.8min\n",
      "[CV] END max_depth=10, max_features=20, min_samples_leaf=1, min_samples_split=10, n_estimators=700; total time=  24.0s\n",
      "[CV] END max_depth=None, max_features=40, min_samples_leaf=2, min_samples_split=5, n_estimators=1000; total time= 2.0min\n",
      "[CV] END max_depth=10, max_features=20, min_samples_leaf=1, min_samples_split=10, n_estimators=700; total time=  23.7s\n",
      "[CV] END max_depth=None, max_features=40, min_samples_leaf=2, min_samples_split=5, n_estimators=1000; total time= 2.0min\n",
      "[CV] END ....................n_neighbors=19, weights=uniform; total time=   1.5s\n",
      "[CV] END ....................n_neighbors=3, weights=distance; total time=   1.5s\n",
      "[CV] END .....................n_neighbors=3, weights=uniform; total time=   1.4s\n",
      "[CV] END ....................n_neighbors=15, weights=uniform; total time=   1.4s\n",
      "[CV] END ...................n_neighbors=11, weights=distance; total time=   1.5s\n",
      "[CV] END ....................n_neighbors=9, weights=distance; total time=   1.5s\n",
      "[CV] END .....................n_neighbors=1, weights=uniform; total time=   1.1s\n",
      "[CV] END max_depth=None, max_features=25, min_samples_leaf=2, min_samples_split=10, n_estimators=300; total time=  24.8s\n",
      "[CV] END max_depth=10, max_features=20, min_samples_leaf=1, min_samples_split=10, n_estimators=700; total time=  25.3s\n",
      "[CV] END max_depth=10, max_features=sqrt, min_samples_leaf=4, min_samples_split=5, n_estimators=1000; total time=  20.4s\n",
      "[CV] END max_depth=None, max_features=40, min_samples_leaf=2, min_samples_split=5, n_estimators=1000; total time= 1.9min\n",
      "[CV] END max_depth=10, max_features=sqrt, min_samples_leaf=4, min_samples_split=5, n_estimators=1000; total time=  20.1s\n",
      "[CV] END max_depth=10, max_features=sqrt, min_samples_leaf=4, min_samples_split=5, n_estimators=1000; total time=  18.1s\n",
      "[CV] END max_depth=20, max_features=25, min_samples_leaf=2, min_samples_split=10, n_estimators=1500; total time= 1.8min\n",
      "[CV] END max_depth=10, max_features=log2, min_samples_leaf=4, min_samples_split=2, n_estimators=1000; total time=  13.9s\n",
      "[CV] END max_depth=20, max_features=15, min_samples_leaf=2, min_samples_split=10, n_estimators=500; total time=  22.6s\n",
      "[CV] END max_depth=10, max_features=log2, min_samples_leaf=4, min_samples_split=2, n_estimators=1000; total time=  13.7s\n",
      "[CV] END max_depth=20, max_features=15, min_samples_leaf=2, min_samples_split=10, n_estimators=500; total time=  22.3s\n",
      "[CV] END max_depth=10, max_features=log2, min_samples_leaf=4, min_samples_split=2, n_estimators=1000; total time=  13.8s\n",
      "[CV] END max_depth=20, max_features=15, min_samples_leaf=2, min_samples_split=10, n_estimators=500; total time=  22.6s\n",
      "[CV] END max_depth=None, max_features=40, min_samples_leaf=2, min_samples_split=5, n_estimators=1000; total time= 2.0min\n",
      "[CV] END max_depth=20, max_features=25, min_samples_leaf=2, min_samples_split=10, n_estimators=1500; total time= 1.5min\n",
      "Best parameters: {'n_estimators': 1000, 'min_samples_split': 5, 'min_samples_leaf': 2, 'max_features': 40, 'max_depth': None}\n",
      "Best score: 0.8576601179077006\n",
      "Test set accuracy: 0.855650522317189\n",
      "Fitting 5 folds for each of 10 candidates, totalling 50 fits\n",
      "[CV] END max_depth=None, max_features=30, min_samples_leaf=1, min_samples_split=2, n_estimators=300; total time= 4.0min\n",
      "[CV] END max_depth=30, max_features=20, min_samples_leaf=2, min_samples_split=5, n_estimators=1000; total time= 8.3min\n"
     ]
    },
    {
     "name": "stderr",
     "output_type": "stream",
     "text": [
      "/opt/anaconda3/lib/python3.12/site-packages/joblib/externals/loky/process_executor.py:752: UserWarning: A worker stopped while some jobs were given to the executor. This can be caused by a too short worker timeout or by a memory leak.\n",
      "  warnings.warn(\n"
     ]
    },
    {
     "name": "stdout",
     "output_type": "stream",
     "text": [
      "[CV] END max_depth=30, max_features=20, min_samples_leaf=2, min_samples_split=10, n_estimators=500; total time= 4.1min\n",
      "[CV] END max_depth=30, max_features=20, min_samples_leaf=2, min_samples_split=5, n_estimators=1000; total time= 8.3min\n",
      "[CV] END max_depth=30, max_features=20, min_samples_leaf=2, min_samples_split=10, n_estimators=500; total time= 4.2min\n",
      "[CV] END max_depth=30, max_features=20, min_samples_leaf=2, min_samples_split=5, n_estimators=1000; total time= 8.3min\n",
      "[CV] END max_depth=20, max_features=sqrt, min_samples_leaf=4, min_samples_split=10, n_estimators=10; total time=   2.4s\n",
      "[CV] END max_depth=20, max_features=30, min_samples_leaf=4, min_samples_split=2, n_estimators=20; total time=  13.9s\n",
      "[CV] END max_depth=20, max_features=30, min_samples_leaf=4, min_samples_split=2, n_estimators=20; total time=  14.0s\n",
      "[CV] END max_depth=None, max_features=sqrt, min_samples_leaf=2, min_samples_split=2, n_estimators=1500; total time= 6.3min\n",
      "[CV] END max_depth=20, max_features=sqrt, min_samples_leaf=4, min_samples_split=10, n_estimators=10; total time=   2.3s\n",
      "[CV] END max_depth=20, max_features=sqrt, min_samples_leaf=4, min_samples_split=10, n_estimators=10; total time=   2.2s\n",
      "[CV] END max_depth=20, max_features=30, min_samples_leaf=4, min_samples_split=2, n_estimators=20; total time=  13.9s\n",
      "[CV] END max_depth=20, max_features=30, min_samples_leaf=4, min_samples_split=2, n_estimators=20; total time=  13.9s\n",
      "[CV] END max_depth=None, max_features=sqrt, min_samples_leaf=2, min_samples_split=2, n_estimators=1500; total time= 6.3min\n",
      "[CV] END max_depth=50, max_features=35, min_samples_leaf=1, min_samples_split=5, n_estimators=10; total time=   9.5s\n",
      "[CV] END max_depth=50, max_features=35, min_samples_leaf=1, min_samples_split=5, n_estimators=10; total time=   9.3s\n",
      "[CV] END max_depth=50, max_features=35, min_samples_leaf=1, min_samples_split=5, n_estimators=10; total time=   9.1s\n",
      "[CV] END max_depth=50, max_features=35, min_samples_leaf=1, min_samples_split=5, n_estimators=10; total time=   9.4s\n",
      "[CV] END max_depth=50, max_features=35, min_samples_leaf=1, min_samples_split=5, n_estimators=10; total time=   9.4s\n",
      "[CV] END max_depth=10, max_features=15, min_samples_leaf=1, min_samples_split=10, n_estimators=500; total time= 2.3min\n",
      "[CV] END max_depth=10, max_features=15, min_samples_leaf=1, min_samples_split=10, n_estimators=500; total time= 2.3min\n",
      "[CV] END max_depth=10, max_features=15, min_samples_leaf=1, min_samples_split=10, n_estimators=500; total time= 2.3min\n",
      "[CV] END max_depth=50, max_features=sqrt, min_samples_leaf=1, min_samples_split=2, n_estimators=700; total time= 3.0min\n",
      "[CV] END max_depth=30, max_features=20, min_samples_leaf=2, min_samples_split=10, n_estimators=500; total time= 4.2min\n",
      "[CV] END max_depth=None, max_features=40, min_samples_leaf=1, min_samples_split=2, n_estimators=1500; total time=27.0min\n",
      "[CV] END max_depth=10, max_features=log2, min_samples_leaf=4, min_samples_split=2, n_estimators=1000; total time=  13.9s\n",
      "[CV] END max_depth=None, max_features=25, min_samples_leaf=1, min_samples_split=2, n_estimators=50; total time=   4.3s\n",
      "[CV] END max_depth=None, max_features=25, min_samples_leaf=1, min_samples_split=2, n_estimators=50; total time=   4.8s\n",
      "[CV] END max_depth=None, max_features=25, min_samples_leaf=1, min_samples_split=2, n_estimators=50; total time=   4.4s\n",
      "[CV] END max_depth=None, max_features=25, min_samples_leaf=1, min_samples_split=2, n_estimators=50; total time=   4.3s\n",
      "[CV] END max_depth=None, max_features=30, min_samples_leaf=1, min_samples_split=2, n_estimators=300; total time= 4.0min\n",
      "[CV] END max_depth=30, max_features=20, min_samples_leaf=2, min_samples_split=10, n_estimators=500; total time= 4.1min\n",
      "[CV] END max_depth=None, max_features=40, min_samples_leaf=1, min_samples_split=2, n_estimators=1500; total time=26.3min\n",
      "[CV] END max_depth=20, max_features=15, min_samples_leaf=2, min_samples_split=10, n_estimators=500; total time=  23.4s\n",
      "[CV] END max_depth=None, max_features=25, min_samples_leaf=1, min_samples_split=2, n_estimators=50; total time=   4.7s\n",
      "[CV] END max_depth=None, max_features=30, min_samples_leaf=1, min_samples_split=2, n_estimators=300; total time= 4.0min\n",
      "[CV] END max_depth=30, max_features=20, min_samples_leaf=2, min_samples_split=10, n_estimators=500; total time= 4.1min\n",
      "[CV] END max_depth=None, max_features=40, min_samples_leaf=1, min_samples_split=2, n_estimators=1500; total time=26.4min\n",
      "[CV] END max_depth=20, max_features=25, min_samples_leaf=2, min_samples_split=10, n_estimators=1500; total time= 1.5min\n",
      "[CV] END max_depth=None, max_features=30, min_samples_leaf=1, min_samples_split=2, n_estimators=300; total time= 4.1min\n",
      "[CV] END max_depth=30, max_features=20, min_samples_leaf=2, min_samples_split=5, n_estimators=1000; total time= 8.4min\n",
      "[CV] END max_depth=20, max_features=sqrt, min_samples_leaf=4, min_samples_split=10, n_estimators=10; total time=   2.4s\n",
      "[CV] END max_depth=20, max_features=sqrt, min_samples_leaf=4, min_samples_split=10, n_estimators=10; total time=   2.4s\n",
      "[CV] END max_depth=20, max_features=30, min_samples_leaf=4, min_samples_split=2, n_estimators=20; total time=  14.2s\n",
      "[CV] END max_depth=None, max_features=sqrt, min_samples_leaf=2, min_samples_split=2, n_estimators=1500; total time= 6.4min\n",
      "[CV] END max_depth=None, max_features=sqrt, min_samples_leaf=2, min_samples_split=2, n_estimators=1500; total time= 6.4min\n",
      "[CV] END max_depth=10, max_features=15, min_samples_leaf=1, min_samples_split=10, n_estimators=500; total time= 2.3min\n",
      "[CV] END max_depth=50, max_features=sqrt, min_samples_leaf=1, min_samples_split=2, n_estimators=700; total time= 3.0min\n",
      "[CV] END max_depth=50, max_features=sqrt, min_samples_leaf=1, min_samples_split=2, n_estimators=700; total time= 2.7min\n",
      "[CV] END max_depth=None, max_features=sqrt, min_samples_leaf=2, min_samples_split=2, n_estimators=1500; total time= 6.2min\n",
      "[CV] END max_depth=10, max_features=15, min_samples_leaf=1, min_samples_split=10, n_estimators=500; total time= 2.3min\n",
      "[CV] END max_depth=50, max_features=sqrt, min_samples_leaf=1, min_samples_split=2, n_estimators=700; total time= 3.0min\n",
      "[CV] END max_depth=50, max_features=sqrt, min_samples_leaf=1, min_samples_split=2, n_estimators=700; total time= 2.6min\n",
      "Best parameters: {'n_estimators': 700, 'min_samples_split': 2, 'min_samples_leaf': 1, 'max_features': 'sqrt', 'max_depth': 50}\n",
      "Best score: 0.8467383034767343\n",
      "Test set accuracy: 0.8434235517568851\n"
     ]
    }
   ],
   "execution_count": 129
  },
  {
   "metadata": {
    "ExecuteTime": {
     "end_time": "2025-05-02T14:22:28.664020Z",
     "start_time": "2025-04-26T08:36:55.600016Z"
    }
   },
   "cell_type": "code",
   "source": [
    "pickle.dump(model_both_knn[0], open('model_both_knn.pkl', 'wb'))\n",
    "pickle.dump(model_both_et[0], open('model_both_et.pkl', 'wb'))\n",
    "pickle.dump(model_both_rf[0], open('model_both_rf.pkl', 'wb'))"
   ],
   "id": "e62a2a30b8a8a36b",
   "outputs": [],
   "execution_count": 138
  },
  {
   "metadata": {
    "ExecuteTime": {
     "end_time": "2025-05-02T14:22:28.664641Z",
     "start_time": "2025-04-26T08:52:25.826414Z"
    }
   },
   "cell_type": "code",
   "source": [
    "svm = SVC(probability=True, C = 10000, kernel = 'rbf')\n",
    "params = {\n",
    "    'C': [0.1, 1, 10, 100,1000, 10000],\n",
    "    'kernel': ['linear', 'poly', 'rbf', 'sigmoid'],\n",
    "    'degree': [2, 3, 4],\n",
    "    'gamma': ['scale', 'auto'],\n",
    "}\n",
    "model_both_svm, params_model_both_svm, acc_both_svm = grid_search_both(svm, params, X_reduced, verbose_level = 2)\n",
    "pickle.dump(model_both_svm, open('model_both_svm.pkl', 'wb'))"
   ],
   "id": "c4073891bb20b6e5",
   "outputs": [
    {
     "name": "stdout",
     "output_type": "stream",
     "text": [
      "Fitting 5 folds for each of 10 candidates, totalling 50 fits\n"
     ]
    }
   ],
   "execution_count": null
  },
  {
   "metadata": {
    "ExecuteTime": {
     "end_time": "2025-05-02T14:22:28.665397Z",
     "start_time": "2025-04-26T08:36:58.380059Z"
    }
   },
   "cell_type": "code",
   "source": [
    "base_estimators = [\n",
    "    ('knn', model_both_knn[0]),\n",
    "    ('rf', model_both_rf[0]),\n",
    "    ('et', model_both_et[0]),\n",
    "    # ('svc', model_both_svm),\n",
    "]\n",
    "meta_classifier = LogisticRegression(penalty='l2', C=1, solver='lbfgs')\n",
    "stacking_clf = StackingClassifier(\n",
    "    estimators=base_estimators,\n",
    "    final_estimator=meta_classifier,\n",
    "    cv=5,\n",
    "    stack_method='auto',\n",
    "    n_jobs=-1\n",
    ")\n",
    "stacking_clf.fit(X_train, y_train)\n"
   ],
   "id": "f2a114e9d17a1ed5",
   "outputs": [
    {
     "data": {
      "text/plain": [
       "StackingClassifier(cv=5,\n",
       "                   estimators=[('knn', KNeighborsClassifier(n_neighbors=1)),\n",
       "                               ('rf',\n",
       "                                RandomForestClassifier(max_depth=50,\n",
       "                                                       n_estimators=700)),\n",
       "                               ('et',\n",
       "                                ExtraTreesClassifier(max_features=40,\n",
       "                                                     min_samples_leaf=2,\n",
       "                                                     min_samples_split=5,\n",
       "                                                     n_estimators=1000))],\n",
       "                   final_estimator=LogisticRegression(C=1), n_jobs=-1)"
      ],
      "text/html": [
       "<style>#sk-container-id-8 {\n",
       "  /* Definition of color scheme common for light and dark mode */\n",
       "  --sklearn-color-text: black;\n",
       "  --sklearn-color-line: gray;\n",
       "  /* Definition of color scheme for unfitted estimators */\n",
       "  --sklearn-color-unfitted-level-0: #fff5e6;\n",
       "  --sklearn-color-unfitted-level-1: #f6e4d2;\n",
       "  --sklearn-color-unfitted-level-2: #ffe0b3;\n",
       "  --sklearn-color-unfitted-level-3: chocolate;\n",
       "  /* Definition of color scheme for fitted estimators */\n",
       "  --sklearn-color-fitted-level-0: #f0f8ff;\n",
       "  --sklearn-color-fitted-level-1: #d4ebff;\n",
       "  --sklearn-color-fitted-level-2: #b3dbfd;\n",
       "  --sklearn-color-fitted-level-3: cornflowerblue;\n",
       "\n",
       "  /* Specific color for light theme */\n",
       "  --sklearn-color-text-on-default-background: var(--sg-text-color, var(--theme-code-foreground, var(--jp-content-font-color1, black)));\n",
       "  --sklearn-color-background: var(--sg-background-color, var(--theme-background, var(--jp-layout-color0, white)));\n",
       "  --sklearn-color-border-box: var(--sg-text-color, var(--theme-code-foreground, var(--jp-content-font-color1, black)));\n",
       "  --sklearn-color-icon: #696969;\n",
       "\n",
       "  @media (prefers-color-scheme: dark) {\n",
       "    /* Redefinition of color scheme for dark theme */\n",
       "    --sklearn-color-text-on-default-background: var(--sg-text-color, var(--theme-code-foreground, var(--jp-content-font-color1, white)));\n",
       "    --sklearn-color-background: var(--sg-background-color, var(--theme-background, var(--jp-layout-color0, #111)));\n",
       "    --sklearn-color-border-box: var(--sg-text-color, var(--theme-code-foreground, var(--jp-content-font-color1, white)));\n",
       "    --sklearn-color-icon: #878787;\n",
       "  }\n",
       "}\n",
       "\n",
       "#sk-container-id-8 {\n",
       "  color: var(--sklearn-color-text);\n",
       "}\n",
       "\n",
       "#sk-container-id-8 pre {\n",
       "  padding: 0;\n",
       "}\n",
       "\n",
       "#sk-container-id-8 input.sk-hidden--visually {\n",
       "  border: 0;\n",
       "  clip: rect(1px 1px 1px 1px);\n",
       "  clip: rect(1px, 1px, 1px, 1px);\n",
       "  height: 1px;\n",
       "  margin: -1px;\n",
       "  overflow: hidden;\n",
       "  padding: 0;\n",
       "  position: absolute;\n",
       "  width: 1px;\n",
       "}\n",
       "\n",
       "#sk-container-id-8 div.sk-dashed-wrapped {\n",
       "  border: 1px dashed var(--sklearn-color-line);\n",
       "  margin: 0 0.4em 0.5em 0.4em;\n",
       "  box-sizing: border-box;\n",
       "  padding-bottom: 0.4em;\n",
       "  background-color: var(--sklearn-color-background);\n",
       "}\n",
       "\n",
       "#sk-container-id-8 div.sk-container {\n",
       "  /* jupyter's `normalize.less` sets `[hidden] { display: none; }`\n",
       "     but bootstrap.min.css set `[hidden] { display: none !important; }`\n",
       "     so we also need the `!important` here to be able to override the\n",
       "     default hidden behavior on the sphinx rendered scikit-learn.org.\n",
       "     See: https://github.com/scikit-learn/scikit-learn/issues/21755 */\n",
       "  display: inline-block !important;\n",
       "  position: relative;\n",
       "}\n",
       "\n",
       "#sk-container-id-8 div.sk-text-repr-fallback {\n",
       "  display: none;\n",
       "}\n",
       "\n",
       "div.sk-parallel-item,\n",
       "div.sk-serial,\n",
       "div.sk-item {\n",
       "  /* draw centered vertical line to link estimators */\n",
       "  background-image: linear-gradient(var(--sklearn-color-text-on-default-background), var(--sklearn-color-text-on-default-background));\n",
       "  background-size: 2px 100%;\n",
       "  background-repeat: no-repeat;\n",
       "  background-position: center center;\n",
       "}\n",
       "\n",
       "/* Parallel-specific style estimator block */\n",
       "\n",
       "#sk-container-id-8 div.sk-parallel-item::after {\n",
       "  content: \"\";\n",
       "  width: 100%;\n",
       "  border-bottom: 2px solid var(--sklearn-color-text-on-default-background);\n",
       "  flex-grow: 1;\n",
       "}\n",
       "\n",
       "#sk-container-id-8 div.sk-parallel {\n",
       "  display: flex;\n",
       "  align-items: stretch;\n",
       "  justify-content: center;\n",
       "  background-color: var(--sklearn-color-background);\n",
       "  position: relative;\n",
       "}\n",
       "\n",
       "#sk-container-id-8 div.sk-parallel-item {\n",
       "  display: flex;\n",
       "  flex-direction: column;\n",
       "}\n",
       "\n",
       "#sk-container-id-8 div.sk-parallel-item:first-child::after {\n",
       "  align-self: flex-end;\n",
       "  width: 50%;\n",
       "}\n",
       "\n",
       "#sk-container-id-8 div.sk-parallel-item:last-child::after {\n",
       "  align-self: flex-start;\n",
       "  width: 50%;\n",
       "}\n",
       "\n",
       "#sk-container-id-8 div.sk-parallel-item:only-child::after {\n",
       "  width: 0;\n",
       "}\n",
       "\n",
       "/* Serial-specific style estimator block */\n",
       "\n",
       "#sk-container-id-8 div.sk-serial {\n",
       "  display: flex;\n",
       "  flex-direction: column;\n",
       "  align-items: center;\n",
       "  background-color: var(--sklearn-color-background);\n",
       "  padding-right: 1em;\n",
       "  padding-left: 1em;\n",
       "}\n",
       "\n",
       "\n",
       "/* Toggleable style: style used for estimator/Pipeline/ColumnTransformer box that is\n",
       "clickable and can be expanded/collapsed.\n",
       "- Pipeline and ColumnTransformer use this feature and define the default style\n",
       "- Estimators will overwrite some part of the style using the `sk-estimator` class\n",
       "*/\n",
       "\n",
       "/* Pipeline and ColumnTransformer style (default) */\n",
       "\n",
       "#sk-container-id-8 div.sk-toggleable {\n",
       "  /* Default theme specific background. It is overwritten whether we have a\n",
       "  specific estimator or a Pipeline/ColumnTransformer */\n",
       "  background-color: var(--sklearn-color-background);\n",
       "}\n",
       "\n",
       "/* Toggleable label */\n",
       "#sk-container-id-8 label.sk-toggleable__label {\n",
       "  cursor: pointer;\n",
       "  display: block;\n",
       "  width: 100%;\n",
       "  margin-bottom: 0;\n",
       "  padding: 0.5em;\n",
       "  box-sizing: border-box;\n",
       "  text-align: center;\n",
       "}\n",
       "\n",
       "#sk-container-id-8 label.sk-toggleable__label-arrow:before {\n",
       "  /* Arrow on the left of the label */\n",
       "  content: \"▸\";\n",
       "  float: left;\n",
       "  margin-right: 0.25em;\n",
       "  color: var(--sklearn-color-icon);\n",
       "}\n",
       "\n",
       "#sk-container-id-8 label.sk-toggleable__label-arrow:hover:before {\n",
       "  color: var(--sklearn-color-text);\n",
       "}\n",
       "\n",
       "/* Toggleable content - dropdown */\n",
       "\n",
       "#sk-container-id-8 div.sk-toggleable__content {\n",
       "  max-height: 0;\n",
       "  max-width: 0;\n",
       "  overflow: hidden;\n",
       "  text-align: left;\n",
       "  /* unfitted */\n",
       "  background-color: var(--sklearn-color-unfitted-level-0);\n",
       "}\n",
       "\n",
       "#sk-container-id-8 div.sk-toggleable__content.fitted {\n",
       "  /* fitted */\n",
       "  background-color: var(--sklearn-color-fitted-level-0);\n",
       "}\n",
       "\n",
       "#sk-container-id-8 div.sk-toggleable__content pre {\n",
       "  margin: 0.2em;\n",
       "  border-radius: 0.25em;\n",
       "  color: var(--sklearn-color-text);\n",
       "  /* unfitted */\n",
       "  background-color: var(--sklearn-color-unfitted-level-0);\n",
       "}\n",
       "\n",
       "#sk-container-id-8 div.sk-toggleable__content.fitted pre {\n",
       "  /* unfitted */\n",
       "  background-color: var(--sklearn-color-fitted-level-0);\n",
       "}\n",
       "\n",
       "#sk-container-id-8 input.sk-toggleable__control:checked~div.sk-toggleable__content {\n",
       "  /* Expand drop-down */\n",
       "  max-height: 200px;\n",
       "  max-width: 100%;\n",
       "  overflow: auto;\n",
       "}\n",
       "\n",
       "#sk-container-id-8 input.sk-toggleable__control:checked~label.sk-toggleable__label-arrow:before {\n",
       "  content: \"▾\";\n",
       "}\n",
       "\n",
       "/* Pipeline/ColumnTransformer-specific style */\n",
       "\n",
       "#sk-container-id-8 div.sk-label input.sk-toggleable__control:checked~label.sk-toggleable__label {\n",
       "  color: var(--sklearn-color-text);\n",
       "  background-color: var(--sklearn-color-unfitted-level-2);\n",
       "}\n",
       "\n",
       "#sk-container-id-8 div.sk-label.fitted input.sk-toggleable__control:checked~label.sk-toggleable__label {\n",
       "  background-color: var(--sklearn-color-fitted-level-2);\n",
       "}\n",
       "\n",
       "/* Estimator-specific style */\n",
       "\n",
       "/* Colorize estimator box */\n",
       "#sk-container-id-8 div.sk-estimator input.sk-toggleable__control:checked~label.sk-toggleable__label {\n",
       "  /* unfitted */\n",
       "  background-color: var(--sklearn-color-unfitted-level-2);\n",
       "}\n",
       "\n",
       "#sk-container-id-8 div.sk-estimator.fitted input.sk-toggleable__control:checked~label.sk-toggleable__label {\n",
       "  /* fitted */\n",
       "  background-color: var(--sklearn-color-fitted-level-2);\n",
       "}\n",
       "\n",
       "#sk-container-id-8 div.sk-label label.sk-toggleable__label,\n",
       "#sk-container-id-8 div.sk-label label {\n",
       "  /* The background is the default theme color */\n",
       "  color: var(--sklearn-color-text-on-default-background);\n",
       "}\n",
       "\n",
       "/* On hover, darken the color of the background */\n",
       "#sk-container-id-8 div.sk-label:hover label.sk-toggleable__label {\n",
       "  color: var(--sklearn-color-text);\n",
       "  background-color: var(--sklearn-color-unfitted-level-2);\n",
       "}\n",
       "\n",
       "/* Label box, darken color on hover, fitted */\n",
       "#sk-container-id-8 div.sk-label.fitted:hover label.sk-toggleable__label.fitted {\n",
       "  color: var(--sklearn-color-text);\n",
       "  background-color: var(--sklearn-color-fitted-level-2);\n",
       "}\n",
       "\n",
       "/* Estimator label */\n",
       "\n",
       "#sk-container-id-8 div.sk-label label {\n",
       "  font-family: monospace;\n",
       "  font-weight: bold;\n",
       "  display: inline-block;\n",
       "  line-height: 1.2em;\n",
       "}\n",
       "\n",
       "#sk-container-id-8 div.sk-label-container {\n",
       "  text-align: center;\n",
       "}\n",
       "\n",
       "/* Estimator-specific */\n",
       "#sk-container-id-8 div.sk-estimator {\n",
       "  font-family: monospace;\n",
       "  border: 1px dotted var(--sklearn-color-border-box);\n",
       "  border-radius: 0.25em;\n",
       "  box-sizing: border-box;\n",
       "  margin-bottom: 0.5em;\n",
       "  /* unfitted */\n",
       "  background-color: var(--sklearn-color-unfitted-level-0);\n",
       "}\n",
       "\n",
       "#sk-container-id-8 div.sk-estimator.fitted {\n",
       "  /* fitted */\n",
       "  background-color: var(--sklearn-color-fitted-level-0);\n",
       "}\n",
       "\n",
       "/* on hover */\n",
       "#sk-container-id-8 div.sk-estimator:hover {\n",
       "  /* unfitted */\n",
       "  background-color: var(--sklearn-color-unfitted-level-2);\n",
       "}\n",
       "\n",
       "#sk-container-id-8 div.sk-estimator.fitted:hover {\n",
       "  /* fitted */\n",
       "  background-color: var(--sklearn-color-fitted-level-2);\n",
       "}\n",
       "\n",
       "/* Specification for estimator info (e.g. \"i\" and \"?\") */\n",
       "\n",
       "/* Common style for \"i\" and \"?\" */\n",
       "\n",
       ".sk-estimator-doc-link,\n",
       "a:link.sk-estimator-doc-link,\n",
       "a:visited.sk-estimator-doc-link {\n",
       "  float: right;\n",
       "  font-size: smaller;\n",
       "  line-height: 1em;\n",
       "  font-family: monospace;\n",
       "  background-color: var(--sklearn-color-background);\n",
       "  border-radius: 1em;\n",
       "  height: 1em;\n",
       "  width: 1em;\n",
       "  text-decoration: none !important;\n",
       "  margin-left: 1ex;\n",
       "  /* unfitted */\n",
       "  border: var(--sklearn-color-unfitted-level-1) 1pt solid;\n",
       "  color: var(--sklearn-color-unfitted-level-1);\n",
       "}\n",
       "\n",
       ".sk-estimator-doc-link.fitted,\n",
       "a:link.sk-estimator-doc-link.fitted,\n",
       "a:visited.sk-estimator-doc-link.fitted {\n",
       "  /* fitted */\n",
       "  border: var(--sklearn-color-fitted-level-1) 1pt solid;\n",
       "  color: var(--sklearn-color-fitted-level-1);\n",
       "}\n",
       "\n",
       "/* On hover */\n",
       "div.sk-estimator:hover .sk-estimator-doc-link:hover,\n",
       ".sk-estimator-doc-link:hover,\n",
       "div.sk-label-container:hover .sk-estimator-doc-link:hover,\n",
       ".sk-estimator-doc-link:hover {\n",
       "  /* unfitted */\n",
       "  background-color: var(--sklearn-color-unfitted-level-3);\n",
       "  color: var(--sklearn-color-background);\n",
       "  text-decoration: none;\n",
       "}\n",
       "\n",
       "div.sk-estimator.fitted:hover .sk-estimator-doc-link.fitted:hover,\n",
       ".sk-estimator-doc-link.fitted:hover,\n",
       "div.sk-label-container:hover .sk-estimator-doc-link.fitted:hover,\n",
       ".sk-estimator-doc-link.fitted:hover {\n",
       "  /* fitted */\n",
       "  background-color: var(--sklearn-color-fitted-level-3);\n",
       "  color: var(--sklearn-color-background);\n",
       "  text-decoration: none;\n",
       "}\n",
       "\n",
       "/* Span, style for the box shown on hovering the info icon */\n",
       ".sk-estimator-doc-link span {\n",
       "  display: none;\n",
       "  z-index: 9999;\n",
       "  position: relative;\n",
       "  font-weight: normal;\n",
       "  right: .2ex;\n",
       "  padding: .5ex;\n",
       "  margin: .5ex;\n",
       "  width: min-content;\n",
       "  min-width: 20ex;\n",
       "  max-width: 50ex;\n",
       "  color: var(--sklearn-color-text);\n",
       "  box-shadow: 2pt 2pt 4pt #999;\n",
       "  /* unfitted */\n",
       "  background: var(--sklearn-color-unfitted-level-0);\n",
       "  border: .5pt solid var(--sklearn-color-unfitted-level-3);\n",
       "}\n",
       "\n",
       ".sk-estimator-doc-link.fitted span {\n",
       "  /* fitted */\n",
       "  background: var(--sklearn-color-fitted-level-0);\n",
       "  border: var(--sklearn-color-fitted-level-3);\n",
       "}\n",
       "\n",
       ".sk-estimator-doc-link:hover span {\n",
       "  display: block;\n",
       "}\n",
       "\n",
       "/* \"?\"-specific style due to the `<a>` HTML tag */\n",
       "\n",
       "#sk-container-id-8 a.estimator_doc_link {\n",
       "  float: right;\n",
       "  font-size: 1rem;\n",
       "  line-height: 1em;\n",
       "  font-family: monospace;\n",
       "  background-color: var(--sklearn-color-background);\n",
       "  border-radius: 1rem;\n",
       "  height: 1rem;\n",
       "  width: 1rem;\n",
       "  text-decoration: none;\n",
       "  /* unfitted */\n",
       "  color: var(--sklearn-color-unfitted-level-1);\n",
       "  border: var(--sklearn-color-unfitted-level-1) 1pt solid;\n",
       "}\n",
       "\n",
       "#sk-container-id-8 a.estimator_doc_link.fitted {\n",
       "  /* fitted */\n",
       "  border: var(--sklearn-color-fitted-level-1) 1pt solid;\n",
       "  color: var(--sklearn-color-fitted-level-1);\n",
       "}\n",
       "\n",
       "/* On hover */\n",
       "#sk-container-id-8 a.estimator_doc_link:hover {\n",
       "  /* unfitted */\n",
       "  background-color: var(--sklearn-color-unfitted-level-3);\n",
       "  color: var(--sklearn-color-background);\n",
       "  text-decoration: none;\n",
       "}\n",
       "\n",
       "#sk-container-id-8 a.estimator_doc_link.fitted:hover {\n",
       "  /* fitted */\n",
       "  background-color: var(--sklearn-color-fitted-level-3);\n",
       "}\n",
       "</style><div id=\"sk-container-id-8\" class=\"sk-top-container\"><div class=\"sk-text-repr-fallback\"><pre>StackingClassifier(cv=5,\n",
       "                   estimators=[(&#x27;knn&#x27;, KNeighborsClassifier(n_neighbors=1)),\n",
       "                               (&#x27;rf&#x27;,\n",
       "                                RandomForestClassifier(max_depth=50,\n",
       "                                                       n_estimators=700)),\n",
       "                               (&#x27;et&#x27;,\n",
       "                                ExtraTreesClassifier(max_features=40,\n",
       "                                                     min_samples_leaf=2,\n",
       "                                                     min_samples_split=5,\n",
       "                                                     n_estimators=1000))],\n",
       "                   final_estimator=LogisticRegression(C=1), n_jobs=-1)</pre><b>In a Jupyter environment, please rerun this cell to show the HTML representation or trust the notebook. <br />On GitHub, the HTML representation is unable to render, please try loading this page with nbviewer.org.</b></div><div class=\"sk-container\" hidden><div class=\"sk-item sk-dashed-wrapped\"><div class=\"sk-label-container\"><div class=\"sk-label fitted sk-toggleable\"><input class=\"sk-toggleable__control sk-hidden--visually\" id=\"sk-estimator-id-40\" type=\"checkbox\" ><label for=\"sk-estimator-id-40\" class=\"sk-toggleable__label fitted sk-toggleable__label-arrow fitted\">&nbsp;&nbsp;StackingClassifier<a class=\"sk-estimator-doc-link fitted\" rel=\"noreferrer\" target=\"_blank\" href=\"https://scikit-learn.org/1.5/modules/generated/sklearn.ensemble.StackingClassifier.html\">?<span>Documentation for StackingClassifier</span></a><span class=\"sk-estimator-doc-link fitted\">i<span>Fitted</span></span></label><div class=\"sk-toggleable__content fitted\"><pre>StackingClassifier(cv=5,\n",
       "                   estimators=[(&#x27;knn&#x27;, KNeighborsClassifier(n_neighbors=1)),\n",
       "                               (&#x27;rf&#x27;,\n",
       "                                RandomForestClassifier(max_depth=50,\n",
       "                                                       n_estimators=700)),\n",
       "                               (&#x27;et&#x27;,\n",
       "                                ExtraTreesClassifier(max_features=40,\n",
       "                                                     min_samples_leaf=2,\n",
       "                                                     min_samples_split=5,\n",
       "                                                     n_estimators=1000))],\n",
       "                   final_estimator=LogisticRegression(C=1), n_jobs=-1)</pre></div> </div></div><div class=\"sk-serial\"><div class=\"sk-item\"><div class=\"sk-parallel\"><div class=\"sk-parallel-item\"><div class=\"sk-item\"><div class=\"sk-label-container\"><div class=\"sk-label fitted sk-toggleable\"><label>knn</label></div></div><div class=\"sk-serial\"><div class=\"sk-item\"><div class=\"sk-estimator fitted sk-toggleable\"><input class=\"sk-toggleable__control sk-hidden--visually\" id=\"sk-estimator-id-41\" type=\"checkbox\" ><label for=\"sk-estimator-id-41\" class=\"sk-toggleable__label fitted sk-toggleable__label-arrow fitted\">&nbsp;KNeighborsClassifier<a class=\"sk-estimator-doc-link fitted\" rel=\"noreferrer\" target=\"_blank\" href=\"https://scikit-learn.org/1.5/modules/generated/sklearn.neighbors.KNeighborsClassifier.html\">?<span>Documentation for KNeighborsClassifier</span></a></label><div class=\"sk-toggleable__content fitted\"><pre>KNeighborsClassifier(n_neighbors=1)</pre></div> </div></div></div></div></div><div class=\"sk-parallel-item\"><div class=\"sk-item\"><div class=\"sk-label-container\"><div class=\"sk-label fitted sk-toggleable\"><label>rf</label></div></div><div class=\"sk-serial\"><div class=\"sk-item\"><div class=\"sk-estimator fitted sk-toggleable\"><input class=\"sk-toggleable__control sk-hidden--visually\" id=\"sk-estimator-id-42\" type=\"checkbox\" ><label for=\"sk-estimator-id-42\" class=\"sk-toggleable__label fitted sk-toggleable__label-arrow fitted\">&nbsp;RandomForestClassifier<a class=\"sk-estimator-doc-link fitted\" rel=\"noreferrer\" target=\"_blank\" href=\"https://scikit-learn.org/1.5/modules/generated/sklearn.ensemble.RandomForestClassifier.html\">?<span>Documentation for RandomForestClassifier</span></a></label><div class=\"sk-toggleable__content fitted\"><pre>RandomForestClassifier(max_depth=50, n_estimators=700)</pre></div> </div></div></div></div></div><div class=\"sk-parallel-item\"><div class=\"sk-item\"><div class=\"sk-label-container\"><div class=\"sk-label fitted sk-toggleable\"><label>et</label></div></div><div class=\"sk-serial\"><div class=\"sk-item\"><div class=\"sk-estimator fitted sk-toggleable\"><input class=\"sk-toggleable__control sk-hidden--visually\" id=\"sk-estimator-id-43\" type=\"checkbox\" ><label for=\"sk-estimator-id-43\" class=\"sk-toggleable__label fitted sk-toggleable__label-arrow fitted\">&nbsp;ExtraTreesClassifier<a class=\"sk-estimator-doc-link fitted\" rel=\"noreferrer\" target=\"_blank\" href=\"https://scikit-learn.org/1.5/modules/generated/sklearn.ensemble.ExtraTreesClassifier.html\">?<span>Documentation for ExtraTreesClassifier</span></a></label><div class=\"sk-toggleable__content fitted\"><pre>ExtraTreesClassifier(max_features=40, min_samples_leaf=2, min_samples_split=5,\n",
       "                     n_estimators=1000)</pre></div> </div></div></div></div></div></div></div><div class=\"sk-item\"><div class=\"sk-parallel\"><div class=\"sk-parallel-item\"><div class=\"sk-item\"><div class=\"sk-label-container\"><div class=\"sk-label fitted sk-toggleable\"><label>final_estimator</label></div></div><div class=\"sk-serial\"><div class=\"sk-item\"><div class=\"sk-estimator fitted sk-toggleable\"><input class=\"sk-toggleable__control sk-hidden--visually\" id=\"sk-estimator-id-44\" type=\"checkbox\" ><label for=\"sk-estimator-id-44\" class=\"sk-toggleable__label fitted sk-toggleable__label-arrow fitted\">&nbsp;LogisticRegression<a class=\"sk-estimator-doc-link fitted\" rel=\"noreferrer\" target=\"_blank\" href=\"https://scikit-learn.org/1.5/modules/generated/sklearn.linear_model.LogisticRegression.html\">?<span>Documentation for LogisticRegression</span></a></label><div class=\"sk-toggleable__content fitted\"><pre>LogisticRegression(C=1)</pre></div> </div></div></div></div></div></div></div></div></div></div></div>"
      ]
     },
     "execution_count": 139,
     "metadata": {},
     "output_type": "execute_result"
    }
   ],
   "execution_count": 139
  },
  {
   "metadata": {
    "ExecuteTime": {
     "end_time": "2025-05-02T14:22:28.666767Z",
     "start_time": "2025-04-26T08:44:10.008785Z"
    }
   },
   "cell_type": "code",
   "source": [
    "stacking_pred = stacking_clf.predict(X_test)\n",
    "stacking_acc = accuracy_score(y_test, stacking_pred)\n",
    "print(\"Stacking Classifier Both Accuracy:\", stacking_acc)"
   ],
   "id": "546cf306eaab8026",
   "outputs": [
    {
     "name": "stdout",
     "output_type": "stream",
     "text": [
      "Stacking Classifier Both Accuracy: 0.8988603988603988\n"
     ]
    }
   ],
   "execution_count": 140
  },
  {
   "metadata": {
    "ExecuteTime": {
     "end_time": "2025-05-02T14:22:28.667373Z",
     "start_time": "2025-04-26T08:44:13.499330Z"
    }
   },
   "cell_type": "code",
   "source": [
    "\n",
    "confusion_counts = classification_counts(y_test, stacking_pred)\n",
    "all_labels = sorted(set(y_test) | set(stacking_pred))\n",
    "\n",
    "df_3 = pd.DataFrame(0, index=all_labels, columns=all_labels)\n",
    "\n",
    "for (true_label, pred_label), count in confusion_counts.items():\n",
    "    df.loc[true_label, pred_label] = count\n",
    "\n",
    "df_3.index = df_3.index.map(label_map)\n",
    "df_3.columns = df_3.columns.map(label_map)\n",
    "\n",
    "plt.figure(figsize=(10, 7))\n",
    "sns.heatmap(df_3, annot=True, fmt='d', cmap='Blues')\n",
    "plt.xlabel('Predicted Label')\n",
    "plt.ylabel('True Label')\n",
    "plt.title('Full Confusion Matrix')\n",
    "plt.show()"
   ],
   "id": "c28a6d73d64a0208",
   "outputs": [
    {
     "data": {
      "text/plain": [
       "<Figure size 1000x700 with 2 Axes>"
      ],
      "image/png": "[encoded data removed]"
     },
     "metadata": {},
     "output_type": "display_data"
    }
   ],
   "execution_count": 141
  },
  {
   "metadata": {},
   "cell_type": "code",
   "outputs": [],
   "execution_count": null,
   "source": "",
   "id": "8e2cf977322280c1"
  }
 ],
 "metadata": {
  "kernelspec": {
   "display_name": "Python [conda env:base] *",
   "language": "python",
   "name": "conda-base-py"
  },
  "language_info": {
   "codemirror_mode": {
    "name": "ipython",
    "version": 2
   },
   "file_extension": ".py",
   "mimetype": "text/x-python",
   "name": "python",
   "nbconvert_exporter": "python",
   "pygments_lexer": "ipython2",
   "version": "2.7.6"
  }
 },
 "nbformat": 4,
 "nbformat_minor": 5
}
