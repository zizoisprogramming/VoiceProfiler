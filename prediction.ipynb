{
 "cells": [
  {
   "cell_type": "code",
   "id": "initial_id",
   "metadata": {
    "collapsed": true,
    "ExecuteTime": {
     "end_time": "2025-04-23T20:27:28.665799Z",
     "start_time": "2025-04-23T20:27:28.411566Z"
    }
   },
   "source": [
    "import numpy as np\n",
    "import pandas as pd\n",
    "import matplotlib.pyplot as plt\n",
    "import seaborn as sns\n",
    "import sklearn\n",
    "import warnings"
   ],
   "outputs": [],
   "execution_count": 1
  },
  {
   "metadata": {
    "ExecuteTime": {
     "end_time": "2025-04-23T20:27:28.769639Z",
     "start_time": "2025-04-23T20:27:28.716039Z"
    }
   },
   "cell_type": "code",
   "source": [
    "files = [\"fixed.csv\"]\n",
    "dfs = []\n",
    "for file in files:\n",
    "    df = pd.read_csv(file)\n",
    "    dfs.append(df)\n",
    "df = pd.concat(dfs, axis=0)"
   ],
   "id": "d02b8d5b9b007c27",
   "outputs": [],
   "execution_count": 2
  },
  {
   "metadata": {
    "ExecuteTime": {
     "end_time": "2025-04-23T20:27:29.235142Z",
     "start_time": "2025-04-23T20:27:29.226455Z"
    }
   },
   "cell_type": "code",
   "source": "df['gender'].value_counts()",
   "id": "711a0facbe2ef74c",
   "outputs": [
    {
     "data": {
      "text/plain": [
       "gender\n",
       "male      2211\n",
       "female     555\n",
       "Name: count, dtype: int64"
      ]
     },
     "execution_count": 3,
     "metadata": {},
     "output_type": "execute_result"
    }
   ],
   "execution_count": 3
  },
  {
   "metadata": {
    "ExecuteTime": {
     "end_time": "2025-04-23T20:27:29.737903Z",
     "start_time": "2025-04-23T20:27:29.733135Z"
    }
   },
   "cell_type": "code",
   "source": "df['age'].value_counts()",
   "id": "721bcc949ae5c0bd",
   "outputs": [
    {
     "data": {
      "text/plain": [
       "age\n",
       "twenties    2220\n",
       "fifties      546\n",
       "Name: count, dtype: int64"
      ]
     },
     "execution_count": 4,
     "metadata": {},
     "output_type": "execute_result"
    }
   ],
   "execution_count": 4
  },
  {
   "metadata": {
    "ExecuteTime": {
     "end_time": "2025-04-23T20:27:29.969273Z",
     "start_time": "2025-04-23T20:27:29.925436Z"
    }
   },
   "cell_type": "code",
   "source": [
    "plt.figure(figsize=(12, 10))\n",
    "df['gender'] = df['gender'].map({'male': 0, 'female': 1})\n",
    "df['age'] = df['age'].map({'twenties': 0, 'fifties': 1})\n",
    "print(df.shape)"
   ],
   "id": "2810f87c8de34969",
   "outputs": [
    {
     "name": "stdout",
     "output_type": "stream",
     "text": [
      "(2766, 106)\n"
     ]
    },
    {
     "data": {
      "text/plain": [
       "<Figure size 1200x1000 with 0 Axes>"
      ]
     },
     "metadata": {},
     "output_type": "display_data"
    }
   ],
   "execution_count": 5
  },
  {
   "metadata": {
    "ExecuteTime": {
     "end_time": "2025-04-23T20:27:30.839404Z",
     "start_time": "2025-04-23T20:27:30.068660Z"
    }
   },
   "cell_type": "code",
   "source": [
    "from sklearn.decomposition import PCA\n",
    "from sklearn.preprocessing import StandardScaler\n",
    "def analyze_feature_correlations(df, threshold=0.5):\n",
    "\n",
    "    numeric_df = df.select_dtypes(include=['number'])\n",
    "\n",
    "    corr_matrix = numeric_df.corr()\n",
    "\n",
    "    # Find high correlations\n",
    "    high_corr = []\n",
    "    for i in range(len(corr_matrix.columns)):\n",
    "        for j in range(i):\n",
    "            if abs(corr_matrix.iloc[i, j]) > threshold:\n",
    "                high_corr.append((corr_matrix.columns[i], corr_matrix.columns[j],\n",
    "                                 corr_matrix.iloc[i, j]))\n",
    "    return high_corr\n",
    "correlated_features = analyze_feature_correlations(df, 0.8)\n",
    "def features_to_keep(all_features, corr_features):\n",
    "    features_set = set()\n",
    "    to_keep = []\n",
    "\n",
    "    for x, y, z in corr_features:\n",
    "        if x not in features_set and y not in features_set:\n",
    "            to_keep.append(x)\n",
    "            features_set.add(x)\n",
    "            features_set.add(y)\n",
    "\n",
    "    for feature in all_features:\n",
    "        if feature not in features_set:\n",
    "            to_keep.append(feature)\n",
    "\n",
    "    return to_keep\n",
    "remaining_features = features_to_keep(df.select_dtypes(include=['number']).columns, correlated_features)\n",
    "remaining_features.append('age')\n",
    "remaining_features.append('gender')\n",
    "remaining_features = list(set(remaining_features))\n",
    "df = df[remaining_features]\n",
    "X = df.drop('gender', axis=1).drop('age',axis=1)\n",
    "print(X.shape, df.shape)"
   ],
   "id": "bdbd6150c4d69c84",
   "outputs": [
    {
     "name": "stdout",
     "output_type": "stream",
     "text": [
      "(2766, 98) (2766, 100)\n"
     ]
    }
   ],
   "execution_count": 6
  },
  {
   "metadata": {
    "ExecuteTime": {
     "end_time": "2025-04-23T20:27:30.849454Z",
     "start_time": "2025-04-23T20:27:30.844077Z"
    }
   },
   "cell_type": "code",
   "source": [
    "from sklearn.metrics import accuracy_score\n",
    "from sklearn.model_selection import cross_val_predict\n",
    "from sklearn.model_selection import train_test_split\n",
    "from sklearn.model_selection import GridSearchCV, RandomizedSearchCV\n",
    "def grid_search_sequential(model_gender, model_age,params_gender, params_age, X_reduced,df, proba = False, verbose_level = 2, mode = 'both'):\n",
    "    X_reduced = np.array(X_reduced)\n",
    "    y = np.array(df['gender'] + 2 * df['age'])\n",
    "    X_train, X_test, y_train, y_test = train_test_split(X_reduced, y, test_size=0.2, random_state=42)\n",
    "    y_train_gender = y_train % 2\n",
    "    y_train_age = y_train // 2\n",
    "    y_test_gender = y_test % 2\n",
    "    y_test_age = y_test // 2\n",
    "    if params_gender is not None:\n",
    "        gender_grid = RandomizedSearchCV(model_gender, param_distributions=params_gender, cv=5, n_jobs=-1, verbose=verbose_level)\n",
    "        gender_grid.fit(X_train, y_train_gender)\n",
    "        gender_classifier = gender_grid.best_estimator_\n",
    "        gender_best_params = gender_grid.best_params_\n",
    "        gender_best_score = gender_grid.best_score_\n",
    "    else:\n",
    "        gender_classifier = model_gender\n",
    "        model_gender.fit(X_train,y_train_gender)\n",
    "        gender_best_score = None\n",
    "        gender_best_params = None\n",
    "    if(mode == 'gender'):\n",
    "        gender_pred_test = gender_classifier.predict(X_test).reshape(-1, 1)\n",
    "        gender_acc = accuracy_score(y_test_gender, gender_pred_test)\n",
    "        print(\"Test set accuracy\", gender_acc)\n",
    "        print(\"Grid Accuracy\", gender_best_score)\n",
    "        return gender_classifier, gender_best_params\n",
    "    ## cross prediction\n",
    "    cv_gender_pred = cross_val_predict(\n",
    "        gender_classifier,\n",
    "        X_train,\n",
    "        y_train_gender,\n",
    "        cv=5,\n",
    "        method='predict_proba' if proba else 'predict'\n",
    "    )\n",
    "\n",
    "    # Format prediction as new feature\n",
    "    if proba:\n",
    "        predicted_gender = cv_gender_pred[:, 1].reshape(-1, 1)\n",
    "    else:\n",
    "        predicted_gender = cv_gender_pred.reshape(-1, 1)\n",
    "    ## concatenate gender\n",
    "    X_train = np.concatenate([X_train, predicted_gender], axis=1)\n",
    "    if params_age is not None:\n",
    "        age_grid = RandomizedSearchCV(model_age, param_distributions=params_age, cv=5, n_jobs=-1, verbose=verbose_level)\n",
    "        age_grid.fit(X_train, y_train_age)\n",
    "        age_classifier = age_grid.best_estimator_\n",
    "        age_best_params = age_grid.best_params_\n",
    "    else:\n",
    "        age_classifier = model_age\n",
    "        model_age.fit(X_train,y_train_age)\n",
    "        age_best_params = None\n",
    "\n",
    "    ### accuracy\n",
    "    gender_pred_test = gender_classifier.predict(X_test).reshape(-1, 1)\n",
    "    gender_acc = accuracy_score(y_test_gender, gender_pred_test)\n",
    "    print(\"Gender Accuracy:\", gender_acc)\n",
    "    if(proba):\n",
    "        gender_proba_test = gender_classifier.predict_proba(X_test)[:,1].reshape(-1, 1)\n",
    "        X_test = np.concatenate([X_test, gender_proba_test], axis=1)\n",
    "    else:\n",
    "        X_test = np.concatenate([X_test, gender_pred_test], axis=1)\n",
    "    age_pred_test = age_classifier.predict(X_test).reshape(-1, 1)\n",
    "    age_acc = accuracy_score(y_test_age, age_pred_test)\n",
    "    print(\"Age Accuracy:\", age_acc)\n",
    "\n",
    "    gender_age = gender_pred_test + 2 * age_pred_test\n",
    "    total_acc = accuracy_score(gender_age, y_test)\n",
    "\n",
    "    print(\"Total Accuracy:\", total_acc)\n",
    "\n",
    "    return gender_classifier, age_classifier, gender_best_params, age_best_params, total_acc"
   ],
   "id": "2c4db2d594cc0992",
   "outputs": [],
   "execution_count": 7
  },
  {
   "metadata": {
    "ExecuteTime": {
     "end_time": "2025-04-23T20:27:31.230205Z",
     "start_time": "2025-04-23T20:27:31.226483Z"
    }
   },
   "cell_type": "code",
   "source": [
    "def predict_gender_age(model_gender, model_age, X, proba):\n",
    "    gender = model_gender.predict(X).reshape(-1, 1)\n",
    "    if(proba):\n",
    "        gender_proba = model_gender.predict_proba(X)[:,1].reshape(-1, 1)\n",
    "        X = np.concatenate([X, gender_proba], axis=1)\n",
    "    else:\n",
    "        X = np.concatenate([X, gender], axis = 1)\n",
    "    age = model_age.predict(X).reshape(-1, 1)\n",
    "    return (gender + 2 * age).flatten()"
   ],
   "id": "c580261604b89599",
   "outputs": [],
   "execution_count": 8
  },
  {
   "metadata": {},
   "cell_type": "markdown",
   "source": [
    "Sequential Accuracy with the result gender (not proba)\n",
    "Gender 0.88, age = 0.81, both 0.74"
   ],
   "id": "ddd686aac8b297ae"
  },
  {
   "metadata": {},
   "cell_type": "markdown",
   "source": "Sequential Accuracy with the result gender proba both 73, age worse than above 0.73\n",
   "id": "944414f42b4f3d0e"
  },
  {
   "metadata": {},
   "cell_type": "markdown",
   "source": "After CHANGING the grid search for more features =>",
   "id": "d7845b8773d92147"
  },
  {
   "metadata": {
    "ExecuteTime": {
     "end_time": "2025-04-23T20:31:04.870232Z",
     "start_time": "2025-04-23T20:29:45.433256Z"
    }
   },
   "cell_type": "code",
   "source": [
    "from sklearn import neighbors\n",
    "from sklearn.ensemble import RandomForestClassifier\n",
    "from sklearn.ensemble import ExtraTreesClassifier\n",
    "from sklearn.linear_model import LogisticRegression\n",
    "from sklearn.svm import SVC\n",
    "from sklearn.tree import DecisionTreeClassifier\n",
    "from sklearn.neighbors import KNeighborsClassifier\n",
    "from Linear_Model_Tree import LinearModelTree\n",
    "from sklearn.naive_bayes import GaussianNB\n",
    "\n",
    "rf = RandomForestClassifier()\n",
    "et = ExtraTreesClassifier()\n",
    "params_dict = {\n",
    "    'rf': {\n",
    "        'n_estimators': [10, 20, 50, 100,300,500,700,1000],\n",
    "        'max_depth': [None, 5, 10, 20],\n",
    "        'min_samples_split': [2, 5, 10],\n",
    "        'min_samples_leaf': [1, 2, 4],\n",
    "        'max_features': ['sqrt', 'log2',15,20,25,30,35,40],\n",
    "    },\n",
    "    'et': {\n",
    "        'n_estimators': [10, 20, 50, 100,300,500,700,1000],\n",
    "        'max_depth': [None, 5, 10, 20],\n",
    "        'min_samples_split': [2, 5, 10],\n",
    "        'min_samples_leaf': [1, 2, 4],\n",
    "        'max_features': ['sqrt', 'log2',15,20,25,30,35,40],\n",
    "    }\n",
    "}\n",
    "model, params = grid_search_sequential(rf, None, params_dict['rf'], None, X, df, proba = False, verbose_level = 2, mode = 'gender')"
   ],
   "id": "24fd2925e42fa0a",
   "outputs": [
    {
     "name": "stdout",
     "output_type": "stream",
     "text": [
      "Fitting 5 folds for each of 10 candidates, totalling 50 fits\n",
      "Test set accuracy 0.9512635379061372\n",
      "Grid Accuracy 0.9471037659724422\n"
     ]
    }
   ],
   "execution_count": 11
  },
  {
   "metadata": {
    "ExecuteTime": {
     "end_time": "2025-04-23T20:31:05.052095Z",
     "start_time": "2025-04-23T20:31:05.050034Z"
    }
   },
   "cell_type": "code",
   "source": "print(params)",
   "id": "bc5d13167860eb1d",
   "outputs": [
    {
     "name": "stdout",
     "output_type": "stream",
     "text": [
      "{'n_estimators': 500, 'min_samples_split': 2, 'min_samples_leaf': 1, 'max_features': 30, 'max_depth': 20}\n"
     ]
    }
   ],
   "execution_count": 12
  },
  {
   "metadata": {},
   "cell_type": "code",
   "outputs": [],
   "execution_count": null,
   "source": "",
   "id": "10b127cc1397a784"
  }
 ],
 "metadata": {
  "kernelspec": {
   "display_name": "Python 3",
   "language": "python",
   "name": "python3"
  },
  "language_info": {
   "codemirror_mode": {
    "name": "ipython",
    "version": 2
   },
   "file_extension": ".py",
   "mimetype": "text/x-python",
   "name": "python",
   "nbconvert_exporter": "python",
   "pygments_lexer": "ipython2",
   "version": "2.7.6"
  }
 },
 "nbformat": 4,
 "nbformat_minor": 5
}
