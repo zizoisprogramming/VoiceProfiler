{
 "cells": [
  {
   "cell_type": "code",
   "metadata": {
    "_cell_guid": "b1076dfc-b9ad-4769-8c92-a6c4dae69d19",
    "_uuid": "8f2839f25d086af736a60e9eeb907d3b93b6e0e5",
    "execution": {
     "iopub.execute_input": "2025-04-23T19:15:42.234773Z",
     "iopub.status.busy": "2025-04-23T19:15:42.234324Z",
     "iopub.status.idle": "2025-04-23T19:15:42.240249Z",
     "shell.execute_reply": "2025-04-23T19:15:42.239079Z",
     "shell.execute_reply.started": "2025-04-23T19:15:42.234740Z"
    },
    "trusted": true,
    "ExecuteTime": {
     "end_time": "2025-04-29T23:56:12.733867Z",
     "start_time": "2025-04-29T23:56:12.731724Z"
    }
   },
   "source": [
    "import numpy as np\n",
    "import pandas as pd \n",
    "import seaborn as sns\n",
    "import matplotlib.pyplot as plt\n",
    "from sklearn.preprocessing import StandardScaler, PowerTransformer, RobustScaler\n",
    "from scipy.stats import skew\n",
    "from matplotlib.gridspec import GridSpec\n"
   ],
   "outputs": [],
   "execution_count": 2
  },
  {
   "cell_type": "code",
   "metadata": {
    "execution": {
     "iopub.execute_input": "2025-04-23T19:15:51.354869Z",
     "iopub.status.busy": "2025-04-23T19:15:51.354488Z",
     "iopub.status.idle": "2025-04-23T19:15:51.602242Z",
     "shell.execute_reply": "2025-04-23T19:15:51.601439Z",
     "shell.execute_reply.started": "2025-04-23T19:15:51.354845Z"
    },
    "trusted": true,
    "ExecuteTime": {
     "end_time": "2025-04-29T23:56:13.194841Z",
     "start_time": "2025-04-29T23:56:12.744893Z"
    }
   },
   "source": [
    "# features = pd.read_csv(\"/kaggle/input/voice-features/features.csv\")\n",
    "# extra_features = pd.read_csv(\"/kaggle/input/voice-features/extracted_features_2k_3.csv\")\n",
    "# assert (features.columns == extra_features.columns).all() == True, 'mismatch in features'\n",
    "# extra_features_v2 = pd.read_csv(\"/kaggle/input/voice-features-2/extracted_features_3k_v2.csv\")\n",
    "# assert (extra_features_v2.columns == extra_features.columns).all() == True, 'mismatch in features'\n",
    "features = pd.read_csv(\"combined_20k.csv\")\n",
    "extra_features = pd.read_csv(\"fifties_b_1_4_7_10_12_16_17_20.csv\")\n",
    "extra_1 = pd.read_csv(\"1k_male_twenties_b_5.csv\")\n",
    "extra_2 = pd.read_csv(\"males_fifties_b7_11_14.csv\")\n",
    "extra_3 = pd.read_csv(\"female_20_b_5_7_11_14.csv\")\n"
   ],
   "outputs": [],
   "execution_count": 3
  },
  {
   "cell_type": "code",
   "metadata": {
    "execution": {
     "iopub.execute_input": "2025-04-23T19:15:51.681662Z",
     "iopub.status.busy": "2025-04-23T19:15:51.681345Z",
     "iopub.status.idle": "2025-04-23T19:15:51.686599Z",
     "shell.execute_reply": "2025-04-23T19:15:51.685753Z",
     "shell.execute_reply.started": "2025-04-23T19:15:51.681642Z"
    },
    "trusted": true,
    "ExecuteTime": {
     "end_time": "2025-04-29T23:56:13.216471Z",
     "start_time": "2025-04-29T23:56:13.214098Z"
    }
   },
   "source": [
    "def get_data_again():\n",
    "    return pd.concat([features, extra_features, extra_1, extra_2, extra_3])"
   ],
   "outputs": [],
   "execution_count": 4
  },
  {
   "cell_type": "code",
   "metadata": {
    "execution": {
     "iopub.execute_input": "2025-04-23T19:15:52.179585Z",
     "iopub.status.busy": "2025-04-23T19:15:52.179251Z",
     "iopub.status.idle": "2025-04-23T19:15:52.207127Z",
     "shell.execute_reply": "2025-04-23T19:15:52.206263Z",
     "shell.execute_reply.started": "2025-04-23T19:15:52.179562Z"
    },
    "trusted": true,
    "ExecuteTime": {
     "end_time": "2025-04-29T23:56:13.237128Z",
     "start_time": "2025-04-29T23:56:13.229324Z"
    }
   },
   "source": "df = get_data_again()",
   "outputs": [],
   "execution_count": 5
  },
  {
   "cell_type": "code",
   "metadata": {
    "execution": {
     "iopub.execute_input": "2025-04-23T19:15:53.339390Z",
     "iopub.status.busy": "2025-04-23T19:15:53.338644Z",
     "iopub.status.idle": "2025-04-23T19:15:53.579292Z",
     "shell.execute_reply": "2025-04-23T19:15:53.578320Z",
     "shell.execute_reply.started": "2025-04-23T19:15:53.339361Z"
    },
    "trusted": true,
    "ExecuteTime": {
     "end_time": "2025-04-29T23:56:13.462270Z",
     "start_time": "2025-04-29T23:56:13.251946Z"
    }
   },
   "source": [
    "df.describe()"
   ],
   "outputs": [
    {
     "data": {
      "text/plain": [
       "           duration           wps       f0_mean        f0_std  \\\n",
       "count  42118.000000  42118.000000  42117.000000  42117.000000   \n",
       "mean       4.890455      1.942890    174.763252     54.862129   \n",
       "std        1.861120      0.513519     51.996733     33.466676   \n",
       "min        2.016000      0.105237     76.629972      0.041616   \n",
       "25%        3.504000      1.593137    131.492196     29.455499   \n",
       "50%        4.704000      1.893939    166.723815     48.810945   \n",
       "75%        6.024000      2.245509    211.877654     72.400383   \n",
       "max      142.536000      7.575758    554.447301    219.438689   \n",
       "\n",
       "       f0_5_percentile  f0_95_percentile         tempo      formant1  \\\n",
       "count     42117.000000      42117.000000  42118.000000  42118.000000   \n",
       "mean        120.060346        268.436914      4.965043    694.813572   \n",
       "std          37.045345        117.922344      1.236501    447.065362   \n",
       "min          75.015760         77.813936      0.255624     50.983515   \n",
       "25%          91.030161        173.046506      4.166667    393.397998   \n",
       "50%         107.153413        243.764589      4.955947    536.449057   \n",
       "75%         144.204670        325.532225      5.747126    840.499305   \n",
       "max         511.800220        598.701914     13.745704   3575.243106   \n",
       "\n",
       "           formant2      formant3  ...  mfcc_9_skewness  mfcc_10_skewness  \\\n",
       "count  42118.000000  42116.000000  ...     42118.000000      42118.000000   \n",
       "mean    1848.841425   2903.896129  ...        -0.422572         -0.273679   \n",
       "std      553.986976    537.210369  ...         0.498479          0.519671   \n",
       "min      290.745080    832.458472  ...        -3.904349         -3.571684   \n",
       "25%     1473.657677   2556.379517  ...        -0.730329         -0.609047   \n",
       "50%     1813.015559   2870.321390  ...        -0.462152         -0.308338   \n",
       "75%     2190.332703   3215.787323  ...        -0.156368          0.044356   \n",
       "max     4360.867196   5448.624708  ...         2.554947          3.057680   \n",
       "\n",
       "       mfcc_11_skewness  mfcc_12_skewness      cpp_mean      ste_mean  \\\n",
       "count      42118.000000      42118.000000  42118.000000  42118.000000   \n",
       "mean          -0.354564         -0.243305      0.001615      1.879779   \n",
       "std            0.456663          0.511102      0.037119      2.210391   \n",
       "min           -3.105003         -2.827483     -0.271296      0.000035   \n",
       "25%           -0.632016         -0.582360     -0.019990      0.358513   \n",
       "50%           -0.368808         -0.275252      0.003080      1.326425   \n",
       "75%           -0.090811          0.073709      0.025310      2.637283   \n",
       "max            2.043208          2.856366      0.242962     49.807609   \n",
       "\n",
       "            ste_std       ste_max       ste_min  ste_variance  \n",
       "count  42118.000000  42118.000000  4.211800e+04  4.211800e+04  \n",
       "mean       3.295281     18.948597  1.638018e-04  2.222702e+01  \n",
       "std        3.371708     18.452709  1.979397e-03  6.391048e+01  \n",
       "min        0.000089      0.000465  4.357569e-26  7.888811e-09  \n",
       "25%        0.712315      4.470338  4.928613e-08  5.073920e-01  \n",
       "50%        2.590566     15.574315  1.651783e-06  6.711032e+00  \n",
       "75%        4.823945     27.441462  2.516373e-05  2.327045e+01  \n",
       "max       50.227306    257.871638  3.280838e-01  2.522782e+03  \n",
       "\n",
       "[8 rows x 120 columns]"
      ],
      "text/html": [
       "<div>\n",
       "<style scoped>\n",
       "    .dataframe tbody tr th:only-of-type {\n",
       "        vertical-align: middle;\n",
       "    }\n",
       "\n",
       "    .dataframe tbody tr th {\n",
       "        vertical-align: top;\n",
       "    }\n",
       "\n",
       "    .dataframe thead th {\n",
       "        text-align: right;\n",
       "    }\n",
       "</style>\n",
       "<table border=\"1\" class=\"dataframe\">\n",
       "  <thead>\n",
       "    <tr style=\"text-align: right;\">\n",
       "      <th></th>\n",
       "      <th>duration</th>\n",
       "      <th>wps</th>\n",
       "      <th>f0_mean</th>\n",
       "      <th>f0_std</th>\n",
       "      <th>f0_5_percentile</th>\n",
       "      <th>f0_95_percentile</th>\n",
       "      <th>tempo</th>\n",
       "      <th>formant1</th>\n",
       "      <th>formant2</th>\n",
       "      <th>formant3</th>\n",
       "      <th>...</th>\n",
       "      <th>mfcc_9_skewness</th>\n",
       "      <th>mfcc_10_skewness</th>\n",
       "      <th>mfcc_11_skewness</th>\n",
       "      <th>mfcc_12_skewness</th>\n",
       "      <th>cpp_mean</th>\n",
       "      <th>ste_mean</th>\n",
       "      <th>ste_std</th>\n",
       "      <th>ste_max</th>\n",
       "      <th>ste_min</th>\n",
       "      <th>ste_variance</th>\n",
       "    </tr>\n",
       "  </thead>\n",
       "  <tbody>\n",
       "    <tr>\n",
       "      <th>count</th>\n",
       "      <td>42118.000000</td>\n",
       "      <td>42118.000000</td>\n",
       "      <td>42117.000000</td>\n",
       "      <td>42117.000000</td>\n",
       "      <td>42117.000000</td>\n",
       "      <td>42117.000000</td>\n",
       "      <td>42118.000000</td>\n",
       "      <td>42118.000000</td>\n",
       "      <td>42118.000000</td>\n",
       "      <td>42116.000000</td>\n",
       "      <td>...</td>\n",
       "      <td>42118.000000</td>\n",
       "      <td>42118.000000</td>\n",
       "      <td>42118.000000</td>\n",
       "      <td>42118.000000</td>\n",
       "      <td>42118.000000</td>\n",
       "      <td>42118.000000</td>\n",
       "      <td>42118.000000</td>\n",
       "      <td>42118.000000</td>\n",
       "      <td>4.211800e+04</td>\n",
       "      <td>4.211800e+04</td>\n",
       "    </tr>\n",
       "    <tr>\n",
       "      <th>mean</th>\n",
       "      <td>4.890455</td>\n",
       "      <td>1.942890</td>\n",
       "      <td>174.763252</td>\n",
       "      <td>54.862129</td>\n",
       "      <td>120.060346</td>\n",
       "      <td>268.436914</td>\n",
       "      <td>4.965043</td>\n",
       "      <td>694.813572</td>\n",
       "      <td>1848.841425</td>\n",
       "      <td>2903.896129</td>\n",
       "      <td>...</td>\n",
       "      <td>-0.422572</td>\n",
       "      <td>-0.273679</td>\n",
       "      <td>-0.354564</td>\n",
       "      <td>-0.243305</td>\n",
       "      <td>0.001615</td>\n",
       "      <td>1.879779</td>\n",
       "      <td>3.295281</td>\n",
       "      <td>18.948597</td>\n",
       "      <td>1.638018e-04</td>\n",
       "      <td>2.222702e+01</td>\n",
       "    </tr>\n",
       "    <tr>\n",
       "      <th>std</th>\n",
       "      <td>1.861120</td>\n",
       "      <td>0.513519</td>\n",
       "      <td>51.996733</td>\n",
       "      <td>33.466676</td>\n",
       "      <td>37.045345</td>\n",
       "      <td>117.922344</td>\n",
       "      <td>1.236501</td>\n",
       "      <td>447.065362</td>\n",
       "      <td>553.986976</td>\n",
       "      <td>537.210369</td>\n",
       "      <td>...</td>\n",
       "      <td>0.498479</td>\n",
       "      <td>0.519671</td>\n",
       "      <td>0.456663</td>\n",
       "      <td>0.511102</td>\n",
       "      <td>0.037119</td>\n",
       "      <td>2.210391</td>\n",
       "      <td>3.371708</td>\n",
       "      <td>18.452709</td>\n",
       "      <td>1.979397e-03</td>\n",
       "      <td>6.391048e+01</td>\n",
       "    </tr>\n",
       "    <tr>\n",
       "      <th>min</th>\n",
       "      <td>2.016000</td>\n",
       "      <td>0.105237</td>\n",
       "      <td>76.629972</td>\n",
       "      <td>0.041616</td>\n",
       "      <td>75.015760</td>\n",
       "      <td>77.813936</td>\n",
       "      <td>0.255624</td>\n",
       "      <td>50.983515</td>\n",
       "      <td>290.745080</td>\n",
       "      <td>832.458472</td>\n",
       "      <td>...</td>\n",
       "      <td>-3.904349</td>\n",
       "      <td>-3.571684</td>\n",
       "      <td>-3.105003</td>\n",
       "      <td>-2.827483</td>\n",
       "      <td>-0.271296</td>\n",
       "      <td>0.000035</td>\n",
       "      <td>0.000089</td>\n",
       "      <td>0.000465</td>\n",
       "      <td>4.357569e-26</td>\n",
       "      <td>7.888811e-09</td>\n",
       "    </tr>\n",
       "    <tr>\n",
       "      <th>25%</th>\n",
       "      <td>3.504000</td>\n",
       "      <td>1.593137</td>\n",
       "      <td>131.492196</td>\n",
       "      <td>29.455499</td>\n",
       "      <td>91.030161</td>\n",
       "      <td>173.046506</td>\n",
       "      <td>4.166667</td>\n",
       "      <td>393.397998</td>\n",
       "      <td>1473.657677</td>\n",
       "      <td>2556.379517</td>\n",
       "      <td>...</td>\n",
       "      <td>-0.730329</td>\n",
       "      <td>-0.609047</td>\n",
       "      <td>-0.632016</td>\n",
       "      <td>-0.582360</td>\n",
       "      <td>-0.019990</td>\n",
       "      <td>0.358513</td>\n",
       "      <td>0.712315</td>\n",
       "      <td>4.470338</td>\n",
       "      <td>4.928613e-08</td>\n",
       "      <td>5.073920e-01</td>\n",
       "    </tr>\n",
       "    <tr>\n",
       "      <th>50%</th>\n",
       "      <td>4.704000</td>\n",
       "      <td>1.893939</td>\n",
       "      <td>166.723815</td>\n",
       "      <td>48.810945</td>\n",
       "      <td>107.153413</td>\n",
       "      <td>243.764589</td>\n",
       "      <td>4.955947</td>\n",
       "      <td>536.449057</td>\n",
       "      <td>1813.015559</td>\n",
       "      <td>2870.321390</td>\n",
       "      <td>...</td>\n",
       "      <td>-0.462152</td>\n",
       "      <td>-0.308338</td>\n",
       "      <td>-0.368808</td>\n",
       "      <td>-0.275252</td>\n",
       "      <td>0.003080</td>\n",
       "      <td>1.326425</td>\n",
       "      <td>2.590566</td>\n",
       "      <td>15.574315</td>\n",
       "      <td>1.651783e-06</td>\n",
       "      <td>6.711032e+00</td>\n",
       "    </tr>\n",
       "    <tr>\n",
       "      <th>75%</th>\n",
       "      <td>6.024000</td>\n",
       "      <td>2.245509</td>\n",
       "      <td>211.877654</td>\n",
       "      <td>72.400383</td>\n",
       "      <td>144.204670</td>\n",
       "      <td>325.532225</td>\n",
       "      <td>5.747126</td>\n",
       "      <td>840.499305</td>\n",
       "      <td>2190.332703</td>\n",
       "      <td>3215.787323</td>\n",
       "      <td>...</td>\n",
       "      <td>-0.156368</td>\n",
       "      <td>0.044356</td>\n",
       "      <td>-0.090811</td>\n",
       "      <td>0.073709</td>\n",
       "      <td>0.025310</td>\n",
       "      <td>2.637283</td>\n",
       "      <td>4.823945</td>\n",
       "      <td>27.441462</td>\n",
       "      <td>2.516373e-05</td>\n",
       "      <td>2.327045e+01</td>\n",
       "    </tr>\n",
       "    <tr>\n",
       "      <th>max</th>\n",
       "      <td>142.536000</td>\n",
       "      <td>7.575758</td>\n",
       "      <td>554.447301</td>\n",
       "      <td>219.438689</td>\n",
       "      <td>511.800220</td>\n",
       "      <td>598.701914</td>\n",
       "      <td>13.745704</td>\n",
       "      <td>3575.243106</td>\n",
       "      <td>4360.867196</td>\n",
       "      <td>5448.624708</td>\n",
       "      <td>...</td>\n",
       "      <td>2.554947</td>\n",
       "      <td>3.057680</td>\n",
       "      <td>2.043208</td>\n",
       "      <td>2.856366</td>\n",
       "      <td>0.242962</td>\n",
       "      <td>49.807609</td>\n",
       "      <td>50.227306</td>\n",
       "      <td>257.871638</td>\n",
       "      <td>3.280838e-01</td>\n",
       "      <td>2.522782e+03</td>\n",
       "    </tr>\n",
       "  </tbody>\n",
       "</table>\n",
       "<p>8 rows × 120 columns</p>\n",
       "</div>"
      ]
     },
     "execution_count": 6,
     "metadata": {},
     "output_type": "execute_result"
    }
   ],
   "execution_count": 6
  },
  {
   "cell_type": "code",
   "metadata": {
    "execution": {
     "iopub.execute_input": "2025-04-23T19:15:53.921914Z",
     "iopub.status.busy": "2025-04-23T19:15:53.921078Z",
     "iopub.status.idle": "2025-04-23T19:15:53.926583Z",
     "shell.execute_reply": "2025-04-23T19:15:53.925532Z",
     "shell.execute_reply.started": "2025-04-23T19:15:53.921879Z"
    },
    "trusted": true,
    "ExecuteTime": {
     "end_time": "2025-04-29T23:56:13.505913Z",
     "start_time": "2025-04-29T23:56:13.503396Z"
    }
   },
   "source": [
    "def check_nulls(df):\n",
    "    a = df.isna().sum()\n",
    "    for index, value in a.items():\n",
    "        if value > 0:\n",
    "            return False\n",
    "    return True"
   ],
   "outputs": [],
   "execution_count": 7
  },
  {
   "cell_type": "code",
   "metadata": {
    "execution": {
     "iopub.execute_input": "2025-04-23T19:15:54.479378Z",
     "iopub.status.busy": "2025-04-23T19:15:54.478510Z",
     "iopub.status.idle": "2025-04-23T19:15:54.485993Z",
     "shell.execute_reply": "2025-04-23T19:15:54.485010Z",
     "shell.execute_reply.started": "2025-04-23T19:15:54.479348Z"
    },
    "trusted": true,
    "ExecuteTime": {
     "end_time": "2025-04-29T23:56:13.560878Z",
     "start_time": "2025-04-29T23:56:13.557902Z"
    }
   },
   "source": [
    "def smart_normalize(df, skew_threshold=0.5):\n",
    "\n",
    "    numeric_cols = df.select_dtypes(include=['number']).columns\n",
    "    df_normalized = df.copy()\n",
    "    transformations = {}\n",
    "    \n",
    "    # Step 1: Skewness correction\n",
    "    for col in numeric_cols:\n",
    "        col_skew = skew(df[col].dropna())\n",
    "        if abs(col_skew) > skew_threshold:\n",
    "            # Apply Yeo-Johnson power transform (handles positive/negative values)\n",
    "            pt = PowerTransformer(method='yeo-johnson')\n",
    "            df_normalized[col] = pt.fit_transform(df[[col]]).flatten()\n",
    "            transformations[col] = {\n",
    "                'step1': 'power_transform',\n",
    "                'skewness': col_skew,\n",
    "                'transformer': pt\n",
    "            }\n",
    "        else:\n",
    "            transformations[col] = {\n",
    "                'step1': 'none',\n",
    "                'skewness': col_skew\n",
    "            }\n",
    "    \n",
    "    # Step 2: Standard scaling (applied to all numeric columns)\n",
    "    scaler = StandardScaler()\n",
    "    df_normalized[numeric_cols] = scaler.fit_transform(df_normalized[numeric_cols])\n",
    "    transformations['_standard_scaler'] = scaler\n",
    "    \n",
    "    return df_normalized, transformations"
   ],
   "outputs": [],
   "execution_count": 8
  },
  {
   "cell_type": "code",
   "metadata": {
    "execution": {
     "iopub.execute_input": "2025-04-23T19:15:55.543578Z",
     "iopub.status.busy": "2025-04-23T19:15:55.543234Z",
     "iopub.status.idle": "2025-04-23T19:15:55.549867Z",
     "shell.execute_reply": "2025-04-23T19:15:55.548908Z",
     "shell.execute_reply.started": "2025-04-23T19:15:55.543555Z"
    },
    "trusted": true,
    "ExecuteTime": {
     "end_time": "2025-04-29T23:56:13.567360Z",
     "start_time": "2025-04-29T23:56:13.564111Z"
    }
   },
   "source": [
    "def remove_outliers(df, outliers_cols, threshold_percent = 1):\n",
    "    numeric_cols = df.select_dtypes(include=['number']).columns\n",
    "    df_clean = df.copy()\n",
    "    \n",
    "    for i, (col, states) in enumerate(outliers_cols.items()):\n",
    "        if states['percent'] < threshold_percent:\n",
    "            lower_bound = states['lower_bound']\n",
    "            upper_bound = states['upper_bound']\n",
    "            \n",
    "            df_clean = df_clean[(df_clean[col] >= lower_bound) & (df_clean[col] <= upper_bound)]\n",
    "        \n",
    "    return df_clean"
   ],
   "outputs": [],
   "execution_count": 9
  },
  {
   "cell_type": "code",
   "metadata": {
    "execution": {
     "iopub.execute_input": "2025-04-23T19:15:55.821576Z",
     "iopub.status.busy": "2025-04-23T19:15:55.820916Z",
     "iopub.status.idle": "2025-04-23T19:15:55.828348Z",
     "shell.execute_reply": "2025-04-23T19:15:55.827408Z",
     "shell.execute_reply.started": "2025-04-23T19:15:55.821547Z"
    },
    "trusted": true,
    "ExecuteTime": {
     "end_time": "2025-04-29T23:56:13.632541Z",
     "start_time": "2025-04-29T23:56:13.629443Z"
    }
   },
   "source": [
    "def find_high_outlier_columns(df):\n",
    "    outlier_columns = {}\n",
    "    \n",
    "    for col in df.select_dtypes(include=np.number).columns:\n",
    "        if col == 'age' or df[col].nunique() < 10:  \n",
    "            continue\n",
    "            \n",
    "        Q1 = df[col].quantile(0.1)\n",
    "        Q3 = df[col].quantile(0.9)\n",
    "        IQR = Q3 - Q1\n",
    "        \n",
    "        lower_bound = Q1 - 1.5 * IQR\n",
    "        upper_bound = Q3 + 1.5 * IQR\n",
    "        \n",
    "        outliers = df[(df[col] < lower_bound) | (df[col] > upper_bound)][col]\n",
    "        outlier_percent = (len(outliers) / len(df[col].dropna())) * 100\n",
    "        \n",
    "        outlier_columns[col] = {\n",
    "            'percent': outlier_percent,\n",
    "            'count': len(outliers),\n",
    "            'lower_bound': lower_bound,\n",
    "            'upper_bound': upper_bound\n",
    "        }\n",
    "            \n",
    "    return outlier_columns"
   ],
   "outputs": [],
   "execution_count": 10
  },
  {
   "cell_type": "code",
   "metadata": {
    "execution": {
     "iopub.execute_input": "2025-04-23T19:15:56.730969Z",
     "iopub.status.busy": "2025-04-23T19:15:56.730618Z",
     "iopub.status.idle": "2025-04-23T19:15:56.740866Z",
     "shell.execute_reply": "2025-04-23T19:15:56.739763Z",
     "shell.execute_reply.started": "2025-04-23T19:15:56.730945Z"
    },
    "trusted": true,
    "ExecuteTime": {
     "end_time": "2025-04-29T23:56:13.718780Z",
     "start_time": "2025-04-29T23:56:13.714111Z"
    }
   },
   "source": [
    "def visualize_outliers(df, outlier_columns):\n",
    "    if not outlier_columns:\n",
    "        print(\"No columns with more than 5% outliers found.\")\n",
    "        return\n",
    "    percent = -1\n",
    "    for i, (col, stats) in enumerate(outlier_columns.items()):\n",
    "        percent = max(percent, stats['percent'])\n",
    "        if stats['percent'] > 5:\n",
    "            plt.figure(figsize=(15, 8))\n",
    "            gs = GridSpec(2, 2, height_ratios=[3, 1])\n",
    "            \n",
    "            # Box plot\n",
    "            ax1 = plt.subplot(gs[0, 0])\n",
    "            sns.boxplot(x=df[col], ax=ax1)\n",
    "            ax1.set_title(f\"Box Plot: {col}\")\n",
    "            \n",
    "            # Histogram with KDE\n",
    "            ax2 = plt.subplot(gs[0, 1])\n",
    "            sns.histplot(df[col], kde=True, ax=ax2)\n",
    "            ax2.axvline(stats['lower_bound'], color='r', linestyle='--', label='Outlier Threshold')\n",
    "            ax2.axvline(stats['upper_bound'], color='r', linestyle='--')\n",
    "            ax2.legend()\n",
    "            ax2.set_title(f\"Distribution: {col}\")\n",
    "            \n",
    "            # Outlier detail table\n",
    "            ax3 = plt.subplot(gs[1, :])\n",
    "            ax3.axis('off')\n",
    "            outlier_text = (\n",
    "                f\"Column: {col}\\n\"\n",
    "                f\"Outliers: {stats['count']} values ({stats['percent']:.2f}% of non-null data)\\n\"\n",
    "                f\"Lower bound: {stats['lower_bound']:.2f}\\n\"\n",
    "                f\"Upper bound: {stats['upper_bound']:.2f}\\n\"\n",
    "                f\"Min: {df[col].min():.2f}, Max: {df[col].max():.2f}\\n\"\n",
    "                f\"Mean: {df[col].mean():.2f}, Median: {df[col].median():.2f}\"\n",
    "            )\n",
    "            ax3.text(0.5, 0.5, outlier_text, ha='center', va='center', fontsize=12)\n",
    "            \n",
    "            plt.tight_layout()\n",
    "            plt.show()\n",
    "            \n",
    "            # Print summary\n",
    "            print(f\"\\n📊 Outlier Analysis for {col}:\")\n",
    "            print(f\"  • {stats['percent']:.2f}% of values are outliers ({stats['count']} out of {len(df[col].dropna())})\")\n",
    "            print(f\"  • Outlier thresholds: < {stats['lower_bound']:.2f} or > {stats['upper_bound']:.2f}\")\n",
    "            print(\"──\"*40)\n",
    "    print(\"Max Percentage of Outliers: \", percent)"
   ],
   "outputs": [],
   "execution_count": 11
  },
  {
   "cell_type": "code",
   "metadata": {
    "execution": {
     "iopub.execute_input": "2025-04-23T19:31:00.865945Z",
     "iopub.status.busy": "2025-04-23T19:31:00.865575Z",
     "iopub.status.idle": "2025-04-23T19:31:00.878925Z",
     "shell.execute_reply": "2025-04-23T19:31:00.877783Z",
     "shell.execute_reply.started": "2025-04-23T19:31:00.865920Z"
    },
    "trusted": true,
    "ExecuteTime": {
     "end_time": "2025-04-29T23:56:13.751764Z",
     "start_time": "2025-04-29T23:56:13.746755Z"
    }
   },
   "source": [
    "def view_outlier_dist(df, outlier_columns):\n",
    "    for i, (col, stats) in enumerate(outlier_columns.items()):\n",
    "        if stats['percent'] > 5:\n",
    "            df_clean = df.copy()\n",
    "            df = df_clean[(df_clean[col] >= stats['lower_bound']) & (df_clean[col] <= stats['upper_bound'])]\n",
    "            \n",
    "            male_df = df_clean[df_clean['gender'] == 'male']\n",
    "            female_df = df_clean[df_clean['gender'] == 'female']\n",
    "                \n",
    "            male_stats = {'mean': male_df[col].mean(), 'std': male_df[col].std()}\n",
    "            female_stats = {'mean': female_df[col].mean(), 'std': female_df[col].std()}\n",
    "            \n",
    "            male_snr = abs(male_stats['mean']) / male_stats['std'] if male_stats['std'] != 0 else 0\n",
    "            female_snr = abs(female_stats['mean']) / female_stats['std'] if female_stats['std'] != 0 else 0\n",
    "            \n",
    "            pooled_std = np.sqrt((male_stats['std']**2 + female_stats['std']**2)/2)\n",
    "            cohens_d = abs(male_stats['mean'] - female_stats['mean']) / pooled_std\n",
    "            print(cohens_d)\n",
    "            \n",
    "            plt.figure(figsize=(12, 6))\n",
    "            \n",
    "            # Distribution plot\n",
    "            sns.kdeplot(data=df_clean, x=col, hue='gender', fill=True, alpha=0.3, \n",
    "                       common_norm=False, palette={'male':'blue', 'female':'orange'}, hue_order=('male', 'female'))\n",
    "            \n",
    "            plt.axvline(male_stats['mean'], color='blue', linestyle='--', \n",
    "                        label=f\"Male: μ = {male_stats['mean']:.2f}, σ = {male_stats['std']:.2f}\")\n",
    "            plt.axvline(female_stats['mean'], color='orange', linestyle='--',\n",
    "                        label=f\"Female: μ = {female_stats['mean']:.2f}, σ = {female_stats['std']:.2f}\")\n",
    "            \n",
    "            plt.axvspan(male_stats['mean'] - male_stats['std'], male_stats['mean'] + male_stats['std'], \n",
    "                        color='blue', alpha=0.1)\n",
    "            plt.axvspan(female_stats['mean'] - female_stats['std'], female_stats['mean'] + female_stats['std'],\n",
    "                       color='orange', alpha=0.1)\n",
    "            \n",
    "            plt.title(f\"{col}\\nCohen's d = {cohens_d:.2f} (Male SNR: {male_snr:.2f}, Female SNR: {female_snr:.2f})\")\n",
    "            plt.legend()\n",
    "            plt.tight_layout()\n",
    "            plt.show()\n",
    "            \n",
    "            # Print comprehensive comparison\n",
    "            print(f\"\\n📊 {col}\")\n",
    "            print(f\"   Male: μ/σ = {male_snr:.2f} (μ = {male_stats['mean']:.2f}, σ = {male_stats['std']:.2f})\")\n",
    "            print(f\" Female: μ/σ = {female_snr:.2f} (μ = {female_stats['mean']:.2f}, σ = {female_stats['std']:.2f})\")\n",
    "            print(f\" Standardized difference (Cohen's d): {cohens_d:.2f}\")\n",
    "            print(\"──\"*30)"
   ],
   "outputs": [],
   "execution_count": 12
  },
  {
   "cell_type": "code",
   "metadata": {
    "execution": {
     "iopub.execute_input": "2025-04-23T19:30:53.403296Z",
     "iopub.status.busy": "2025-04-23T19:30:53.402972Z",
     "iopub.status.idle": "2025-04-23T19:30:53.414746Z",
     "shell.execute_reply": "2025-04-23T19:30:53.413529Z",
     "shell.execute_reply.started": "2025-04-23T19:30:53.403273Z"
    },
    "trusted": true,
    "ExecuteTime": {
     "end_time": "2025-04-29T23:56:13.759506Z",
     "start_time": "2025-04-29T23:56:13.754550Z"
    }
   },
   "source": [
    "def plot_male_female_diff(male_df, female_df):\n",
    "    for col in male_df.select_dtypes(include=np.number).columns:  # Only numeric columns\n",
    "        if col == 'gender':\n",
    "            continue\n",
    "            \n",
    "        male_stats = {'mean': male_df[col].mean(), 'std': male_df[col].std()}\n",
    "        female_stats = {'mean': female_df[col].mean(), 'std': female_df[col].std()}\n",
    "        \n",
    "        male_snr = abs(male_stats['mean']) / male_stats['std'] if male_stats['std'] != 0 else 0\n",
    "        female_snr = abs(female_stats['mean']) / female_stats['std'] if female_stats['std'] != 0 else 0\n",
    "        \n",
    "        pooled_std = np.sqrt((male_stats['std']**2 + female_stats['std']**2)/2)\n",
    "        cohens_d = abs(male_stats['mean'] - female_stats['mean']) / pooled_std\n",
    "        \n",
    "        if cohens_d > 0.4:\n",
    "            plt.figure(figsize=(12, 6))\n",
    "            \n",
    "            # Distribution plot\n",
    "            sns.kdeplot(data=df, x=col, hue='gender', fill=True, alpha=0.3, \n",
    "                       common_norm=False, palette={'male':'blue', 'female':'orange'}, hue_order=('male', 'female'))\n",
    "            \n",
    "            plt.axvline(male_stats['mean'], color='blue', linestyle='--', \n",
    "                        label=f\"Male: μ = {male_stats['mean']:.2f}, σ = {male_stats['std']:.2f}\")\n",
    "            plt.axvline(female_stats['mean'], color='orange', linestyle='--',\n",
    "                        label=f\"Female: μ = {female_stats['mean']:.2f}, σ = {female_stats['std']:.2f}\")\n",
    "            \n",
    "            plt.axvspan(male_stats['mean'] - male_stats['std'], male_stats['mean'] + male_stats['std'], \n",
    "                        color='blue', alpha=0.1)\n",
    "            plt.axvspan(female_stats['mean'] - female_stats['std'], female_stats['mean'] + female_stats['std'],\n",
    "                       color='orange', alpha=0.1)\n",
    "            \n",
    "            plt.title(f\"{col}\\nCohen's d = {cohens_d:.2f} (Male SNR: {male_snr:.2f}, Female SNR: {female_snr:.2f})\")\n",
    "            plt.legend()\n",
    "            plt.tight_layout()\n",
    "            plt.show()\n",
    "            \n",
    "            # Print comprehensive comparison\n",
    "            print(f\"\\n📊 {col}\")\n",
    "            print(f\"   Male: μ/σ = {male_snr:.2f} (μ = {male_stats['mean']:.2f}, σ = {male_stats['std']:.2f})\")\n",
    "            print(f\" Female: μ/σ = {female_snr:.2f} (μ = {female_stats['mean']:.2f}, σ = {female_stats['std']:.2f})\")\n",
    "            print(f\" Standardized difference (Cohen's d): {cohens_d:.2f}\")\n",
    "            print(\"──\"*30)"
   ],
   "outputs": [],
   "execution_count": 13
  },
  {
   "cell_type": "code",
   "metadata": {
    "execution": {
     "iopub.execute_input": "2025-04-23T19:30:45.653983Z",
     "iopub.status.busy": "2025-04-23T19:30:45.653604Z",
     "iopub.status.idle": "2025-04-23T19:30:45.666127Z",
     "shell.execute_reply": "2025-04-23T19:30:45.665163Z",
     "shell.execute_reply.started": "2025-04-23T19:30:45.653956Z"
    },
    "trusted": true,
    "ExecuteTime": {
     "end_time": "2025-04-29T23:56:13.779391Z",
     "start_time": "2025-04-29T23:56:13.774589Z"
    }
   },
   "source": [
    "def plot_twenties_vs_fifties(twenties_df, fifties_df):\n",
    "    for col in twenties_df.select_dtypes(include=np.number).columns:  \n",
    "        if col == 'age':  \n",
    "            continue\n",
    "            \n",
    "        # Calculate statistics\n",
    "        twenties_stats = {'mean': twenties_df[col].mean(), 'std': twenties_df[col].std()}\n",
    "        fifties_stats = {'mean': fifties_df[col].mean(), 'std': fifties_df[col].std()}\n",
    "        \n",
    "        # Calculate signal-to-noise ratio (mean/std)\n",
    "        twenties_snr = abs(twenties_stats['mean']) / twenties_stats['std'] if twenties_stats['std'] != 0 else 0\n",
    "        fifties_snr = abs(fifties_stats['mean']) / fifties_stats['std'] if fifties_stats['std'] != 0 else 0\n",
    "        \n",
    "        # Calculate standardized mean difference (Cohen's d)\n",
    "        pooled_std = np.sqrt((twenties_stats['std']**2 + fifties_stats['std']**2)/2)\n",
    "        cohens_d = abs(twenties_stats['mean'] - fifties_stats['mean']) / pooled_std\n",
    "        \n",
    "        # Only plot if substantial difference exists (Cohen's d > 0.4 effect)\n",
    "        if cohens_d > 0.2:\n",
    "            plt.figure(figsize=(12, 6))\n",
    "            \n",
    "            # Create temp dataframe with age groups for plotting\n",
    "            plot_df = pd.concat([\n",
    "                twenties_df[col].to_frame().assign(age_group='20-29'),\n",
    "                fifties_df[col].to_frame().assign(age_group='50-59')\n",
    "            ])\n",
    "            \n",
    "            # Distribution plot\n",
    "            sns.kdeplot(data=plot_df, x=col, hue='age_group', fill=True, alpha=0.3, \n",
    "                       common_norm=False, palette={'20-29':'blue', '50-59':'orange'})\n",
    "            \n",
    "            # Add statistics annotations\n",
    "            plt.axvline(twenties_stats['mean'], color='blue', linestyle='--', \n",
    "                        label=f\"twenties: μ = {twenties_stats['mean']:.2f}, σ = {twenties_stats['std']:.2f}\")\n",
    "            plt.axvline(fifties_stats['mean'], color='orange', linestyle='--',\n",
    "                        label=f\"fifties: μ = {fifties_stats['mean']:.2f}, σ = {fifties_stats['std']:.2f}\")\n",
    "            \n",
    "            # Add std ranges\n",
    "            plt.axvspan(twenties_stats['mean'] - twenties_stats['std'], twenties_stats['mean'] + twenties_stats['std'], \n",
    "                        color='blue', alpha=0.1)\n",
    "            plt.axvspan(fifties_stats['mean'] - fifties_stats['std'], fifties_stats['mean'] + fifties_stats['std'],\n",
    "                       color='orange', alpha=0.1)\n",
    "            \n",
    "            plt.title(f\"{col}\\nCohen's d = {cohens_d:.2f} (twenties SNR: {twenties_snr:.2f}, fifties SNR: {fifties_snr:.2f})\")\n",
    "            plt.legend()\n",
    "            plt.tight_layout()\n",
    "            plt.show()\n",
    "            \n",
    "            # Print comprehensive comparison\n",
    "            print(f\"\\n📊 {col}\")\n",
    "            print(f\"   twenties: μ/σ = {twenties_snr:.2f} (μ = {twenties_stats['mean']:.2f}, σ = {twenties_stats['std']:.2f})\")\n",
    "            print(f\"   fifties: μ/σ = {fifties_snr:.2f} (μ = {fifties_stats['mean']:.2f}, σ = {fifties_stats['std']:.2f})\")\n",
    "            print(f\"   Standardized difference (Cohen's d): {cohens_d:.2f}\")\n",
    "            print(\"──\"*30)"
   ],
   "outputs": [],
   "execution_count": 14
  },
  {
   "cell_type": "code",
   "metadata": {
    "execution": {
     "iopub.execute_input": "2025-04-23T19:30:39.462166Z",
     "iopub.status.busy": "2025-04-23T19:30:39.461232Z",
     "iopub.status.idle": "2025-04-23T19:30:39.475149Z",
     "shell.execute_reply": "2025-04-23T19:30:39.474211Z",
     "shell.execute_reply.started": "2025-04-23T19:30:39.462135Z"
    },
    "trusted": true,
    "ExecuteTime": {
     "end_time": "2025-04-29T23:56:13.799670Z",
     "start_time": "2025-04-29T23:56:13.794182Z"
    }
   },
   "source": [
    "def plot_age_gender_dist(twenties_df, fifties_df):\n",
    "    for col in twenties_df.select_dtypes(include=np.number).columns:\n",
    "        if col == 'age':\n",
    "            continue\n",
    "            \n",
    "        # Create subsets for each demographic group\n",
    "        male_20 = twenties_df[twenties_df['gender'] == 'male'][col].dropna()\n",
    "        male_50 = fifties_df[fifties_df['gender'] == 'male'][col].dropna()\n",
    "        female_20 = twenties_df[twenties_df['gender'] == 'female'][col].dropna()\n",
    "        female_50 = fifties_df[fifties_df['gender'] == 'female'][col].dropna()\n",
    "        \n",
    "        # Calculate all Cohen's d comparisons\n",
    "        def calculate_cohens_d(group1, group2):\n",
    "            pooled_std = np.sqrt((group1.std()**2 + group2.std()**2)/2)\n",
    "            return abs(group1.mean() - group2.mean()) / pooled_std\n",
    "        \n",
    "        cohens_d = {\n",
    "            'male_vs_female_20': calculate_cohens_d(male_20, female_20),\n",
    "            'male_vs_female_50': calculate_cohens_d(male_50, female_50),\n",
    "            'age_effect_male': calculate_cohens_d(male_20, male_50),\n",
    "            'age_effect_female': calculate_cohens_d(female_20, female_50)\n",
    "        }\n",
    "        \n",
    "        # Only plot if any comparison shows meaningful effect size\n",
    "        if any(d > 0.2 for d in cohens_d.values()):\n",
    "            plt.figure(figsize=(14, 7))\n",
    "            \n",
    "            # Create plot dataframe\n",
    "            plot_df = pd.concat([\n",
    "                male_20.to_frame().assign(group='Male 20-29'),\n",
    "                male_50.to_frame().assign(group='Male 50-59'),\n",
    "                female_20.to_frame().assign(group='Female 20-29'),\n",
    "                female_50.to_frame().assign(group='Female 50-59')\n",
    "            ])\n",
    "            \n",
    "            # Plot KDE\n",
    "            palette = {'Male 20-29':'blue', 'Male 50-59':'lightblue',\n",
    "                     'Female 20-29':'red', 'Female 50-59':'orange'}\n",
    "            \n",
    "            for group, color in palette.items():\n",
    "                group_data = plot_df[plot_df['group'] == group]\n",
    "                sns.kdeplot(data=group_data, x=col, color=color, \n",
    "                            fill=True, alpha=0.2, common_norm=False, \n",
    "                            linewidth=2, label=group)\n",
    "            \n",
    "            # Add effect size annotations\n",
    "            text_y = 0.9\n",
    "            for name, d in cohens_d.items():\n",
    "                if d > 0.2:\n",
    "                    comp_name = name.replace('_', ' ').title()\n",
    "                    plt.text(0.02, text_y, f\"{comp_name}: Cohen's d = {d:.2f}\",\n",
    "                            transform=plt.gca().transAxes, fontsize=10,\n",
    "                            bbox=dict(facecolor='white', alpha=0.7))\n",
    "                    text_y -= 0.08\n",
    "            \n",
    "            plt.title(f\"Distribution of {col}\\n(Only showing comparisons with Cohen's d > 0.2)\")\n",
    "            plt.legend(bbox_to_anchor=(1.05, 1), loc='upper left')\n",
    "            plt.tight_layout()\n",
    "            plt.show()\n",
    "            \n",
    "            # Print detailed statistics\n",
    "            print(f\"\\n📊 {col} - Effect Size Analysis:\")\n",
    "            print(f\"  Male 20s vs Female 20s: d = {cohens_d['male_vs_female_20']:.2f}\")\n",
    "            print(f\"  Male 50s vs Female 50s: d = {cohens_d['male_vs_female_50']:.2f}\")\n",
    "            print(f\"  Age Effect (Male 20s vs 50s): d = {cohens_d['age_effect_male']:.2f}\")\n",
    "            print(f\"  Age Effect (Female 20s vs 50s): d = {cohens_d['age_effect_female']:.2f}\")\n",
    "            print(\"──\"*40)"
   ],
   "outputs": [],
   "execution_count": 15
  },
  {
   "cell_type": "code",
   "metadata": {
    "execution": {
     "iopub.execute_input": "2025-04-23T19:33:10.474358Z",
     "iopub.status.busy": "2025-04-23T19:33:10.473522Z",
     "iopub.status.idle": "2025-04-23T19:33:10.485913Z",
     "shell.execute_reply": "2025-04-23T19:33:10.485122Z",
     "shell.execute_reply.started": "2025-04-23T19:33:10.474330Z"
    },
    "trusted": true,
    "ExecuteTime": {
     "end_time": "2025-04-29T23:56:13.819692Z",
     "start_time": "2025-04-29T23:56:13.815127Z"
    }
   },
   "source": [
    "def duration_plot(male_df, female_df):\n",
    "    # Calculate statistics\n",
    "    twenties_stats = {'mean': male_df['duration'].mean(), 'std': male_df['duration'].std()}\n",
    "    fifties_stats = {'mean': female_df['duration'].mean(), 'std': female_df['duration'].std()}\n",
    "    \n",
    "    # Calculate signal-to-noise ratio (mean/std)\n",
    "    twenties_snr = abs(twenties_stats['mean']) / twenties_stats['std'] if twenties_stats['std'] != 0 else 0\n",
    "    fifties_snr = abs(fifties_stats['mean']) / fifties_stats['std'] if fifties_stats['std'] != 0 else 0\n",
    "    \n",
    "    # Calculate standardized mean difference (Cohen's d)\n",
    "    pooled_std = np.sqrt((twenties_stats['std']**2 + fifties_stats['std']**2)/2)\n",
    "    cohens_d = abs(twenties_stats['mean'] - fifties_stats['mean']) / pooled_std\n",
    "    \n",
    "    plt.figure(figsize=(12, 6))\n",
    "    \n",
    "    # Create temp dataframe with age groups for plotting\n",
    "    plot_df = pd.concat([\n",
    "        twenties_df['duration'].to_frame().assign(age_group='20-29'),\n",
    "        fifties_df['duration'].to_frame().assign(age_group='50-59')\n",
    "    ])\n",
    "    \n",
    "    # Distribution plot\n",
    "    sns.kdeplot(data=plot_df, x='duration', hue='age_group', fill=True, alpha=0.3, \n",
    "               common_norm=False, palette={'20-29':'blue', '50-59':'orange'})\n",
    "    \n",
    "    # Add statistics annotations\n",
    "    plt.axvline(twenties_stats['mean'], color='blue', linestyle='--', \n",
    "                label=f\"twenties: μ = {twenties_stats['mean']:.2f}, σ = {twenties_stats['std']:.2f}\")\n",
    "    plt.axvline(fifties_stats['mean'], color='orange', linestyle='--',\n",
    "                label=f\"fifties: μ = {fifties_stats['mean']:.2f}, σ = {fifties_stats['std']:.2f}\")\n",
    "    \n",
    "    # Add std ranges\n",
    "    plt.axvspan(twenties_stats['mean'] - twenties_stats['std'], twenties_stats['mean'] + twenties_stats['std'], \n",
    "                color='blue', alpha=0.1)\n",
    "    plt.axvspan(fifties_stats['mean'] - fifties_stats['std'], fifties_stats['mean'] + fifties_stats['std'],\n",
    "               color='orange', alpha=0.1)\n",
    "    \n",
    "    plt.title(f\"{col}\\nCohen's d = {cohens_d:.2f} (twenties SNR: {twenties_snr:.2f}, fifties SNR: {fifties_snr:.2f})\")\n",
    "    plt.legend()\n",
    "    plt.tight_layout()\n",
    "    plt.show()\n",
    "    \n",
    "    # Print comprehensive comparison\n",
    "    print(f\"\\n📊 duration\")\n",
    "    print(f\"   twenties: μ/σ = {twenties_snr:.2f} (μ = {twenties_stats['mean']:.2f}, σ = {twenties_stats['std']:.2f})\")\n",
    "    print(f\"   fifties: μ/σ = {fifties_snr:.2f} (μ = {fifties_stats['mean']:.2f}, σ = {fifties_stats['std']:.2f})\")\n",
    "    print(f\"   Standardized difference (Cohen's d): {cohens_d:.2f}\")\n",
    "    print(\"──\"*30)"
   ],
   "outputs": [],
   "execution_count": 16
  },
  {
   "cell_type": "code",
   "metadata": {
    "execution": {
     "iopub.execute_input": "2025-04-23T19:33:18.636884Z",
     "iopub.status.busy": "2025-04-23T19:33:18.636525Z",
     "iopub.status.idle": "2025-04-23T19:33:18.643222Z",
     "shell.execute_reply": "2025-04-23T19:33:18.642243Z",
     "shell.execute_reply.started": "2025-04-23T19:33:18.636862Z"
    },
    "trusted": true,
    "ExecuteTime": {
     "end_time": "2025-04-29T23:56:13.838171Z",
     "start_time": "2025-04-29T23:56:13.835308Z"
    }
   },
   "source": [
    "def analyze_feature_correlations(df, threshold=0.5):\n",
    "    \n",
    "    numeric_df = df.select_dtypes(include=['number'])\n",
    "    \n",
    "    corr_matrix = numeric_df.corr()\n",
    "    \n",
    "    # Find high correlations\n",
    "    high_corr = []\n",
    "    for i in range(len(corr_matrix.columns)):\n",
    "        for j in range(i):\n",
    "            if abs(corr_matrix.iloc[i, j]) > threshold:\n",
    "                high_corr.append((corr_matrix.columns[i], corr_matrix.columns[j], \n",
    "                                 corr_matrix.iloc[i, j]))\n",
    "    return high_corr"
   ],
   "outputs": [],
   "execution_count": 17
  },
  {
   "cell_type": "code",
   "metadata": {
    "execution": {
     "iopub.execute_input": "2025-04-23T19:17:54.682957Z",
     "iopub.status.busy": "2025-04-23T19:17:54.682374Z",
     "iopub.status.idle": "2025-04-23T19:17:54.688738Z",
     "shell.execute_reply": "2025-04-23T19:17:54.687732Z",
     "shell.execute_reply.started": "2025-04-23T19:17:54.682927Z"
    },
    "trusted": true,
    "ExecuteTime": {
     "end_time": "2025-04-29T23:56:13.864028Z",
     "start_time": "2025-04-29T23:56:13.861663Z"
    }
   },
   "source": [
    "def features_to_keep(all_features, corr_features, to_be_removed):\n",
    "    features_set = set()\n",
    "    to_keep = []\n",
    "    for removed in to_be_removed:\n",
    "        features_set.add(removed)\n",
    "    \n",
    "    for x, y, z in corr_features:\n",
    "        if x not in features_set and y not in features_set:\n",
    "            to_keep.append(x)\n",
    "            features_set.add(x)\n",
    "            features_set.add(y)\n",
    "\n",
    "    for feature in all_features:\n",
    "        if feature not in features_set:\n",
    "            to_keep.append(feature)\n",
    "\n",
    "    return to_keep"
   ],
   "outputs": [],
   "execution_count": 18
  },
  {
   "cell_type": "markdown",
   "metadata": {},
   "source": [
    "## Calls"
   ]
  },
  {
   "cell_type": "code",
   "metadata": {
    "trusted": true,
    "ExecuteTime": {
     "end_time": "2025-04-29T23:58:47.064707Z",
     "start_time": "2025-04-29T23:56:13.880147Z"
    }
   },
   "source": [
    "outliers_cols = find_high_outlier_columns(df)\n",
    "visualize_outliers(df, outliers_cols)"
   ],
   "outputs": [
    {
     "name": "stderr",
     "output_type": "stream",
     "text": [
      "/var/folders/2q/6vjsrj112rb774fzn79lb71h0000gn/T/ipykernel_37883/1630797517.py:38: UserWarning: Creating legend with loc=\"best\" can be slow with large amounts of data.\n",
      "  plt.tight_layout()\n",
      "/opt/anaconda3/lib/python3.11/site-packages/IPython/core/pylabtools.py:170: UserWarning: Creating legend with loc=\"best\" can be slow with large amounts of data.\n",
      "  fig.canvas.print_figure(bytes_io, **kw)\n"
     ]
    },
    {
     "data": {
      "text/plain": [
       "<Figure size 1500x800 with 3 Axes>"
      ],
      "image/png": "[encoded data removed]"
     },
     "metadata": {},
     "output_type": "display_data"
    },
    {
     "name": "stdout",
     "output_type": "stream",
     "text": [
      "\n",
      "📊 Outlier Analysis for ste_min:\n",
      "  • 5.48% of values are outliers (2307 out of 42118)\n",
      "  • Outlier thresholds: < -0.00 or > 0.00\n",
      "────────────────────────────────────────────────────────────────────────────────\n",
      "Max Percentage of Outliers:  5.477468065910062\n"
     ]
    }
   ],
   "execution_count": 19
  },
  {
   "cell_type": "code",
   "metadata": {
    "trusted": true,
    "ExecuteTime": {
     "end_time": "2025-04-29T23:58:47.824756Z",
     "start_time": "2025-04-29T23:58:47.187130Z"
    }
   },
   "source": [
    "view_outlier_dist(df, outliers_cols)"
   ],
   "outputs": [
    {
     "name": "stdout",
     "output_type": "stream",
     "text": [
      "0.07515889616731351\n"
     ]
    },
    {
     "data": {
      "text/plain": [
       "<Figure size 1200x600 with 1 Axes>"
      ],
      "image/png": "[encoded data removed]"
     },
     "metadata": {},
     "output_type": "display_data"
    },
    {
     "name": "stdout",
     "output_type": "stream",
     "text": [
      "\n",
      "📊 ste_min\n",
      "   Male: μ/σ = 0.11 (μ = 0.00, σ = 0.00)\n",
      " Female: μ/σ = 0.09 (μ = 0.00, σ = 0.00)\n",
      " Standardized difference (Cohen's d): 0.08\n",
      "────────────────────────────────────────────────────────────\n"
     ]
    }
   ],
   "execution_count": 20
  },
  {
   "metadata": {
    "ExecuteTime": {
     "end_time": "2025-04-29T23:58:47.870413Z",
     "start_time": "2025-04-29T23:58:47.852625Z"
    }
   },
   "cell_type": "code",
   "source": [
    "#replace null with mean\n",
    "for col in df.select_dtypes(include=['number']).columns:\n",
    "    if df[col].isnull().sum() > 0:\n",
    "        print(f\"Column: {col}, Nulls: {df[col].isnull().sum()}\")\n",
    "        mean_value = df[col].mean()\n",
    "        df[col] = df[col].fillna(mean_value)"
   ],
   "outputs": [
    {
     "name": "stdout",
     "output_type": "stream",
     "text": [
      "Column: f0_mean, Nulls: 1\n",
      "Column: f0_std, Nulls: 1\n",
      "Column: f0_5_percentile, Nulls: 1\n",
      "Column: f0_95_percentile, Nulls: 1\n",
      "Column: formant3, Nulls: 2\n"
     ]
    }
   ],
   "execution_count": 21
  },
  {
   "cell_type": "code",
   "metadata": {
    "trusted": true,
    "ExecuteTime": {
     "end_time": "2025-04-29T23:58:47.922665Z",
     "start_time": "2025-04-29T23:58:47.910303Z"
    }
   },
   "source": [
    "assert check_nulls(df) == True, 'there are nulls'"
   ],
   "outputs": [],
   "execution_count": 22
  },
  {
   "cell_type": "code",
   "metadata": {
    "trusted": true,
    "ExecuteTime": {
     "end_time": "2025-04-29T23:58:47.972300Z",
     "start_time": "2025-04-29T23:58:47.967112Z"
    }
   },
   "source": [
    "## commented gd3na mn 3ndy\n",
    "# df_normalized, transformations = smart_normalize(df)\n",
    "# outliers_cols = find_high_outlier_columns(df_normalized)\n",
    "# # df_normalized = remove_outliers(df_normalized, outliers_cols)\n",
    "# df = df_normalized.copy()"
   ],
   "outputs": [],
   "execution_count": 23
  },
  {
   "cell_type": "code",
   "metadata": {
    "trusted": true,
    "ExecuteTime": {
     "end_time": "2025-04-29T23:58:48.037485Z",
     "start_time": "2025-04-29T23:58:48.006469Z"
    }
   },
   "source": [
    "male_df = df[df['gender'] == 'male']\n",
    "female_df = df[df['gender'] == 'female']\n",
    "twenties_df = df[df['age'] == 'twenties']\n",
    "fifties_df = df[df['age'] == 'fifties']"
   ],
   "outputs": [],
   "execution_count": 24
  },
  {
   "cell_type": "code",
   "metadata": {
    "trusted": true,
    "ExecuteTime": {
     "end_time": "2025-04-29T23:58:49.222563Z",
     "start_time": "2025-04-29T23:58:48.122353Z"
    }
   },
   "source": [
    "correlated_features = analyze_feature_correlations(df, 0.8)"
   ],
   "outputs": [],
   "execution_count": 25
  },
  {
   "cell_type": "code",
   "metadata": {
    "trusted": true,
    "ExecuteTime": {
     "end_time": "2025-04-29T23:58:49.257247Z",
     "start_time": "2025-04-29T23:58:49.237526Z"
    }
   },
   "source": [
    "remaining_features = features_to_keep(df.select_dtypes(include=['number']).columns, correlated_features, to_be_removed=['duration'])\n",
    "remaining_features.append('age')\n",
    "remaining_features.append('gender')"
   ],
   "outputs": [],
   "execution_count": 26
  },
  {
   "cell_type": "code",
   "metadata": {
    "trusted": true,
    "ExecuteTime": {
     "end_time": "2025-04-29T23:58:49.324438Z",
     "start_time": "2025-04-29T23:58:49.310362Z"
    }
   },
   "source": [
    "assert len(remaining_features) == len(set(remaining_features)), 'problem in feature selection'\n",
    "df = df[remaining_features]"
   ],
   "outputs": [],
   "execution_count": 27
  },
  {
   "cell_type": "markdown",
   "metadata": {},
   "source": [
    "## Baseline Model"
   ]
  },
  {
   "cell_type": "code",
   "metadata": {
    "execution": {
     "iopub.execute_input": "2025-04-23T19:18:03.995100Z",
     "iopub.status.busy": "2025-04-23T19:18:03.994392Z",
     "iopub.status.idle": "2025-04-23T19:18:03.999442Z",
     "shell.execute_reply": "2025-04-23T19:18:03.998498Z",
     "shell.execute_reply.started": "2025-04-23T19:18:03.995065Z"
    },
    "trusted": true,
    "ExecuteTime": {
     "end_time": "2025-04-29T23:58:49.572862Z",
     "start_time": "2025-04-29T23:58:49.422469Z"
    }
   },
   "source": [
    "from sklearn.ensemble import RandomForestClassifier\n",
    "from sklearn.model_selection import train_test_split\n",
    "from sklearn.metrics import classification_report, accuracy_score\n",
    "from sklearn.decomposition import PCA"
   ],
   "outputs": [],
   "execution_count": 28
  },
  {
   "metadata": {
    "ExecuteTime": {
     "end_time": "2025-04-29T23:58:49.585182Z",
     "start_time": "2025-04-29T23:58:49.579307Z"
    }
   },
   "cell_type": "code",
   "source": [
    "def normalize_test(X_test, transformations):\n",
    "    X_test_normalized = X_test.copy()\n",
    "    for col, info in transformations.items():\n",
    "        if col == '_standard_scaler':\n",
    "            continue\n",
    "        if info['step1'] == 'power_transform':\n",
    "            pt = info['transformer']\n",
    "            X_test_normalized[col] = pt.transform(X_test[[col]]).flatten()\n",
    "\n",
    "    # Apply standard scaling using the saved scaler\n",
    "    scaler = transformations['_standard_scaler']\n",
    "    numeric_cols = X_test.select_dtypes(include=['number']).columns\n",
    "    X_test_normalized[numeric_cols] = scaler.transform(X_test_normalized[numeric_cols])\n",
    "    return X_test_normalized\n"
   ],
   "outputs": [],
   "execution_count": 29
  },
  {
   "cell_type": "code",
   "metadata": {
    "execution": {
     "iopub.execute_input": "2025-04-23T19:38:22.226746Z",
     "iopub.status.busy": "2025-04-23T19:38:22.226295Z",
     "iopub.status.idle": "2025-04-23T19:38:22.233510Z",
     "shell.execute_reply": "2025-04-23T19:38:22.232615Z",
     "shell.execute_reply.started": "2025-04-23T19:38:22.226699Z"
    },
    "trusted": true,
    "ExecuteTime": {
     "end_time": "2025-04-29T23:58:49.680087Z",
     "start_time": "2025-04-29T23:58:49.674995Z"
    }
   },
   "source": [
    "def baseline(X, y):\n",
    "    X_train, X_test, y_train, y_test = train_test_split(X, y, test_size=0.2, random_state=42)\n",
    "    X_train, transformations = smart_normalize(X_train)\n",
    "    X_test = normalize_test(X_test, transformations)\n",
    "    clf = RandomForestClassifier(random_state=42)\n",
    "    clf.fit(X_train, y_train)\n",
    "\n",
    "    y_pred = clf.predict(X_test)\n",
    "    \n",
    "    print(\"Accuracy:\", accuracy_score(y_test, y_pred))\n",
    "    print(classification_report(y_test, y_pred))\n",
    "    return clf.feature_importances_"
   ],
   "outputs": [],
   "execution_count": 30
  },
  {
   "cell_type": "code",
   "metadata": {
    "execution": {
     "iopub.execute_input": "2025-04-23T19:18:04.701227Z",
     "iopub.status.busy": "2025-04-23T19:18:04.700549Z",
     "iopub.status.idle": "2025-04-23T19:18:04.708670Z",
     "shell.execute_reply": "2025-04-23T19:18:04.707767Z",
     "shell.execute_reply.started": "2025-04-23T19:18:04.701199Z"
    },
    "trusted": true,
    "ExecuteTime": {
     "end_time": "2025-04-29T23:58:49.706521Z",
     "start_time": "2025-04-29T23:58:49.689412Z"
    }
   },
   "source": [
    "X = df.drop(['gender', 'age'], axis=1)\n",
    "y = df['gender'].map({'male' : 1, 'female' : 0})"
   ],
   "outputs": [],
   "execution_count": 31
  },
  {
   "cell_type": "code",
   "metadata": {
    "trusted": true,
    "ExecuteTime": {
     "end_time": "2025-04-29T23:59:36.500975Z",
     "start_time": "2025-04-29T23:58:49.792906Z"
    }
   },
   "source": [
    "baseline(X, y)"
   ],
   "outputs": [
    {
     "name": "stdout",
     "output_type": "stream",
     "text": [
      "Accuracy: 0.9487179487179487\n",
      "              precision    recall  f1-score   support\n",
      "\n",
      "           0       0.94      0.95      0.95      4072\n",
      "           1       0.95      0.95      0.95      4352\n",
      "\n",
      "    accuracy                           0.95      8424\n",
      "   macro avg       0.95      0.95      0.95      8424\n",
      "weighted avg       0.95      0.95      0.95      8424\n",
      "\n"
     ]
    },
    {
     "data": {
      "text/plain": [
       "array([0.00291381, 0.00306141, 0.00292912, 0.00266957, 0.00606454,\n",
       "       0.0048102 , 0.00425953, 0.00277293, 0.00313424, 0.00333346,\n",
       "       0.00257308, 0.00236106, 0.00214393, 0.00233579, 0.00491876,\n",
       "       0.00255621, 0.23831616, 0.0488878 , 0.12810651, 0.13904187,\n",
       "       0.00232192, 0.00244805, 0.00217513, 0.00538229, 0.00371944,\n",
       "       0.01291747, 0.00714132, 0.0043124 , 0.00505532, 0.01507828,\n",
       "       0.00804007, 0.00679206, 0.01675198, 0.00526555, 0.00418885,\n",
       "       0.00429879, 0.00782402, 0.00768649, 0.00685273, 0.00366796,\n",
       "       0.00315801, 0.00364742, 0.003372  , 0.00337208, 0.00299489,\n",
       "       0.00223025, 0.00227734, 0.0021828 , 0.00214359, 0.00205403,\n",
       "       0.00201709, 0.00202336, 0.00201975, 0.0020018 , 0.00215462,\n",
       "       0.00197982, 0.0030474 , 0.0029481 , 0.00237958, 0.00246495,\n",
       "       0.00279047, 0.00202859, 0.00246423, 0.00209773, 0.00215221,\n",
       "       0.0019683 , 0.00199739, 0.00284349, 0.00218011, 0.00354581,\n",
       "       0.00236886, 0.0024004 , 0.0048783 , 0.00696359, 0.00331942,\n",
       "       0.00315129, 0.00296105, 0.00395354, 0.00265631, 0.00561801,\n",
       "       0.00310313, 0.00290872, 0.00255561, 0.0029528 , 0.00214252,\n",
       "       0.00225544, 0.00217998, 0.00307011, 0.0038127 , 0.00333105,\n",
       "       0.00807114, 0.01737719, 0.00927973, 0.00261205, 0.00257189,\n",
       "       0.00681757, 0.00346197, 0.00337743, 0.00232578, 0.00262859,\n",
       "       0.04683982, 0.00414723, 0.00571227, 0.00454717])"
      ]
     },
     "execution_count": 32,
     "metadata": {},
     "output_type": "execute_result"
    }
   ],
   "execution_count": 32
  },
  {
   "cell_type": "code",
   "metadata": {
    "execution": {
     "iopub.execute_input": "2025-04-23T16:51:22.067446Z",
     "iopub.status.busy": "2025-04-23T16:51:22.067123Z",
     "iopub.status.idle": "2025-04-23T16:51:22.146168Z",
     "shell.execute_reply": "2025-04-23T16:51:22.142566Z",
     "shell.execute_reply.started": "2025-04-23T16:51:22.067423Z"
    },
    "trusted": true,
    "ExecuteTime": {
     "end_time": "2025-04-29T23:59:36.823714Z",
     "start_time": "2025-04-29T23:59:36.516525Z"
    }
   },
   "source": [
    "pca = PCA(n_components=90)  \n",
    "X_pca = pca.fit_transform(X)  "
   ],
   "outputs": [],
   "execution_count": 33
  },
  {
   "cell_type": "code",
   "metadata": {
    "trusted": true,
    "ExecuteTime": {
     "end_time": "2025-04-29T23:59:37.419239Z",
     "start_time": "2025-04-29T23:59:37.050088Z"
    }
   },
   "source": [
    "plt.figure(figsize=(10, 5))\n",
    "plt.bar(range(pca.n_components_), pca.explained_variance_ratio_)\n",
    "plt.xlabel('Principal Component')\n",
    "plt.ylabel('Explained Variance Ratio')\n",
    "plt.title('PCA Explained Variance')\n",
    "plt.show()\n",
    "\n",
    "cumulative_variance = np.cumsum(pca.explained_variance_ratio_)\n",
    "plt.plot(cumulative_variance, marker='o')\n",
    "plt.axhline(y=0.95, color='r', linestyle='--', label='95% Variance')\n",
    "plt.xlabel('Number of Components')\n",
    "plt.ylabel('Cumulative Explained Variance')\n",
    "plt.legend()\n",
    "plt.show()"
   ],
   "outputs": [
    {
     "data": {
      "text/plain": [
       "<Figure size 1000x500 with 1 Axes>"
      ],
      "image/png": "[encoded data removed]"
     },
     "metadata": {},
     "output_type": "display_data"
    },
    {
     "data": {
      "text/plain": [
       "<Figure size 640x480 with 1 Axes>"
      ],
      "image/png": "[encoded data removed]"
     },
     "metadata": {},
     "output_type": "display_data"
    }
   ],
   "execution_count": 34
  },
  {
   "cell_type": "code",
   "metadata": {
    "trusted": true,
    "ExecuteTime": {
     "end_time": "2025-04-30T00:00:25.441687Z",
     "start_time": "2025-04-29T23:59:37.449749Z"
    }
   },
   "source": [
    "baseline(X, y)"
   ],
   "outputs": [
    {
     "name": "stdout",
     "output_type": "stream",
     "text": [
      "Accuracy: 0.9487179487179487\n",
      "              precision    recall  f1-score   support\n",
      "\n",
      "           0       0.94      0.95      0.95      4072\n",
      "           1       0.95      0.95      0.95      4352\n",
      "\n",
      "    accuracy                           0.95      8424\n",
      "   macro avg       0.95      0.95      0.95      8424\n",
      "weighted avg       0.95      0.95      0.95      8424\n",
      "\n"
     ]
    },
    {
     "data": {
      "text/plain": [
       "array([0.00291381, 0.00306141, 0.00292912, 0.00266957, 0.00606454,\n",
       "       0.0048102 , 0.00425953, 0.00277293, 0.00313424, 0.00333346,\n",
       "       0.00257308, 0.00236106, 0.00214393, 0.00233579, 0.00491876,\n",
       "       0.00255621, 0.23831616, 0.0488878 , 0.12810651, 0.13904187,\n",
       "       0.00232192, 0.00244805, 0.00217513, 0.00538229, 0.00371944,\n",
       "       0.01291747, 0.00714132, 0.0043124 , 0.00505532, 0.01507828,\n",
       "       0.00804007, 0.00679206, 0.01675198, 0.00526555, 0.00418885,\n",
       "       0.00429879, 0.00782402, 0.00768649, 0.00685273, 0.00366796,\n",
       "       0.00315801, 0.00364742, 0.003372  , 0.00337208, 0.00299489,\n",
       "       0.00223025, 0.00227734, 0.0021828 , 0.00214359, 0.00205403,\n",
       "       0.00201709, 0.00202336, 0.00201975, 0.0020018 , 0.00215462,\n",
       "       0.00197982, 0.0030474 , 0.0029481 , 0.00237958, 0.00246495,\n",
       "       0.00279047, 0.00202859, 0.00246423, 0.00209773, 0.00215221,\n",
       "       0.0019683 , 0.00199739, 0.00284349, 0.00218011, 0.00354581,\n",
       "       0.00236886, 0.0024004 , 0.0048783 , 0.00696359, 0.00331942,\n",
       "       0.00315129, 0.00296105, 0.00395354, 0.00265631, 0.00561801,\n",
       "       0.00310313, 0.00290872, 0.00255561, 0.0029528 , 0.00214252,\n",
       "       0.00225544, 0.00217998, 0.00307011, 0.0038127 , 0.00333105,\n",
       "       0.00807114, 0.01737719, 0.00927973, 0.00261205, 0.00257189,\n",
       "       0.00681757, 0.00346197, 0.00337743, 0.00232578, 0.00262859,\n",
       "       0.04683982, 0.00414723, 0.00571227, 0.00454717])"
      ]
     },
     "execution_count": 35,
     "metadata": {},
     "output_type": "execute_result"
    }
   ],
   "execution_count": 35
  },
  {
   "cell_type": "code",
   "metadata": {
    "execution": {
     "iopub.execute_input": "2025-04-23T19:38:47.220831Z",
     "iopub.status.busy": "2025-04-23T19:38:47.220442Z",
     "iopub.status.idle": "2025-04-23T19:38:56.187788Z",
     "shell.execute_reply": "2025-04-23T19:38:56.186944Z",
     "shell.execute_reply.started": "2025-04-23T19:38:47.220805Z"
    },
    "trusted": true,
    "ExecuteTime": {
     "end_time": "2025-04-30T00:01:10.143275Z",
     "start_time": "2025-04-30T00:00:25.541445Z"
    }
   },
   "source": [
    "X = df.drop(['gender', 'age'], axis=1)\n",
    "y = df['age'].map({'twenties' : 1, 'fifties' : 0})\n",
    "baseline(X, y)"
   ],
   "outputs": [
    {
     "name": "stdout",
     "output_type": "stream",
     "text": [
      "Accuracy: 0.8524453941120608\n",
      "              precision    recall  f1-score   support\n",
      "\n",
      "           0       0.85      0.87      0.86      4339\n",
      "           1       0.86      0.83      0.85      4085\n",
      "\n",
      "    accuracy                           0.85      8424\n",
      "   macro avg       0.85      0.85      0.85      8424\n",
      "weighted avg       0.85      0.85      0.85      8424\n",
      "\n"
     ]
    },
    {
     "data": {
      "text/plain": [
       "array([0.00821095, 0.00890178, 0.01078956, 0.00842782, 0.01138017,\n",
       "       0.00854432, 0.01506659, 0.01997723, 0.00822579, 0.00748604,\n",
       "       0.00836483, 0.00710176, 0.00663257, 0.00692992, 0.01236744,\n",
       "       0.00816989, 0.0169672 , 0.01015893, 0.02577552, 0.01225173,\n",
       "       0.01037072, 0.00605931, 0.00614303, 0.00641734, 0.00912216,\n",
       "       0.02290957, 0.01368052, 0.01606092, 0.0128808 , 0.01155114,\n",
       "       0.01683072, 0.02169577, 0.0123889 , 0.01136999, 0.01459578,\n",
       "       0.01168852, 0.01206325, 0.01170719, 0.01537537, 0.00875353,\n",
       "       0.00897865, 0.01106399, 0.00949983, 0.00834054, 0.00850642,\n",
       "       0.00720306, 0.00687965, 0.00750587, 0.00630055, 0.00618813,\n",
       "       0.00642666, 0.00673016, 0.0063251 , 0.00666402, 0.00623354,\n",
       "       0.00583815, 0.0087321 , 0.01033712, 0.01072388, 0.00731984,\n",
       "       0.0077372 , 0.00731387, 0.00674281, 0.00793372, 0.0064725 ,\n",
       "       0.0064649 , 0.00686682, 0.00632734, 0.00659583, 0.00852551,\n",
       "       0.00860446, 0.00828053, 0.00926494, 0.00750657, 0.00892648,\n",
       "       0.00859225, 0.00801436, 0.01090143, 0.00729831, 0.00832969,\n",
       "       0.00876143, 0.00709143, 0.0073408 , 0.00801151, 0.00658388,\n",
       "       0.00733975, 0.00681611, 0.00899998, 0.01099764, 0.00772686,\n",
       "       0.00932041, 0.01291353, 0.00771377, 0.00751862, 0.01094351,\n",
       "       0.00696726, 0.00860456, 0.00843118, 0.00729956, 0.00828967,\n",
       "       0.01389737, 0.01199083, 0.00807326, 0.01247568])"
      ]
     },
     "execution_count": 36,
     "metadata": {},
     "output_type": "execute_result"
    }
   ],
   "execution_count": 36
  },
  {
   "cell_type": "code",
   "metadata": {
    "execution": {
     "iopub.execute_input": "2025-04-23T16:55:47.264851Z",
     "iopub.status.busy": "2025-04-23T16:55:47.264451Z",
     "iopub.status.idle": "2025-04-23T16:55:47.271759Z",
     "shell.execute_reply": "2025-04-23T16:55:47.270679Z",
     "shell.execute_reply.started": "2025-04-23T16:55:47.264825Z"
    },
    "trusted": true,
    "ExecuteTime": {
     "end_time": "2025-04-30T00:01:10.259197Z",
     "start_time": "2025-04-30T00:01:10.251766Z"
    }
   },
   "source": [],
   "outputs": [],
   "execution_count": null
  },
  {
   "cell_type": "code",
   "metadata": {
    "trusted": true,
    "ExecuteTime": {
     "end_time": "2025-04-30T00:01:13.983315Z",
     "start_time": "2025-04-30T00:01:10.318412Z"
    }
   },
   "source": "df.to_csv('./cleaned.csv')",
   "outputs": [],
   "execution_count": 37
  },
  {
   "cell_type": "code",
   "metadata": {
    "trusted": true,
    "ExecuteTime": {
     "end_time": "2025-04-30T00:01:14.050650Z",
     "start_time": "2025-04-30T00:01:14.047849Z"
    }
   },
   "source": [],
   "outputs": [],
   "execution_count": null
  },
  {
   "cell_type": "code",
   "metadata": {
    "trusted": true,
    "ExecuteTime": {
     "end_time": "2025-04-30T00:01:15.008707Z",
     "start_time": "2025-04-30T00:01:14.123274Z"
    }
   },
   "source": [
    "files = [\"cleaned.csv\"]\n",
    "dfs = []\n",
    "for file in files:\n",
    "    df = pd.read_csv(file)\n",
    "    dfs.append(df)\n",
    "df = pd.concat(dfs, axis=0)\n",
    "df['gender'].value_counts()\n",
    "df['age'].value_counts()\n",
    "## check for duplicates in the dataset\n",
    "duplicates = df.duplicated()\n",
    "duplicates_count = duplicates.sum()\n",
    "print(duplicates_count)\n",
    "plt.figure(figsize=(12, 10))\n",
    "df['gender'] = df['gender'].map({'male': 0, 'female': 1, 0:0, 1:1})\n",
    "df['age'] = df['age'].map({'twenties': 0, 'fifties': 1, 0:0, 1:1})\n",
    "classes = df['gender'].copy() + 2 * df['age'].copy()\n",
    "print(classes.value_counts())\n",
    "sns.countplot(x=classes, data=df, palette='Set2')\n",
    "print(df.shape)"
   ],
   "outputs": [
    {
     "name": "stdout",
     "output_type": "stream",
     "text": [
      "0\n",
      "0    11044\n",
      "3    10973\n",
      "2    10718\n",
      "1     9383\n",
      "Name: count, dtype: int64\n",
      "(42118, 107)\n"
     ]
    },
    {
     "name": "stderr",
     "output_type": "stream",
     "text": [
      "/var/folders/2q/6vjsrj112rb774fzn79lb71h0000gn/T/ipykernel_37883/1593603952.py:18: FutureWarning: \n",
      "\n",
      "Passing `palette` without assigning `hue` is deprecated and will be removed in v0.14.0. Assign the `x` variable to `hue` and set `legend=False` for the same effect.\n",
      "\n",
      "  sns.countplot(x=classes, data=df, palette='Set2')\n"
     ]
    },
    {
     "data": {
      "text/plain": [
       "<Figure size 1200x1000 with 1 Axes>"
      ],
      "image/png": "[encoded data removed]"
     },
     "metadata": {},
     "output_type": "display_data"
    }
   ],
   "execution_count": 38
  },
  {
   "metadata": {
    "ExecuteTime": {
     "end_time": "2025-04-30T00:01:15.140461Z",
     "start_time": "2025-04-30T00:01:15.136260Z"
    }
   },
   "cell_type": "code",
   "source": "",
   "outputs": [],
   "execution_count": null
  }
 ],
 "metadata": {
  "kaggle": {
   "accelerator": "none",
   "dataSources": [
    {
     "datasetId": 7232074,
     "sourceId": 11530342,
     "sourceType": "datasetVersion"
    }
   ],
   "dockerImageVersionId": 31012,
   "isGpuEnabled": false,
   "isInternetEnabled": true,
   "language": "python",
   "sourceType": "notebook"
  },
  "kernelspec": {
   "display_name": "Python [conda env:base] *",
   "language": "python",
   "name": "conda-base-py"
  },
  "language_info": {
   "codemirror_mode": {
    "name": "ipython",
    "version": 3
   },
   "file_extension": ".py",
   "mimetype": "text/x-python",
   "name": "python",
   "nbconvert_exporter": "python",
   "pygments_lexer": "ipython3",
   "version": "3.11.11"
  }
 },
 "nbformat": 4,
 "nbformat_minor": 4
}
