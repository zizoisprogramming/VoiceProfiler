{
 "cells": [
  {
   "cell_type": "code",
   "metadata": {
    "_cell_guid": "b1076dfc-b9ad-4769-8c92-a6c4dae69d19",
    "_uuid": "8f2839f25d086af736a60e9eeb907d3b93b6e0e5",
    "execution": {
     "iopub.execute_input": "2025-04-23T19:15:42.234773Z",
     "iopub.status.busy": "2025-04-23T19:15:42.234324Z",
     "iopub.status.idle": "2025-04-23T19:15:42.240249Z",
     "shell.execute_reply": "2025-04-23T19:15:42.239079Z",
     "shell.execute_reply.started": "2025-04-23T19:15:42.234740Z"
    },
    "trusted": true,
    "ExecuteTime": {
     "end_time": "2025-05-03T20:05:28.182257Z",
     "start_time": "2025-05-03T20:05:28.139514Z"
    }
   },
   "source": [
    "import numpy as np\n",
    "import pandas as pd \n",
    "import seaborn as sns\n",
    "import matplotlib.pyplot as plt\n",
    "from sklearn.preprocessing import StandardScaler, PowerTransformer, RobustScaler\n",
    "from scipy.stats import skew\n",
    "from matplotlib.gridspec import GridSpec\n"
   ],
   "outputs": [],
   "execution_count": 331
  },
  {
   "cell_type": "code",
   "metadata": {
    "execution": {
     "iopub.execute_input": "2025-04-23T19:15:51.354869Z",
     "iopub.status.busy": "2025-04-23T19:15:51.354488Z",
     "iopub.status.idle": "2025-04-23T19:15:51.602242Z",
     "shell.execute_reply": "2025-04-23T19:15:51.601439Z",
     "shell.execute_reply.started": "2025-04-23T19:15:51.354845Z"
    },
    "trusted": true,
    "ExecuteTime": {
     "end_time": "2025-05-03T20:05:29.565580Z",
     "start_time": "2025-05-03T20:05:28.853007Z"
    }
   },
   "source": [
    "# features = pd.read_csv(\"/kaggle/input/voice-features/features.csv\")\n",
    "# extra_features = pd.read_csv(\"/kaggle/input/voice-features/extracted_features_2k_3.csv\")\n",
    "# assert (features.columns == extra_features.columns).all() == True, 'mismatch in features'\n",
    "# extra_features_v2 = pd.read_csv(\"/kaggle/input/voice-features-2/extracted_features_3k_v2.csv\")\n",
    "# assert (extra_features_v2.columns == extra_features.columns).all() == True, 'mismatch in features'\n",
    "features = pd.read_csv(\"combined_20k.csv\")\n",
    "extra_features = pd.read_csv(\"fifties_b_1_4_7_10_12_16_17_20 (1).csv\")\n",
    "extra_1 = pd.read_csv(\"1k_male_twenties_b_5 (1).csv\")\n",
    "extra_2 = pd.read_csv(\"males_fifties_b7_11_14 (1).csv\")\n",
    "extra_3 = pd.read_csv(\"female_20_b_5_7_11_14 (1).csv\")\n"
   ],
   "outputs": [],
   "execution_count": 332
  },
  {
   "cell_type": "code",
   "metadata": {
    "execution": {
     "iopub.execute_input": "2025-04-23T19:15:51.681662Z",
     "iopub.status.busy": "2025-04-23T19:15:51.681345Z",
     "iopub.status.idle": "2025-04-23T19:15:51.686599Z",
     "shell.execute_reply": "2025-04-23T19:15:51.685753Z",
     "shell.execute_reply.started": "2025-04-23T19:15:51.681642Z"
    },
    "trusted": true,
    "ExecuteTime": {
     "end_time": "2025-05-03T20:05:29.671634Z",
     "start_time": "2025-05-03T20:05:29.665692Z"
    }
   },
   "source": [
    "def get_data_again():\n",
    "    return pd.concat([features, extra_features, extra_1, extra_2, extra_3])"
   ],
   "outputs": [],
   "execution_count": 333
  },
  {
   "cell_type": "code",
   "metadata": {
    "execution": {
     "iopub.execute_input": "2025-04-23T19:15:52.179585Z",
     "iopub.status.busy": "2025-04-23T19:15:52.179251Z",
     "iopub.status.idle": "2025-04-23T19:15:52.207127Z",
     "shell.execute_reply": "2025-04-23T19:15:52.206263Z",
     "shell.execute_reply.started": "2025-04-23T19:15:52.179562Z"
    },
    "trusted": true,
    "ExecuteTime": {
     "end_time": "2025-05-03T20:05:33.526290Z",
     "start_time": "2025-05-03T20:05:33.500929Z"
    }
   },
   "source": [
    "df = get_data_again()\n",
    "#df = pd.read_csv(\"combined_40k.csv\")\n",
    "df = df.drop(columns = 'wps')\n"
   ],
   "outputs": [],
   "execution_count": 334
  },
  {
   "cell_type": "code",
   "metadata": {
    "execution": {
     "iopub.execute_input": "2025-04-23T19:15:53.339390Z",
     "iopub.status.busy": "2025-04-23T19:15:53.338644Z",
     "iopub.status.idle": "2025-04-23T19:15:53.579292Z",
     "shell.execute_reply": "2025-04-23T19:15:53.578320Z",
     "shell.execute_reply.started": "2025-04-23T19:15:53.339361Z"
    },
    "trusted": true,
    "ExecuteTime": {
     "end_time": "2025-05-03T20:05:35.241012Z",
     "start_time": "2025-05-03T20:05:35.070959Z"
    }
   },
   "source": [
    "## remove duplicates\n",
    "df = df.drop_duplicates()"
   ],
   "outputs": [],
   "execution_count": 335
  },
  {
   "cell_type": "code",
   "metadata": {
    "execution": {
     "iopub.execute_input": "2025-04-23T19:15:53.921914Z",
     "iopub.status.busy": "2025-04-23T19:15:53.921078Z",
     "iopub.status.idle": "2025-04-23T19:15:53.926583Z",
     "shell.execute_reply": "2025-04-23T19:15:53.925532Z",
     "shell.execute_reply.started": "2025-04-23T19:15:53.921879Z"
    },
    "trusted": true,
    "ExecuteTime": {
     "end_time": "2025-05-03T20:05:35.811431Z",
     "start_time": "2025-05-03T20:05:35.802691Z"
    }
   },
   "source": [
    "def check_nulls(df):\n",
    "    a = df.isna().sum()\n",
    "    for index, value in a.items():\n",
    "        if value > 0:\n",
    "            return False\n",
    "    return True"
   ],
   "outputs": [],
   "execution_count": 336
  },
  {
   "cell_type": "code",
   "metadata": {
    "execution": {
     "iopub.execute_input": "2025-04-23T19:15:54.479378Z",
     "iopub.status.busy": "2025-04-23T19:15:54.478510Z",
     "iopub.status.idle": "2025-04-23T19:15:54.485993Z",
     "shell.execute_reply": "2025-04-23T19:15:54.485010Z",
     "shell.execute_reply.started": "2025-04-23T19:15:54.479348Z"
    },
    "trusted": true,
    "ExecuteTime": {
     "end_time": "2025-05-03T20:05:36.757282Z",
     "start_time": "2025-05-03T20:05:36.749441Z"
    }
   },
   "source": [
    "def smart_normalize(df, skew_threshold=0.5):\n",
    "\n",
    "    numeric_cols = df.select_dtypes(include=['number']).columns\n",
    "    df_normalized = df.copy()\n",
    "    transformations = {}\n",
    "    \n",
    "    # Step 1: Skewness correction\n",
    "    for col in numeric_cols:\n",
    "        col_skew = skew(df[col].dropna())\n",
    "        if abs(col_skew) > skew_threshold:\n",
    "            # Apply Yeo-Johnson power transform (handles positive/negative values)\n",
    "            pt = PowerTransformer(method='yeo-johnson')\n",
    "            df_normalized[col] = pt.fit_transform(df[[col]]).flatten()\n",
    "            transformations[col] = {\n",
    "                'step1': 'power_transform',\n",
    "                'skewness': col_skew,\n",
    "                'transformer': pt\n",
    "            }\n",
    "        else:\n",
    "            transformations[col] = {\n",
    "                'step1': 'none',\n",
    "                'skewness': col_skew\n",
    "            }\n",
    "    \n",
    "    # Step 2: Standard scaling (applied to all numeric columns)\n",
    "    scaler = StandardScaler()\n",
    "    df_normalized[numeric_cols] = scaler.fit_transform(df_normalized[numeric_cols])\n",
    "    transformations['_standard_scaler'] = scaler\n",
    "    \n",
    "    return df_normalized, transformations"
   ],
   "outputs": [],
   "execution_count": 337
  },
  {
   "cell_type": "code",
   "metadata": {
    "execution": {
     "iopub.execute_input": "2025-04-23T19:15:55.543578Z",
     "iopub.status.busy": "2025-04-23T19:15:55.543234Z",
     "iopub.status.idle": "2025-04-23T19:15:55.549867Z",
     "shell.execute_reply": "2025-04-23T19:15:55.548908Z",
     "shell.execute_reply.started": "2025-04-23T19:15:55.543555Z"
    },
    "trusted": true,
    "ExecuteTime": {
     "end_time": "2025-05-03T20:05:37.265829Z",
     "start_time": "2025-05-03T20:05:37.260704Z"
    }
   },
   "source": [
    "def remove_outliers(df, outliers_cols, threshold_percent = 1):\n",
    "    numeric_cols = df.select_dtypes(include=['number']).columns\n",
    "    df_clean = df.copy()\n",
    "    \n",
    "    for i, (col, states) in enumerate(outliers_cols.items()):\n",
    "        if states['percent'] < threshold_percent:\n",
    "            lower_bound = states['lower_bound']\n",
    "            upper_bound = states['upper_bound']\n",
    "            \n",
    "            df_clean = df_clean[(df_clean[col] >= lower_bound) & (df_clean[col] <= upper_bound)]\n",
    "        \n",
    "    return df_clean"
   ],
   "outputs": [],
   "execution_count": 338
  },
  {
   "cell_type": "code",
   "metadata": {
    "execution": {
     "iopub.execute_input": "2025-04-23T19:15:55.821576Z",
     "iopub.status.busy": "2025-04-23T19:15:55.820916Z",
     "iopub.status.idle": "2025-04-23T19:15:55.828348Z",
     "shell.execute_reply": "2025-04-23T19:15:55.827408Z",
     "shell.execute_reply.started": "2025-04-23T19:15:55.821547Z"
    },
    "trusted": true,
    "ExecuteTime": {
     "end_time": "2025-05-03T20:05:37.923306Z",
     "start_time": "2025-05-03T20:05:37.907570Z"
    }
   },
   "source": [
    "def find_high_outlier_columns(df):\n",
    "    outlier_columns = {}\n",
    "    \n",
    "    for col in df.select_dtypes(include=np.number).columns:\n",
    "        if col == 'age' or df[col].nunique() < 10:  \n",
    "            continue\n",
    "            \n",
    "        Q1 = df[col].quantile(0.1)\n",
    "        Q3 = df[col].quantile(0.9)\n",
    "        IQR = Q3 - Q1\n",
    "        \n",
    "        lower_bound = Q1 - 1.5 * IQR\n",
    "        upper_bound = Q3 + 1.5 * IQR\n",
    "        \n",
    "        outliers = df[(df[col] < lower_bound) | (df[col] > upper_bound)][col]\n",
    "        outlier_percent = (len(outliers) / len(df[col].dropna())) * 100\n",
    "        \n",
    "        outlier_columns[col] = {\n",
    "            'percent': outlier_percent,\n",
    "            'count': len(outliers),\n",
    "            'lower_bound': lower_bound,\n",
    "            'upper_bound': upper_bound\n",
    "        }\n",
    "            \n",
    "    return outlier_columns"
   ],
   "outputs": [],
   "execution_count": 339
  },
  {
   "cell_type": "code",
   "metadata": {
    "execution": {
     "iopub.execute_input": "2025-04-23T19:15:56.730969Z",
     "iopub.status.busy": "2025-04-23T19:15:56.730618Z",
     "iopub.status.idle": "2025-04-23T19:15:56.740866Z",
     "shell.execute_reply": "2025-04-23T19:15:56.739763Z",
     "shell.execute_reply.started": "2025-04-23T19:15:56.730945Z"
    },
    "trusted": true,
    "ExecuteTime": {
     "end_time": "2025-05-03T20:05:38.705660Z",
     "start_time": "2025-05-03T20:05:38.698967Z"
    }
   },
   "source": [
    "def visualize_outliers(df, outlier_columns):\n",
    "    if not outlier_columns:\n",
    "        print(\"No columns with more than 5% outliers found.\")\n",
    "        return\n",
    "    percent = -1\n",
    "    for i, (col, stats) in enumerate(outlier_columns.items()):\n",
    "        percent = max(percent, stats['percent'])\n",
    "        if stats['percent'] > 5:\n",
    "            plt.figure(figsize=(15, 8))\n",
    "            gs = GridSpec(2, 2, height_ratios=[3, 1])\n",
    "            \n",
    "            # Box plot\n",
    "            ax1 = plt.subplot(gs[0, 0])\n",
    "            sns.boxplot(x=df[col], ax=ax1)\n",
    "            ax1.set_title(f\"Box Plot: {col}\")\n",
    "            \n",
    "            # Histogram with KDE\n",
    "            ax2 = plt.subplot(gs[0, 1])\n",
    "            sns.histplot(df[col], kde=True, ax=ax2)\n",
    "            ax2.axvline(stats['lower_bound'], color='r', linestyle='--', label='Outlier Threshold')\n",
    "            ax2.axvline(stats['upper_bound'], color='r', linestyle='--')\n",
    "            ax2.legend()\n",
    "            ax2.set_title(f\"Distribution: {col}\")\n",
    "            \n",
    "            # Outlier detail table\n",
    "            ax3 = plt.subplot(gs[1, :])\n",
    "            ax3.axis('off')\n",
    "            outlier_text = (\n",
    "                f\"Column: {col}\\n\"\n",
    "                f\"Outliers: {stats['count']} values ({stats['percent']:.2f}% of non-null data)\\n\"\n",
    "                f\"Lower bound: {stats['lower_bound']:.2f}\\n\"\n",
    "                f\"Upper bound: {stats['upper_bound']:.2f}\\n\"\n",
    "                f\"Min: {df[col].min():.2f}, Max: {df[col].max():.2f}\\n\"\n",
    "                f\"Mean: {df[col].mean():.2f}, Median: {df[col].median():.2f}\"\n",
    "            )\n",
    "            ax3.text(0.5, 0.5, outlier_text, ha='center', va='center', fontsize=12)\n",
    "            \n",
    "            plt.tight_layout()\n",
    "            plt.show()\n",
    "            \n",
    "            # Print summary\n",
    "            print(f\"\\n📊 Outlier Analysis for {col}:\")\n",
    "            print(f\"  • {stats['percent']:.2f}% of values are outliers ({stats['count']} out of {len(df[col].dropna())})\")\n",
    "            print(f\"  • Outlier thresholds: < {stats['lower_bound']:.2f} or > {stats['upper_bound']:.2f}\")\n",
    "            print(\"──\"*40)\n",
    "    print(\"Max Percentage of Outliers: \", percent)"
   ],
   "outputs": [],
   "execution_count": 340
  },
  {
   "cell_type": "code",
   "metadata": {
    "execution": {
     "iopub.execute_input": "2025-04-23T19:31:00.865945Z",
     "iopub.status.busy": "2025-04-23T19:31:00.865575Z",
     "iopub.status.idle": "2025-04-23T19:31:00.878925Z",
     "shell.execute_reply": "2025-04-23T19:31:00.877783Z",
     "shell.execute_reply.started": "2025-04-23T19:31:00.865920Z"
    },
    "trusted": true,
    "ExecuteTime": {
     "end_time": "2025-05-03T20:05:39.617222Z",
     "start_time": "2025-05-03T20:05:39.606179Z"
    }
   },
   "source": [
    "def view_outlier_dist(df, outlier_columns):\n",
    "    for i, (col, stats) in enumerate(outlier_columns.items()):\n",
    "        if stats['percent'] > 5:\n",
    "            df_clean = df.copy()\n",
    "            df = df_clean[(df_clean[col] >= stats['lower_bound']) & (df_clean[col] <= stats['upper_bound'])]\n",
    "            \n",
    "            male_df = df_clean[df_clean['gender'] == 'male']\n",
    "            female_df = df_clean[df_clean['gender'] == 'female']\n",
    "                \n",
    "            male_stats = {'mean': male_df[col].mean(), 'std': male_df[col].std()}\n",
    "            female_stats = {'mean': female_df[col].mean(), 'std': female_df[col].std()}\n",
    "            \n",
    "            male_snr = abs(male_stats['mean']) / male_stats['std'] if male_stats['std'] != 0 else 0\n",
    "            female_snr = abs(female_stats['mean']) / female_stats['std'] if female_stats['std'] != 0 else 0\n",
    "            \n",
    "            pooled_std = np.sqrt((male_stats['std']**2 + female_stats['std']**2)/2)\n",
    "            cohens_d = abs(male_stats['mean'] - female_stats['mean']) / pooled_std\n",
    "            print(cohens_d)\n",
    "            \n",
    "            plt.figure(figsize=(12, 6))\n",
    "            \n",
    "            # Distribution plot\n",
    "            sns.kdeplot(data=df_clean, x=col, hue='gender', fill=True, alpha=0.3, \n",
    "                       common_norm=False, palette={'male':'blue', 'female':'orange'}, hue_order=('male', 'female'))\n",
    "            \n",
    "            plt.axvline(male_stats['mean'], color='blue', linestyle='--', \n",
    "                        label=f\"Male: μ = {male_stats['mean']:.2f}, σ = {male_stats['std']:.2f}\")\n",
    "            plt.axvline(female_stats['mean'], color='orange', linestyle='--',\n",
    "                        label=f\"Female: μ = {female_stats['mean']:.2f}, σ = {female_stats['std']:.2f}\")\n",
    "            \n",
    "            plt.axvspan(male_stats['mean'] - male_stats['std'], male_stats['mean'] + male_stats['std'], \n",
    "                        color='blue', alpha=0.1)\n",
    "            plt.axvspan(female_stats['mean'] - female_stats['std'], female_stats['mean'] + female_stats['std'],\n",
    "                       color='orange', alpha=0.1)\n",
    "            \n",
    "            plt.title(f\"{col}\\nCohen's d = {cohens_d:.2f} (Male SNR: {male_snr:.2f}, Female SNR: {female_snr:.2f})\")\n",
    "            plt.legend()\n",
    "            plt.tight_layout()\n",
    "            plt.show()\n",
    "            \n",
    "            # Print comprehensive comparison\n",
    "            print(f\"\\n📊 {col}\")\n",
    "            print(f\"   Male: μ/σ = {male_snr:.2f} (μ = {male_stats['mean']:.2f}, σ = {male_stats['std']:.2f})\")\n",
    "            print(f\" Female: μ/σ = {female_snr:.2f} (μ = {female_stats['mean']:.2f}, σ = {female_stats['std']:.2f})\")\n",
    "            print(f\" Standardized difference (Cohen's d): {cohens_d:.2f}\")\n",
    "            print(\"──\"*30)"
   ],
   "outputs": [],
   "execution_count": 341
  },
  {
   "cell_type": "code",
   "metadata": {
    "execution": {
     "iopub.execute_input": "2025-04-23T19:30:53.403296Z",
     "iopub.status.busy": "2025-04-23T19:30:53.402972Z",
     "iopub.status.idle": "2025-04-23T19:30:53.414746Z",
     "shell.execute_reply": "2025-04-23T19:30:53.413529Z",
     "shell.execute_reply.started": "2025-04-23T19:30:53.403273Z"
    },
    "trusted": true,
    "ExecuteTime": {
     "end_time": "2025-05-03T20:05:40.672481Z",
     "start_time": "2025-05-03T20:05:40.665348Z"
    }
   },
   "source": [
    "def plot_male_female_diff(male_df, female_df):\n",
    "    for col in male_df.select_dtypes(include=np.number).columns:  # Only numeric columns\n",
    "        if col == 'gender':\n",
    "            continue\n",
    "            \n",
    "        male_stats = {'mean': male_df[col].mean(), 'std': male_df[col].std()}\n",
    "        female_stats = {'mean': female_df[col].mean(), 'std': female_df[col].std()}\n",
    "        \n",
    "        male_snr = abs(male_stats['mean']) / male_stats['std'] if male_stats['std'] != 0 else 0\n",
    "        female_snr = abs(female_stats['mean']) / female_stats['std'] if female_stats['std'] != 0 else 0\n",
    "        \n",
    "        pooled_std = np.sqrt((male_stats['std']**2 + female_stats['std']**2)/2)\n",
    "        cohens_d = abs(male_stats['mean'] - female_stats['mean']) / pooled_std\n",
    "        \n",
    "        if cohens_d > 0.4:\n",
    "            plt.figure(figsize=(12, 6))\n",
    "            \n",
    "            # Distribution plot\n",
    "            sns.kdeplot(data=df, x=col, hue='gender', fill=True, alpha=0.3, \n",
    "                       common_norm=False, palette={'male':'blue', 'female':'orange'}, hue_order=('male', 'female'))\n",
    "            \n",
    "            plt.axvline(male_stats['mean'], color='blue', linestyle='--', \n",
    "                        label=f\"Male: μ = {male_stats['mean']:.2f}, σ = {male_stats['std']:.2f}\")\n",
    "            plt.axvline(female_stats['mean'], color='orange', linestyle='--',\n",
    "                        label=f\"Female: μ = {female_stats['mean']:.2f}, σ = {female_stats['std']:.2f}\")\n",
    "            \n",
    "            plt.axvspan(male_stats['mean'] - male_stats['std'], male_stats['mean'] + male_stats['std'], \n",
    "                        color='blue', alpha=0.1)\n",
    "            plt.axvspan(female_stats['mean'] - female_stats['std'], female_stats['mean'] + female_stats['std'],\n",
    "                       color='orange', alpha=0.1)\n",
    "            \n",
    "            plt.title(f\"{col}\\nCohen's d = {cohens_d:.2f} (Male SNR: {male_snr:.2f}, Female SNR: {female_snr:.2f})\")\n",
    "            plt.legend()\n",
    "            plt.tight_layout()\n",
    "            plt.show()\n",
    "            \n",
    "            # Print comprehensive comparison\n",
    "            print(f\"\\n📊 {col}\")\n",
    "            print(f\"   Male: μ/σ = {male_snr:.2f} (μ = {male_stats['mean']:.2f}, σ = {male_stats['std']:.2f})\")\n",
    "            print(f\" Female: μ/σ = {female_snr:.2f} (μ = {female_stats['mean']:.2f}, σ = {female_stats['std']:.2f})\")\n",
    "            print(f\" Standardized difference (Cohen's d): {cohens_d:.2f}\")\n",
    "            print(\"──\"*30)"
   ],
   "outputs": [],
   "execution_count": 342
  },
  {
   "cell_type": "code",
   "metadata": {
    "execution": {
     "iopub.execute_input": "2025-04-23T19:30:45.653983Z",
     "iopub.status.busy": "2025-04-23T19:30:45.653604Z",
     "iopub.status.idle": "2025-04-23T19:30:45.666127Z",
     "shell.execute_reply": "2025-04-23T19:30:45.665163Z",
     "shell.execute_reply.started": "2025-04-23T19:30:45.653956Z"
    },
    "trusted": true,
    "ExecuteTime": {
     "end_time": "2025-05-03T20:05:41.707527Z",
     "start_time": "2025-05-03T20:05:41.699988Z"
    }
   },
   "source": [
    "def plot_twenties_vs_fifties(twenties_df, fifties_df):\n",
    "    for col in twenties_df.select_dtypes(include=np.number).columns:  \n",
    "        if col == 'age':  \n",
    "            continue\n",
    "            \n",
    "        # Calculate statistics\n",
    "        twenties_stats = {'mean': twenties_df[col].mean(), 'std': twenties_df[col].std()}\n",
    "        fifties_stats = {'mean': fifties_df[col].mean(), 'std': fifties_df[col].std()}\n",
    "        \n",
    "        # Calculate signal-to-noise ratio (mean/std)\n",
    "        twenties_snr = abs(twenties_stats['mean']) / twenties_stats['std'] if twenties_stats['std'] != 0 else 0\n",
    "        fifties_snr = abs(fifties_stats['mean']) / fifties_stats['std'] if fifties_stats['std'] != 0 else 0\n",
    "        \n",
    "        # Calculate standardized mean difference (Cohen's d)\n",
    "        pooled_std = np.sqrt((twenties_stats['std']**2 + fifties_stats['std']**2)/2)\n",
    "        cohens_d = abs(twenties_stats['mean'] - fifties_stats['mean']) / pooled_std\n",
    "        \n",
    "        # Only plot if substantial difference exists (Cohen's d > 0.4 effect)\n",
    "        if cohens_d > 0.2:\n",
    "            plt.figure(figsize=(12, 6))\n",
    "            \n",
    "            # Create temp dataframe with age groups for plotting\n",
    "            plot_df = pd.concat([\n",
    "                twenties_df[col].to_frame().assign(age_group='20-29'),\n",
    "                fifties_df[col].to_frame().assign(age_group='50-59')\n",
    "            ])\n",
    "            \n",
    "            # Distribution plot\n",
    "            sns.kdeplot(data=plot_df, x=col, hue='age_group', fill=True, alpha=0.3, \n",
    "                       common_norm=False, palette={'20-29':'blue', '50-59':'orange'})\n",
    "            \n",
    "            # Add statistics annotations\n",
    "            plt.axvline(twenties_stats['mean'], color='blue', linestyle='--', \n",
    "                        label=f\"twenties: μ = {twenties_stats['mean']:.2f}, σ = {twenties_stats['std']:.2f}\")\n",
    "            plt.axvline(fifties_stats['mean'], color='orange', linestyle='--',\n",
    "                        label=f\"fifties: μ = {fifties_stats['mean']:.2f}, σ = {fifties_stats['std']:.2f}\")\n",
    "            \n",
    "            # Add std ranges\n",
    "            plt.axvspan(twenties_stats['mean'] - twenties_stats['std'], twenties_stats['mean'] + twenties_stats['std'], \n",
    "                        color='blue', alpha=0.1)\n",
    "            plt.axvspan(fifties_stats['mean'] - fifties_stats['std'], fifties_stats['mean'] + fifties_stats['std'],\n",
    "                       color='orange', alpha=0.1)\n",
    "            \n",
    "            plt.title(f\"{col}\\nCohen's d = {cohens_d:.2f} (twenties SNR: {twenties_snr:.2f}, fifties SNR: {fifties_snr:.2f})\")\n",
    "            plt.legend()\n",
    "            plt.tight_layout()\n",
    "            plt.show()\n",
    "            \n",
    "            # Print comprehensive comparison\n",
    "            print(f\"\\n📊 {col}\")\n",
    "            print(f\"   twenties: μ/σ = {twenties_snr:.2f} (μ = {twenties_stats['mean']:.2f}, σ = {twenties_stats['std']:.2f})\")\n",
    "            print(f\"   fifties: μ/σ = {fifties_snr:.2f} (μ = {fifties_stats['mean']:.2f}, σ = {fifties_stats['std']:.2f})\")\n",
    "            print(f\"   Standardized difference (Cohen's d): {cohens_d:.2f}\")\n",
    "            print(\"──\"*30)"
   ],
   "outputs": [],
   "execution_count": 343
  },
  {
   "cell_type": "code",
   "metadata": {
    "execution": {
     "iopub.execute_input": "2025-04-23T19:30:39.462166Z",
     "iopub.status.busy": "2025-04-23T19:30:39.461232Z",
     "iopub.status.idle": "2025-04-23T19:30:39.475149Z",
     "shell.execute_reply": "2025-04-23T19:30:39.474211Z",
     "shell.execute_reply.started": "2025-04-23T19:30:39.462135Z"
    },
    "trusted": true,
    "ExecuteTime": {
     "end_time": "2025-05-03T20:05:42.506547Z",
     "start_time": "2025-05-03T20:05:42.499430Z"
    }
   },
   "source": [
    "def plot_age_gender_dist(twenties_df, fifties_df):\n",
    "    for col in twenties_df.select_dtypes(include=np.number).columns:\n",
    "        if col == 'age':\n",
    "            continue\n",
    "            \n",
    "        # Create subsets for each demographic group\n",
    "        male_20 = twenties_df[twenties_df['gender'] == 'male'][col].dropna()\n",
    "        male_50 = fifties_df[fifties_df['gender'] == 'male'][col].dropna()\n",
    "        female_20 = twenties_df[twenties_df['gender'] == 'female'][col].dropna()\n",
    "        female_50 = fifties_df[fifties_df['gender'] == 'female'][col].dropna()\n",
    "        \n",
    "        # Calculate all Cohen's d comparisons\n",
    "        def calculate_cohens_d(group1, group2):\n",
    "            pooled_std = np.sqrt((group1.std()**2 + group2.std()**2)/2)\n",
    "            return abs(group1.mean() - group2.mean()) / pooled_std\n",
    "        \n",
    "        cohens_d = {\n",
    "            'male_vs_female_20': calculate_cohens_d(male_20, female_20),\n",
    "            'male_vs_female_50': calculate_cohens_d(male_50, female_50),\n",
    "            'age_effect_male': calculate_cohens_d(male_20, male_50),\n",
    "            'age_effect_female': calculate_cohens_d(female_20, female_50)\n",
    "        }\n",
    "        \n",
    "        # Only plot if any comparison shows meaningful effect size\n",
    "        if any(d > 0.2 for d in cohens_d.values()):\n",
    "            plt.figure(figsize=(14, 7))\n",
    "            \n",
    "            # Create plot dataframe\n",
    "            plot_df = pd.concat([\n",
    "                male_20.to_frame().assign(group='Male 20-29'),\n",
    "                male_50.to_frame().assign(group='Male 50-59'),\n",
    "                female_20.to_frame().assign(group='Female 20-29'),\n",
    "                female_50.to_frame().assign(group='Female 50-59')\n",
    "            ])\n",
    "            \n",
    "            # Plot KDE\n",
    "            palette = {'Male 20-29':'blue', 'Male 50-59':'lightblue',\n",
    "                     'Female 20-29':'red', 'Female 50-59':'orange'}\n",
    "            \n",
    "            for group, color in palette.items():\n",
    "                group_data = plot_df[plot_df['group'] == group]\n",
    "                sns.kdeplot(data=group_data, x=col, color=color, \n",
    "                            fill=True, alpha=0.2, common_norm=False, \n",
    "                            linewidth=2, label=group)\n",
    "            \n",
    "            # Add effect size annotations\n",
    "            text_y = 0.9\n",
    "            for name, d in cohens_d.items():\n",
    "                if d > 0.2:\n",
    "                    comp_name = name.replace('_', ' ').title()\n",
    "                    plt.text(0.02, text_y, f\"{comp_name}: Cohen's d = {d:.2f}\",\n",
    "                            transform=plt.gca().transAxes, fontsize=10,\n",
    "                            bbox=dict(facecolor='white', alpha=0.7))\n",
    "                    text_y -= 0.08\n",
    "            \n",
    "            plt.title(f\"Distribution of {col}\\n(Only showing comparisons with Cohen's d > 0.2)\")\n",
    "            plt.legend(bbox_to_anchor=(1.05, 1), loc='upper left')\n",
    "            plt.tight_layout()\n",
    "            plt.show()\n",
    "            \n",
    "            # Print detailed statistics\n",
    "            print(f\"\\n📊 {col} - Effect Size Analysis:\")\n",
    "            print(f\"  Male 20s vs Female 20s: d = {cohens_d['male_vs_female_20']:.2f}\")\n",
    "            print(f\"  Male 50s vs Female 50s: d = {cohens_d['male_vs_female_50']:.2f}\")\n",
    "            print(f\"  Age Effect (Male 20s vs 50s): d = {cohens_d['age_effect_male']:.2f}\")\n",
    "            print(f\"  Age Effect (Female 20s vs 50s): d = {cohens_d['age_effect_female']:.2f}\")\n",
    "            print(\"──\"*40)"
   ],
   "outputs": [],
   "execution_count": 344
  },
  {
   "cell_type": "code",
   "metadata": {
    "execution": {
     "iopub.execute_input": "2025-04-23T19:33:10.474358Z",
     "iopub.status.busy": "2025-04-23T19:33:10.473522Z",
     "iopub.status.idle": "2025-04-23T19:33:10.485913Z",
     "shell.execute_reply": "2025-04-23T19:33:10.485122Z",
     "shell.execute_reply.started": "2025-04-23T19:33:10.474330Z"
    },
    "trusted": true,
    "ExecuteTime": {
     "end_time": "2025-05-03T20:05:43.508354Z",
     "start_time": "2025-05-03T20:05:43.502305Z"
    }
   },
   "source": [
    "def duration_plot(male_df, female_df):\n",
    "    # Calculate statistics\n",
    "    twenties_stats = {'mean': male_df['duration'].mean(), 'std': male_df['duration'].std()}\n",
    "    fifties_stats = {'mean': female_df['duration'].mean(), 'std': female_df['duration'].std()}\n",
    "    \n",
    "    # Calculate signal-to-noise ratio (mean/std)\n",
    "    twenties_snr = abs(twenties_stats['mean']) / twenties_stats['std'] if twenties_stats['std'] != 0 else 0\n",
    "    fifties_snr = abs(fifties_stats['mean']) / fifties_stats['std'] if fifties_stats['std'] != 0 else 0\n",
    "    \n",
    "    # Calculate standardized mean difference (Cohen's d)\n",
    "    pooled_std = np.sqrt((twenties_stats['std']**2 + fifties_stats['std']**2)/2)\n",
    "    cohens_d = abs(twenties_stats['mean'] - fifties_stats['mean']) / pooled_std\n",
    "    \n",
    "    plt.figure(figsize=(12, 6))\n",
    "    \n",
    "    # Create temp dataframe with age groups for plotting\n",
    "    plot_df = pd.concat([\n",
    "        twenties_df['duration'].to_frame().assign(age_group='20-29'),\n",
    "        fifties_df['duration'].to_frame().assign(age_group='50-59')\n",
    "    ])\n",
    "    \n",
    "    # Distribution plot\n",
    "    sns.kdeplot(data=plot_df, x='duration', hue='age_group', fill=True, alpha=0.3, \n",
    "               common_norm=False, palette={'20-29':'blue', '50-59':'orange'})\n",
    "    \n",
    "    # Add statistics annotations\n",
    "    plt.axvline(twenties_stats['mean'], color='blue', linestyle='--', \n",
    "                label=f\"twenties: μ = {twenties_stats['mean']:.2f}, σ = {twenties_stats['std']:.2f}\")\n",
    "    plt.axvline(fifties_stats['mean'], color='orange', linestyle='--',\n",
    "                label=f\"fifties: μ = {fifties_stats['mean']:.2f}, σ = {fifties_stats['std']:.2f}\")\n",
    "    \n",
    "    # Add std ranges\n",
    "    plt.axvspan(twenties_stats['mean'] - twenties_stats['std'], twenties_stats['mean'] + twenties_stats['std'], \n",
    "                color='blue', alpha=0.1)\n",
    "    plt.axvspan(fifties_stats['mean'] - fifties_stats['std'], fifties_stats['mean'] + fifties_stats['std'],\n",
    "               color='orange', alpha=0.1)\n",
    "    \n",
    "    plt.title(f\"{col}\\nCohen's d = {cohens_d:.2f} (twenties SNR: {twenties_snr:.2f}, fifties SNR: {fifties_snr:.2f})\")\n",
    "    plt.legend()\n",
    "    plt.tight_layout()\n",
    "    plt.show()\n",
    "    \n",
    "    # Print comprehensive comparison\n",
    "    print(f\"\\n📊 duration\")\n",
    "    print(f\"   twenties: μ/σ = {twenties_snr:.2f} (μ = {twenties_stats['mean']:.2f}, σ = {twenties_stats['std']:.2f})\")\n",
    "    print(f\"   fifties: μ/σ = {fifties_snr:.2f} (μ = {fifties_stats['mean']:.2f}, σ = {fifties_stats['std']:.2f})\")\n",
    "    print(f\"   Standardized difference (Cohen's d): {cohens_d:.2f}\")\n",
    "    print(\"──\"*30)"
   ],
   "outputs": [],
   "execution_count": 345
  },
  {
   "cell_type": "code",
   "metadata": {
    "execution": {
     "iopub.execute_input": "2025-04-23T19:33:18.636884Z",
     "iopub.status.busy": "2025-04-23T19:33:18.636525Z",
     "iopub.status.idle": "2025-04-23T19:33:18.643222Z",
     "shell.execute_reply": "2025-04-23T19:33:18.642243Z",
     "shell.execute_reply.started": "2025-04-23T19:33:18.636862Z"
    },
    "trusted": true,
    "ExecuteTime": {
     "end_time": "2025-05-03T20:05:44.546880Z",
     "start_time": "2025-05-03T20:05:44.543414Z"
    }
   },
   "source": [
    "def analyze_feature_correlations(df, threshold=0.5):\n",
    "    \n",
    "    numeric_df = df.select_dtypes(include=['number'])\n",
    "    \n",
    "    corr_matrix = numeric_df.corr()\n",
    "    \n",
    "    # Find high correlations\n",
    "    high_corr = []\n",
    "    for i in range(len(corr_matrix.columns)):\n",
    "        for j in range(i):\n",
    "            if abs(corr_matrix.iloc[i, j]) > threshold:\n",
    "                high_corr.append((corr_matrix.columns[i], corr_matrix.columns[j], \n",
    "                                 corr_matrix.iloc[i, j]))\n",
    "    return high_corr"
   ],
   "outputs": [],
   "execution_count": 346
  },
  {
   "cell_type": "code",
   "metadata": {
    "execution": {
     "iopub.execute_input": "2025-04-23T19:17:54.682957Z",
     "iopub.status.busy": "2025-04-23T19:17:54.682374Z",
     "iopub.status.idle": "2025-04-23T19:17:54.688738Z",
     "shell.execute_reply": "2025-04-23T19:17:54.687732Z",
     "shell.execute_reply.started": "2025-04-23T19:17:54.682927Z"
    },
    "trusted": true,
    "ExecuteTime": {
     "end_time": "2025-05-03T20:05:45.350146Z",
     "start_time": "2025-05-03T20:05:45.337604Z"
    }
   },
   "source": [
    "def features_to_keep(all_features, corr_features, to_be_removed):\n",
    "    features_set = set()\n",
    "    to_keep = []\n",
    "    for removed in to_be_removed:\n",
    "        features_set.add(removed)\n",
    "    \n",
    "    for x, y, z in corr_features:\n",
    "        if x not in features_set and y not in features_set:\n",
    "            to_keep.append(x)\n",
    "            features_set.add(x)\n",
    "            features_set.add(y)\n",
    "\n",
    "    for feature in all_features:\n",
    "        if feature not in features_set:\n",
    "            to_keep.append(feature)\n",
    "\n",
    "    return to_keep"
   ],
   "outputs": [],
   "execution_count": 347
  },
  {
   "cell_type": "markdown",
   "metadata": {},
   "source": [
    "## Calls"
   ]
  },
  {
   "cell_type": "code",
   "metadata": {
    "trusted": true,
    "ExecuteTime": {
     "end_time": "2025-05-02T12:52:33.277160Z",
     "start_time": "2025-05-02T12:49:20.712813Z"
    }
   },
   "source": [
    "outliers_cols = find_high_outlier_columns(df)\n",
    "visualize_outliers(df, outliers_cols)"
   ],
   "outputs": [
    {
     "name": "stderr",
     "output_type": "stream",
     "text": [
      "/var/folders/2q/6vjsrj112rb774fzn79lb71h0000gn/T/ipykernel_14073/1630797517.py:38: UserWarning: Creating legend with loc=\"best\" can be slow with large amounts of data.\n",
      "  plt.tight_layout()\n",
      "/opt/anaconda3/lib/python3.11/site-packages/IPython/core/pylabtools.py:170: UserWarning: Creating legend with loc=\"best\" can be slow with large amounts of data.\n",
      "  fig.canvas.print_figure(bytes_io, **kw)\n"
     ]
    },
    {
     "data": {
      "text/plain": [
       "<Figure size 1500x800 with 3 Axes>"
      ],
      "image/png": "[encoded data removed]"
     },
     "metadata": {},
     "output_type": "display_data"
    },
    {
     "name": "stdout",
     "output_type": "stream",
     "text": [
      "\n",
      "📊 Outlier Analysis for ste_min:\n",
      "  • 5.46% of values are outliers (2444 out of 44777)\n",
      "  • Outlier thresholds: < -0.00 or > 0.00\n",
      "────────────────────────────────────────────────────────────────────────────────\n",
      "Max Percentage of Outliers:  5.45815932286665\n"
     ]
    }
   ],
   "execution_count": 54
  },
  {
   "cell_type": "code",
   "metadata": {
    "trusted": true,
    "ExecuteTime": {
     "end_time": "2025-05-02T12:52:34.466645Z",
     "start_time": "2025-05-02T12:52:33.524882Z"
    }
   },
   "source": [
    "view_outlier_dist(df, outliers_cols)"
   ],
   "outputs": [
    {
     "name": "stdout",
     "output_type": "stream",
     "text": [
      "0.07793571612441193\n"
     ]
    },
    {
     "data": {
      "text/plain": [
       "<Figure size 1200x600 with 1 Axes>"
      ],
      "image/png": "[encoded data removed]"
     },
     "metadata": {},
     "output_type": "display_data"
    },
    {
     "name": "stdout",
     "output_type": "stream",
     "text": [
      "\n",
      "📊 ste_min\n",
      "   Male: μ/σ = 0.10 (μ = 0.00, σ = 0.00)\n",
      " Female: μ/σ = 0.09 (μ = 0.00, σ = 0.00)\n",
      " Standardized difference (Cohen's d): 0.08\n",
      "────────────────────────────────────────────────────────────\n"
     ]
    }
   ],
   "execution_count": 55
  },
  {
   "metadata": {
    "ExecuteTime": {
     "end_time": "2025-05-03T20:09:50.343257Z",
     "start_time": "2025-05-03T20:09:50.323578Z"
    }
   },
   "cell_type": "code",
   "source": [
    "#save means of df in a dataframe only number\n",
    "means_df = df.drop(columns = ['gender', 'age'])\n",
    "means_df = means_df.mean().to_frame().T\n",
    "means_df = means_df.rename(columns = lambda x: x + '_mean')\n",
    "means_df = means_df.rename_axis('index').reset_index()\n",
    "means_df.to_csv('Inference/means.csv', index=False)"
   ],
   "outputs": [],
   "execution_count": 350
  },
  {
   "metadata": {
    "ExecuteTime": {
     "end_time": "2025-05-03T15:07:33.407847Z",
     "start_time": "2025-05-03T15:07:33.380069Z"
    }
   },
   "cell_type": "code",
   "source": [
    "#replace null with mean\n",
    "for col in df.select_dtypes(include=['number']).columns:\n",
    "    if df[col].isnull().sum() > 0:\n",
    "        print(f\"Column: {col}, Nulls: {df[col].isnull().sum()}\")\n",
    "        mean_value = df[col].mean()\n",
    "        df[col] = df[col].fillna(mean_value)"
   ],
   "outputs": [
    {
     "name": "stdout",
     "output_type": "stream",
     "text": [
      "Column: f0_mean, Nulls: 1\n",
      "Column: f0_std, Nulls: 1\n",
      "Column: f0_5_percentile, Nulls: 1\n",
      "Column: f0_95_percentile, Nulls: 1\n",
      "Column: formant3, Nulls: 2\n"
     ]
    }
   ],
   "execution_count": 319
  },
  {
   "cell_type": "code",
   "metadata": {
    "trusted": true,
    "ExecuteTime": {
     "end_time": "2025-05-03T15:07:34.341805Z",
     "start_time": "2025-05-03T15:07:34.330261Z"
    }
   },
   "source": [
    "assert check_nulls(df) == True, 'there are nulls'"
   ],
   "outputs": [],
   "execution_count": 320
  },
  {
   "cell_type": "code",
   "metadata": {
    "trusted": true,
    "ExecuteTime": {
     "end_time": "2025-05-03T13:41:16.696449Z",
     "start_time": "2025-05-03T13:41:16.691339Z"
    }
   },
   "source": [
    "## commented gd3na mn 3ndy\n",
    "# df_normalized, transformations = smart_normalize(df)\n",
    "# outliers_cols = find_high_outlier_columns(df_normalized)\n",
    "# # df_normalized = remove_outliers(df_normalized, outliers_cols)\n",
    "# df = df_normalized.copy()"
   ],
   "outputs": [],
   "execution_count": 287
  },
  {
   "cell_type": "code",
   "metadata": {
    "trusted": true,
    "ExecuteTime": {
     "end_time": "2025-05-03T15:07:36.739161Z",
     "start_time": "2025-05-03T15:07:36.691919Z"
    }
   },
   "source": [
    "male_df = df[df['gender'] == 'male']\n",
    "female_df = df[df['gender'] == 'female']\n",
    "twenties_df = df[df['age'] == 'twenties']\n",
    "fifties_df = df[df['age'] == 'fifties']"
   ],
   "outputs": [],
   "execution_count": 321
  },
  {
   "cell_type": "code",
   "metadata": {
    "trusted": true,
    "ExecuteTime": {
     "end_time": "2025-05-03T15:07:38.342551Z",
     "start_time": "2025-05-03T15:07:37.572966Z"
    }
   },
   "source": [
    "correlated_features = analyze_feature_correlations(df, 0.8)"
   ],
   "outputs": [],
   "execution_count": 322
  },
  {
   "cell_type": "code",
   "metadata": {
    "trusted": true,
    "ExecuteTime": {
     "end_time": "2025-05-03T15:07:50.333092Z",
     "start_time": "2025-05-03T15:07:50.296816Z"
    }
   },
   "source": [
    "remaining_features = features_to_keep(df.select_dtypes(include=['number']).columns, correlated_features, to_be_removed=['duration'])\n",
    "## save remaining features in a json so i can remove others\n",
    "import json\n",
    "with open('./Inference/remaining_features.json', 'w') as f:\n",
    "    json.dump(remaining_features, f)\n",
    "remaining_features.append('age')\n",
    "remaining_features.append('gender')"
   ],
   "outputs": [],
   "execution_count": 324
  },
  {
   "cell_type": "code",
   "metadata": {
    "trusted": true,
    "ExecuteTime": {
     "end_time": "2025-05-03T15:07:51.571310Z",
     "start_time": "2025-05-03T15:07:51.554570Z"
    }
   },
   "source": [
    "assert len(remaining_features) == len(set(remaining_features)), 'problem in feature selection'\n",
    "print(len(remaining_features), len(df))\n",
    "df = df[remaining_features]"
   ],
   "outputs": [
    {
     "name": "stdout",
     "output_type": "stream",
     "text": [
      "105 39433\n"
     ]
    }
   ],
   "execution_count": 325
  },
  {
   "cell_type": "markdown",
   "metadata": {},
   "source": [
    "## Baseline Model"
   ]
  },
  {
   "cell_type": "code",
   "metadata": {
    "execution": {
     "iopub.execute_input": "2025-04-23T19:18:03.995100Z",
     "iopub.status.busy": "2025-04-23T19:18:03.994392Z",
     "iopub.status.idle": "2025-04-23T19:18:03.999442Z",
     "shell.execute_reply": "2025-04-23T19:18:03.998498Z",
     "shell.execute_reply.started": "2025-04-23T19:18:03.995065Z"
    },
    "trusted": true,
    "ExecuteTime": {
     "end_time": "2025-05-03T15:07:54.592453Z",
     "start_time": "2025-05-03T15:07:54.589085Z"
    }
   },
   "source": [
    "from sklearn.ensemble import RandomForestClassifier\n",
    "from sklearn.model_selection import train_test_split\n",
    "from sklearn.metrics import classification_report, accuracy_score\n",
    "from sklearn.decomposition import PCA"
   ],
   "outputs": [],
   "execution_count": 326
  },
  {
   "metadata": {
    "ExecuteTime": {
     "end_time": "2025-05-03T15:07:55.479027Z",
     "start_time": "2025-05-03T15:07:55.475650Z"
    }
   },
   "cell_type": "code",
   "source": [
    "def normalize_test(X_test, transformations):\n",
    "    X_test_normalized = X_test.copy()\n",
    "    for col, info in transformations.items():\n",
    "        if col == '_standard_scaler':\n",
    "            continue\n",
    "        if info['step1'] == 'power_transform':\n",
    "            pt = info['transformer']\n",
    "            X_test_normalized[col] = pt.transform(X_test[[col]]).flatten()\n",
    "\n",
    "    # Apply standard scaling using the saved scaler\n",
    "    scaler = transformations['_standard_scaler']\n",
    "    numeric_cols = X_test.select_dtypes(include=['number']).columns\n",
    "    X_test_normalized[numeric_cols] = scaler.transform(X_test_normalized[numeric_cols])\n",
    "    return X_test_normalized\n"
   ],
   "outputs": [],
   "execution_count": 327
  },
  {
   "cell_type": "code",
   "metadata": {
    "execution": {
     "iopub.execute_input": "2025-04-23T19:38:22.226746Z",
     "iopub.status.busy": "2025-04-23T19:38:22.226295Z",
     "iopub.status.idle": "2025-04-23T19:38:22.233510Z",
     "shell.execute_reply": "2025-04-23T19:38:22.232615Z",
     "shell.execute_reply.started": "2025-04-23T19:38:22.226699Z"
    },
    "trusted": true,
    "ExecuteTime": {
     "end_time": "2025-05-03T15:07:56.051812Z",
     "start_time": "2025-05-03T15:07:56.047765Z"
    }
   },
   "source": [
    "from xgboost import XGBClassifier\n",
    "def baseline(X, y):\n",
    "    X_train, X_test, y_train, y_test = train_test_split(X, y, test_size=0.2, random_state=42)\n",
    "    X_train, transformations = smart_normalize(X_train)\n",
    "    X_test = normalize_test(X_test, transformations)\n",
    "    clf = XGBClassifier()\n",
    "    clf.fit(X_train, y_train)\n",
    "\n",
    "    y_pred = clf.predict(X_test)\n",
    "    \n",
    "    print(\"Accuracy:\", accuracy_score(y_test, y_pred))\n",
    "    print(classification_report(y_test, y_pred))\n",
    "    return clf.feature_importances_"
   ],
   "outputs": [],
   "execution_count": 328
  },
  {
   "cell_type": "code",
   "metadata": {
    "execution": {
     "iopub.execute_input": "2025-04-23T19:18:04.701227Z",
     "iopub.status.busy": "2025-04-23T19:18:04.700549Z",
     "iopub.status.idle": "2025-04-23T19:18:04.708670Z",
     "shell.execute_reply": "2025-04-23T19:18:04.707767Z",
     "shell.execute_reply.started": "2025-04-23T19:18:04.701199Z"
    },
    "trusted": true,
    "ExecuteTime": {
     "end_time": "2025-05-03T15:07:57.690350Z",
     "start_time": "2025-05-03T15:07:57.679208Z"
    }
   },
   "source": [
    "X = df.drop(['gender', 'age'], axis=1)\n",
    "y = df['gender'].map({'male' : 1, 'female' : 0}) + 2 * df['age'].map({'twenties' : 1, 'fifties' : 0})"
   ],
   "outputs": [],
   "execution_count": 329
  },
  {
   "cell_type": "code",
   "metadata": {
    "trusted": true,
    "ExecuteTime": {
     "end_time": "2025-05-03T13:41:38.764609Z",
     "start_time": "2025-05-03T13:41:34.103518Z"
    }
   },
   "source": [
    "baseline(X, y)"
   ],
   "outputs": [
    {
     "name": "stdout",
     "output_type": "stream",
     "text": [
      "Accuracy: 0.7869796761221607\n",
      "              precision    recall  f1-score   support\n",
      "\n",
      "           0       0.81      0.76      0.78      2147\n",
      "           1       0.77      0.83      0.80      2351\n",
      "           2       0.82      0.86      0.84      2688\n",
      "           3       0.74      0.67      0.70      2015\n",
      "\n",
      "    accuracy                           0.79      9201\n",
      "   macro avg       0.78      0.78      0.78      9201\n",
      "weighted avg       0.79      0.79      0.79      9201\n",
      "\n"
     ]
    },
    {
     "data": {
      "text/plain": [
       "array([0.03132178, 0.00920366, 0.01093969, 0.00913273, 0.00870064,\n",
       "       0.00575784, 0.00816216, 0.00892542, 0.0085861 , 0.01428993,\n",
       "       0.00618162, 0.00731002, 0.0052025 , 0.00508881, 0.01471408,\n",
       "       0.14087726, 0.06862343, 0.00750758, 0.00444099, 0.00407887,\n",
       "       0.00414257, 0.00961888, 0.00931175, 0.01413152, 0.01065622,\n",
       "       0.01223768, 0.01889939, 0.01283516, 0.01317479, 0.01406767,\n",
       "       0.01468322, 0.01142878, 0.00825831, 0.01311446, 0.00707747,\n",
       "       0.01047058, 0.01396836, 0.00708208, 0.00616575, 0.00766587,\n",
       "       0.00689249, 0.00569321, 0.01197857, 0.00475522, 0.00445007,\n",
       "       0.0121076 , 0.00599448, 0.0052064 , 0.00652492, 0.00503895,\n",
       "       0.00525117, 0.00547438, 0.0046465 , 0.00696039, 0.00530778,\n",
       "       0.00472001, 0.00419536, 0.00443766, 0.00432752, 0.00472362,\n",
       "       0.00457611, 0.00446132, 0.00468915, 0.0047487 , 0.006474  ,\n",
       "       0.00420012, 0.01499268, 0.00824096, 0.00636283, 0.0096632 ,\n",
       "       0.00593099, 0.00487257, 0.00511948, 0.00550229, 0.00685619,\n",
       "       0.00495852, 0.00677815, 0.00673308, 0.00619724, 0.00538093,\n",
       "       0.00486614, 0.00454445, 0.00470238, 0.00454591, 0.00564829,\n",
       "       0.0046153 , 0.00561239, 0.00951953, 0.00785249, 0.00915648,\n",
       "       0.01087572, 0.00695567, 0.00572583, 0.00466476, 0.00586728,\n",
       "       0.00685103, 0.00663004, 0.00495099, 0.00499649, 0.01875085,\n",
       "       0.01192824, 0.00727927, 0.        ], dtype=float32)"
      ]
     },
     "execution_count": 296,
     "metadata": {},
     "output_type": "execute_result"
    }
   ],
   "execution_count": 296
  },
  {
   "cell_type": "code",
   "metadata": {
    "execution": {
     "iopub.execute_input": "2025-04-23T16:51:22.067446Z",
     "iopub.status.busy": "2025-04-23T16:51:22.067123Z",
     "iopub.status.idle": "2025-04-23T16:51:22.146168Z",
     "shell.execute_reply": "2025-04-23T16:51:22.142566Z",
     "shell.execute_reply.started": "2025-04-23T16:51:22.067423Z"
    },
    "trusted": true,
    "ExecuteTime": {
     "end_time": "2025-05-03T13:41:52.771878Z",
     "start_time": "2025-05-03T13:41:52.462665Z"
    }
   },
   "source": [
    "pca = PCA(n_components=90)  \n",
    "X_pca = pca.fit_transform(X)  "
   ],
   "outputs": [],
   "execution_count": 297
  },
  {
   "cell_type": "code",
   "metadata": {
    "trusted": true,
    "ExecuteTime": {
     "end_time": "2025-05-03T13:41:53.392327Z",
     "start_time": "2025-05-03T13:41:53.209573Z"
    }
   },
   "source": [
    "plt.figure(figsize=(10, 5))\n",
    "plt.bar(range(pca.n_components_), pca.explained_variance_ratio_)\n",
    "plt.xlabel('Principal Component')\n",
    "plt.ylabel('Explained Variance Ratio')\n",
    "plt.title('PCA Explained Variance')\n",
    "plt.show()\n",
    "\n",
    "cumulative_variance = np.cumsum(pca.explained_variance_ratio_)\n",
    "plt.plot(cumulative_variance, marker='o')\n",
    "plt.axhline(y=0.95, color='r', linestyle='--', label='95% Variance')\n",
    "plt.xlabel('Number of Components')\n",
    "plt.ylabel('Cumulative Explained Variance')\n",
    "plt.legend()\n",
    "plt.show()"
   ],
   "outputs": [
    {
     "data": {
      "text/plain": [
       "<Figure size 1000x500 with 1 Axes>"
      ],
      "image/png": "[encoded data removed]"
     },
     "metadata": {},
     "output_type": "display_data"
    },
    {
     "data": {
      "text/plain": [
       "<Figure size 640x480 with 1 Axes>"
      ],
      "image/png": "[encoded data removed]"
     },
     "metadata": {},
     "output_type": "display_data"
    }
   ],
   "execution_count": 298
  },
  {
   "cell_type": "code",
   "metadata": {
    "trusted": true,
    "ExecuteTime": {
     "end_time": "2025-05-03T13:42:03.011332Z",
     "start_time": "2025-05-03T13:41:58.202581Z"
    }
   },
   "source": [
    "baseline(X, y)"
   ],
   "outputs": [
    {
     "name": "stdout",
     "output_type": "stream",
     "text": [
      "Accuracy: 0.7869796761221607\n",
      "              precision    recall  f1-score   support\n",
      "\n",
      "           0       0.81      0.76      0.78      2147\n",
      "           1       0.77      0.83      0.80      2351\n",
      "           2       0.82      0.86      0.84      2688\n",
      "           3       0.74      0.67      0.70      2015\n",
      "\n",
      "    accuracy                           0.79      9201\n",
      "   macro avg       0.78      0.78      0.78      9201\n",
      "weighted avg       0.79      0.79      0.79      9201\n",
      "\n"
     ]
    },
    {
     "data": {
      "text/plain": [
       "array([0.03132178, 0.00920366, 0.01093969, 0.00913273, 0.00870064,\n",
       "       0.00575784, 0.00816216, 0.00892542, 0.0085861 , 0.01428993,\n",
       "       0.00618162, 0.00731002, 0.0052025 , 0.00508881, 0.01471408,\n",
       "       0.14087726, 0.06862343, 0.00750758, 0.00444099, 0.00407887,\n",
       "       0.00414257, 0.00961888, 0.00931175, 0.01413152, 0.01065622,\n",
       "       0.01223768, 0.01889939, 0.01283516, 0.01317479, 0.01406767,\n",
       "       0.01468322, 0.01142878, 0.00825831, 0.01311446, 0.00707747,\n",
       "       0.01047058, 0.01396836, 0.00708208, 0.00616575, 0.00766587,\n",
       "       0.00689249, 0.00569321, 0.01197857, 0.00475522, 0.00445007,\n",
       "       0.0121076 , 0.00599448, 0.0052064 , 0.00652492, 0.00503895,\n",
       "       0.00525117, 0.00547438, 0.0046465 , 0.00696039, 0.00530778,\n",
       "       0.00472001, 0.00419536, 0.00443766, 0.00432752, 0.00472362,\n",
       "       0.00457611, 0.00446132, 0.00468915, 0.0047487 , 0.006474  ,\n",
       "       0.00420012, 0.01499268, 0.00824096, 0.00636283, 0.0096632 ,\n",
       "       0.00593099, 0.00487257, 0.00511948, 0.00550229, 0.00685619,\n",
       "       0.00495852, 0.00677815, 0.00673308, 0.00619724, 0.00538093,\n",
       "       0.00486614, 0.00454445, 0.00470238, 0.00454591, 0.00564829,\n",
       "       0.0046153 , 0.00561239, 0.00951953, 0.00785249, 0.00915648,\n",
       "       0.01087572, 0.00695567, 0.00572583, 0.00466476, 0.00586728,\n",
       "       0.00685103, 0.00663004, 0.00495099, 0.00499649, 0.01875085,\n",
       "       0.01192824, 0.00727927, 0.        ], dtype=float32)"
      ]
     },
     "execution_count": 299,
     "metadata": {},
     "output_type": "execute_result"
    }
   ],
   "execution_count": 299
  },
  {
   "cell_type": "code",
   "metadata": {
    "execution": {
     "iopub.execute_input": "2025-04-23T19:38:47.220831Z",
     "iopub.status.busy": "2025-04-23T19:38:47.220442Z",
     "iopub.status.idle": "2025-04-23T19:38:56.187788Z",
     "shell.execute_reply": "2025-04-23T19:38:56.186944Z",
     "shell.execute_reply.started": "2025-04-23T19:38:47.220805Z"
    },
    "trusted": true,
    "ExecuteTime": {
     "end_time": "2025-05-03T13:42:31.345597Z",
     "start_time": "2025-05-03T13:42:29.041489Z"
    }
   },
   "source": [
    "X = df.drop(['gender', 'age'], axis=1)\n",
    "y = df['age'].map({'twenties' : 1, 'fifties' : 0})\n",
    "#y = df['gender'].map({'male': 1, 'female': 0})\n",
    "baseline(X, y)"
   ],
   "outputs": [
    {
     "name": "stdout",
     "output_type": "stream",
     "text": [
      "Accuracy: 0.778937072057385\n",
      "              precision    recall  f1-score   support\n",
      "\n",
      "           0       0.77      0.79      0.78      4498\n",
      "           1       0.79      0.77      0.78      4703\n",
      "\n",
      "    accuracy                           0.78      9201\n",
      "   macro avg       0.78      0.78      0.78      9201\n",
      "weighted avg       0.78      0.78      0.78      9201\n",
      "\n"
     ]
    },
    {
     "data": {
      "text/plain": [
       "array([0.01502484, 0.00968039, 0.02077134, 0.01118281, 0.01366196,\n",
       "       0.00832681, 0.00882053, 0.00989781, 0.00950232, 0.01808101,\n",
       "       0.00712385, 0.00909818, 0.00667575, 0.00673088, 0.01720071,\n",
       "       0.01689002, 0.0290917 , 0.01035147, 0.00577155, 0.0062541 ,\n",
       "       0.00476544, 0.01128783, 0.0236465 , 0.0168488 , 0.01098632,\n",
       "       0.01458475, 0.01938896, 0.01443402, 0.01670662, 0.0148726 ,\n",
       "       0.01786545, 0.01496397, 0.00984876, 0.01653033, 0.00817682,\n",
       "       0.01176032, 0.00755452, 0.00826896, 0.00725648, 0.00988056,\n",
       "       0.00897957, 0.00732914, 0.02228016, 0.00706883, 0.00600176,\n",
       "       0.01387161, 0.00770334, 0.00688433, 0.00979015, 0.00571499,\n",
       "       0.00681124, 0.00796369, 0.00653228, 0.01048465, 0.00705935,\n",
       "       0.00629301, 0.00687183, 0.00542108, 0.005245  , 0.00674602,\n",
       "       0.00552333, 0.00575736, 0.00543005, 0.00775208, 0.00662404,\n",
       "       0.00425978, 0.02602791, 0.00801085, 0.00731543, 0.01007117,\n",
       "       0.00840511, 0.0076105 , 0.00665728, 0.00559644, 0.00925287,\n",
       "       0.00751707, 0.0073991 , 0.00659594, 0.00737541, 0.00731108,\n",
       "       0.00565237, 0.00480316, 0.00491904, 0.00599107, 0.00650342,\n",
       "       0.00574208, 0.00806165, 0.01122441, 0.00889055, 0.01216096,\n",
       "       0.00813593, 0.0074164 , 0.00565143, 0.00504501, 0.00653163,\n",
       "       0.00583054, 0.01032941, 0.00697806, 0.00561571, 0.01666863,\n",
       "       0.01488945, 0.00764812, 0.        ], dtype=float32)"
      ]
     },
     "execution_count": 301,
     "metadata": {},
     "output_type": "execute_result"
    }
   ],
   "execution_count": 301
  },
  {
   "cell_type": "code",
   "metadata": {
    "trusted": true,
    "ExecuteTime": {
     "end_time": "2025-05-03T15:08:12.769800Z",
     "start_time": "2025-05-03T15:08:09.978232Z"
    }
   },
   "source": "df.to_csv('./cleaned_without.csv', index=False)",
   "outputs": [],
   "execution_count": 330
  },
  {
   "cell_type": "code",
   "metadata": {
    "trusted": true,
    "ExecuteTime": {
     "end_time": "2025-05-02T12:52:42.991849Z",
     "start_time": "2025-04-30T00:01:14.047849Z"
    }
   },
   "source": [],
   "outputs": [],
   "execution_count": null
  },
  {
   "cell_type": "code",
   "metadata": {
    "trusted": true,
    "ExecuteTime": {
     "end_time": "2025-05-02T12:52:42.992095Z",
     "start_time": "2025-05-02T11:33:29.526288Z"
    }
   },
   "source": [
    "files = [\"cleaned.csv\"]\n",
    "dfs = []\n",
    "for file in files:\n",
    "    df = pd.read_csv(file)\n",
    "    dfs.append(df)\n",
    "df = pd.concat(dfs, axis=0)\n",
    "df['gender'].value_counts()\n",
    "df['age'].value_counts()\n",
    "## check for duplicates in the dataset\n",
    "duplicates = df.duplicated()\n",
    "duplicates_count = duplicates.sum()\n",
    "print(duplicates_count)\n",
    "plt.figure(figsize=(12, 10))\n",
    "df['gender'] = df['gender'].map({'male': 0, 'female': 1, 0:0, 1:1})\n",
    "df['age'] = df['age'].map({'twenties': 0, 'fifties': 1, 0:0, 1:1})\n",
    "classes = df['gender'].copy() + 2 * df['age'].copy()\n",
    "print(classes.value_counts())\n",
    "sns.countplot(x=classes, data=df, palette='Set2')\n",
    "print(df.shape)"
   ],
   "outputs": [
    {
     "name": "stdout",
     "output_type": "stream",
     "text": [
      "0\n",
      "2    11827\n",
      "0    11671\n",
      "3    10935\n",
      "1    10344\n",
      "Name: count, dtype: int64\n",
      "(44777, 107)\n"
     ]
    },
    {
     "name": "stderr",
     "output_type": "stream",
     "text": [
      "/var/folders/2q/6vjsrj112rb774fzn79lb71h0000gn/T/ipykernel_14073/1593603952.py:18: FutureWarning: \n",
      "\n",
      "Passing `palette` without assigning `hue` is deprecated and will be removed in v0.14.0. Assign the `x` variable to `hue` and set `legend=False` for the same effect.\n",
      "\n",
      "  sns.countplot(x=classes, data=df, palette='Set2')\n"
     ]
    },
    {
     "data": {
      "text/plain": [
       "<Figure size 1200x1000 with 1 Axes>"
      ],
      "image/png": "[encoded data removed]"
     },
     "metadata": {},
     "output_type": "display_data"
    }
   ],
   "execution_count": 36
  },
  {
   "metadata": {
    "ExecuteTime": {
     "end_time": "2025-05-02T12:52:42.992476Z",
     "start_time": "2025-04-30T00:01:15.136260Z"
    }
   },
   "cell_type": "code",
   "source": "",
   "outputs": [],
   "execution_count": null
  }
 ],
 "metadata": {
  "kaggle": {
   "accelerator": "none",
   "dataSources": [
    {
     "datasetId": 7232074,
     "sourceId": 11530342,
     "sourceType": "datasetVersion"
    }
   ],
   "dockerImageVersionId": 31012,
   "isGpuEnabled": false,
   "isInternetEnabled": true,
   "language": "python",
   "sourceType": "notebook"
  },
  "kernelspec": {
   "display_name": "Python [conda env:base] *",
   "language": "python",
   "name": "conda-base-py"
  },
  "language_info": {
   "codemirror_mode": {
    "name": "ipython",
    "version": 3
   },
   "file_extension": ".py",
   "mimetype": "text/x-python",
   "name": "python",
   "nbconvert_exporter": "python",
   "pygments_lexer": "ipython3",
   "version": "3.11.11"
  }
 },
 "nbformat": 4,
 "nbformat_minor": 4
}
