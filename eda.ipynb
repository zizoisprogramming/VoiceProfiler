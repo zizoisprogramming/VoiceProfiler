{
 "cells": [
  {
   "cell_type": "code",
   "metadata": {
    "_cell_guid": "b1076dfc-b9ad-4769-8c92-a6c4dae69d19",
    "_uuid": "8f2839f25d086af736a60e9eeb907d3b93b6e0e5",
    "execution": {
     "iopub.execute_input": "2025-04-23T19:15:42.234773Z",
     "iopub.status.busy": "2025-04-23T19:15:42.234324Z",
     "iopub.status.idle": "2025-04-23T19:15:42.240249Z",
     "shell.execute_reply": "2025-04-23T19:15:42.239079Z",
     "shell.execute_reply.started": "2025-04-23T19:15:42.234740Z"
    },
    "trusted": true,
    "ExecuteTime": {
     "end_time": "2025-04-24T18:21:38.910817Z",
     "start_time": "2025-04-24T18:21:38.884018Z"
    }
   },
   "source": [
    "import numpy as np\n",
    "import pandas as pd \n",
    "import seaborn as sns\n",
    "import matplotlib.pyplot as plt\n",
    "from sklearn.preprocessing import StandardScaler, PowerTransformer, RobustScaler\n",
    "from scipy.stats import skew\n",
    "from matplotlib.gridspec import GridSpec\n"
   ],
   "outputs": [],
   "execution_count": 387
  },
  {
   "cell_type": "code",
   "metadata": {
    "execution": {
     "iopub.execute_input": "2025-04-23T19:15:51.354869Z",
     "iopub.status.busy": "2025-04-23T19:15:51.354488Z",
     "iopub.status.idle": "2025-04-23T19:15:51.602242Z",
     "shell.execute_reply": "2025-04-23T19:15:51.601439Z",
     "shell.execute_reply.started": "2025-04-23T19:15:51.354845Z"
    },
    "trusted": true,
    "ExecuteTime": {
     "end_time": "2025-04-24T18:21:39.184770Z",
     "start_time": "2025-04-24T18:21:38.925669Z"
    }
   },
   "source": [
    "# features = pd.read_csv(\"/kaggle/input/voice-features/features.csv\")\n",
    "# extra_features = pd.read_csv(\"/kaggle/input/voice-features/extracted_features_2k_3.csv\")\n",
    "# assert (features.columns == extra_features.columns).all() == True, 'mismatch in features'\n",
    "# extra_features_v2 = pd.read_csv(\"/kaggle/input/voice-features-2/extracted_features_3k_v2.csv\")\n",
    "# assert (extra_features_v2.columns == extra_features.columns).all() == True, 'mismatch in features'\n",
    "features = pd.read_csv(\"combined_20k.csv\")"
   ],
   "outputs": [],
   "execution_count": 388
  },
  {
   "cell_type": "code",
   "metadata": {
    "execution": {
     "iopub.execute_input": "2025-04-23T19:15:51.681662Z",
     "iopub.status.busy": "2025-04-23T19:15:51.681345Z",
     "iopub.status.idle": "2025-04-23T19:15:51.686599Z",
     "shell.execute_reply": "2025-04-23T19:15:51.685753Z",
     "shell.execute_reply.started": "2025-04-23T19:15:51.681642Z"
    },
    "trusted": true,
    "ExecuteTime": {
     "end_time": "2025-04-24T18:21:39.309736Z",
     "start_time": "2025-04-24T18:21:39.301643Z"
    }
   },
   "source": [
    "def get_data_again():\n",
    "    return pd.concat([features, extra_features])"
   ],
   "outputs": [],
   "execution_count": 389
  },
  {
   "cell_type": "code",
   "metadata": {
    "execution": {
     "iopub.execute_input": "2025-04-23T19:15:52.179585Z",
     "iopub.status.busy": "2025-04-23T19:15:52.179251Z",
     "iopub.status.idle": "2025-04-23T19:15:52.207127Z",
     "shell.execute_reply": "2025-04-23T19:15:52.206263Z",
     "shell.execute_reply.started": "2025-04-23T19:15:52.179562Z"
    },
    "trusted": true,
    "ExecuteTime": {
     "end_time": "2025-04-24T18:21:39.526573Z",
     "start_time": "2025-04-24T18:21:39.489175Z"
    }
   },
   "source": [
    "#df = get_data_again()\n",
    "df = features.copy()\n",
    "df.head()"
   ],
   "outputs": [
    {
     "data": {
      "text/plain": [
       "   duration       wps     f0_mean      f0_std  f0_5_percentile  \\\n",
       "0     6.024  1.494024  173.345693  105.130111        85.166048   \n",
       "1     3.864  1.035197  114.089958   14.300413        97.654140   \n",
       "2     4.008  1.497006  115.095050   64.436141        83.073769   \n",
       "3     5.904  2.540650  121.477874   47.084151       103.182335   \n",
       "4     4.152  1.926782  119.764714   26.630591       107.000799   \n",
       "\n",
       "   f0_95_percentile     tempo     formant1     formant2     formant3  ...  \\\n",
       "0        410.482307  4.814077   653.016734  1709.531668  2607.225574  ...   \n",
       "1        134.541883  4.140787   339.601698  1595.152381  2696.387433  ...   \n",
       "2        144.204785  4.491018   853.667205  1427.090956  2340.053056  ...   \n",
       "3        136.170223  5.928184  1423.592251  3417.335150  4031.526945  ...   \n",
       "4        136.153101  6.021195   336.930532   840.136766  2861.676628  ...   \n",
       "\n",
       "   mfcc_11_skewness  mfcc_12_skewness  cpp_mean  ste_mean   ste_std  \\\n",
       "0          0.066565         -0.247338 -0.057223  1.497112  5.031752   \n",
       "1         -0.735663          0.526917 -0.014286  0.351181  0.685007   \n",
       "2         -0.402391         -0.385342  0.011188  2.694075  3.189442   \n",
       "3         -0.341169          0.204343 -0.130182  0.034599  0.075811   \n",
       "4          0.115010          0.064466 -0.005962  0.531386  1.423701   \n",
       "\n",
       "     ste_max       ste_min  ste_variance  gender       age  \n",
       "0  41.552375  2.054090e-10     25.318524    male  twenties  \n",
       "1   3.064584  1.319186e-05      0.469235    male  twenties  \n",
       "2  20.032965  2.542095e-06     10.172539    male  twenties  \n",
       "3   0.839398  5.383406e-11      0.005747    male  twenties  \n",
       "4  10.732663  2.236838e-06      2.026925    male  twenties  \n",
       "\n",
       "[5 rows x 122 columns]"
      ],
      "text/html": [
       "<div>\n",
       "<style scoped>\n",
       "    .dataframe tbody tr th:only-of-type {\n",
       "        vertical-align: middle;\n",
       "    }\n",
       "\n",
       "    .dataframe tbody tr th {\n",
       "        vertical-align: top;\n",
       "    }\n",
       "\n",
       "    .dataframe thead th {\n",
       "        text-align: right;\n",
       "    }\n",
       "</style>\n",
       "<table border=\"1\" class=\"dataframe\">\n",
       "  <thead>\n",
       "    <tr style=\"text-align: right;\">\n",
       "      <th></th>\n",
       "      <th>duration</th>\n",
       "      <th>wps</th>\n",
       "      <th>f0_mean</th>\n",
       "      <th>f0_std</th>\n",
       "      <th>f0_5_percentile</th>\n",
       "      <th>f0_95_percentile</th>\n",
       "      <th>tempo</th>\n",
       "      <th>formant1</th>\n",
       "      <th>formant2</th>\n",
       "      <th>formant3</th>\n",
       "      <th>...</th>\n",
       "      <th>mfcc_11_skewness</th>\n",
       "      <th>mfcc_12_skewness</th>\n",
       "      <th>cpp_mean</th>\n",
       "      <th>ste_mean</th>\n",
       "      <th>ste_std</th>\n",
       "      <th>ste_max</th>\n",
       "      <th>ste_min</th>\n",
       "      <th>ste_variance</th>\n",
       "      <th>gender</th>\n",
       "      <th>age</th>\n",
       "    </tr>\n",
       "  </thead>\n",
       "  <tbody>\n",
       "    <tr>\n",
       "      <th>0</th>\n",
       "      <td>6.024</td>\n",
       "      <td>1.494024</td>\n",
       "      <td>173.345693</td>\n",
       "      <td>105.130111</td>\n",
       "      <td>85.166048</td>\n",
       "      <td>410.482307</td>\n",
       "      <td>4.814077</td>\n",
       "      <td>653.016734</td>\n",
       "      <td>1709.531668</td>\n",
       "      <td>2607.225574</td>\n",
       "      <td>...</td>\n",
       "      <td>0.066565</td>\n",
       "      <td>-0.247338</td>\n",
       "      <td>-0.057223</td>\n",
       "      <td>1.497112</td>\n",
       "      <td>5.031752</td>\n",
       "      <td>41.552375</td>\n",
       "      <td>2.054090e-10</td>\n",
       "      <td>25.318524</td>\n",
       "      <td>male</td>\n",
       "      <td>twenties</td>\n",
       "    </tr>\n",
       "    <tr>\n",
       "      <th>1</th>\n",
       "      <td>3.864</td>\n",
       "      <td>1.035197</td>\n",
       "      <td>114.089958</td>\n",
       "      <td>14.300413</td>\n",
       "      <td>97.654140</td>\n",
       "      <td>134.541883</td>\n",
       "      <td>4.140787</td>\n",
       "      <td>339.601698</td>\n",
       "      <td>1595.152381</td>\n",
       "      <td>2696.387433</td>\n",
       "      <td>...</td>\n",
       "      <td>-0.735663</td>\n",
       "      <td>0.526917</td>\n",
       "      <td>-0.014286</td>\n",
       "      <td>0.351181</td>\n",
       "      <td>0.685007</td>\n",
       "      <td>3.064584</td>\n",
       "      <td>1.319186e-05</td>\n",
       "      <td>0.469235</td>\n",
       "      <td>male</td>\n",
       "      <td>twenties</td>\n",
       "    </tr>\n",
       "    <tr>\n",
       "      <th>2</th>\n",
       "      <td>4.008</td>\n",
       "      <td>1.497006</td>\n",
       "      <td>115.095050</td>\n",
       "      <td>64.436141</td>\n",
       "      <td>83.073769</td>\n",
       "      <td>144.204785</td>\n",
       "      <td>4.491018</td>\n",
       "      <td>853.667205</td>\n",
       "      <td>1427.090956</td>\n",
       "      <td>2340.053056</td>\n",
       "      <td>...</td>\n",
       "      <td>-0.402391</td>\n",
       "      <td>-0.385342</td>\n",
       "      <td>0.011188</td>\n",
       "      <td>2.694075</td>\n",
       "      <td>3.189442</td>\n",
       "      <td>20.032965</td>\n",
       "      <td>2.542095e-06</td>\n",
       "      <td>10.172539</td>\n",
       "      <td>male</td>\n",
       "      <td>twenties</td>\n",
       "    </tr>\n",
       "    <tr>\n",
       "      <th>3</th>\n",
       "      <td>5.904</td>\n",
       "      <td>2.540650</td>\n",
       "      <td>121.477874</td>\n",
       "      <td>47.084151</td>\n",
       "      <td>103.182335</td>\n",
       "      <td>136.170223</td>\n",
       "      <td>5.928184</td>\n",
       "      <td>1423.592251</td>\n",
       "      <td>3417.335150</td>\n",
       "      <td>4031.526945</td>\n",
       "      <td>...</td>\n",
       "      <td>-0.341169</td>\n",
       "      <td>0.204343</td>\n",
       "      <td>-0.130182</td>\n",
       "      <td>0.034599</td>\n",
       "      <td>0.075811</td>\n",
       "      <td>0.839398</td>\n",
       "      <td>5.383406e-11</td>\n",
       "      <td>0.005747</td>\n",
       "      <td>male</td>\n",
       "      <td>twenties</td>\n",
       "    </tr>\n",
       "    <tr>\n",
       "      <th>4</th>\n",
       "      <td>4.152</td>\n",
       "      <td>1.926782</td>\n",
       "      <td>119.764714</td>\n",
       "      <td>26.630591</td>\n",
       "      <td>107.000799</td>\n",
       "      <td>136.153101</td>\n",
       "      <td>6.021195</td>\n",
       "      <td>336.930532</td>\n",
       "      <td>840.136766</td>\n",
       "      <td>2861.676628</td>\n",
       "      <td>...</td>\n",
       "      <td>0.115010</td>\n",
       "      <td>0.064466</td>\n",
       "      <td>-0.005962</td>\n",
       "      <td>0.531386</td>\n",
       "      <td>1.423701</td>\n",
       "      <td>10.732663</td>\n",
       "      <td>2.236838e-06</td>\n",
       "      <td>2.026925</td>\n",
       "      <td>male</td>\n",
       "      <td>twenties</td>\n",
       "    </tr>\n",
       "  </tbody>\n",
       "</table>\n",
       "<p>5 rows × 122 columns</p>\n",
       "</div>"
      ]
     },
     "execution_count": 390,
     "metadata": {},
     "output_type": "execute_result"
    }
   ],
   "execution_count": 390
  },
  {
   "cell_type": "code",
   "metadata": {
    "execution": {
     "iopub.execute_input": "2025-04-23T19:15:53.339390Z",
     "iopub.status.busy": "2025-04-23T19:15:53.338644Z",
     "iopub.status.idle": "2025-04-23T19:15:53.579292Z",
     "shell.execute_reply": "2025-04-23T19:15:53.578320Z",
     "shell.execute_reply.started": "2025-04-23T19:15:53.339361Z"
    },
    "trusted": true,
    "ExecuteTime": {
     "end_time": "2025-04-24T18:21:39.983922Z",
     "start_time": "2025-04-24T18:21:39.657492Z"
    }
   },
   "source": [
    "df.describe()"
   ],
   "outputs": [
    {
     "data": {
      "text/plain": [
       "           duration           wps       f0_mean        f0_std  \\\n",
       "count  20690.000000  20690.000000  20690.000000  20690.000000   \n",
       "mean       4.832657      1.961457    177.466423     54.494083   \n",
       "std        1.692703      0.516714     51.091692     33.385426   \n",
       "min        2.016000      0.234742     76.629972      0.041616   \n",
       "25%        3.480000      1.602564    134.771381     29.357321   \n",
       "50%        4.656000      1.913265    171.497878     48.413858   \n",
       "75%        5.952000      2.271990    213.897217     71.678015   \n",
       "max       21.456000      7.575758    554.447301    219.438689   \n",
       "\n",
       "       f0_5_percentile  f0_95_percentile         tempo      formant1  \\\n",
       "count     20690.000000      20690.000000  20690.000000  20690.000000   \n",
       "mean        122.878796        270.882849      5.008362    687.965596   \n",
       "std          37.152938        117.349685      1.256570    440.724445   \n",
       "min          75.230301         77.813936      0.255624     53.055693   \n",
       "25%          93.655579        176.109453      4.194631    394.813672   \n",
       "50%         111.089635        247.846881      5.000000    535.195435   \n",
       "75%         147.674261        326.027182      5.801688    826.047304   \n",
       "max         511.800220        598.701914     13.745704   3575.243106   \n",
       "\n",
       "           formant2      formant3  ...  mfcc_9_skewness  mfcc_10_skewness  \\\n",
       "count  20690.000000  20689.000000  ...     20690.000000      20690.000000   \n",
       "mean    1837.769167   2894.631367  ...        -0.421088         -0.262027   \n",
       "std      554.679766    541.843960  ...         0.492452          0.514627   \n",
       "min      331.194677    869.977162  ...        -3.904349         -3.571684   \n",
       "25%     1461.643836   2548.511316  ...        -0.724653         -0.592135   \n",
       "50%     1801.708656   2859.464008  ...        -0.454028         -0.290170   \n",
       "75%     2171.829757   3205.836071  ...        -0.157340          0.055920   \n",
       "max     4360.867196   5437.571756  ...         2.408558          3.057680   \n",
       "\n",
       "       mfcc_11_skewness  mfcc_12_skewness      cpp_mean      ste_mean  \\\n",
       "count      20690.000000      20690.000000  20690.000000  20690.000000   \n",
       "mean          -0.349381         -0.250250      0.004442      1.908162   \n",
       "std            0.456898          0.504956      0.036525      2.179205   \n",
       "min           -3.018676         -2.827483     -0.271296      0.000091   \n",
       "25%           -0.624645         -0.579691     -0.015803      0.422650   \n",
       "50%           -0.361448         -0.280815      0.006104      1.394072   \n",
       "75%           -0.088390          0.058098      0.027364      2.655566   \n",
       "max            2.043208          2.600762      0.181619     49.807609   \n",
       "\n",
       "            ste_std       ste_max       ste_min  ste_variance  \n",
       "count  20690.000000  20690.000000  2.069000e+04  2.069000e+04  \n",
       "mean       3.312138     18.897177  1.668561e-04  2.168263e+01  \n",
       "std        3.273055     17.820363  1.282517e-03  6.242624e+01  \n",
       "min        0.000219      0.001339  2.364189e-23  4.776196e-08  \n",
       "25%        0.847054      5.127916  6.111721e-08  7.175006e-01  \n",
       "50%        2.666536     15.774540  1.946009e-06  7.110415e+00  \n",
       "75%        4.789039     27.158985  2.916741e-05  2.293490e+01  \n",
       "max       50.227306    231.141026  1.085185e-01  2.522782e+03  \n",
       "\n",
       "[8 rows x 120 columns]"
      ],
      "text/html": [
       "<div>\n",
       "<style scoped>\n",
       "    .dataframe tbody tr th:only-of-type {\n",
       "        vertical-align: middle;\n",
       "    }\n",
       "\n",
       "    .dataframe tbody tr th {\n",
       "        vertical-align: top;\n",
       "    }\n",
       "\n",
       "    .dataframe thead th {\n",
       "        text-align: right;\n",
       "    }\n",
       "</style>\n",
       "<table border=\"1\" class=\"dataframe\">\n",
       "  <thead>\n",
       "    <tr style=\"text-align: right;\">\n",
       "      <th></th>\n",
       "      <th>duration</th>\n",
       "      <th>wps</th>\n",
       "      <th>f0_mean</th>\n",
       "      <th>f0_std</th>\n",
       "      <th>f0_5_percentile</th>\n",
       "      <th>f0_95_percentile</th>\n",
       "      <th>tempo</th>\n",
       "      <th>formant1</th>\n",
       "      <th>formant2</th>\n",
       "      <th>formant3</th>\n",
       "      <th>...</th>\n",
       "      <th>mfcc_9_skewness</th>\n",
       "      <th>mfcc_10_skewness</th>\n",
       "      <th>mfcc_11_skewness</th>\n",
       "      <th>mfcc_12_skewness</th>\n",
       "      <th>cpp_mean</th>\n",
       "      <th>ste_mean</th>\n",
       "      <th>ste_std</th>\n",
       "      <th>ste_max</th>\n",
       "      <th>ste_min</th>\n",
       "      <th>ste_variance</th>\n",
       "    </tr>\n",
       "  </thead>\n",
       "  <tbody>\n",
       "    <tr>\n",
       "      <th>count</th>\n",
       "      <td>20690.000000</td>\n",
       "      <td>20690.000000</td>\n",
       "      <td>20690.000000</td>\n",
       "      <td>20690.000000</td>\n",
       "      <td>20690.000000</td>\n",
       "      <td>20690.000000</td>\n",
       "      <td>20690.000000</td>\n",
       "      <td>20690.000000</td>\n",
       "      <td>20690.000000</td>\n",
       "      <td>20689.000000</td>\n",
       "      <td>...</td>\n",
       "      <td>20690.000000</td>\n",
       "      <td>20690.000000</td>\n",
       "      <td>20690.000000</td>\n",
       "      <td>20690.000000</td>\n",
       "      <td>20690.000000</td>\n",
       "      <td>20690.000000</td>\n",
       "      <td>20690.000000</td>\n",
       "      <td>20690.000000</td>\n",
       "      <td>2.069000e+04</td>\n",
       "      <td>2.069000e+04</td>\n",
       "    </tr>\n",
       "    <tr>\n",
       "      <th>mean</th>\n",
       "      <td>4.832657</td>\n",
       "      <td>1.961457</td>\n",
       "      <td>177.466423</td>\n",
       "      <td>54.494083</td>\n",
       "      <td>122.878796</td>\n",
       "      <td>270.882849</td>\n",
       "      <td>5.008362</td>\n",
       "      <td>687.965596</td>\n",
       "      <td>1837.769167</td>\n",
       "      <td>2894.631367</td>\n",
       "      <td>...</td>\n",
       "      <td>-0.421088</td>\n",
       "      <td>-0.262027</td>\n",
       "      <td>-0.349381</td>\n",
       "      <td>-0.250250</td>\n",
       "      <td>0.004442</td>\n",
       "      <td>1.908162</td>\n",
       "      <td>3.312138</td>\n",
       "      <td>18.897177</td>\n",
       "      <td>1.668561e-04</td>\n",
       "      <td>2.168263e+01</td>\n",
       "    </tr>\n",
       "    <tr>\n",
       "      <th>std</th>\n",
       "      <td>1.692703</td>\n",
       "      <td>0.516714</td>\n",
       "      <td>51.091692</td>\n",
       "      <td>33.385426</td>\n",
       "      <td>37.152938</td>\n",
       "      <td>117.349685</td>\n",
       "      <td>1.256570</td>\n",
       "      <td>440.724445</td>\n",
       "      <td>554.679766</td>\n",
       "      <td>541.843960</td>\n",
       "      <td>...</td>\n",
       "      <td>0.492452</td>\n",
       "      <td>0.514627</td>\n",
       "      <td>0.456898</td>\n",
       "      <td>0.504956</td>\n",
       "      <td>0.036525</td>\n",
       "      <td>2.179205</td>\n",
       "      <td>3.273055</td>\n",
       "      <td>17.820363</td>\n",
       "      <td>1.282517e-03</td>\n",
       "      <td>6.242624e+01</td>\n",
       "    </tr>\n",
       "    <tr>\n",
       "      <th>min</th>\n",
       "      <td>2.016000</td>\n",
       "      <td>0.234742</td>\n",
       "      <td>76.629972</td>\n",
       "      <td>0.041616</td>\n",
       "      <td>75.230301</td>\n",
       "      <td>77.813936</td>\n",
       "      <td>0.255624</td>\n",
       "      <td>53.055693</td>\n",
       "      <td>331.194677</td>\n",
       "      <td>869.977162</td>\n",
       "      <td>...</td>\n",
       "      <td>-3.904349</td>\n",
       "      <td>-3.571684</td>\n",
       "      <td>-3.018676</td>\n",
       "      <td>-2.827483</td>\n",
       "      <td>-0.271296</td>\n",
       "      <td>0.000091</td>\n",
       "      <td>0.000219</td>\n",
       "      <td>0.001339</td>\n",
       "      <td>2.364189e-23</td>\n",
       "      <td>4.776196e-08</td>\n",
       "    </tr>\n",
       "    <tr>\n",
       "      <th>25%</th>\n",
       "      <td>3.480000</td>\n",
       "      <td>1.602564</td>\n",
       "      <td>134.771381</td>\n",
       "      <td>29.357321</td>\n",
       "      <td>93.655579</td>\n",
       "      <td>176.109453</td>\n",
       "      <td>4.194631</td>\n",
       "      <td>394.813672</td>\n",
       "      <td>1461.643836</td>\n",
       "      <td>2548.511316</td>\n",
       "      <td>...</td>\n",
       "      <td>-0.724653</td>\n",
       "      <td>-0.592135</td>\n",
       "      <td>-0.624645</td>\n",
       "      <td>-0.579691</td>\n",
       "      <td>-0.015803</td>\n",
       "      <td>0.422650</td>\n",
       "      <td>0.847054</td>\n",
       "      <td>5.127916</td>\n",
       "      <td>6.111721e-08</td>\n",
       "      <td>7.175006e-01</td>\n",
       "    </tr>\n",
       "    <tr>\n",
       "      <th>50%</th>\n",
       "      <td>4.656000</td>\n",
       "      <td>1.913265</td>\n",
       "      <td>171.497878</td>\n",
       "      <td>48.413858</td>\n",
       "      <td>111.089635</td>\n",
       "      <td>247.846881</td>\n",
       "      <td>5.000000</td>\n",
       "      <td>535.195435</td>\n",
       "      <td>1801.708656</td>\n",
       "      <td>2859.464008</td>\n",
       "      <td>...</td>\n",
       "      <td>-0.454028</td>\n",
       "      <td>-0.290170</td>\n",
       "      <td>-0.361448</td>\n",
       "      <td>-0.280815</td>\n",
       "      <td>0.006104</td>\n",
       "      <td>1.394072</td>\n",
       "      <td>2.666536</td>\n",
       "      <td>15.774540</td>\n",
       "      <td>1.946009e-06</td>\n",
       "      <td>7.110415e+00</td>\n",
       "    </tr>\n",
       "    <tr>\n",
       "      <th>75%</th>\n",
       "      <td>5.952000</td>\n",
       "      <td>2.271990</td>\n",
       "      <td>213.897217</td>\n",
       "      <td>71.678015</td>\n",
       "      <td>147.674261</td>\n",
       "      <td>326.027182</td>\n",
       "      <td>5.801688</td>\n",
       "      <td>826.047304</td>\n",
       "      <td>2171.829757</td>\n",
       "      <td>3205.836071</td>\n",
       "      <td>...</td>\n",
       "      <td>-0.157340</td>\n",
       "      <td>0.055920</td>\n",
       "      <td>-0.088390</td>\n",
       "      <td>0.058098</td>\n",
       "      <td>0.027364</td>\n",
       "      <td>2.655566</td>\n",
       "      <td>4.789039</td>\n",
       "      <td>27.158985</td>\n",
       "      <td>2.916741e-05</td>\n",
       "      <td>2.293490e+01</td>\n",
       "    </tr>\n",
       "    <tr>\n",
       "      <th>max</th>\n",
       "      <td>21.456000</td>\n",
       "      <td>7.575758</td>\n",
       "      <td>554.447301</td>\n",
       "      <td>219.438689</td>\n",
       "      <td>511.800220</td>\n",
       "      <td>598.701914</td>\n",
       "      <td>13.745704</td>\n",
       "      <td>3575.243106</td>\n",
       "      <td>4360.867196</td>\n",
       "      <td>5437.571756</td>\n",
       "      <td>...</td>\n",
       "      <td>2.408558</td>\n",
       "      <td>3.057680</td>\n",
       "      <td>2.043208</td>\n",
       "      <td>2.600762</td>\n",
       "      <td>0.181619</td>\n",
       "      <td>49.807609</td>\n",
       "      <td>50.227306</td>\n",
       "      <td>231.141026</td>\n",
       "      <td>1.085185e-01</td>\n",
       "      <td>2.522782e+03</td>\n",
       "    </tr>\n",
       "  </tbody>\n",
       "</table>\n",
       "<p>8 rows × 120 columns</p>\n",
       "</div>"
      ]
     },
     "execution_count": 391,
     "metadata": {},
     "output_type": "execute_result"
    }
   ],
   "execution_count": 391
  },
  {
   "cell_type": "code",
   "metadata": {
    "execution": {
     "iopub.execute_input": "2025-04-23T19:15:53.921914Z",
     "iopub.status.busy": "2025-04-23T19:15:53.921078Z",
     "iopub.status.idle": "2025-04-23T19:15:53.926583Z",
     "shell.execute_reply": "2025-04-23T19:15:53.925532Z",
     "shell.execute_reply.started": "2025-04-23T19:15:53.921879Z"
    },
    "trusted": true,
    "ExecuteTime": {
     "end_time": "2025-04-24T18:21:40.250919Z",
     "start_time": "2025-04-24T18:21:40.236549Z"
    }
   },
   "source": [
    "def check_nulls(df):\n",
    "    a = df.isna().sum()\n",
    "    for index, value in a.items():\n",
    "        if value > 0:\n",
    "            return False\n",
    "    return True"
   ],
   "outputs": [],
   "execution_count": 392
  },
  {
   "cell_type": "code",
   "metadata": {
    "execution": {
     "iopub.execute_input": "2025-04-23T19:15:54.479378Z",
     "iopub.status.busy": "2025-04-23T19:15:54.478510Z",
     "iopub.status.idle": "2025-04-23T19:15:54.485993Z",
     "shell.execute_reply": "2025-04-23T19:15:54.485010Z",
     "shell.execute_reply.started": "2025-04-23T19:15:54.479348Z"
    },
    "trusted": true,
    "ExecuteTime": {
     "end_time": "2025-04-24T18:21:40.413911Z",
     "start_time": "2025-04-24T18:21:40.405146Z"
    }
   },
   "source": [
    "def smart_normalize(df, skew_threshold=0.5):\n",
    "\n",
    "    numeric_cols = df.select_dtypes(include=['number']).columns\n",
    "    df_normalized = df.copy()\n",
    "    transformations = {}\n",
    "    \n",
    "    # Step 1: Skewness correction\n",
    "    for col in numeric_cols:\n",
    "        col_skew = skew(df[col].dropna())\n",
    "        if abs(col_skew) > skew_threshold:\n",
    "            # Apply Yeo-Johnson power transform (handles positive/negative values)\n",
    "            pt = PowerTransformer(method='yeo-johnson')\n",
    "            df_normalized[col] = pt.fit_transform(df[[col]]).flatten()\n",
    "            transformations[col] = {\n",
    "                'step1': 'power_transform',\n",
    "                'skewness': col_skew,\n",
    "                'transformer': pt\n",
    "            }\n",
    "        else:\n",
    "            transformations[col] = {\n",
    "                'step1': 'none',\n",
    "                'skewness': col_skew\n",
    "            }\n",
    "    \n",
    "    # Step 2: Standard scaling (applied to all numeric columns)\n",
    "    scaler = StandardScaler()\n",
    "    df_normalized[numeric_cols] = scaler.fit_transform(df_normalized[numeric_cols])\n",
    "    transformations['_standard_scaler'] = scaler\n",
    "    \n",
    "    return df_normalized, transformations"
   ],
   "outputs": [],
   "execution_count": 393
  },
  {
   "cell_type": "code",
   "metadata": {
    "execution": {
     "iopub.execute_input": "2025-04-23T19:15:55.543578Z",
     "iopub.status.busy": "2025-04-23T19:15:55.543234Z",
     "iopub.status.idle": "2025-04-23T19:15:55.549867Z",
     "shell.execute_reply": "2025-04-23T19:15:55.548908Z",
     "shell.execute_reply.started": "2025-04-23T19:15:55.543555Z"
    },
    "trusted": true,
    "ExecuteTime": {
     "end_time": "2025-04-24T18:21:40.630034Z",
     "start_time": "2025-04-24T18:21:40.622514Z"
    }
   },
   "source": [
    "def remove_outliers(df, outliers_cols, threshold_percent = 1):\n",
    "    numeric_cols = df.select_dtypes(include=['number']).columns\n",
    "    df_clean = df.copy()\n",
    "    \n",
    "    for i, (col, states) in enumerate(outliers_cols.items()):\n",
    "        if states['percent'] < threshold_percent:\n",
    "            lower_bound = states['lower_bound']\n",
    "            upper_bound = states['upper_bound']\n",
    "            \n",
    "            df_clean = df_clean[(df_clean[col] >= lower_bound) & (df_clean[col] <= upper_bound)]\n",
    "        \n",
    "    return df_clean"
   ],
   "outputs": [],
   "execution_count": 394
  },
  {
   "cell_type": "code",
   "metadata": {
    "execution": {
     "iopub.execute_input": "2025-04-23T19:15:55.821576Z",
     "iopub.status.busy": "2025-04-23T19:15:55.820916Z",
     "iopub.status.idle": "2025-04-23T19:15:55.828348Z",
     "shell.execute_reply": "2025-04-23T19:15:55.827408Z",
     "shell.execute_reply.started": "2025-04-23T19:15:55.821547Z"
    },
    "trusted": true,
    "ExecuteTime": {
     "end_time": "2025-04-24T18:21:40.782397Z",
     "start_time": "2025-04-24T18:21:40.775331Z"
    }
   },
   "source": [
    "def find_high_outlier_columns(df):\n",
    "    outlier_columns = {}\n",
    "    \n",
    "    for col in df.select_dtypes(include=np.number).columns:\n",
    "        if col == 'age' or df[col].nunique() < 10:  \n",
    "            continue\n",
    "            \n",
    "        Q1 = df[col].quantile(0.1)\n",
    "        Q3 = df[col].quantile(0.9)\n",
    "        IQR = Q3 - Q1\n",
    "        \n",
    "        lower_bound = Q1 - 1.5 * IQR\n",
    "        upper_bound = Q3 + 1.5 * IQR\n",
    "        \n",
    "        outliers = df[(df[col] < lower_bound) | (df[col] > upper_bound)][col]\n",
    "        outlier_percent = (len(outliers) / len(df[col].dropna())) * 100\n",
    "        \n",
    "        outlier_columns[col] = {\n",
    "            'percent': outlier_percent,\n",
    "            'count': len(outliers),\n",
    "            'lower_bound': lower_bound,\n",
    "            'upper_bound': upper_bound\n",
    "        }\n",
    "            \n",
    "    return outlier_columns"
   ],
   "outputs": [],
   "execution_count": 395
  },
  {
   "cell_type": "code",
   "metadata": {
    "execution": {
     "iopub.execute_input": "2025-04-23T19:15:56.730969Z",
     "iopub.status.busy": "2025-04-23T19:15:56.730618Z",
     "iopub.status.idle": "2025-04-23T19:15:56.740866Z",
     "shell.execute_reply": "2025-04-23T19:15:56.739763Z",
     "shell.execute_reply.started": "2025-04-23T19:15:56.730945Z"
    },
    "trusted": true,
    "ExecuteTime": {
     "end_time": "2025-04-24T18:21:40.853149Z",
     "start_time": "2025-04-24T18:21:40.842045Z"
    }
   },
   "source": [
    "def visualize_outliers(df, outlier_columns):\n",
    "    if not outlier_columns:\n",
    "        print(\"No columns with more than 5% outliers found.\")\n",
    "        return\n",
    "    percent = -1\n",
    "    for i, (col, stats) in enumerate(outlier_columns.items()):\n",
    "        percent = max(percent, stats['percent'])\n",
    "        if stats['percent'] > 5:\n",
    "            plt.figure(figsize=(15, 8))\n",
    "            gs = GridSpec(2, 2, height_ratios=[3, 1])\n",
    "            \n",
    "            # Box plot\n",
    "            ax1 = plt.subplot(gs[0, 0])\n",
    "            sns.boxplot(x=df[col], ax=ax1)\n",
    "            ax1.set_title(f\"Box Plot: {col}\")\n",
    "            \n",
    "            # Histogram with KDE\n",
    "            ax2 = plt.subplot(gs[0, 1])\n",
    "            sns.histplot(df[col], kde=True, ax=ax2)\n",
    "            ax2.axvline(stats['lower_bound'], color='r', linestyle='--', label='Outlier Threshold')\n",
    "            ax2.axvline(stats['upper_bound'], color='r', linestyle='--')\n",
    "            ax2.legend()\n",
    "            ax2.set_title(f\"Distribution: {col}\")\n",
    "            \n",
    "            # Outlier detail table\n",
    "            ax3 = plt.subplot(gs[1, :])\n",
    "            ax3.axis('off')\n",
    "            outlier_text = (\n",
    "                f\"Column: {col}\\n\"\n",
    "                f\"Outliers: {stats['count']} values ({stats['percent']:.2f}% of non-null data)\\n\"\n",
    "                f\"Lower bound: {stats['lower_bound']:.2f}\\n\"\n",
    "                f\"Upper bound: {stats['upper_bound']:.2f}\\n\"\n",
    "                f\"Min: {df[col].min():.2f}, Max: {df[col].max():.2f}\\n\"\n",
    "                f\"Mean: {df[col].mean():.2f}, Median: {df[col].median():.2f}\"\n",
    "            )\n",
    "            ax3.text(0.5, 0.5, outlier_text, ha='center', va='center', fontsize=12)\n",
    "            \n",
    "            plt.tight_layout()\n",
    "            plt.show()\n",
    "            \n",
    "            # Print summary\n",
    "            print(f\"\\n📊 Outlier Analysis for {col}:\")\n",
    "            print(f\"  • {stats['percent']:.2f}% of values are outliers ({stats['count']} out of {len(df[col].dropna())})\")\n",
    "            print(f\"  • Outlier thresholds: < {stats['lower_bound']:.2f} or > {stats['upper_bound']:.2f}\")\n",
    "            print(\"──\"*40)\n",
    "    print(\"Max Percentage of Outliers: \", percent)"
   ],
   "outputs": [],
   "execution_count": 396
  },
  {
   "cell_type": "code",
   "metadata": {
    "execution": {
     "iopub.execute_input": "2025-04-23T19:31:00.865945Z",
     "iopub.status.busy": "2025-04-23T19:31:00.865575Z",
     "iopub.status.idle": "2025-04-23T19:31:00.878925Z",
     "shell.execute_reply": "2025-04-23T19:31:00.877783Z",
     "shell.execute_reply.started": "2025-04-23T19:31:00.865920Z"
    },
    "trusted": true,
    "ExecuteTime": {
     "end_time": "2025-04-24T18:21:40.996689Z",
     "start_time": "2025-04-24T18:21:40.985028Z"
    }
   },
   "source": [
    "def view_outlier_dist(df, outlier_columns):\n",
    "    for i, (col, stats) in enumerate(outlier_columns.items()):\n",
    "        if stats['percent'] > 5:\n",
    "            df_clean = df.copy()\n",
    "            df = df_clean[(df_clean[col] >= stats['lower_bound']) & (df_clean[col] <= stats['upper_bound'])]\n",
    "            \n",
    "            male_df = df_clean[df_clean['gender'] == 'male']\n",
    "            female_df = df_clean[df_clean['gender'] == 'female']\n",
    "                \n",
    "            male_stats = {'mean': male_df[col].mean(), 'std': male_df[col].std()}\n",
    "            female_stats = {'mean': female_df[col].mean(), 'std': female_df[col].std()}\n",
    "            \n",
    "            male_snr = abs(male_stats['mean']) / male_stats['std'] if male_stats['std'] != 0 else 0\n",
    "            female_snr = abs(female_stats['mean']) / female_stats['std'] if female_stats['std'] != 0 else 0\n",
    "            \n",
    "            pooled_std = np.sqrt((male_stats['std']**2 + female_stats['std']**2)/2)\n",
    "            cohens_d = abs(male_stats['mean'] - female_stats['mean']) / pooled_std\n",
    "            print(cohens_d)\n",
    "            \n",
    "            plt.figure(figsize=(12, 6))\n",
    "            \n",
    "            # Distribution plot\n",
    "            sns.kdeplot(data=df_clean, x=col, hue='gender', fill=True, alpha=0.3, \n",
    "                       common_norm=False, palette={'male':'blue', 'female':'orange'}, hue_order=('male', 'female'))\n",
    "            \n",
    "            plt.axvline(male_stats['mean'], color='blue', linestyle='--', \n",
    "                        label=f\"Male: μ = {male_stats['mean']:.2f}, σ = {male_stats['std']:.2f}\")\n",
    "            plt.axvline(female_stats['mean'], color='orange', linestyle='--',\n",
    "                        label=f\"Female: μ = {female_stats['mean']:.2f}, σ = {female_stats['std']:.2f}\")\n",
    "            \n",
    "            plt.axvspan(male_stats['mean'] - male_stats['std'], male_stats['mean'] + male_stats['std'], \n",
    "                        color='blue', alpha=0.1)\n",
    "            plt.axvspan(female_stats['mean'] - female_stats['std'], female_stats['mean'] + female_stats['std'],\n",
    "                       color='orange', alpha=0.1)\n",
    "            \n",
    "            plt.title(f\"{col}\\nCohen's d = {cohens_d:.2f} (Male SNR: {male_snr:.2f}, Female SNR: {female_snr:.2f})\")\n",
    "            plt.legend()\n",
    "            plt.tight_layout()\n",
    "            plt.show()\n",
    "            \n",
    "            # Print comprehensive comparison\n",
    "            print(f\"\\n📊 {col}\")\n",
    "            print(f\"   Male: μ/σ = {male_snr:.2f} (μ = {male_stats['mean']:.2f}, σ = {male_stats['std']:.2f})\")\n",
    "            print(f\" Female: μ/σ = {female_snr:.2f} (μ = {female_stats['mean']:.2f}, σ = {female_stats['std']:.2f})\")\n",
    "            print(f\" Standardized difference (Cohen's d): {cohens_d:.2f}\")\n",
    "            print(\"──\"*30)"
   ],
   "outputs": [],
   "execution_count": 397
  },
  {
   "cell_type": "code",
   "metadata": {
    "execution": {
     "iopub.execute_input": "2025-04-23T19:30:53.403296Z",
     "iopub.status.busy": "2025-04-23T19:30:53.402972Z",
     "iopub.status.idle": "2025-04-23T19:30:53.414746Z",
     "shell.execute_reply": "2025-04-23T19:30:53.413529Z",
     "shell.execute_reply.started": "2025-04-23T19:30:53.403273Z"
    },
    "trusted": true,
    "ExecuteTime": {
     "end_time": "2025-04-24T18:21:41.121454Z",
     "start_time": "2025-04-24T18:21:41.104926Z"
    }
   },
   "source": [
    "def plot_male_female_diff(male_df, female_df):\n",
    "    for col in male_df.select_dtypes(include=np.number).columns:  # Only numeric columns\n",
    "        if col == 'gender':\n",
    "            continue\n",
    "            \n",
    "        male_stats = {'mean': male_df[col].mean(), 'std': male_df[col].std()}\n",
    "        female_stats = {'mean': female_df[col].mean(), 'std': female_df[col].std()}\n",
    "        \n",
    "        male_snr = abs(male_stats['mean']) / male_stats['std'] if male_stats['std'] != 0 else 0\n",
    "        female_snr = abs(female_stats['mean']) / female_stats['std'] if female_stats['std'] != 0 else 0\n",
    "        \n",
    "        pooled_std = np.sqrt((male_stats['std']**2 + female_stats['std']**2)/2)\n",
    "        cohens_d = abs(male_stats['mean'] - female_stats['mean']) / pooled_std\n",
    "        \n",
    "        if cohens_d > 0.4:\n",
    "            plt.figure(figsize=(12, 6))\n",
    "            \n",
    "            # Distribution plot\n",
    "            sns.kdeplot(data=df, x=col, hue='gender', fill=True, alpha=0.3, \n",
    "                       common_norm=False, palette={'male':'blue', 'female':'orange'}, hue_order=('male', 'female'))\n",
    "            \n",
    "            plt.axvline(male_stats['mean'], color='blue', linestyle='--', \n",
    "                        label=f\"Male: μ = {male_stats['mean']:.2f}, σ = {male_stats['std']:.2f}\")\n",
    "            plt.axvline(female_stats['mean'], color='orange', linestyle='--',\n",
    "                        label=f\"Female: μ = {female_stats['mean']:.2f}, σ = {female_stats['std']:.2f}\")\n",
    "            \n",
    "            plt.axvspan(male_stats['mean'] - male_stats['std'], male_stats['mean'] + male_stats['std'], \n",
    "                        color='blue', alpha=0.1)\n",
    "            plt.axvspan(female_stats['mean'] - female_stats['std'], female_stats['mean'] + female_stats['std'],\n",
    "                       color='orange', alpha=0.1)\n",
    "            \n",
    "            plt.title(f\"{col}\\nCohen's d = {cohens_d:.2f} (Male SNR: {male_snr:.2f}, Female SNR: {female_snr:.2f})\")\n",
    "            plt.legend()\n",
    "            plt.tight_layout()\n",
    "            plt.show()\n",
    "            \n",
    "            # Print comprehensive comparison\n",
    "            print(f\"\\n📊 {col}\")\n",
    "            print(f\"   Male: μ/σ = {male_snr:.2f} (μ = {male_stats['mean']:.2f}, σ = {male_stats['std']:.2f})\")\n",
    "            print(f\" Female: μ/σ = {female_snr:.2f} (μ = {female_stats['mean']:.2f}, σ = {female_stats['std']:.2f})\")\n",
    "            print(f\" Standardized difference (Cohen's d): {cohens_d:.2f}\")\n",
    "            print(\"──\"*30)"
   ],
   "outputs": [],
   "execution_count": 398
  },
  {
   "cell_type": "code",
   "metadata": {
    "execution": {
     "iopub.execute_input": "2025-04-23T19:30:45.653983Z",
     "iopub.status.busy": "2025-04-23T19:30:45.653604Z",
     "iopub.status.idle": "2025-04-23T19:30:45.666127Z",
     "shell.execute_reply": "2025-04-23T19:30:45.665163Z",
     "shell.execute_reply.started": "2025-04-23T19:30:45.653956Z"
    },
    "trusted": true,
    "ExecuteTime": {
     "end_time": "2025-04-24T18:21:41.146686Z",
     "start_time": "2025-04-24T18:21:41.133465Z"
    }
   },
   "source": [
    "def plot_twenties_vs_fifties(twenties_df, fifties_df):\n",
    "    for col in twenties_df.select_dtypes(include=np.number).columns:  \n",
    "        if col == 'age':  \n",
    "            continue\n",
    "            \n",
    "        # Calculate statistics\n",
    "        twenties_stats = {'mean': twenties_df[col].mean(), 'std': twenties_df[col].std()}\n",
    "        fifties_stats = {'mean': fifties_df[col].mean(), 'std': fifties_df[col].std()}\n",
    "        \n",
    "        # Calculate signal-to-noise ratio (mean/std)\n",
    "        twenties_snr = abs(twenties_stats['mean']) / twenties_stats['std'] if twenties_stats['std'] != 0 else 0\n",
    "        fifties_snr = abs(fifties_stats['mean']) / fifties_stats['std'] if fifties_stats['std'] != 0 else 0\n",
    "        \n",
    "        # Calculate standardized mean difference (Cohen's d)\n",
    "        pooled_std = np.sqrt((twenties_stats['std']**2 + fifties_stats['std']**2)/2)\n",
    "        cohens_d = abs(twenties_stats['mean'] - fifties_stats['mean']) / pooled_std\n",
    "        \n",
    "        # Only plot if substantial difference exists (Cohen's d > 0.4 effect)\n",
    "        if cohens_d > 0.2:\n",
    "            plt.figure(figsize=(12, 6))\n",
    "            \n",
    "            # Create temp dataframe with age groups for plotting\n",
    "            plot_df = pd.concat([\n",
    "                twenties_df[col].to_frame().assign(age_group='20-29'),\n",
    "                fifties_df[col].to_frame().assign(age_group='50-59')\n",
    "            ])\n",
    "            \n",
    "            # Distribution plot\n",
    "            sns.kdeplot(data=plot_df, x=col, hue='age_group', fill=True, alpha=0.3, \n",
    "                       common_norm=False, palette={'20-29':'blue', '50-59':'orange'})\n",
    "            \n",
    "            # Add statistics annotations\n",
    "            plt.axvline(twenties_stats['mean'], color='blue', linestyle='--', \n",
    "                        label=f\"twenties: μ = {twenties_stats['mean']:.2f}, σ = {twenties_stats['std']:.2f}\")\n",
    "            plt.axvline(fifties_stats['mean'], color='orange', linestyle='--',\n",
    "                        label=f\"fifties: μ = {fifties_stats['mean']:.2f}, σ = {fifties_stats['std']:.2f}\")\n",
    "            \n",
    "            # Add std ranges\n",
    "            plt.axvspan(twenties_stats['mean'] - twenties_stats['std'], twenties_stats['mean'] + twenties_stats['std'], \n",
    "                        color='blue', alpha=0.1)\n",
    "            plt.axvspan(fifties_stats['mean'] - fifties_stats['std'], fifties_stats['mean'] + fifties_stats['std'],\n",
    "                       color='orange', alpha=0.1)\n",
    "            \n",
    "            plt.title(f\"{col}\\nCohen's d = {cohens_d:.2f} (twenties SNR: {twenties_snr:.2f}, fifties SNR: {fifties_snr:.2f})\")\n",
    "            plt.legend()\n",
    "            plt.tight_layout()\n",
    "            plt.show()\n",
    "            \n",
    "            # Print comprehensive comparison\n",
    "            print(f\"\\n📊 {col}\")\n",
    "            print(f\"   twenties: μ/σ = {twenties_snr:.2f} (μ = {twenties_stats['mean']:.2f}, σ = {twenties_stats['std']:.2f})\")\n",
    "            print(f\"   fifties: μ/σ = {fifties_snr:.2f} (μ = {fifties_stats['mean']:.2f}, σ = {fifties_stats['std']:.2f})\")\n",
    "            print(f\"   Standardized difference (Cohen's d): {cohens_d:.2f}\")\n",
    "            print(\"──\"*30)"
   ],
   "outputs": [],
   "execution_count": 399
  },
  {
   "cell_type": "code",
   "metadata": {
    "execution": {
     "iopub.execute_input": "2025-04-23T19:30:39.462166Z",
     "iopub.status.busy": "2025-04-23T19:30:39.461232Z",
     "iopub.status.idle": "2025-04-23T19:30:39.475149Z",
     "shell.execute_reply": "2025-04-23T19:30:39.474211Z",
     "shell.execute_reply.started": "2025-04-23T19:30:39.462135Z"
    },
    "trusted": true,
    "ExecuteTime": {
     "end_time": "2025-04-24T18:21:41.270784Z",
     "start_time": "2025-04-24T18:21:41.240732Z"
    }
   },
   "source": [
    "def plot_age_gender_dist(twenties_df, fifties_df):\n",
    "    for col in twenties_df.select_dtypes(include=np.number).columns:\n",
    "        if col == 'age':\n",
    "            continue\n",
    "            \n",
    "        # Create subsets for each demographic group\n",
    "        male_20 = twenties_df[twenties_df['gender'] == 'male'][col].dropna()\n",
    "        male_50 = fifties_df[fifties_df['gender'] == 'male'][col].dropna()\n",
    "        female_20 = twenties_df[twenties_df['gender'] == 'female'][col].dropna()\n",
    "        female_50 = fifties_df[fifties_df['gender'] == 'female'][col].dropna()\n",
    "        \n",
    "        # Calculate all Cohen's d comparisons\n",
    "        def calculate_cohens_d(group1, group2):\n",
    "            pooled_std = np.sqrt((group1.std()**2 + group2.std()**2)/2)\n",
    "            return abs(group1.mean() - group2.mean()) / pooled_std\n",
    "        \n",
    "        cohens_d = {\n",
    "            'male_vs_female_20': calculate_cohens_d(male_20, female_20),\n",
    "            'male_vs_female_50': calculate_cohens_d(male_50, female_50),\n",
    "            'age_effect_male': calculate_cohens_d(male_20, male_50),\n",
    "            'age_effect_female': calculate_cohens_d(female_20, female_50)\n",
    "        }\n",
    "        \n",
    "        # Only plot if any comparison shows meaningful effect size\n",
    "        if any(d > 0.2 for d in cohens_d.values()):\n",
    "            plt.figure(figsize=(14, 7))\n",
    "            \n",
    "            # Create plot dataframe\n",
    "            plot_df = pd.concat([\n",
    "                male_20.to_frame().assign(group='Male 20-29'),\n",
    "                male_50.to_frame().assign(group='Male 50-59'),\n",
    "                female_20.to_frame().assign(group='Female 20-29'),\n",
    "                female_50.to_frame().assign(group='Female 50-59')\n",
    "            ])\n",
    "            \n",
    "            # Plot KDE\n",
    "            palette = {'Male 20-29':'blue', 'Male 50-59':'lightblue',\n",
    "                     'Female 20-29':'red', 'Female 50-59':'orange'}\n",
    "            \n",
    "            for group, color in palette.items():\n",
    "                group_data = plot_df[plot_df['group'] == group]\n",
    "                sns.kdeplot(data=group_data, x=col, color=color, \n",
    "                            fill=True, alpha=0.2, common_norm=False, \n",
    "                            linewidth=2, label=group)\n",
    "            \n",
    "            # Add effect size annotations\n",
    "            text_y = 0.9\n",
    "            for name, d in cohens_d.items():\n",
    "                if d > 0.2:\n",
    "                    comp_name = name.replace('_', ' ').title()\n",
    "                    plt.text(0.02, text_y, f\"{comp_name}: Cohen's d = {d:.2f}\",\n",
    "                            transform=plt.gca().transAxes, fontsize=10,\n",
    "                            bbox=dict(facecolor='white', alpha=0.7))\n",
    "                    text_y -= 0.08\n",
    "            \n",
    "            plt.title(f\"Distribution of {col}\\n(Only showing comparisons with Cohen's d > 0.2)\")\n",
    "            plt.legend(bbox_to_anchor=(1.05, 1), loc='upper left')\n",
    "            plt.tight_layout()\n",
    "            plt.show()\n",
    "            \n",
    "            # Print detailed statistics\n",
    "            print(f\"\\n📊 {col} - Effect Size Analysis:\")\n",
    "            print(f\"  Male 20s vs Female 20s: d = {cohens_d['male_vs_female_20']:.2f}\")\n",
    "            print(f\"  Male 50s vs Female 50s: d = {cohens_d['male_vs_female_50']:.2f}\")\n",
    "            print(f\"  Age Effect (Male 20s vs 50s): d = {cohens_d['age_effect_male']:.2f}\")\n",
    "            print(f\"  Age Effect (Female 20s vs 50s): d = {cohens_d['age_effect_female']:.2f}\")\n",
    "            print(\"──\"*40)"
   ],
   "outputs": [],
   "execution_count": 400
  },
  {
   "cell_type": "code",
   "metadata": {
    "execution": {
     "iopub.execute_input": "2025-04-23T19:33:10.474358Z",
     "iopub.status.busy": "2025-04-23T19:33:10.473522Z",
     "iopub.status.idle": "2025-04-23T19:33:10.485913Z",
     "shell.execute_reply": "2025-04-23T19:33:10.485122Z",
     "shell.execute_reply.started": "2025-04-23T19:33:10.474330Z"
    },
    "trusted": true,
    "ExecuteTime": {
     "end_time": "2025-04-24T18:21:41.376730Z",
     "start_time": "2025-04-24T18:21:41.367484Z"
    }
   },
   "source": [
    "def duration_plot(male_df, female_df):\n",
    "    # Calculate statistics\n",
    "    twenties_stats = {'mean': male_df['duration'].mean(), 'std': male_df['duration'].std()}\n",
    "    fifties_stats = {'mean': female_df['duration'].mean(), 'std': female_df['duration'].std()}\n",
    "    \n",
    "    # Calculate signal-to-noise ratio (mean/std)\n",
    "    twenties_snr = abs(twenties_stats['mean']) / twenties_stats['std'] if twenties_stats['std'] != 0 else 0\n",
    "    fifties_snr = abs(fifties_stats['mean']) / fifties_stats['std'] if fifties_stats['std'] != 0 else 0\n",
    "    \n",
    "    # Calculate standardized mean difference (Cohen's d)\n",
    "    pooled_std = np.sqrt((twenties_stats['std']**2 + fifties_stats['std']**2)/2)\n",
    "    cohens_d = abs(twenties_stats['mean'] - fifties_stats['mean']) / pooled_std\n",
    "    \n",
    "    plt.figure(figsize=(12, 6))\n",
    "    \n",
    "    # Create temp dataframe with age groups for plotting\n",
    "    plot_df = pd.concat([\n",
    "        twenties_df['duration'].to_frame().assign(age_group='20-29'),\n",
    "        fifties_df['duration'].to_frame().assign(age_group='50-59')\n",
    "    ])\n",
    "    \n",
    "    # Distribution plot\n",
    "    sns.kdeplot(data=plot_df, x='duration', hue='age_group', fill=True, alpha=0.3, \n",
    "               common_norm=False, palette={'20-29':'blue', '50-59':'orange'})\n",
    "    \n",
    "    # Add statistics annotations\n",
    "    plt.axvline(twenties_stats['mean'], color='blue', linestyle='--', \n",
    "                label=f\"twenties: μ = {twenties_stats['mean']:.2f}, σ = {twenties_stats['std']:.2f}\")\n",
    "    plt.axvline(fifties_stats['mean'], color='orange', linestyle='--',\n",
    "                label=f\"fifties: μ = {fifties_stats['mean']:.2f}, σ = {fifties_stats['std']:.2f}\")\n",
    "    \n",
    "    # Add std ranges\n",
    "    plt.axvspan(twenties_stats['mean'] - twenties_stats['std'], twenties_stats['mean'] + twenties_stats['std'], \n",
    "                color='blue', alpha=0.1)\n",
    "    plt.axvspan(fifties_stats['mean'] - fifties_stats['std'], fifties_stats['mean'] + fifties_stats['std'],\n",
    "               color='orange', alpha=0.1)\n",
    "    \n",
    "    plt.title(f\"{col}\\nCohen's d = {cohens_d:.2f} (twenties SNR: {twenties_snr:.2f}, fifties SNR: {fifties_snr:.2f})\")\n",
    "    plt.legend()\n",
    "    plt.tight_layout()\n",
    "    plt.show()\n",
    "    \n",
    "    # Print comprehensive comparison\n",
    "    print(f\"\\n📊 duration\")\n",
    "    print(f\"   twenties: μ/σ = {twenties_snr:.2f} (μ = {twenties_stats['mean']:.2f}, σ = {twenties_stats['std']:.2f})\")\n",
    "    print(f\"   fifties: μ/σ = {fifties_snr:.2f} (μ = {fifties_stats['mean']:.2f}, σ = {fifties_stats['std']:.2f})\")\n",
    "    print(f\"   Standardized difference (Cohen's d): {cohens_d:.2f}\")\n",
    "    print(\"──\"*30)"
   ],
   "outputs": [],
   "execution_count": 401
  },
  {
   "cell_type": "code",
   "metadata": {
    "execution": {
     "iopub.execute_input": "2025-04-23T19:33:18.636884Z",
     "iopub.status.busy": "2025-04-23T19:33:18.636525Z",
     "iopub.status.idle": "2025-04-23T19:33:18.643222Z",
     "shell.execute_reply": "2025-04-23T19:33:18.642243Z",
     "shell.execute_reply.started": "2025-04-23T19:33:18.636862Z"
    },
    "trusted": true,
    "ExecuteTime": {
     "end_time": "2025-04-24T18:21:41.495881Z",
     "start_time": "2025-04-24T18:21:41.484677Z"
    }
   },
   "source": [
    "def analyze_feature_correlations(df, threshold=0.5):\n",
    "    \n",
    "    numeric_df = df.select_dtypes(include=['number'])\n",
    "    \n",
    "    corr_matrix = numeric_df.corr()\n",
    "    \n",
    "    # Find high correlations\n",
    "    high_corr = []\n",
    "    for i in range(len(corr_matrix.columns)):\n",
    "        for j in range(i):\n",
    "            if abs(corr_matrix.iloc[i, j]) > threshold:\n",
    "                high_corr.append((corr_matrix.columns[i], corr_matrix.columns[j], \n",
    "                                 corr_matrix.iloc[i, j]))\n",
    "    return high_corr"
   ],
   "outputs": [],
   "execution_count": 402
  },
  {
   "cell_type": "code",
   "metadata": {
    "execution": {
     "iopub.execute_input": "2025-04-23T19:17:54.682957Z",
     "iopub.status.busy": "2025-04-23T19:17:54.682374Z",
     "iopub.status.idle": "2025-04-23T19:17:54.688738Z",
     "shell.execute_reply": "2025-04-23T19:17:54.687732Z",
     "shell.execute_reply.started": "2025-04-23T19:17:54.682927Z"
    },
    "trusted": true,
    "ExecuteTime": {
     "end_time": "2025-04-24T18:21:41.594518Z",
     "start_time": "2025-04-24T18:21:41.588588Z"
    }
   },
   "source": [
    "def features_to_keep(all_features, corr_features, to_be_removed):\n",
    "    features_set = set()\n",
    "    to_keep = []\n",
    "    for removed in to_be_removed:\n",
    "        features_set.add(removed)\n",
    "    \n",
    "    for x, y, z in corr_features:\n",
    "        if x not in features_set and y not in features_set:\n",
    "            to_keep.append(x)\n",
    "            features_set.add(x)\n",
    "            features_set.add(y)\n",
    "\n",
    "    for feature in all_features:\n",
    "        if feature not in features_set:\n",
    "            to_keep.append(feature)\n",
    "\n",
    "    return to_keep"
   ],
   "outputs": [],
   "execution_count": 403
  },
  {
   "cell_type": "markdown",
   "metadata": {},
   "source": [
    "## Calls"
   ]
  },
  {
   "cell_type": "code",
   "metadata": {
    "trusted": true,
    "ExecuteTime": {
     "end_time": "2025-04-24T18:23:08.502810Z",
     "start_time": "2025-04-24T18:21:41.682228Z"
    }
   },
   "source": [
    "outliers_cols = find_high_outlier_columns(df)\n",
    "visualize_outliers(df, outliers_cols)"
   ],
   "outputs": [
    {
     "data": {
      "text/plain": [
       "<Figure size 1500x800 with 3 Axes>"
      ],
      "image/png": "[encoded data removed]"
     },
     "metadata": {},
     "output_type": "display_data"
    },
    {
     "name": "stdout",
     "output_type": "stream",
     "text": [
      "\n",
      "📊 Outlier Analysis for ste_min:\n",
      "  • 5.48% of values are outliers (1134 out of 20690)\n",
      "  • Outlier thresholds: < -0.00 or > 0.00\n",
      "────────────────────────────────────────────────────────────────────────────────\n",
      "Max Percentage of Outliers:  5.4809086515224745\n"
     ]
    }
   ],
   "execution_count": 404
  },
  {
   "cell_type": "code",
   "metadata": {
    "trusted": true,
    "ExecuteTime": {
     "end_time": "2025-04-24T18:23:09.900706Z",
     "start_time": "2025-04-24T18:23:08.944058Z"
    }
   },
   "source": [
    "view_outlier_dist(df, outliers_cols)"
   ],
   "outputs": [
    {
     "name": "stdout",
     "output_type": "stream",
     "text": [
      "0.11251128837224807\n"
     ]
    },
    {
     "data": {
      "text/plain": [
       "<Figure size 1200x600 with 1 Axes>"
      ],
      "image/png": "[encoded data removed]"
     },
     "metadata": {},
     "output_type": "display_data"
    },
    {
     "name": "stdout",
     "output_type": "stream",
     "text": [
      "\n",
      "📊 ste_min\n",
      "   Male: μ/σ = 0.16 (μ = 0.00, σ = 0.00)\n",
      " Female: μ/σ = 0.14 (μ = 0.00, σ = 0.00)\n",
      " Standardized difference (Cohen's d): 0.11\n",
      "────────────────────────────────────────────────────────────\n"
     ]
    }
   ],
   "execution_count": 405
  },
  {
   "metadata": {
    "ExecuteTime": {
     "end_time": "2025-04-24T18:23:10.034970Z",
     "start_time": "2025-04-24T18:23:10.003417Z"
    }
   },
   "cell_type": "code",
   "source": [
    "#replace null with mean\n",
    "for col in df.select_dtypes(include=['number']).columns:\n",
    "    if df[col].isnull().sum() > 0:\n",
    "        print(f\"Column: {col}, Nulls: {df[col].isnull().sum()}\")\n",
    "        mean_value = df[col].mean()\n",
    "        df[col] = df[col].fillna(mean_value)"
   ],
   "outputs": [
    {
     "name": "stdout",
     "output_type": "stream",
     "text": [
      "Column: formant3, Nulls: 1\n"
     ]
    }
   ],
   "execution_count": 406
  },
  {
   "cell_type": "code",
   "metadata": {
    "trusted": true,
    "ExecuteTime": {
     "end_time": "2025-04-24T18:23:10.061621Z",
     "start_time": "2025-04-24T18:23:10.050983Z"
    }
   },
   "source": [
    "assert check_nulls(df) == True, 'there are nulls'"
   ],
   "outputs": [],
   "execution_count": 407
  },
  {
   "cell_type": "code",
   "metadata": {
    "trusted": true,
    "ExecuteTime": {
     "end_time": "2025-04-24T18:23:12.374312Z",
     "start_time": "2025-04-24T18:23:10.131259Z"
    }
   },
   "source": [
    "df_normalized, transformations = smart_normalize(df)\n",
    "outliers_cols = find_high_outlier_columns(df_normalized)\n",
    "# df_normalized = remove_outliers(df_normalized, outliers_cols)\n",
    "df = df_normalized.copy()"
   ],
   "outputs": [],
   "execution_count": 408
  },
  {
   "cell_type": "code",
   "metadata": {
    "trusted": true,
    "ExecuteTime": {
     "end_time": "2025-04-24T18:23:12.508423Z",
     "start_time": "2025-04-24T18:23:12.473833Z"
    }
   },
   "source": [
    "male_df = df[df['gender'] == 'male']\n",
    "female_df = df[df['gender'] == 'female']\n",
    "twenties_df = df[df['age'] == 'twenties']\n",
    "fifties_df = df[df['age'] == 'fifties']"
   ],
   "outputs": [],
   "execution_count": 409
  },
  {
   "cell_type": "code",
   "metadata": {
    "trusted": true,
    "ExecuteTime": {
     "end_time": "2025-04-24T18:23:13.723564Z",
     "start_time": "2025-04-24T18:23:12.668438Z"
    }
   },
   "source": [
    "correlated_features = analyze_feature_correlations(df, 0.8)"
   ],
   "outputs": [],
   "execution_count": 410
  },
  {
   "cell_type": "code",
   "metadata": {
    "trusted": true,
    "ExecuteTime": {
     "end_time": "2025-04-24T18:23:13.816578Z",
     "start_time": "2025-04-24T18:23:13.808770Z"
    }
   },
   "source": [
    "remaining_features = features_to_keep(df.select_dtypes(include=['number']).columns, correlated_features, to_be_removed=['duration'])\n",
    "remaining_features.append('age')\n",
    "remaining_features.append('gender')"
   ],
   "outputs": [],
   "execution_count": 411
  },
  {
   "cell_type": "code",
   "metadata": {
    "trusted": true,
    "ExecuteTime": {
     "end_time": "2025-04-24T18:23:13.836963Z",
     "start_time": "2025-04-24T18:23:13.828967Z"
    }
   },
   "source": [
    "assert len(remaining_features) == len(set(remaining_features)), 'problem in feature selection'\n",
    "df = df[remaining_features]"
   ],
   "outputs": [],
   "execution_count": 412
  },
  {
   "cell_type": "markdown",
   "metadata": {},
   "source": [
    "## Baseline Model"
   ]
  },
  {
   "cell_type": "code",
   "metadata": {
    "execution": {
     "iopub.execute_input": "2025-04-23T19:18:03.995100Z",
     "iopub.status.busy": "2025-04-23T19:18:03.994392Z",
     "iopub.status.idle": "2025-04-23T19:18:03.999442Z",
     "shell.execute_reply": "2025-04-23T19:18:03.998498Z",
     "shell.execute_reply.started": "2025-04-23T19:18:03.995065Z"
    },
    "trusted": true,
    "ExecuteTime": {
     "end_time": "2025-04-24T18:23:13.906779Z",
     "start_time": "2025-04-24T18:23:13.897185Z"
    }
   },
   "source": [
    "from sklearn.ensemble import RandomForestClassifier\n",
    "from sklearn.model_selection import train_test_split\n",
    "from sklearn.metrics import classification_report, accuracy_score\n",
    "from sklearn.decomposition import PCA"
   ],
   "outputs": [],
   "execution_count": 413
  },
  {
   "cell_type": "code",
   "metadata": {
    "execution": {
     "iopub.execute_input": "2025-04-23T19:38:22.226746Z",
     "iopub.status.busy": "2025-04-23T19:38:22.226295Z",
     "iopub.status.idle": "2025-04-23T19:38:22.233510Z",
     "shell.execute_reply": "2025-04-23T19:38:22.232615Z",
     "shell.execute_reply.started": "2025-04-23T19:38:22.226699Z"
    },
    "trusted": true,
    "ExecuteTime": {
     "end_time": "2025-04-24T18:23:13.989449Z",
     "start_time": "2025-04-24T18:23:13.979580Z"
    }
   },
   "source": [
    "def baseline(X, y):\n",
    "    X_train, X_test, y_train, y_test = train_test_split(X, y, test_size=0.2, random_state=42)\n",
    "    clf = RandomForestClassifier(random_state=42)\n",
    "    clf.fit(X_train, y_train)\n",
    "\n",
    "    y_pred = clf.predict(X_test)\n",
    "    \n",
    "    print(\"Accuracy:\", accuracy_score(y_test, y_pred))\n",
    "    print(classification_report(y_test, y_pred))\n",
    "    return clf.feature_importances_"
   ],
   "outputs": [],
   "execution_count": 414
  },
  {
   "cell_type": "code",
   "metadata": {
    "execution": {
     "iopub.execute_input": "2025-04-23T19:18:04.701227Z",
     "iopub.status.busy": "2025-04-23T19:18:04.700549Z",
     "iopub.status.idle": "2025-04-23T19:18:04.708670Z",
     "shell.execute_reply": "2025-04-23T19:18:04.707767Z",
     "shell.execute_reply.started": "2025-04-23T19:18:04.701199Z"
    },
    "trusted": true,
    "ExecuteTime": {
     "end_time": "2025-04-24T18:23:14.063097Z",
     "start_time": "2025-04-24T18:23:14.055537Z"
    }
   },
   "source": [
    "X = df.drop(['gender', 'age'], axis=1)\n",
    "y = df['gender'].map({'male' : 1, 'female' : 0})"
   ],
   "outputs": [],
   "execution_count": 415
  },
  {
   "cell_type": "code",
   "metadata": {
    "trusted": true,
    "ExecuteTime": {
     "end_time": "2025-04-24T18:23:32.738784Z",
     "start_time": "2025-04-24T18:23:14.136180Z"
    }
   },
   "source": [
    "baseline(X, y)"
   ],
   "outputs": [
    {
     "name": "stdout",
     "output_type": "stream",
     "text": [
      "Accuracy: 0.9383760270662156\n",
      "              precision    recall  f1-score   support\n",
      "\n",
      "           0       0.94      0.94      0.94      2095\n",
      "           1       0.94      0.94      0.94      2043\n",
      "\n",
      "    accuracy                           0.94      4138\n",
      "   macro avg       0.94      0.94      0.94      4138\n",
      "weighted avg       0.94      0.94      0.94      4138\n",
      "\n"
     ]
    },
    {
     "data": {
      "text/plain": [
       "array([0.00355566, 0.00288263, 0.00300641, 0.00439033, 0.00561698,\n",
       "       0.00419467, 0.00273186, 0.00289796, 0.00298495, 0.00266913,\n",
       "       0.00264644, 0.0024726 , 0.00271782, 0.00489653, 0.005188  ,\n",
       "       0.00268287, 0.23979437, 0.04885865, 0.12087554, 0.13960204,\n",
       "       0.00246001, 0.00298492, 0.00260389, 0.00567361, 0.00353872,\n",
       "       0.01885076, 0.00547413, 0.0040417 , 0.00555187, 0.01607193,\n",
       "       0.00799673, 0.00846711, 0.01196456, 0.00477694, 0.00504557,\n",
       "       0.00426692, 0.00843956, 0.00587016, 0.0081642 , 0.00294822,\n",
       "       0.00348984, 0.0036042 , 0.00312585, 0.00406956, 0.00326438,\n",
       "       0.00253847, 0.00316858, 0.00271242, 0.00240408, 0.00234134,\n",
       "       0.00248365, 0.00234384, 0.00226134, 0.00240724, 0.00211523,\n",
       "       0.00252409, 0.00239118, 0.00220089, 0.00475607, 0.00445424,\n",
       "       0.00233796, 0.00220245, 0.00236551, 0.00238295, 0.0024118 ,\n",
       "       0.00252555, 0.00220504, 0.00234755, 0.00214112, 0.00249437,\n",
       "       0.00226434, 0.00342691, 0.00240692, 0.00234647, 0.00303199,\n",
       "       0.00707157, 0.00323029, 0.00311212, 0.00325238, 0.00521668,\n",
       "       0.00289888, 0.00618161, 0.00301306, 0.00335584, 0.00283012,\n",
       "       0.00335181, 0.00275544, 0.00261284, 0.00248259, 0.00342365,\n",
       "       0.00441217, 0.00309275, 0.00931234, 0.02269488, 0.00504924,\n",
       "       0.00303926, 0.00330371, 0.00872673, 0.00437999, 0.00364001,\n",
       "       0.00278209, 0.00296315, 0.03195468, 0.00445571])"
      ]
     },
     "execution_count": 416,
     "metadata": {},
     "output_type": "execute_result"
    }
   ],
   "execution_count": 416
  },
  {
   "cell_type": "code",
   "metadata": {
    "execution": {
     "iopub.execute_input": "2025-04-23T16:51:22.067446Z",
     "iopub.status.busy": "2025-04-23T16:51:22.067123Z",
     "iopub.status.idle": "2025-04-23T16:51:22.146168Z",
     "shell.execute_reply": "2025-04-23T16:51:22.142566Z",
     "shell.execute_reply.started": "2025-04-23T16:51:22.067423Z"
    },
    "trusted": true,
    "ExecuteTime": {
     "end_time": "2025-04-24T18:23:33.048928Z",
     "start_time": "2025-04-24T18:23:32.879107Z"
    }
   },
   "source": [
    "pca = PCA(n_components=90)  \n",
    "X_pca = pca.fit_transform(X)  "
   ],
   "outputs": [],
   "execution_count": 417
  },
  {
   "cell_type": "code",
   "metadata": {
    "trusted": true,
    "ExecuteTime": {
     "end_time": "2025-04-24T18:23:33.871979Z",
     "start_time": "2025-04-24T18:23:33.315074Z"
    }
   },
   "source": [
    "plt.figure(figsize=(10, 5))\n",
    "plt.bar(range(pca.n_components_), pca.explained_variance_ratio_)\n",
    "plt.xlabel('Principal Component')\n",
    "plt.ylabel('Explained Variance Ratio')\n",
    "plt.title('PCA Explained Variance')\n",
    "plt.show()\n",
    "\n",
    "cumulative_variance = np.cumsum(pca.explained_variance_ratio_)\n",
    "plt.plot(cumulative_variance, marker='o')\n",
    "plt.axhline(y=0.95, color='r', linestyle='--', label='95% Variance')\n",
    "plt.xlabel('Number of Components')\n",
    "plt.ylabel('Cumulative Explained Variance')\n",
    "plt.legend()\n",
    "plt.show()"
   ],
   "outputs": [
    {
     "data": {
      "text/plain": [
       "<Figure size 1000x500 with 1 Axes>"
      ],
      "image/png": "[encoded data removed]"
     },
     "metadata": {},
     "output_type": "display_data"
    },
    {
     "data": {
      "text/plain": [
       "<Figure size 640x480 with 1 Axes>"
      ],
      "image/png": "[encoded data removed]"
     },
     "metadata": {},
     "output_type": "display_data"
    }
   ],
   "execution_count": 418
  },
  {
   "cell_type": "code",
   "metadata": {
    "trusted": true,
    "ExecuteTime": {
     "end_time": "2025-04-24T18:23:53.938647Z",
     "start_time": "2025-04-24T18:23:33.888496Z"
    }
   },
   "source": [
    "baseline(X, y)"
   ],
   "outputs": [
    {
     "name": "stdout",
     "output_type": "stream",
     "text": [
      "Accuracy: 0.9383760270662156\n",
      "              precision    recall  f1-score   support\n",
      "\n",
      "           0       0.94      0.94      0.94      2095\n",
      "           1       0.94      0.94      0.94      2043\n",
      "\n",
      "    accuracy                           0.94      4138\n",
      "   macro avg       0.94      0.94      0.94      4138\n",
      "weighted avg       0.94      0.94      0.94      4138\n",
      "\n"
     ]
    },
    {
     "data": {
      "text/plain": [
       "array([0.00355566, 0.00288263, 0.00300641, 0.00439033, 0.00561698,\n",
       "       0.00419467, 0.00273186, 0.00289796, 0.00298495, 0.00266913,\n",
       "       0.00264644, 0.0024726 , 0.00271782, 0.00489653, 0.005188  ,\n",
       "       0.00268287, 0.23979437, 0.04885865, 0.12087554, 0.13960204,\n",
       "       0.00246001, 0.00298492, 0.00260389, 0.00567361, 0.00353872,\n",
       "       0.01885076, 0.00547413, 0.0040417 , 0.00555187, 0.01607193,\n",
       "       0.00799673, 0.00846711, 0.01196456, 0.00477694, 0.00504557,\n",
       "       0.00426692, 0.00843956, 0.00587016, 0.0081642 , 0.00294822,\n",
       "       0.00348984, 0.0036042 , 0.00312585, 0.00406956, 0.00326438,\n",
       "       0.00253847, 0.00316858, 0.00271242, 0.00240408, 0.00234134,\n",
       "       0.00248365, 0.00234384, 0.00226134, 0.00240724, 0.00211523,\n",
       "       0.00252409, 0.00239118, 0.00220089, 0.00475607, 0.00445424,\n",
       "       0.00233796, 0.00220245, 0.00236551, 0.00238295, 0.0024118 ,\n",
       "       0.00252555, 0.00220504, 0.00234755, 0.00214112, 0.00249437,\n",
       "       0.00226434, 0.00342691, 0.00240692, 0.00234647, 0.00303199,\n",
       "       0.00707157, 0.00323029, 0.00311212, 0.00325238, 0.00521668,\n",
       "       0.00289888, 0.00618161, 0.00301306, 0.00335584, 0.00283012,\n",
       "       0.00335181, 0.00275544, 0.00261284, 0.00248259, 0.00342365,\n",
       "       0.00441217, 0.00309275, 0.00931234, 0.02269488, 0.00504924,\n",
       "       0.00303926, 0.00330371, 0.00872673, 0.00437999, 0.00364001,\n",
       "       0.00278209, 0.00296315, 0.03195468, 0.00445571])"
      ]
     },
     "execution_count": 419,
     "metadata": {},
     "output_type": "execute_result"
    }
   ],
   "execution_count": 419
  },
  {
   "cell_type": "code",
   "metadata": {
    "execution": {
     "iopub.execute_input": "2025-04-23T19:38:47.220831Z",
     "iopub.status.busy": "2025-04-23T19:38:47.220442Z",
     "iopub.status.idle": "2025-04-23T19:38:56.187788Z",
     "shell.execute_reply": "2025-04-23T19:38:56.186944Z",
     "shell.execute_reply.started": "2025-04-23T19:38:47.220805Z"
    },
    "trusted": true,
    "ExecuteTime": {
     "end_time": "2025-04-24T18:24:13.044522Z",
     "start_time": "2025-04-24T18:23:54.164359Z"
    }
   },
   "source": [
    "X = df.drop(['gender', 'age'], axis=1)\n",
    "y = df['age'].map({'twenties' : 1, 'fifties' : 0})\n",
    "baseline(X, y)"
   ],
   "outputs": [
    {
     "name": "stdout",
     "output_type": "stream",
     "text": [
      "Accuracy: 0.8315611406476558\n",
      "              precision    recall  f1-score   support\n",
      "\n",
      "           0       0.95      0.48      0.64      1280\n",
      "           1       0.81      0.99      0.89      2858\n",
      "\n",
      "    accuracy                           0.83      4138\n",
      "   macro avg       0.88      0.73      0.76      4138\n",
      "weighted avg       0.85      0.83      0.81      4138\n",
      "\n"
     ]
    },
    {
     "data": {
      "text/plain": [
       "array([0.0089954 , 0.00777349, 0.00886594, 0.01019148, 0.00893648,\n",
       "       0.01553565, 0.0146974 , 0.00763255, 0.00640564, 0.00818734,\n",
       "       0.00716127, 0.00686634, 0.00693972, 0.01183152, 0.01207229,\n",
       "       0.00773795, 0.03046077, 0.01223268, 0.02713209, 0.01985652,\n",
       "       0.00980555, 0.00685899, 0.00719545, 0.00679913, 0.00919054,\n",
       "       0.0305253 , 0.01802542, 0.01240289, 0.0133567 , 0.01097459,\n",
       "       0.01216913, 0.02258103, 0.01101482, 0.01093547, 0.01456267,\n",
       "       0.00961446, 0.0105044 , 0.01052586, 0.01461208, 0.00838387,\n",
       "       0.00855119, 0.01231855, 0.01140943, 0.00847447, 0.00901568,\n",
       "       0.00743369, 0.00870045, 0.00709738, 0.00681902, 0.00795657,\n",
       "       0.0060033 , 0.00576691, 0.00649131, 0.00584566, 0.00609831,\n",
       "       0.00768647, 0.0060722 , 0.0060587 , 0.00858332, 0.00978996,\n",
       "       0.00984806, 0.00647942, 0.00768111, 0.00648395, 0.0064754 ,\n",
       "       0.00662   , 0.00558142, 0.00608296, 0.00684048, 0.00664794,\n",
       "       0.00637768, 0.00820559, 0.00688882, 0.00788032, 0.00903762,\n",
       "       0.00711197, 0.00764194, 0.00806706, 0.00747083, 0.01222386,\n",
       "       0.00768735, 0.00790826, 0.00754612, 0.00784375, 0.00710456,\n",
       "       0.00858831, 0.00665286, 0.006812  , 0.00649497, 0.00989765,\n",
       "       0.00959335, 0.00811314, 0.00834353, 0.0180687 , 0.00781261,\n",
       "       0.0077326 , 0.00931811, 0.006962  , 0.00990573, 0.00797971,\n",
       "       0.00773488, 0.00830873, 0.01102712, 0.00719407])"
      ]
     },
     "execution_count": 420,
     "metadata": {},
     "output_type": "execute_result"
    }
   ],
   "execution_count": 420
  },
  {
   "cell_type": "code",
   "metadata": {
    "execution": {
     "iopub.execute_input": "2025-04-23T16:55:47.264851Z",
     "iopub.status.busy": "2025-04-23T16:55:47.264451Z",
     "iopub.status.idle": "2025-04-23T16:55:47.271759Z",
     "shell.execute_reply": "2025-04-23T16:55:47.270679Z",
     "shell.execute_reply.started": "2025-04-23T16:55:47.264825Z"
    },
    "trusted": true,
    "ExecuteTime": {
     "end_time": "2025-04-24T18:24:13.085224Z",
     "start_time": "2025-04-24T18:24:13.081582Z"
    }
   },
   "source": [],
   "outputs": [],
   "execution_count": null
  },
  {
   "cell_type": "code",
   "metadata": {
    "trusted": true,
    "ExecuteTime": {
     "end_time": "2025-04-24T18:24:15.436827Z",
     "start_time": "2025-04-24T18:24:13.211734Z"
    }
   },
   "source": "df.to_csv('./cleaned.csv')",
   "outputs": [],
   "execution_count": 421
  },
  {
   "cell_type": "code",
   "metadata": {
    "trusted": true,
    "ExecuteTime": {
     "end_time": "2025-04-24T18:24:15.467788Z",
     "start_time": "2025-04-24T18:24:15.462360Z"
    }
   },
   "source": [],
   "outputs": [],
   "execution_count": null
  },
  {
   "cell_type": "code",
   "metadata": {
    "trusted": true,
    "ExecuteTime": {
     "end_time": "2025-04-24T18:24:15.551354Z",
     "start_time": "2025-04-24T18:24:15.542882Z"
    }
   },
   "source": [],
   "outputs": [],
   "execution_count": null
  }
 ],
 "metadata": {
  "kaggle": {
   "accelerator": "none",
   "dataSources": [
    {
     "datasetId": 7232074,
     "sourceId": 11530342,
     "sourceType": "datasetVersion"
    }
   ],
   "dockerImageVersionId": 31012,
   "isGpuEnabled": false,
   "isInternetEnabled": true,
   "language": "python",
   "sourceType": "notebook"
  },
  "kernelspec": {
   "display_name": "Python 3",
   "language": "python",
   "name": "python3"
  },
  "language_info": {
   "codemirror_mode": {
    "name": "ipython",
    "version": 3
   },
   "file_extension": ".py",
   "mimetype": "text/x-python",
   "name": "python",
   "nbconvert_exporter": "python",
   "pygments_lexer": "ipython3",
   "version": "3.11.11"
  }
 },
 "nbformat": 4,
 "nbformat_minor": 4
}
